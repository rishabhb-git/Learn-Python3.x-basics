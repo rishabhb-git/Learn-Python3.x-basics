{
 "cells": [
  {
   "cell_type": "markdown",
   "id": "centered-recovery",
   "metadata": {},
   "source": [
    "- A. [Collection Modules](#Collection-module)\n",
    "- B. [Opening and Reading of files and folders](#Opening-and-Reading-Files)\n",
    "- C. [Datetime module](#datetime-module)\n",
    "- D. [Math and Random module](#Math-and-Random-modules)\n",
    "- E. [Python Debugger](#Python-Debugger)\n",
    "- F. [Overview of Regexes](#Regular-Expressions)\n",
    "- G. [How to time your code - timeit module](#Timing-your-code)\n",
    "\n",
    "__________________________________________________________________________________________________________________\n",
    "\n",
    "# Collection module\n",
    "\n",
    "The collections module is a built-in module that implements specialized container data types providing alternatives to Python’s general purpose built-in containers. The general built-ins are - dict, list, set, and tuple.\n",
    "\n",
    "Now we'll learn about the alternatives that the **collections** module provides.\n",
    "\n",
    "## I. Counter\n",
    "\n",
    "Counter is a dict subclass which helps count hashable objects. Inside of it elements are stored as dictionary keys and the counts of the objects are stored as the value.\n",
    "\n",
    "#### Example :"
   ]
  },
  {
   "cell_type": "code",
   "execution_count": 2,
   "id": "placed-sandwich",
   "metadata": {},
   "outputs": [],
   "source": [
    "from collections import Counter"
   ]
  },
  {
   "cell_type": "markdown",
   "id": "nuclear-citizenship",
   "metadata": {},
   "source": [
    "\n",
    "#### Counter( ) with lists"
   ]
  },
  {
   "cell_type": "code",
   "execution_count": 2,
   "id": "younger-vietnam",
   "metadata": {},
   "outputs": [
    {
     "data": {
      "text/plain": [
       "Counter({1: 6, 2: 6, 3: 4, 12: 1, 32: 1, 21: 1, 223: 1})"
      ]
     },
     "execution_count": 2,
     "metadata": {},
     "output_type": "execute_result"
    }
   ],
   "source": [
    "lst = [1,2,2,2,2,3,3,3,1,2,1,12,3,2,32,1,21,1,223,1]\n",
    "\n",
    "Counter(lst)"
   ]
  },
  {
   "cell_type": "code",
   "execution_count": 23,
   "id": "computational-hybrid",
   "metadata": {},
   "outputs": [
    {
     "data": {
      "text/plain": [
       "Counter({'a': 3, 10: 2, 3: 1})"
      ]
     },
     "execution_count": 23,
     "metadata": {},
     "output_type": "execute_result"
    }
   ],
   "source": [
    "items = ['a',10,3,10,'a','a']\n",
    "\n",
    "# the Counter of a list can be assigned to a variable also, like :\n",
    "itemsCount = Counter(items)\n",
    "\n",
    "itemsCount"
   ]
  },
  {
   "cell_type": "code",
   "execution_count": 11,
   "id": "artificial-complaint",
   "metadata": {},
   "outputs": [
    {
     "data": {
      "text/plain": [
       "collections.Counter"
      ]
     },
     "execution_count": 11,
     "metadata": {},
     "output_type": "execute_result"
    }
   ],
   "source": [
    "# the datatype is collections.Counter\n",
    "\n",
    "type(itemsCount)"
   ]
  },
  {
   "cell_type": "code",
   "execution_count": 16,
   "id": "hindu-poster",
   "metadata": {},
   "outputs": [
    {
     "data": {
      "text/plain": [
       "2"
      ]
     },
     "execution_count": 16,
     "metadata": {},
     "output_type": "execute_result"
    }
   ],
   "source": [
    "# we can access the value of 'a' key i.e. below line of code will\n",
    "# return the count of item 'a' that is stored as key in this collections.Counter\n",
    "\n",
    "itemsCount['a']"
   ]
  },
  {
   "cell_type": "markdown",
   "id": "labeled-dublin",
   "metadata": {},
   "source": [
    "If, mistakenly, you try to fetch value of such an item which is not present in the counter then it will return as a 0(zero)."
   ]
  },
  {
   "cell_type": "code",
   "execution_count": 17,
   "id": "nearby-tracy",
   "metadata": {},
   "outputs": [
    {
     "data": {
      "text/plain": [
       "0"
      ]
     },
     "execution_count": 17,
     "metadata": {},
     "output_type": "execute_result"
    }
   ],
   "source": [
    "# 'w' item is not present. So this would return to a 0 \n",
    "\n",
    "itemsCount['w']"
   ]
  },
  {
   "cell_type": "markdown",
   "id": "eligible-wyoming",
   "metadata": {},
   "source": [
    "\n",
    "#### Counter( ) with strings"
   ]
  },
  {
   "cell_type": "code",
   "execution_count": 10,
   "id": "enclosed-range",
   "metadata": {},
   "outputs": [
    {
     "data": {
      "text/plain": [
       "Counter({'h': 1,\n",
       "         'e': 1,\n",
       "         'l': 4,\n",
       "         'o': 1,\n",
       "         ',': 1,\n",
       "         ' ': 2,\n",
       "         'I': 1,\n",
       "         'w': 1,\n",
       "         'i': 1})"
      ]
     },
     "execution_count": 10,
     "metadata": {},
     "output_type": "execute_result"
    }
   ],
   "source": [
    "Counter('hello, I will come soon')"
   ]
  },
  {
   "cell_type": "code",
   "execution_count": 17,
   "id": "instrumental-being",
   "metadata": {},
   "outputs": [
    {
     "data": {
      "text/plain": [
       "Counter({'a': 2,\n",
       "         'b': 5,\n",
       "         's': 5,\n",
       "         'A': 2,\n",
       "         ' ': 2,\n",
       "         'h': 3,\n",
       "         'M': 3,\n",
       "         'x': 2,\n",
       "         'p': 2})"
      ]
     },
     "execution_count": 17,
     "metadata": {},
     "output_type": "execute_result"
    }
   ],
   "source": [
    "Counter('aabsbsbAs bhMhhMsbs xpMpxA')"
   ]
  },
  {
   "cell_type": "markdown",
   "id": "prompt-finger",
   "metadata": {},
   "source": [
    "#### Counter with words in a sentence"
   ]
  },
  {
   "cell_type": "code",
   "execution_count": 29,
   "id": "human-sheet",
   "metadata": {},
   "outputs": [
    {
     "data": {
      "text/plain": [
       "Counter({'johnny': 2, 'yes': 1, 'papa': 2, 'eating': 1, 'sugar': 1, 'no': 1})"
      ]
     },
     "execution_count": 29,
     "metadata": {},
     "output_type": "execute_result"
    }
   ],
   "source": [
    "s = 'johnny johnny yes papa eating sugar no papa'\n",
    "\n",
    "words = s.split()\n",
    "\n",
    "Counter(words)"
   ]
  },
  {
   "cell_type": "code",
   "execution_count": 30,
   "id": "yellow-friendly",
   "metadata": {},
   "outputs": [
    {
     "data": {
      "text/plain": [
       "[('johnny', 2), ('papa', 2), ('yes', 1)]"
      ]
     },
     "execution_count": 30,
     "metadata": {},
     "output_type": "execute_result"
    }
   ],
   "source": [
    "# Methods offered by Counter() - for eg, .most_common()\n",
    "c = Counter(words)\n",
    "\n",
    "c.most_common(3)       # returns 3 most common words along with the count of each."
   ]
  },
  {
   "cell_type": "markdown",
   "id": "organizational-cement",
   "metadata": {},
   "source": [
    "### Common patterns when using the Counter( ) object\n",
    "\n",
    "    sum(c.values())                 # total of all counts\n",
    "    c.clear()                       # reset all counts\n",
    "    list(c)                         # list unique elements\n",
    "    set(c)                          # convert to a set\n",
    "    dict(c)                         # convert to a regular dictionary\n",
    "    c.items()                       # convert to a list of (elem, cnt) pairs\n",
    "    Counter(dict(list_of_pairs))    # convert from a list of (elem, cnt) pairs\n",
    "    c.most_common()[:-n-1:-1]       # n least common elements\n",
    "    c += Counter()                  # remove zero and negative counts\n",
    "\n",
    "*****"
   ]
  },
  {
   "cell_type": "code",
   "execution_count": 31,
   "id": "completed-accuracy",
   "metadata": {},
   "outputs": [
    {
     "data": {
      "text/plain": [
       "['johnny', 'yes', 'papa', 'eating', 'sugar', 'no']"
      ]
     },
     "execution_count": 31,
     "metadata": {},
     "output_type": "execute_result"
    }
   ],
   "source": [
    "list(c)"
   ]
  },
  {
   "cell_type": "code",
   "execution_count": 32,
   "id": "downtown-chemical",
   "metadata": {},
   "outputs": [
    {
     "data": {
      "text/plain": [
       "{'eating', 'johnny', 'no', 'papa', 'sugar', 'yes'}"
      ]
     },
     "execution_count": 32,
     "metadata": {},
     "output_type": "execute_result"
    }
   ],
   "source": [
    "set(c)"
   ]
  },
  {
   "cell_type": "markdown",
   "id": "handed-theory",
   "metadata": {},
   "source": [
    "## II. defaultdict\n",
    "\n",
    "defaultdict is a dictionary-like object which provides all methods provided by a dictionary but takes a first argument (default_factory) as a default data type for the dictionary. Using defaultdict is faster than doing the same using dict.set_default method.\n",
    "\n",
    "**A defaultdict will never raise a KeyError. Any key that does not exist gets the value returned by the default factory.**"
   ]
  },
  {
   "cell_type": "code",
   "execution_count": 39,
   "id": "korean-cloud",
   "metadata": {},
   "outputs": [],
   "source": [
    "from collections import defaultdict"
   ]
  },
  {
   "cell_type": "code",
   "execution_count": 47,
   "id": "celtic-amino",
   "metadata": {},
   "outputs": [
    {
     "ename": "KeyError",
     "evalue": "'one'",
     "output_type": "error",
     "traceback": [
      "\u001b[0;31m---------------------------------------------------------------------------\u001b[0m",
      "\u001b[0;31mKeyError\u001b[0m                                  Traceback (most recent call last)",
      "\u001b[0;32m<ipython-input-47-ff91230f6804>\u001b[0m in \u001b[0;36m<module>\u001b[0;34m\u001b[0m\n\u001b[1;32m      3\u001b[0m \u001b[0md\u001b[0m \u001b[0;34m=\u001b[0m \u001b[0;34m{\u001b[0m\u001b[0;34m}\u001b[0m\u001b[0;34m\u001b[0m\u001b[0;34m\u001b[0m\u001b[0m\n\u001b[1;32m      4\u001b[0m \u001b[0;34m\u001b[0m\u001b[0m\n\u001b[0;32m----> 5\u001b[0;31m \u001b[0md\u001b[0m\u001b[0;34m[\u001b[0m\u001b[0;34m'one'\u001b[0m\u001b[0;34m]\u001b[0m\u001b[0;34m\u001b[0m\u001b[0;34m\u001b[0m\u001b[0m\n\u001b[0m",
      "\u001b[0;31mKeyError\u001b[0m: 'one'"
     ]
    }
   ],
   "source": [
    "# Notice here, 'd' is a common dictionary. And it will throw key error when tried to access the value of a key if it doesn't exist.\n",
    "\n",
    "d = {}\n",
    "\n",
    "d['one']"
   ]
  },
  {
   "cell_type": "code",
   "execution_count": 75,
   "id": "grateful-arrow",
   "metadata": {},
   "outputs": [],
   "source": [
    "d = defaultdict(object)"
   ]
  },
  {
   "cell_type": "code",
   "execution_count": 76,
   "id": "meaning-error",
   "metadata": {},
   "outputs": [
    {
     "data": {
      "text/plain": [
       "collections.defaultdict"
      ]
     },
     "execution_count": 76,
     "metadata": {},
     "output_type": "execute_result"
    }
   ],
   "source": [
    "# the datatype of a defaultdict is collections.defaultdict\n",
    "\n",
    "type(d)"
   ]
  },
  {
   "cell_type": "code",
   "execution_count": 77,
   "id": "decimal-convenience",
   "metadata": {},
   "outputs": [
    {
     "data": {
      "text/plain": [
       "<object at 0x10f3c7380>"
      ]
     },
     "execution_count": 77,
     "metadata": {},
     "output_type": "execute_result"
    }
   ],
   "source": [
    "d['one']"
   ]
  },
  {
   "cell_type": "code",
   "execution_count": 78,
   "id": "educated-hampshire",
   "metadata": {},
   "outputs": [
    {
     "data": {
      "text/plain": [
       "defaultdict(object, {'one': <object at 0x10f3c7380>})"
      ]
     },
     "execution_count": 78,
     "metadata": {},
     "output_type": "execute_result"
    }
   ],
   "source": [
    "d"
   ]
  },
  {
   "cell_type": "code",
   "execution_count": 82,
   "id": "optional-integration",
   "metadata": {},
   "outputs": [
    {
     "name": "stdout",
     "output_type": "stream",
     "text": [
      "one\n"
     ]
    }
   ],
   "source": [
    "for item in d:\n",
    "    print(item)"
   ]
  },
  {
   "cell_type": "markdown",
   "id": "religious-contact",
   "metadata": {},
   "source": [
    "A Default-Dictionary works in the way that it creates a dicitionary with a default value, for any key that is/will be a part of this dictionary.\n",
    "\n",
    "Can also initialize with default values :"
   ]
  },
  {
   "cell_type": "code",
   "execution_count": 83,
   "id": "forced-masters",
   "metadata": {},
   "outputs": [],
   "source": [
    "t = defaultdict()"
   ]
  },
  {
   "cell_type": "code",
   "execution_count": 84,
   "id": "superior-exclusion",
   "metadata": {},
   "outputs": [
    {
     "ename": "KeyError",
     "evalue": "'hello'",
     "output_type": "error",
     "traceback": [
      "\u001b[0;31m---------------------------------------------------------------------------\u001b[0m",
      "\u001b[0;31mKeyError\u001b[0m                                  Traceback (most recent call last)",
      "\u001b[0;32m<ipython-input-84-b682bab9155e>\u001b[0m in \u001b[0;36m<module>\u001b[0;34m\u001b[0m\n\u001b[0;32m----> 1\u001b[0;31m \u001b[0mt\u001b[0m\u001b[0;34m[\u001b[0m\u001b[0;34m'hello'\u001b[0m\u001b[0;34m]\u001b[0m\u001b[0;34m\u001b[0m\u001b[0;34m\u001b[0m\u001b[0m\n\u001b[0m",
      "\u001b[0;31mKeyError\u001b[0m: 'hello'"
     ]
    }
   ],
   "source": [
    "t['hello']"
   ]
  },
  {
   "cell_type": "code",
   "execution_count": 92,
   "id": "streaming-episode",
   "metadata": {},
   "outputs": [
    {
     "data": {
      "text/plain": [
       "defaultdict(None, {})"
      ]
     },
     "execution_count": 92,
     "metadata": {},
     "output_type": "execute_result"
    }
   ],
   "source": [
    "t"
   ]
  },
  {
   "cell_type": "code",
   "execution_count": 89,
   "id": "changed-welsh",
   "metadata": {},
   "outputs": [],
   "source": [
    "defDic = defaultdict(lambda: 2)"
   ]
  },
  {
   "cell_type": "code",
   "execution_count": 90,
   "id": "wound-origin",
   "metadata": {},
   "outputs": [
    {
     "data": {
      "text/plain": [
       "2"
      ]
     },
     "execution_count": 90,
     "metadata": {},
     "output_type": "execute_result"
    }
   ],
   "source": [
    "defDic['some-key']"
   ]
  },
  {
   "cell_type": "code",
   "execution_count": 91,
   "id": "frozen-joint",
   "metadata": {},
   "outputs": [
    {
     "name": "stdout",
     "output_type": "stream",
     "text": [
      "some-key\n"
     ]
    }
   ],
   "source": [
    "for item in defDic:\n",
    "    print(item)"
   ]
  },
  {
   "cell_type": "markdown",
   "id": "crucial-cholesterol",
   "metadata": {},
   "source": [
    "## III. namedtuple\n",
    "\n",
    "The standard tuple uses numerical indexes to access its members, for example :"
   ]
  },
  {
   "cell_type": "code",
   "execution_count": 95,
   "id": "modern-produce",
   "metadata": {},
   "outputs": [
    {
     "data": {
      "text/plain": [
       "17"
      ]
     },
     "execution_count": 95,
     "metadata": {},
     "output_type": "execute_result"
    }
   ],
   "source": [
    "t = (13,17,14)\n",
    "\n",
    "t[1]"
   ]
  },
  {
   "cell_type": "markdown",
   "id": "detailed-woman",
   "metadata": {},
   "source": [
    "The `namedtuple` tried to expand on a normal tuple on a normal tuple object by actually having named indices. \n",
    "\n",
    "For simple use cases, this is usually enough. On the other hand, remembering which index should be used for each value can lead to errors, especially if the tuple has a lot of fields and is constructed far from where it is used. A namedtuple assigns names, as well as the numerical index, to each member.\n",
    "\n",
    "Each kind of namedtuple is represented by its own class, created by using the `namedtuple()` factory function. The arguments are the name of the new class and a string containing the names of the elements.\n",
    "\n",
    "You can basically think of **namedtuples** as a very quick way of creating a new object/class type with some attribute fields. For example :"
   ]
  },
  {
   "cell_type": "code",
   "execution_count": 108,
   "id": "joint-rocket",
   "metadata": {},
   "outputs": [],
   "source": [
    "from collections import namedtuple\n",
    "\n",
    "Dog = namedtuple('Dog',['age','breed','name'])\n",
    "\n",
    "sunny = Dog(age=2,breed='Lab',name='Sunny')\n",
    "\n",
    "frank = Dog(age=2,breed='Shepard',name=\"Frankie\")"
   ]
  },
  {
   "cell_type": "code",
   "execution_count": 109,
   "id": "hungarian-mountain",
   "metadata": {},
   "outputs": [
    {
     "data": {
      "text/plain": [
       "__main__.Dog"
      ]
     },
     "execution_count": 109,
     "metadata": {},
     "output_type": "execute_result"
    }
   ],
   "source": [
    "# it kind-of looks like a class\n",
    "\n",
    "Dog"
   ]
  },
  {
   "cell_type": "markdown",
   "id": "together-bunch",
   "metadata": {},
   "source": [
    "We construct the namedtuple by first passing the object type name (Dog) and then passing a string with the variety of fields as a string with spaces between the field names.\n",
    "\n",
    "We can then call on the various attributes :"
   ]
  },
  {
   "cell_type": "code",
   "execution_count": 110,
   "id": "centered-extreme",
   "metadata": {},
   "outputs": [
    {
     "data": {
      "text/plain": [
       "Dog(age=2, breed='Lab', name='Sunny')"
      ]
     },
     "execution_count": 110,
     "metadata": {},
     "output_type": "execute_result"
    }
   ],
   "source": [
    "sunny"
   ]
  },
  {
   "cell_type": "code",
   "execution_count": 111,
   "id": "sporting-specialist",
   "metadata": {},
   "outputs": [
    {
     "data": {
      "text/plain": [
       "__main__.Dog"
      ]
     },
     "execution_count": 111,
     "metadata": {},
     "output_type": "execute_result"
    }
   ],
   "source": [
    "# it shows the type for 'sam'\n",
    "\n",
    "type(sunny)"
   ]
  },
  {
   "cell_type": "code",
   "execution_count": 112,
   "id": "eleven-effect",
   "metadata": {},
   "outputs": [
    {
     "data": {
      "text/plain": [
       "2"
      ]
     },
     "execution_count": 112,
     "metadata": {},
     "output_type": "execute_result"
    }
   ],
   "source": [
    "sunny.age"
   ]
  },
  {
   "cell_type": "code",
   "execution_count": 113,
   "id": "hundred-recommendation",
   "metadata": {},
   "outputs": [
    {
     "data": {
      "text/plain": [
       "'Lab'"
      ]
     },
     "execution_count": 113,
     "metadata": {},
     "output_type": "execute_result"
    }
   ],
   "source": [
    "sunny.breed"
   ]
  },
  {
   "cell_type": "code",
   "execution_count": 115,
   "id": "serial-wisconsin",
   "metadata": {},
   "outputs": [
    {
     "data": {
      "text/plain": [
       "'Lab'"
      ]
     },
     "execution_count": 115,
     "metadata": {},
     "output_type": "execute_result"
    }
   ],
   "source": [
    "# access the breed by index 1, like :\n",
    "\n",
    "sunny[1]"
   ]
  },
  {
   "cell_type": "markdown",
   "id": "comfortable-handle",
   "metadata": {},
   "source": [
    "> **Note :** Use of `namedtuple` function is very useful. You can imagine, in scenarios where you've large tuples, where you can't quite remember what values are at which index. It might be useful and easier to be able to access them both by using calling an index positon, such as 1, or by calling it as attribute, asking for breed."
   ]
  },
  {
   "cell_type": "markdown",
   "id": "hearing-excerpt",
   "metadata": {},
   "source": [
    "<br>\n",
    "__________________________________________________________________________________________________________________\n",
    "\n",
    "# Opening and Reading Files\n",
    "So far we've discussed how to open files manually, one by one. But, we don't know how to tackle cases like :\n",
    "- what if we have to open every file in a directory, especially which have their sub-directories too?\n",
    "- move files around on our own computer?\n",
    "\n",
    "Python's `os` module and `shutil` utility module allow us to easily navigate files and directories on the computer and then perform actions on them, such as move, delete, etc.\n",
    "\n",
    "So let's explore how we can open files programatically.\n",
    "\n",
    "#### Review : Understanding File Paths"
   ]
  },
  {
   "cell_type": "code",
   "execution_count": 116,
   "id": "qualified-enforcement",
   "metadata": {},
   "outputs": [
    {
     "data": {
      "text/plain": [
       "'/Users/barmanr/Documents/myself/Python3-material/12-Advanced-Python-Module'"
      ]
     },
     "execution_count": 116,
     "metadata": {},
     "output_type": "execute_result"
    }
   ],
   "source": [
    "pwd"
   ]
  },
  {
   "cell_type": "markdown",
   "id": "novel-siemens",
   "metadata": {},
   "source": [
    "#### Create a practice file\n",
    "\n",
    "Let's create a practice text file that we'll be using for further demonstration."
   ]
  },
  {
   "cell_type": "code",
   "execution_count": 117,
   "id": "close-alias",
   "metadata": {},
   "outputs": [],
   "source": [
    "f = open('practice.text', 'w+')\n",
    "f.write('This is a practice file and this is first line!')\n",
    "f.close()"
   ]
  },
  {
   "cell_type": "markdown",
   "id": "arbitrary-sphere",
   "metadata": {},
   "source": [
    "## `os` module "
   ]
  },
  {
   "cell_type": "code",
   "execution_count": 118,
   "id": "accredited-africa",
   "metadata": {},
   "outputs": [],
   "source": [
    "import os"
   ]
  },
  {
   "cell_type": "code",
   "execution_count": 122,
   "id": "elegant-issue",
   "metadata": {},
   "outputs": [
    {
     "data": {
      "text/plain": [
       "'/Users/barmanr/Documents/myself/Python3-material/12-Advanced-Python-Module'"
      ]
     },
     "execution_count": 122,
     "metadata": {},
     "output_type": "execute_result"
    }
   ],
   "source": [
    "# get current working directory\n",
    "\n",
    "os.getcwd()"
   ]
  },
  {
   "cell_type": "code",
   "execution_count": 124,
   "id": "changing-diana",
   "metadata": {},
   "outputs": [
    {
     "data": {
      "text/plain": [
       "['Advanced-Python-modules.ipynb', 'practice.text', '.ipynb_checkpoints']"
      ]
     },
     "execution_count": 124,
     "metadata": {},
     "output_type": "execute_result"
    }
   ],
   "source": [
    "# list all the current files and folders in the current working directory level.\n",
    "# the return type is a list\n",
    "\n",
    "os.listdir()"
   ]
  },
  {
   "cell_type": "code",
   "execution_count": 126,
   "id": "protective-attack",
   "metadata": {},
   "outputs": [
    {
     "data": {
      "text/plain": [
       "list"
      ]
     },
     "execution_count": 126,
     "metadata": {},
     "output_type": "execute_result"
    }
   ],
   "source": [
    "# pass the location as parameter, if you want to list down files-folders in present in a directory.\n",
    "\n",
    "os.listdir('/Users/barmanr/Documents/myself/Python3-material')"
   ]
  },
  {
   "cell_type": "markdown",
   "id": "present-prior",
   "metadata": {},
   "source": [
    "## `shutil` utility module\n",
    "#### Moving Files\n",
    "You can use the built-in `shutil` module to to move files to different locations.\n",
    "\n",
    "Keep in mind, there are permission restrictions. For example if you are logged in as User A, you won't be able to make changes to the top level Users folder without the proper permissions, more [info](https://stackoverflow.com/questions/23253439/shutil-movescr-dst-gets-me-ioerror-errno-13-permission-denied-and-3-more-e)"
   ]
  },
  {
   "cell_type": "code",
   "execution_count": 127,
   "id": "fitting-blackjack",
   "metadata": {},
   "outputs": [],
   "source": [
    "import shutil"
   ]
  },
  {
   "cell_type": "markdown",
   "id": "assisted-liberal",
   "metadata": {},
   "source": [
    "Move a file from one folder to another.\n",
    "\n",
    "The below command returns back the destination location alongwith filename."
   ]
  },
  {
   "cell_type": "code",
   "execution_count": 128,
   "id": "military-inspection",
   "metadata": {},
   "outputs": [
    {
     "data": {
      "text/plain": [
       "'/Users/barmanr/Documents/myself/folder-2/practiceText.txt'"
      ]
     },
     "execution_count": 128,
     "metadata": {},
     "output_type": "execute_result"
    }
   ],
   "source": [
    "shutil.move('/Users/barmanr/Documents/myself/folder-1/practiceText.txt', '/Users/barmanr/Documents/myself/folder-2')"
   ]
  },
  {
   "cell_type": "markdown",
   "id": "psychological-opportunity",
   "metadata": {},
   "source": [
    "### Deleting Files\n",
    "\n",
    "**NOTE -> The `os` module provides 3 methods for deleting files :**\n",
    "- `os.unlink(path)` : which deletes a file at the path that you provide.\n",
    "- `os.rmdir(path)` : which deletes a folder (folder must be empty) at the path that you provide.\n",
    "- `shutil.rmtree(path)` : this is the most dangerous, as it will remove all files and folders contained in the path.\n",
    "\n",
    "**All of these methods can not be reversed! Which means if you make a mistake you won't be able to recover the file. Instead we will use the `send2trash` module. A safer alternative that sends deleted files to the trash bin instead of permanent removal.**\n",
    "\n",
    "> At your command line, install the send2trash module with :<br>\n",
    "`pip install send2trash`"
   ]
  },
  {
   "cell_type": "code",
   "execution_count": 130,
   "id": "expected-bargain",
   "metadata": {},
   "outputs": [],
   "source": [
    "import send2trash\n",
    "\n",
    "send2trash.send2trash('/Users/barmanr/Documents/myself/folder-2')\n",
    "# it'll move the 'folder-2' directory (alongwith all files and sub-folders) to the trash/bin"
   ]
  },
  {
   "cell_type": "markdown",
   "id": "incredible-dairy",
   "metadata": {},
   "source": [
    "### Walking through a directory\n",
    "\n",
    "Often you will just need to \"walk\" through a directory, i.e. visit every file or folder and check to see if a file is in the directory, and then perhaps do something with that file. Usually recursively, walking through every file and folder in a directory would be quite tricky to program, but luckily the `os` module has a direct method call for this called `os.walk()`.\n",
    "\n",
    "Let's see an example. Here, I've used a _datasets_other_ folder to demontrate. You can use your own folder for a try-out."
   ]
  },
  {
   "cell_type": "code",
   "execution_count": 141,
   "id": "congressional-substance",
   "metadata": {},
   "outputs": [
    {
     "data": {
      "text/plain": [
       "['.DS_Store', 'Cricket-Australia-Datasets', 'Health-Tweets', 'pokemon.csv']"
      ]
     },
     "execution_count": 141,
     "metadata": {},
     "output_type": "execute_result"
    }
   ],
   "source": [
    "os.listdir('/Users/barmanr/Documents/myself/datasets_other/')"
   ]
  },
  {
   "cell_type": "code",
   "execution_count": 148,
   "id": "current-milwaukee",
   "metadata": {},
   "outputs": [
    {
     "name": "stdout",
     "output_type": "stream",
     "text": [
      "1. Currently looking at folder : /Users/barmanr/Documents/myself/datasets_other\n",
      "\n",
      "\n",
      "THE SUB-FOLDERS are : \n",
      "\t Subfolder -> Cricket-Australia-Datasets\n",
      "\t Subfolder -> Health-Tweets\n",
      "\n",
      "\n",
      "THE FILES ARE : \n",
      "\t File -> .DS_Store\n",
      "\t File -> pokemon.csv\n",
      "\n",
      "********* xxx *********\n",
      "\n",
      "2. Currently looking at folder : /Users/barmanr/Documents/myself/datasets_other/Cricket-Australia-Datasets\n",
      "\n",
      "\n",
      "THE SUB-FOLDERS are : \n",
      "\t Subfolder -> BBB International Australia Data\n",
      "\n",
      "\n",
      "THE FILES ARE : \n",
      "\t File -> BallByBall_BBL&WBBL copy.zip\n",
      "\t File -> .DS_Store\n",
      "\t File -> OvalsAndFacilityAudit.zip\n",
      "\t File -> TicketSales_2016-17SeasonOnwards copy.zip\n",
      "\t File -> OvalsAndFacilityAudit copy.zip\n",
      "\t File -> BBB International Australia Data.zip\n",
      "\t File -> TV Broadcast copy.zip\n",
      "\t File -> OvalsAndFacility.zip\n",
      "\n",
      "********* xxx *********\n",
      "\n",
      "3. Currently looking at folder : /Users/barmanr/Documents/myself/datasets_other/Cricket-Australia-Datasets/BBB International Australia Data\n",
      "\n",
      "\n",
      "THE SUB-FOLDERS are : \n",
      "\n",
      "\n",
      "THE FILES ARE : \n",
      "\t File -> Players.txt\n",
      "\t File -> Deliveries.txt\n",
      "\t File -> AAA_ReadMe.txt\n",
      "\t File -> MatchPlayers.txt\n",
      "\t File -> Matches.txt\n",
      "\n",
      "********* xxx *********\n",
      "\n",
      "4. Currently looking at folder : /Users/barmanr/Documents/myself/datasets_other/Health-Tweets\n",
      "\n",
      "\n",
      "THE SUB-FOLDERS are : \n",
      "\n",
      "\n",
      "THE FILES ARE : \n",
      "\t File -> cbchealth.txt\n",
      "\t File -> wsjhealth.txt\n",
      "\t File -> nprhealth.txt\n",
      "\t File -> goodhealth.txt\n",
      "\t File -> NBChealth.txt\n",
      "\t File -> cnnhealth.txt\n",
      "\t File -> foxnewshealth.txt\n",
      "\t File -> everydayhealth.txt\n",
      "\t File -> gdnhealthcare.txt\n",
      "\t File -> nytimeshealth.txt\n",
      "\t File -> bbchealth.txt\n",
      "\t File -> KaiserHealthNews.txt\n",
      "\t File -> usnewshealth.txt\n",
      "\t File -> latimeshealth.txt\n",
      "\t File -> reuters_health.txt\n",
      "\t File -> msnhealthnews.txt\n",
      "\n",
      "********* xxx *********\n",
      "\n"
     ]
    }
   ],
   "source": [
    "filePath = \"/Users/barmanr/Documents/myself/datasets_other\"\n",
    "i = 1\n",
    "\n",
    "for folder, sub_folders, files in os.walk(filePath):\n",
    "    print(\"{}. Currently looking at folder : \".format(i) + folder)\n",
    "    print('\\n')\n",
    "    \n",
    "    print('THE SUB-FOLDERS are : ')\n",
    "    for subFol in sub_folders:\n",
    "        print('\\t Subfolder -> '+ subFol)\n",
    "        \n",
    "    print('\\n')\n",
    "\n",
    "    print('THE FILES ARE : ')\n",
    "    for f in files:\n",
    "        print('\\t File -> '+ f)\n",
    "    i += 1\n",
    "    print('\\n********* xxx *********\\n')\n",
    "    \n",
    "    "
   ]
  },
  {
   "cell_type": "markdown",
   "id": "sporting-brighton",
   "metadata": {},
   "source": [
    "> _Remember that the `os` module works for any oeprating system that supports Python, which means these commands will work across Linux, MacOs, or Windows without need for adjustment._"
   ]
  },
  {
   "cell_type": "markdown",
   "id": "hollow-participant",
   "metadata": {},
   "source": [
    "<br>\n",
    "________________________________________________________________________________________________________________\n",
    "\n",
    "# `datetime` module\n",
    "\n",
    "Python has the **datetime** module that essentially allows to create objects that have info not just about the date or time, but also about timezones, operations and difference of seconds passed, and deal with timestamps in your code.\n",
    "\n",
    "Time values are represented with the time class. Times have attributes for hour, minute, second, and microsecond. They can also include time zone information. The arguments to initialize a time instance are optional, but the default of 0 is unlikely to be what you want.\n",
    "\n",
    "### `.time( )`\n",
    "\n",
    "Let's take a look at how we can extract time information from the datetime module.\n",
    "\n",
    "We can create a timestamp by specifying `datetime.time(hour,minute,second,microsecond)`\n",
    "\n",
    "parameter _hour_ is in 24 hour format."
   ]
  },
  {
   "cell_type": "code",
   "execution_count": 182,
   "id": "standard-carroll",
   "metadata": {},
   "outputs": [
    {
     "name": "stdout",
     "output_type": "stream",
     "text": [
      "06:20:05\n",
      "hour : 6\n",
      "minute : 20\n",
      "second : 5\n",
      "microsecond : 0\n",
      "tzinfo : None\n"
     ]
    }
   ],
   "source": [
    "import datetime\n",
    "\n",
    "tm = datetime.time(6, 20, 5)\n",
    "\n",
    "# Let's show different components\n",
    "print(tm)\n",
    "print('hour :', tm.hour)\n",
    "print('minute :', tm.minute)\n",
    "print('second :', tm.second)\n",
    "print('microsecond :', tm.microsecond)\n",
    "print('tzinfo :', tm.tzinfo)            # 'tzinfo' is the timezone information"
   ]
  },
  {
   "cell_type": "code",
   "execution_count": 167,
   "id": "entire-medline",
   "metadata": {},
   "outputs": [
    {
     "data": {
      "text/plain": [
       "datetime.time"
      ]
     },
     "execution_count": 167,
     "metadata": {},
     "output_type": "execute_result"
    }
   ],
   "source": [
    "type(tm)"
   ]
  },
  {
   "cell_type": "markdown",
   "id": "blind-designation",
   "metadata": {},
   "source": [
    "**Note :** A time instance only holds values of time, and not a date associated with the time.\n",
    "\n",
    "We can also check the `min` and `max` values, of a time of day can have in the module :"
   ]
  },
  {
   "cell_type": "code",
   "execution_count": 156,
   "id": "entire-filling",
   "metadata": {},
   "outputs": [
    {
     "name": "stdout",
     "output_type": "stream",
     "text": [
      "Earliest   : 00:00:00\n",
      "Latest     : 23:59:59.999999\n",
      "Resolution : 0:00:00.000001\n"
     ]
    }
   ],
   "source": [
    "print('Earliest   :', datetime.time.min)\n",
    "print('Latest     :', datetime.time.max)\n",
    "print('Resolution :', datetime.time.resolution)"
   ]
  },
  {
   "cell_type": "markdown",
   "id": "express-egyptian",
   "metadata": {},
   "source": [
    "**The `min` and `max` class attributes reflect the valid range of times in a single day.**"
   ]
  },
  {
   "cell_type": "markdown",
   "id": "modified-tension",
   "metadata": {},
   "source": [
    "### Dates (`datetime`)\n",
    "\n",
    "`time` object holds info about time, and not specifically a **date**. To hold a date, datetime object is best to use.\n",
    "\n",
    "`datetime`, as you might suspect, also allows us to work with date timestamps. Calendar date values are represented with the date class. Instances have attributes for year, month, and day. It is easy to create a date representing today’s date using the `today()` class method.\n",
    "\n",
    "Let's see some examples :"
   ]
  },
  {
   "cell_type": "code",
   "execution_count": 168,
   "id": "increasing-server",
   "metadata": {},
   "outputs": [
    {
     "name": "stdout",
     "output_type": "stream",
     "text": [
      "2021-09-04\n",
      "ctime: Sat Sep  4 00:00:00 2021\n",
      "tuple: time.struct_time(tm_year=2021, tm_mon=9, tm_mday=4, tm_hour=0, tm_min=0, tm_sec=0, tm_wday=5, tm_yday=247, tm_isdst=-1)\n",
      "ordinal: 738037\n",
      "Year : 2021\n",
      "Month: 9\n",
      "Day  : 4\n"
     ]
    }
   ],
   "source": [
    "today = datetime.date.today()     # YY-MM-DD -> follows the European Standard of reperesenting dates\n",
    "\n",
    "print(today)\n",
    "print('ctime:', today.ctime())\n",
    "print('tuple:', today.timetuple())\n",
    "print('ordinal:', today.toordinal())\n",
    "print('Year :', today.year)\n",
    "print('Month:', today.month)\n",
    "print('Day  :', today.day)"
   ]
  },
  {
   "cell_type": "code",
   "execution_count": 188,
   "id": "stopped-steel",
   "metadata": {},
   "outputs": [],
   "source": [
    "from datetime import datetime"
   ]
  },
  {
   "cell_type": "code",
   "execution_count": 176,
   "id": "future-occasions",
   "metadata": {},
   "outputs": [
    {
     "name": "stdout",
     "output_type": "stream",
     "text": [
      "2018-09-29 07:35:25\n",
      "Sat Sep 29 07:35:25 2018\n"
     ]
    }
   ],
   "source": [
    "mydatetime = datetime(2018, 9, 29, 7, 35, 25)\n",
    "\n",
    "print(mydatetime)\n",
    "print(mydatetime.ctime())"
   ]
  },
  {
   "cell_type": "markdown",
   "id": "posted-ethics",
   "metadata": {},
   "source": [
    "You can replace any attribute of a datetime object using `.replace()`, like :\n",
    "\n",
    "**Note: The replacement does not happen in-place.**\n",
    "\n",
    "**Example-1 :**"
   ]
  },
  {
   "cell_type": "code",
   "execution_count": 179,
   "id": "soviet-decade",
   "metadata": {},
   "outputs": [
    {
     "name": "stdout",
     "output_type": "stream",
     "text": [
      "Sat Sep 29 07:35:25 2018\n"
     ]
    }
   ],
   "source": [
    "mydatetime.replace(year=2021)\n",
    "\n",
    "print(mydatetime.ctime())     # even after replace, mydatetime.year is still 2018"
   ]
  },
  {
   "cell_type": "code",
   "execution_count": 180,
   "id": "attempted-surface",
   "metadata": {},
   "outputs": [
    {
     "name": "stdout",
     "output_type": "stream",
     "text": [
      "Wed Sep 29 07:35:25 2021\n"
     ]
    }
   ],
   "source": [
    "mydatetime = mydatetime.replace(year=2021)\n",
    "\n",
    "print(mydatetime.ctime())"
   ]
  },
  {
   "cell_type": "markdown",
   "id": "alternative-advertising",
   "metadata": {},
   "source": [
    "**Example-2 :**"
   ]
  },
  {
   "cell_type": "code",
   "execution_count": 183,
   "id": "special-potential",
   "metadata": {},
   "outputs": [
    {
     "name": "stdout",
     "output_type": "stream",
     "text": [
      "d1: 2018-06-03\n",
      "d2: 1990-06-03\n"
     ]
    }
   ],
   "source": [
    "d1 = datetime.date(2018, 6, 3)\n",
    "print('d1:', d1)\n",
    "\n",
    "d2 = d1.replace(year=1990)\n",
    "print('d2:', d2)"
   ]
  },
  {
   "cell_type": "markdown",
   "id": "failing-throat",
   "metadata": {},
   "source": [
    "<br>"
   ]
  },
  {
   "cell_type": "markdown",
   "id": "unknown-crawford",
   "metadata": {},
   "source": [
    "As with time, the range of date values supported can be determined using the `min` and `max` attributes."
   ]
  },
  {
   "cell_type": "code",
   "execution_count": 158,
   "id": "attractive-straight",
   "metadata": {},
   "outputs": [
    {
     "name": "stdout",
     "output_type": "stream",
     "text": [
      "Earliest  : 0001-01-01\n",
      "Latest    : 9999-12-31\n",
      "Resolution: 1 day, 0:00:00\n"
     ]
    }
   ],
   "source": [
    "print('Earliest  :', datetime.date.min)\n",
    "print('Latest    :', datetime.date.max)\n",
    "print('Resolution:', datetime.date.resolution)"
   ]
  },
  {
   "cell_type": "markdown",
   "id": "cultural-penny",
   "metadata": {},
   "source": [
    "<br>"
   ]
  },
  {
   "cell_type": "markdown",
   "id": "infectious-placement",
   "metadata": {},
   "source": [
    "## Arithmetic\n",
    "We can perform arithmetic on date objects to check for time differences. For example :\n",
    "\n",
    "**I. Differences in `date` objects :**"
   ]
  },
  {
   "cell_type": "code",
   "execution_count": 184,
   "id": "egyptian-adelaide",
   "metadata": {},
   "outputs": [
    {
     "data": {
      "text/plain": [
       "datetime.date(2018, 6, 3)"
      ]
     },
     "execution_count": 184,
     "metadata": {},
     "output_type": "execute_result"
    }
   ],
   "source": [
    "d1"
   ]
  },
  {
   "cell_type": "code",
   "execution_count": 185,
   "id": "specialized-invasion",
   "metadata": {},
   "outputs": [
    {
     "data": {
      "text/plain": [
       "datetime.date(1990, 6, 3)"
      ]
     },
     "execution_count": 185,
     "metadata": {},
     "output_type": "execute_result"
    }
   ],
   "source": [
    "d2"
   ]
  },
  {
   "cell_type": "code",
   "execution_count": 186,
   "id": "working-acrylic",
   "metadata": {},
   "outputs": [
    {
     "data": {
      "text/plain": [
       "datetime.timedelta(days=10227)"
      ]
     },
     "execution_count": 186,
     "metadata": {},
     "output_type": "execute_result"
    }
   ],
   "source": [
    "d1 - d2"
   ]
  },
  {
   "cell_type": "markdown",
   "id": "western-mountain",
   "metadata": {},
   "source": [
    "This gives us the difference in days between the two dates. You can use the `timedelta` method to specify various units of times ie. days, minutes, hours, etc."
   ]
  },
  {
   "cell_type": "markdown",
   "id": "sticky-pursuit",
   "metadata": {},
   "source": [
    "**II. Differences in `datetime` objects :**"
   ]
  },
  {
   "cell_type": "code",
   "execution_count": 203,
   "id": "corresponding-government",
   "metadata": {},
   "outputs": [],
   "source": [
    "from datetime import datetime \n",
    "datetm1 = datetime(2021, 12, 3, 22, 0)\n",
    "datetm2 = datetime(2020, 12, 3, 12, 0)"
   ]
  },
  {
   "cell_type": "code",
   "execution_count": 206,
   "id": "resistant-proposal",
   "metadata": {},
   "outputs": [
    {
     "data": {
      "text/plain": [
       "datetime.timedelta(days=365, seconds=36000)"
      ]
     },
     "execution_count": 206,
     "metadata": {},
     "output_type": "execute_result"
    }
   ],
   "source": [
    "diff = datetm1 - datetm2\n",
    "diff\n",
    "\n",
    "# here, the difference in seconds is actually the difference of 10 hours => 10*60*60 = 36000 seconds"
   ]
  },
  {
   "cell_type": "markdown",
   "id": "tamil-terminal",
   "metadata": {},
   "source": [
    "**Notice here, besides the difference in days, it also returns the difference of time ie. in seconds**"
   ]
  },
  {
   "cell_type": "code",
   "execution_count": 209,
   "id": "numerical-gauge",
   "metadata": {},
   "outputs": [
    {
     "data": {
      "text/plain": [
       "31572000.0"
      ]
     },
     "execution_count": 209,
     "metadata": {},
     "output_type": "execute_result"
    }
   ],
   "source": [
    "# Now, this is the difference with its total no. of seconds\n",
    "# => 365*24*60*60 + 36000 = 31572000\n",
    "\n",
    "diff.total_seconds()"
   ]
  },
  {
   "cell_type": "markdown",
   "id": "increasing-somalia",
   "metadata": {},
   "source": [
    "<br>"
   ]
  },
  {
   "cell_type": "markdown",
   "id": "horizontal-fight",
   "metadata": {},
   "source": [
    "<br>\n",
    "__________________________________________________________________________________________________________________\n",
    "\n",
    "# Math and Random modules\n",
    "\n",
    "Python comes with a built in math module and random module. In this lecture we will give a brief tour of their capabilities. Usually you can simply look up the function call you are looking for in the online documentation.\n",
    "\n",
    "- [Math module](https://docs.python.org/3/library/math.html)\n",
    "- [Random module](https://docs.python.org/3/library/random.html)\n",
    "\n",
    "## Math functions\n",
    "Some useful math functions are :"
   ]
  },
  {
   "cell_type": "code",
   "execution_count": 428,
   "id": "opposed-vermont",
   "metadata": {},
   "outputs": [],
   "source": [
    "import math\n",
    "\n",
    "# help(math)    # math functions provided by math module"
   ]
  },
  {
   "cell_type": "markdown",
   "id": "american-harvey",
   "metadata": {},
   "source": [
    "#### 1. Rounding Numbers"
   ]
  },
  {
   "cell_type": "code",
   "execution_count": 215,
   "id": "reported-simple",
   "metadata": {},
   "outputs": [],
   "source": [
    "value = 4.36"
   ]
  },
  {
   "cell_type": "code",
   "execution_count": 216,
   "id": "liked-egypt",
   "metadata": {},
   "outputs": [
    {
     "data": {
      "text/plain": [
       "4"
      ]
     },
     "execution_count": 216,
     "metadata": {},
     "output_type": "execute_result"
    }
   ],
   "source": [
    "math.floor(value)"
   ]
  },
  {
   "cell_type": "code",
   "execution_count": 217,
   "id": "grateful-tiffany",
   "metadata": {},
   "outputs": [
    {
     "data": {
      "text/plain": [
       "5"
      ]
     },
     "execution_count": 217,
     "metadata": {},
     "output_type": "execute_result"
    }
   ],
   "source": [
    "math.ceil(value)"
   ]
  },
  {
   "cell_type": "markdown",
   "id": "moderate-asset",
   "metadata": {},
   "source": [
    "`round(number, ndigits)` function works in the same way as we studied in our schools, ie. it rounds-off the **number** to nearest its whole integer (if **ndigits** are not specified), or to nearest number as per the **ndigits** specified.\n",
    "\n",
    "The `round()` function is not part of the `math` module. You can simply use it as and when. \n",
    "\n",
    "**Examples :**"
   ]
  },
  {
   "cell_type": "code",
   "execution_count": 218,
   "id": "hearing-exhaust",
   "metadata": {},
   "outputs": [
    {
     "data": {
      "text/plain": [
       "4"
      ]
     },
     "execution_count": 218,
     "metadata": {},
     "output_type": "execute_result"
    }
   ],
   "source": [
    "round(value)"
   ]
  },
  {
   "cell_type": "markdown",
   "id": "yellow-correction",
   "metadata": {},
   "source": [
    "<br>\n",
    "\n",
    "Observe here, you might think that 4.5 should round-off to 5. But it isn't.\n",
    "Because, it gets rounded-off to **nearest even integer**.\n",
    "\n",
    "This case is only visible when dealing with .5's"
   ]
  },
  {
   "cell_type": "code",
   "execution_count": 258,
   "id": "daily-replica",
   "metadata": {},
   "outputs": [
    {
     "data": {
      "text/plain": [
       "4"
      ]
     },
     "execution_count": 258,
     "metadata": {},
     "output_type": "execute_result"
    }
   ],
   "source": [
    "round(4.5)    # nearest whole integer is 4. So it takes 4, and not 5."
   ]
  },
  {
   "cell_type": "code",
   "execution_count": 254,
   "id": "statewide-stuart",
   "metadata": {},
   "outputs": [
    {
     "data": {
      "text/plain": [
       "10"
      ]
     },
     "execution_count": 254,
     "metadata": {},
     "output_type": "execute_result"
    }
   ],
   "source": [
    "round(9.5)    # nearest whole integer is 10, and not 9."
   ]
  },
  {
   "cell_type": "code",
   "execution_count": 269,
   "id": "virgin-edgar",
   "metadata": {},
   "outputs": [
    {
     "data": {
      "text/plain": [
       "-2"
      ]
     },
     "execution_count": 269,
     "metadata": {},
     "output_type": "execute_result"
    }
   ],
   "source": [
    "round(-1.5)"
   ]
  },
  {
   "cell_type": "code",
   "execution_count": 270,
   "id": "executed-coach",
   "metadata": {},
   "outputs": [
    {
     "data": {
      "text/plain": [
       "-2"
      ]
     },
     "execution_count": 270,
     "metadata": {},
     "output_type": "execute_result"
    }
   ],
   "source": [
    "round(-2.5)"
   ]
  },
  {
   "cell_type": "code",
   "execution_count": 265,
   "id": "eleven-mozambique",
   "metadata": {},
   "outputs": [
    {
     "name": "stdout",
     "output_type": "stream",
     "text": [
      "5.513\n",
      "6.513\n",
      "7.512\n"
     ]
    }
   ],
   "source": [
    "print(round(5.5126432, 3))\n",
    "\n",
    "print(round(6.5125432, 3))\n",
    "\n",
    "print(round(7.5124432, 3))"
   ]
  },
  {
   "cell_type": "markdown",
   "id": "advised-office",
   "metadata": {},
   "source": [
    "#### 2. Mathematical Constants"
   ]
  },
  {
   "cell_type": "code",
   "execution_count": 219,
   "id": "excessive-paste",
   "metadata": {},
   "outputs": [
    {
     "data": {
      "text/plain": [
       "3.141592653589793"
      ]
     },
     "execution_count": 219,
     "metadata": {},
     "output_type": "execute_result"
    }
   ],
   "source": [
    "math.pi"
   ]
  },
  {
   "cell_type": "markdown",
   "id": "compound-chancellor",
   "metadata": {},
   "source": [
    "Or you can also do,"
   ]
  },
  {
   "cell_type": "code",
   "execution_count": 266,
   "id": "entertaining-decline",
   "metadata": {},
   "outputs": [
    {
     "data": {
      "text/plain": [
       "3.141592653589793"
      ]
     },
     "execution_count": 266,
     "metadata": {},
     "output_type": "execute_result"
    }
   ],
   "source": [
    "from math import pi\n",
    "\n",
    "pi"
   ]
  },
  {
   "cell_type": "code",
   "execution_count": 276,
   "id": "infectious-belief",
   "metadata": {},
   "outputs": [
    {
     "data": {
      "text/plain": [
       "2.718281828459045"
      ]
     },
     "execution_count": 276,
     "metadata": {},
     "output_type": "execute_result"
    }
   ],
   "source": [
    "math.e     # exponential constant"
   ]
  },
  {
   "cell_type": "code",
   "execution_count": 278,
   "id": "excess-article",
   "metadata": {},
   "outputs": [
    {
     "data": {
      "text/plain": [
       "inf"
      ]
     },
     "execution_count": 278,
     "metadata": {},
     "output_type": "execute_result"
    }
   ],
   "source": [
    "math.inf   # positive infinity"
   ]
  },
  {
   "cell_type": "code",
   "execution_count": 280,
   "id": "premier-complex",
   "metadata": {},
   "outputs": [
    {
     "data": {
      "text/plain": [
       "nan"
      ]
     },
     "execution_count": 280,
     "metadata": {},
     "output_type": "execute_result"
    }
   ],
   "source": [
    "math.nan"
   ]
  },
  {
   "cell_type": "code",
   "execution_count": 282,
   "id": "sorted-white",
   "metadata": {},
   "outputs": [
    {
     "data": {
      "text/plain": [
       "-inf"
      ]
     },
     "execution_count": 282,
     "metadata": {},
     "output_type": "execute_result"
    }
   ],
   "source": [
    "-math.inf  # negative infinity"
   ]
  },
  {
   "cell_type": "code",
   "execution_count": 283,
   "id": "dimensional-kazakhstan",
   "metadata": {},
   "outputs": [
    {
     "data": {
      "text/plain": [
       "nan"
      ]
     },
     "execution_count": 283,
     "metadata": {},
     "output_type": "execute_result"
    }
   ],
   "source": [
    "-math.nan"
   ]
  },
  {
   "cell_type": "markdown",
   "id": "cellular-copper",
   "metadata": {},
   "source": [
    "#### 3. Logarithmic Values"
   ]
  },
  {
   "cell_type": "code",
   "execution_count": 284,
   "id": "developing-status",
   "metadata": {},
   "outputs": [
    {
     "data": {
      "text/plain": [
       "2.718281828459045"
      ]
     },
     "execution_count": 284,
     "metadata": {},
     "output_type": "execute_result"
    }
   ],
   "source": [
    "math.e"
   ]
  },
  {
   "cell_type": "code",
   "execution_count": 285,
   "id": "union-spirituality",
   "metadata": {},
   "outputs": [
    {
     "data": {
      "text/plain": [
       "1.0"
      ]
     },
     "execution_count": 285,
     "metadata": {},
     "output_type": "execute_result"
    }
   ],
   "source": [
    "# Log to base 'e'\n",
    "math.log(math.e)"
   ]
  },
  {
   "cell_type": "code",
   "execution_count": 286,
   "id": "close-exclusion",
   "metadata": {},
   "outputs": [],
   "source": [
    "from math import log"
   ]
  },
  {
   "cell_type": "code",
   "execution_count": 287,
   "id": "particular-sunrise",
   "metadata": {},
   "outputs": [
    {
     "data": {
      "text/plain": [
       "1.0"
      ]
     },
     "execution_count": 287,
     "metadata": {},
     "output_type": "execute_result"
    }
   ],
   "source": [
    "log(math.e)"
   ]
  },
  {
   "cell_type": "code",
   "execution_count": 290,
   "id": "destroyed-installation",
   "metadata": {},
   "outputs": [
    {
     "ename": "ValueError",
     "evalue": "math domain error",
     "output_type": "error",
     "traceback": [
      "\u001b[0;31m---------------------------------------------------------------------------\u001b[0m",
      "\u001b[0;31mValueError\u001b[0m                                Traceback (most recent call last)",
      "\u001b[0;32m<ipython-input-290-2e1b7d281bdf>\u001b[0m in \u001b[0;36m<module>\u001b[0;34m\u001b[0m\n\u001b[0;32m----> 1\u001b[0;31m \u001b[0mlog\u001b[0m\u001b[0;34m(\u001b[0m\u001b[0;36m0\u001b[0m\u001b[0;34m)\u001b[0m\u001b[0;34m\u001b[0m\u001b[0;34m\u001b[0m\u001b[0m\n\u001b[0m",
      "\u001b[0;31mValueError\u001b[0m: math domain error"
     ]
    }
   ],
   "source": [
    "log(0)"
   ]
  },
  {
   "cell_type": "code",
   "execution_count": 291,
   "id": "challenging-missouri",
   "metadata": {},
   "outputs": [
    {
     "data": {
      "text/plain": [
       "2.302585092994046"
      ]
     },
     "execution_count": 291,
     "metadata": {},
     "output_type": "execute_result"
    }
   ],
   "source": [
    "log(10)"
   ]
  },
  {
   "cell_type": "code",
   "execution_count": 294,
   "id": "confidential-faculty",
   "metadata": {},
   "outputs": [
    {
     "ename": "NameError",
     "evalue": "name 'e' is not defined",
     "output_type": "error",
     "traceback": [
      "\u001b[0;31m---------------------------------------------------------------------------\u001b[0m",
      "\u001b[0;31mNameError\u001b[0m                                 Traceback (most recent call last)",
      "\u001b[0;32m<ipython-input-294-f40387f730cf>\u001b[0m in \u001b[0;36m<module>\u001b[0;34m\u001b[0m\n\u001b[0;32m----> 1\u001b[0;31m \u001b[0me\u001b[0m \u001b[0;34m**\u001b[0m \u001b[0mlog\u001b[0m\u001b[0;34m(\u001b[0m\u001b[0;36m10\u001b[0m\u001b[0;34m)\u001b[0m\u001b[0;34m\u001b[0m\u001b[0;34m\u001b[0m\u001b[0m\n\u001b[0m",
      "\u001b[0;31mNameError\u001b[0m: name 'e' is not defined"
     ]
    }
   ],
   "source": [
    "math.e ** log(10)"
   ]
  },
  {
   "cell_type": "markdown",
   "id": "nearby-scratch",
   "metadata": {},
   "source": [
    "#### 4. Custom Logarithmic-base\n",
    "\n",
    "`math.log(x, base)`"
   ]
  },
  {
   "cell_type": "code",
   "execution_count": 296,
   "id": "continent-couple",
   "metadata": {},
   "outputs": [
    {
     "data": {
      "text/plain": [
       "2.0"
      ]
     },
     "execution_count": 296,
     "metadata": {},
     "output_type": "execute_result"
    }
   ],
   "source": [
    "math.log(100, 10)"
   ]
  },
  {
   "cell_type": "code",
   "execution_count": 321,
   "id": "least-individual",
   "metadata": {},
   "outputs": [
    {
     "data": {
      "text/plain": [
       "4.0"
      ]
     },
     "execution_count": 321,
     "metadata": {},
     "output_type": "execute_result"
    }
   ],
   "source": [
    "log(625, 5)"
   ]
  },
  {
   "cell_type": "markdown",
   "id": "fourth-dairy",
   "metadata": {},
   "source": [
    "#### 5.  Trigonometric Functions"
   ]
  },
  {
   "cell_type": "code",
   "execution_count": 297,
   "id": "practical-livestock",
   "metadata": {},
   "outputs": [
    {
     "data": {
      "text/plain": [
       "-0.5440211108893699"
      ]
     },
     "execution_count": 297,
     "metadata": {},
     "output_type": "execute_result"
    }
   ],
   "source": [
    "# radians\n",
    "\n",
    "math.sin(10)"
   ]
  },
  {
   "cell_type": "code",
   "execution_count": 298,
   "id": "negative-necessity",
   "metadata": {},
   "outputs": [
    {
     "data": {
      "text/plain": [
       "90.0"
      ]
     },
     "execution_count": 298,
     "metadata": {},
     "output_type": "execute_result"
    }
   ],
   "source": [
    "math.degrees(pi/2)"
   ]
  },
  {
   "cell_type": "code",
   "execution_count": 301,
   "id": "capital-trigger",
   "metadata": {},
   "outputs": [
    {
     "data": {
      "text/plain": [
       "3.141592653589793"
      ]
     },
     "execution_count": 301,
     "metadata": {},
     "output_type": "execute_result"
    }
   ],
   "source": [
    "# math.radian(degrees)\n",
    "math.radians(180)"
   ]
  },
  {
   "cell_type": "code",
   "execution_count": 302,
   "id": "backed-lloyd",
   "metadata": {},
   "outputs": [
    {
     "data": {
      "text/plain": [
       "15.707963267948966"
      ]
     },
     "execution_count": 302,
     "metadata": {},
     "output_type": "execute_result"
    }
   ],
   "source": [
    "math.radians(900)\n",
    "\n",
    "# 900 = 5 * 180 => 5 rounds of 180˚. Hence,\n",
    "# = 5 * radians(180˚) "
   ]
  },
  {
   "cell_type": "markdown",
   "id": "integral-savage",
   "metadata": {},
   "source": [
    "## Random module\n",
    "\n",
    "Random Module allows us to create random numbers. We can even set a seed to produce the same random set every time.\n",
    "\n",
    "The explanation of how a computer attempts to generate random numbers involves higher level mathmatics. You may check out these interesting topics :\n",
    "\n",
    "- https://en.wikipedia.org/wiki/Pseudorandom_number_generator\n",
    "- https://en.wikipedia.org/wiki/Random_seed\n",
    "- [Pseudorandom number generators | Computer Science | Khan Academy](https://www.youtube.com/watch?v=GtOt7EBNEwQ)\n",
    "\n",
    "\n",
    "### Understanding a Seed\n",
    "\n",
    "Setting a seed allows us to start from a seeded psuedorandom number generator, which means the same random numbers will show up in a series.\n",
    "\n",
    "Note, you need the seed to be in the same cell if your using Jupyter to guarantee the same results each time.<br>Getting a same set of random numbers can be important in situations where you will be trying different variations of functions and want to compare their performance on random values, but want to do it fairly (so you need the same set of random numbers each time)."
   ]
  },
  {
   "cell_type": "code",
   "execution_count": 303,
   "id": "desperate-dialogue",
   "metadata": {},
   "outputs": [],
   "source": [
    "import random"
   ]
  },
  {
   "cell_type": "code",
   "execution_count": 312,
   "id": "medical-forward",
   "metadata": {},
   "outputs": [
    {
     "data": {
      "text/plain": [
       "74"
      ]
     },
     "execution_count": 312,
     "metadata": {},
     "output_type": "execute_result"
    }
   ],
   "source": [
    "random.randint(0,100)"
   ]
  },
  {
   "cell_type": "code",
   "execution_count": 313,
   "id": "skilled-juice",
   "metadata": {},
   "outputs": [
    {
     "data": {
      "text/plain": [
       "48"
      ]
     },
     "execution_count": 313,
     "metadata": {},
     "output_type": "execute_result"
    }
   ],
   "source": [
    "random.randint(0,100)"
   ]
  },
  {
   "cell_type": "code",
   "execution_count": 337,
   "id": "original-landscape",
   "metadata": {},
   "outputs": [
    {
     "data": {
      "text/plain": [
       "37"
      ]
     },
     "execution_count": 337,
     "metadata": {},
     "output_type": "execute_result"
    }
   ],
   "source": [
    "# the value 101 is completely arbitrary, you can pass in any number you want.\n",
    "random.seed(101)\n",
    "# as many times this cell runs, it will always return the same number.\n",
    "random.randint(0,50)"
   ]
  },
  {
   "cell_type": "code",
   "execution_count": 343,
   "id": "instrumental-paraguay",
   "metadata": {},
   "outputs": [
    {
     "data": {
      "text/plain": [
       "84"
      ]
     },
     "execution_count": 343,
     "metadata": {},
     "output_type": "execute_result"
    }
   ],
   "source": [
    "random.randint(0,100)"
   ]
  },
  {
   "cell_type": "markdown",
   "id": "reliable-disney",
   "metadata": {},
   "source": [
    "The sequence of numbers produced by below lines of code will be same when run n number of times, even on any other computer - the sequence of numbers is gonna be same. Just give it a try! "
   ]
  },
  {
   "cell_type": "code",
   "execution_count": 344,
   "id": "japanese-tutorial",
   "metadata": {},
   "outputs": [
    {
     "name": "stdout",
     "output_type": "stream",
     "text": [
      "74\n",
      "24\n",
      "69\n",
      "45\n",
      "59\n"
     ]
    }
   ],
   "source": [
    "# The value 101 is completely arbitrary, you can pass in any number you want\n",
    "random.seed(101)\n",
    "print(random.randint(0,100))\n",
    "print(random.randint(0,100))\n",
    "print(random.randint(0,100))\n",
    "print(random.randint(0,100))\n",
    "print(random.randint(0,100))"
   ]
  },
  {
   "cell_type": "markdown",
   "id": "civilian-carol",
   "metadata": {},
   "source": [
    "<br>\n",
    "\n",
    "### Random with Sequences\n",
    "\n",
    "##### Grab a random item from a list"
   ]
  },
  {
   "cell_type": "code",
   "execution_count": 354,
   "id": "sharp-illustration",
   "metadata": {},
   "outputs": [
    {
     "data": {
      "text/plain": [
       "[0, 1, 2, 3, 4, 5, 6, 7, 8, 9, 10, 11, 12, 13, 14]"
      ]
     },
     "execution_count": 354,
     "metadata": {},
     "output_type": "execute_result"
    }
   ],
   "source": [
    "myList = list(range(0,15))\n",
    "myList"
   ]
  },
  {
   "cell_type": "code",
   "execution_count": 357,
   "id": "disturbed-legend",
   "metadata": {},
   "outputs": [
    {
     "data": {
      "text/plain": [
       "7"
      ]
     },
     "execution_count": 357,
     "metadata": {},
     "output_type": "execute_result"
    }
   ],
   "source": [
    "random.choice(myList)"
   ]
  },
  {
   "cell_type": "markdown",
   "id": "labeled-leisure",
   "metadata": {},
   "source": [
    "<br>\n",
    "\n",
    "### Sample with Replacement\n",
    "\n",
    "Take a sample size, allowing picking elements more than once. Imagine a bag of numbered lottery balls, you reach in to grab a random lotto ball, then after marking down the number, **you place it back in the bag**, then continue picking another one."
   ]
  },
  {
   "cell_type": "code",
   "execution_count": 359,
   "id": "advised-default",
   "metadata": {},
   "outputs": [
    {
     "data": {
      "text/plain": [
       "[6, 8, 2, 11, 3, 11, 6, 0, 7, 3]"
      ]
     },
     "execution_count": 359,
     "metadata": {},
     "output_type": "execute_result"
    }
   ],
   "source": [
    "random.choices(population=myList, k=10)"
   ]
  },
  {
   "cell_type": "markdown",
   "id": "yellow-diameter",
   "metadata": {},
   "source": [
    "Notice here, the number 6, 3, 11 looks repeated.\n",
    "\n",
    "### Sample without Replacement\n",
    "\n",
    "Once an item has been randomly picked, it can't be picked again. Imagine a bag of numbered lottery balls, you reach in to grab a random lotto ball, then after marking down the number, you **leave it out of the bag**, then continue picking another one."
   ]
  },
  {
   "cell_type": "code",
   "execution_count": 360,
   "id": "million-kruger",
   "metadata": {},
   "outputs": [
    {
     "data": {
      "text/plain": [
       "[10, 13, 9, 14, 5, 4, 6, 8, 1, 3]"
      ]
     },
     "execution_count": 360,
     "metadata": {},
     "output_type": "execute_result"
    }
   ],
   "source": [
    "random.sample(population=myList, k=10)"
   ]
  },
  {
   "cell_type": "markdown",
   "id": "centered-alcohol",
   "metadata": {},
   "source": [
    "<br>\n",
    "\n",
    "### Shuffle a list\n",
    "\n",
    "**Note: This affects the object in-place i.e. permanently! So, post shuffling, you don't have the list to anything**"
   ]
  },
  {
   "cell_type": "code",
   "execution_count": 363,
   "id": "nearby-disney",
   "metadata": {},
   "outputs": [
    {
     "data": {
      "text/plain": [
       "[12, 2, 7, 1, 14, 13, 4, 9, 11, 0, 8, 5, 10, 6, 3]"
      ]
     },
     "execution_count": 363,
     "metadata": {},
     "output_type": "execute_result"
    }
   ],
   "source": [
    "# Don't assign this to anything!\n",
    "random.shuffle(myList)\n",
    "\n",
    "myList"
   ]
  },
  {
   "cell_type": "markdown",
   "id": "specialized-allocation",
   "metadata": {},
   "source": [
    "<br>\n",
    "\n",
    "### Random Distributions - some functions that deal with probability distribution\n",
    "\n",
    "[Uniform Distribution](https://en.wikipedia.org/wiki/Uniform_distribution)\n",
    "\n",
    "Randomly picks a value between a and b, from a continuous distribution between these. Each value has an equal chance (likelihood) of being chosen."
   ]
  },
  {
   "cell_type": "code",
   "execution_count": 365,
   "id": "wrapped-prison",
   "metadata": {},
   "outputs": [
    {
     "data": {
      "text/plain": [
       "11.887206640710046"
      ]
     },
     "execution_count": 365,
     "metadata": {},
     "output_type": "execute_result"
    }
   ],
   "source": [
    "random.uniform(a=0, b=100)"
   ]
  },
  {
   "cell_type": "markdown",
   "id": "dried-nevada",
   "metadata": {},
   "source": [
    "[Normal or Gaussian Distribution](https://en.wikipedia.org/wiki/Normal_distribution)"
   ]
  },
  {
   "cell_type": "code",
   "execution_count": 371,
   "id": "electrical-beads",
   "metadata": {},
   "outputs": [
    {
     "data": {
      "text/plain": [
       "0.968948355232866"
      ]
     },
     "execution_count": 371,
     "metadata": {},
     "output_type": "execute_result"
    }
   ],
   "source": [
    "random.gauss(mu=0, sigma=2)     # sigma : Standard Deviation\n",
    "                                # mu : Centered Mean"
   ]
  },
  {
   "cell_type": "markdown",
   "id": "fifth-chain",
   "metadata": {},
   "source": [
    "<br>"
   ]
  },
  {
   "cell_type": "markdown",
   "id": "deluxe-offer",
   "metadata": {},
   "source": [
    "<br>\n",
    "__________________________________________________________________________________________________________________\n",
    "\n",
    "# Python Debugger\n",
    "\n",
    "You've probably used a variety of print statements, trying to find errors in your code. A better way of doing this is by using Python's built-in debugger module (pdb). The `pdb` module implements an interactive debugging environment for Python programs. It includes features to let you pause your program, look at the values of variables, and watch program execution step-by-step, so you can understand what your program actually does and find bugs in the logic.\n",
    "\n",
    "This is a bit difficult to show since it requires creating an error on purpose, but hopefully this simple example illustrates the power of the pdb module.\n",
    "\n",
    "Note: Keep in mind it would be pretty unusual to use pdb in an Jupyter Notebook setting.\n",
    "\n",
    "Here we will create an error on purpose, trying to add a list to an integer :"
   ]
  },
  {
   "cell_type": "code",
   "execution_count": 372,
   "id": "parental-sudan",
   "metadata": {},
   "outputs": [
    {
     "name": "stdout",
     "output_type": "stream",
     "text": [
      "5\n"
     ]
    },
    {
     "ename": "TypeError",
     "evalue": "unsupported operand type(s) for +: 'int' and 'list'",
     "output_type": "error",
     "traceback": [
      "\u001b[0;31m---------------------------------------------------------------------------\u001b[0m",
      "\u001b[0;31mTypeError\u001b[0m                                 Traceback (most recent call last)",
      "\u001b[0;32m<ipython-input-372-44bce0eb0bac>\u001b[0m in \u001b[0;36m<module>\u001b[0;34m\u001b[0m\n\u001b[1;32m      5\u001b[0m \u001b[0mresult\u001b[0m \u001b[0;34m=\u001b[0m \u001b[0my\u001b[0m \u001b[0;34m+\u001b[0m \u001b[0mz\u001b[0m\u001b[0;34m\u001b[0m\u001b[0;34m\u001b[0m\u001b[0m\n\u001b[1;32m      6\u001b[0m \u001b[0mprint\u001b[0m\u001b[0;34m(\u001b[0m\u001b[0mresult\u001b[0m\u001b[0;34m)\u001b[0m\u001b[0;34m\u001b[0m\u001b[0;34m\u001b[0m\u001b[0m\n\u001b[0;32m----> 7\u001b[0;31m \u001b[0mresult2\u001b[0m \u001b[0;34m=\u001b[0m \u001b[0my\u001b[0m \u001b[0;34m+\u001b[0m \u001b[0mx\u001b[0m\u001b[0;34m\u001b[0m\u001b[0;34m\u001b[0m\u001b[0m\n\u001b[0m\u001b[1;32m      8\u001b[0m \u001b[0mprint\u001b[0m\u001b[0;34m(\u001b[0m\u001b[0mresult2\u001b[0m\u001b[0;34m)\u001b[0m\u001b[0;34m\u001b[0m\u001b[0;34m\u001b[0m\u001b[0m\n",
      "\u001b[0;31mTypeError\u001b[0m: unsupported operand type(s) for +: 'int' and 'list'"
     ]
    }
   ],
   "source": [
    "x = [1, 3, 6]\n",
    "y = 3\n",
    "z = 2\n",
    "\n",
    "result = y + z\n",
    "print(result)\n",
    "result2 = y + x\n",
    "print(result2)"
   ]
  },
  {
   "cell_type": "markdown",
   "id": "premium-airport",
   "metadata": {},
   "source": [
    "Hmmm, looks like we get an error! Let's implement a `set_trace()` using the **pdb** module. This will allow us to basically pause the code at the point of the trace and check if anything is wrong."
   ]
  },
  {
   "cell_type": "code",
   "execution_count": 376,
   "id": "superb-decline",
   "metadata": {},
   "outputs": [
    {
     "name": "stdout",
     "output_type": "stream",
     "text": [
      "5\n",
      "--Return--\n",
      "None\n",
      "> \u001b[0;32m<ipython-input-376-88b1a2293928>\u001b[0m(11)\u001b[0;36m<module>\u001b[0;34m()\u001b[0m\n",
      "\u001b[0;32m      9 \u001b[0;31m\u001b[0;34m\u001b[0m\u001b[0m\n",
      "\u001b[0m\u001b[0;32m     10 \u001b[0;31m\u001b[0;31m# Set a trace using Python Debugger\u001b[0m\u001b[0;34m\u001b[0m\u001b[0;34m\u001b[0m\u001b[0;34m\u001b[0m\u001b[0m\n",
      "\u001b[0m\u001b[0;32m---> 11 \u001b[0;31m\u001b[0mpdb\u001b[0m\u001b[0;34m.\u001b[0m\u001b[0mset_trace\u001b[0m\u001b[0;34m(\u001b[0m\u001b[0;34m)\u001b[0m\u001b[0;34m\u001b[0m\u001b[0;34m\u001b[0m\u001b[0m\n",
      "\u001b[0m\u001b[0;32m     12 \u001b[0;31m\u001b[0;34m\u001b[0m\u001b[0m\n",
      "\u001b[0m\u001b[0;32m     13 \u001b[0;31m\u001b[0mresult2\u001b[0m \u001b[0;34m=\u001b[0m \u001b[0my\u001b[0m \u001b[0;34m+\u001b[0m \u001b[0mx\u001b[0m\u001b[0;34m\u001b[0m\u001b[0;34m\u001b[0m\u001b[0m\n",
      "\u001b[0m\n",
      "ipdb> x\n",
      "[1, 3, 4]\n",
      "ipdb> y\n",
      "2\n",
      "ipdb> z\n",
      "3\n",
      "ipdb> x+y\n",
      "*** TypeError: can only concatenate list (not \"int\") to list\n",
      "ipdb> y+z\n",
      "5\n",
      "ipdb> x+z\n",
      "*** TypeError: can only concatenate list (not \"int\") to list\n",
      "ipdb> result\n",
      "5\n",
      "ipdb> result2\n",
      "*** NameError: name 'result2' is not defined\n",
      "ipdb> q\n"
     ]
    },
    {
     "ename": "BdbQuit",
     "evalue": "",
     "output_type": "error",
     "traceback": [
      "\u001b[0;31m---------------------------------------------------------------------------\u001b[0m",
      "\u001b[0;31mBdbQuit\u001b[0m                                   Traceback (most recent call last)",
      "\u001b[0;32m<ipython-input-376-88b1a2293928>\u001b[0m in \u001b[0;36m<module>\u001b[0;34m\u001b[0m\n\u001b[1;32m      9\u001b[0m \u001b[0;34m\u001b[0m\u001b[0m\n\u001b[1;32m     10\u001b[0m \u001b[0;31m# Set a trace using Python Debugger\u001b[0m\u001b[0;34m\u001b[0m\u001b[0;34m\u001b[0m\u001b[0;34m\u001b[0m\u001b[0m\n\u001b[0;32m---> 11\u001b[0;31m \u001b[0mpdb\u001b[0m\u001b[0;34m.\u001b[0m\u001b[0mset_trace\u001b[0m\u001b[0;34m(\u001b[0m\u001b[0;34m)\u001b[0m\u001b[0;34m\u001b[0m\u001b[0;34m\u001b[0m\u001b[0m\n\u001b[0m\u001b[1;32m     12\u001b[0m \u001b[0;34m\u001b[0m\u001b[0m\n\u001b[1;32m     13\u001b[0m \u001b[0mresult2\u001b[0m \u001b[0;34m=\u001b[0m \u001b[0my\u001b[0m \u001b[0;34m+\u001b[0m \u001b[0mx\u001b[0m\u001b[0;34m\u001b[0m\u001b[0;34m\u001b[0m\u001b[0m\n",
      "\u001b[0;32m~/.pyenv/versions/3.7.8/lib/python3.7/bdb.py\u001b[0m in \u001b[0;36mtrace_dispatch\u001b[0;34m(self, frame, event, arg)\u001b[0m\n\u001b[1;32m     90\u001b[0m             \u001b[0;32mreturn\u001b[0m \u001b[0mself\u001b[0m\u001b[0;34m.\u001b[0m\u001b[0mdispatch_call\u001b[0m\u001b[0;34m(\u001b[0m\u001b[0mframe\u001b[0m\u001b[0;34m,\u001b[0m \u001b[0marg\u001b[0m\u001b[0;34m)\u001b[0m\u001b[0;34m\u001b[0m\u001b[0;34m\u001b[0m\u001b[0m\n\u001b[1;32m     91\u001b[0m         \u001b[0;32mif\u001b[0m \u001b[0mevent\u001b[0m \u001b[0;34m==\u001b[0m \u001b[0;34m'return'\u001b[0m\u001b[0;34m:\u001b[0m\u001b[0;34m\u001b[0m\u001b[0;34m\u001b[0m\u001b[0m\n\u001b[0;32m---> 92\u001b[0;31m             \u001b[0;32mreturn\u001b[0m \u001b[0mself\u001b[0m\u001b[0;34m.\u001b[0m\u001b[0mdispatch_return\u001b[0m\u001b[0;34m(\u001b[0m\u001b[0mframe\u001b[0m\u001b[0;34m,\u001b[0m \u001b[0marg\u001b[0m\u001b[0;34m)\u001b[0m\u001b[0;34m\u001b[0m\u001b[0;34m\u001b[0m\u001b[0m\n\u001b[0m\u001b[1;32m     93\u001b[0m         \u001b[0;32mif\u001b[0m \u001b[0mevent\u001b[0m \u001b[0;34m==\u001b[0m \u001b[0;34m'exception'\u001b[0m\u001b[0;34m:\u001b[0m\u001b[0;34m\u001b[0m\u001b[0;34m\u001b[0m\u001b[0m\n\u001b[1;32m     94\u001b[0m             \u001b[0;32mreturn\u001b[0m \u001b[0mself\u001b[0m\u001b[0;34m.\u001b[0m\u001b[0mdispatch_exception\u001b[0m\u001b[0;34m(\u001b[0m\u001b[0mframe\u001b[0m\u001b[0;34m,\u001b[0m \u001b[0marg\u001b[0m\u001b[0;34m)\u001b[0m\u001b[0;34m\u001b[0m\u001b[0;34m\u001b[0m\u001b[0m\n",
      "\u001b[0;32m~/.pyenv/versions/3.7.8/lib/python3.7/bdb.py\u001b[0m in \u001b[0;36mdispatch_return\u001b[0;34m(self, frame, arg)\u001b[0m\n\u001b[1;32m    152\u001b[0m             \u001b[0;32mfinally\u001b[0m\u001b[0;34m:\u001b[0m\u001b[0;34m\u001b[0m\u001b[0;34m\u001b[0m\u001b[0m\n\u001b[1;32m    153\u001b[0m                 \u001b[0mself\u001b[0m\u001b[0;34m.\u001b[0m\u001b[0mframe_returning\u001b[0m \u001b[0;34m=\u001b[0m \u001b[0;32mNone\u001b[0m\u001b[0;34m\u001b[0m\u001b[0;34m\u001b[0m\u001b[0m\n\u001b[0;32m--> 154\u001b[0;31m             \u001b[0;32mif\u001b[0m \u001b[0mself\u001b[0m\u001b[0;34m.\u001b[0m\u001b[0mquitting\u001b[0m\u001b[0;34m:\u001b[0m \u001b[0;32mraise\u001b[0m \u001b[0mBdbQuit\u001b[0m\u001b[0;34m\u001b[0m\u001b[0;34m\u001b[0m\u001b[0m\n\u001b[0m\u001b[1;32m    155\u001b[0m             \u001b[0;31m# The user issued a 'next' or 'until' command.\u001b[0m\u001b[0;34m\u001b[0m\u001b[0;34m\u001b[0m\u001b[0;34m\u001b[0m\u001b[0m\n\u001b[1;32m    156\u001b[0m             \u001b[0;32mif\u001b[0m \u001b[0mself\u001b[0m\u001b[0;34m.\u001b[0m\u001b[0mstopframe\u001b[0m \u001b[0;32mis\u001b[0m \u001b[0mframe\u001b[0m \u001b[0;32mand\u001b[0m \u001b[0mself\u001b[0m\u001b[0;34m.\u001b[0m\u001b[0mstoplineno\u001b[0m \u001b[0;34m!=\u001b[0m \u001b[0;34m-\u001b[0m\u001b[0;36m1\u001b[0m\u001b[0;34m:\u001b[0m\u001b[0;34m\u001b[0m\u001b[0;34m\u001b[0m\u001b[0m\n",
      "\u001b[0;31mBdbQuit\u001b[0m: "
     ]
    }
   ],
   "source": [
    "import pdb\n",
    "\n",
    "x = [1,3,4]\n",
    "y = 2\n",
    "z = 3\n",
    "\n",
    "result = y + z\n",
    "print(result)\n",
    "\n",
    "# Set a trace using Python Debugger\n",
    "pdb.set_trace()\n",
    "\n",
    "result2 = y + x\n",
    "print(result2)"
   ]
  },
  {
   "cell_type": "markdown",
   "id": "exciting-instruction",
   "metadata": {},
   "source": [
    "Great! Now we could check what the various variables were and check for errors. You can type `q` to quit the debugger. For more information on general debugging techniques and more methods, check out the official documentation for **pdb** : https://docs.python.org/3/library/pdb.html"
   ]
  },
  {
   "cell_type": "markdown",
   "id": "senior-barrel",
   "metadata": {},
   "source": [
    "<br>\n",
    "________________________________________________________________________________________________________________\n",
    "\n",
    "# Regular Expressions\n",
    "\n",
    "Regular Expressions (sometimes called **regex**, for short) allows a user to search for general patterns in textual data, i.e. search for strings using almost any sort of rule/structure they can come up.<br>For example, finding all capital letters in a string, or finding a phone number in a document, or finding a simple email format.\n",
    "\n",
    "Regular expressions are notorious for their seemingly strange syntax. This strange syntax is a byproduct of their flexibility. Regular expressions have to be able to filter out any string pattern you can imagine, which is why they have a complex string pattern format.\n",
    "\n",
    "The `re` library allows us to create specialized pattern strings and then search for matches within text.\n",
    "\n",
    "The primary skill for regex is understanding the special syntax for these pattern strings.\n",
    "\n",
    "Let's begin by explaining how to search for basic patterns in a string!\n",
    "\n",
    "## Search for basic strings/text"
   ]
  },
  {
   "cell_type": "code",
   "execution_count": 377,
   "id": "ethical-campbell",
   "metadata": {},
   "outputs": [],
   "source": [
    "text = \"The person's phone number is 908-555-1234. Call soon!\""
   ]
  },
  {
   "cell_type": "markdown",
   "id": "biological-right",
   "metadata": {},
   "source": [
    "We'll start off by trying to find out if the string \"phone\" is inside the text string. Now we could quickly do this with :"
   ]
  },
  {
   "cell_type": "code",
   "execution_count": 381,
   "id": "revolutionary-flour",
   "metadata": {},
   "outputs": [
    {
     "data": {
      "text/plain": [
       "True"
      ]
     },
     "execution_count": 381,
     "metadata": {},
     "output_type": "execute_result"
    }
   ],
   "source": [
    "'phone' in text"
   ]
  },
  {
   "cell_type": "markdown",
   "id": "sufficient-pennsylvania",
   "metadata": {},
   "source": [
    "Let's try this with regexes as they provide even more leverage and functionalities for search,"
   ]
  },
  {
   "cell_type": "code",
   "execution_count": 382,
   "id": "applied-belfast",
   "metadata": {},
   "outputs": [],
   "source": [
    "import re"
   ]
  },
  {
   "cell_type": "code",
   "execution_count": 383,
   "id": "fallen-dispute",
   "metadata": {},
   "outputs": [],
   "source": [
    "pattern = 'phone'"
   ]
  },
  {
   "cell_type": "code",
   "execution_count": 384,
   "id": "animated-scheme",
   "metadata": {},
   "outputs": [
    {
     "data": {
      "text/plain": [
       "<re.Match object; span=(13, 18), match='phone'>"
      ]
     },
     "execution_count": 384,
     "metadata": {},
     "output_type": "execute_result"
    }
   ],
   "source": [
    "re.search(pattern, text)"
   ]
  },
  {
   "cell_type": "markdown",
   "id": "pressed-botswana",
   "metadata": {},
   "source": [
    "`re.search()` will take the pattern, scan the text, and then returns a Match object. If no pattern is found, a `None` is returned (in Jupyter Notebook this just means that nothing is output below the cell).<br>Let's see an example for `None` in this case."
   ]
  },
  {
   "cell_type": "code",
   "execution_count": 392,
   "id": "featured-maldives",
   "metadata": {},
   "outputs": [],
   "source": [
    "re.search('address', text)\n",
    "\n",
    "# the text 'address' is not present in the text variable."
   ]
  },
  {
   "cell_type": "markdown",
   "id": "african-explanation",
   "metadata": {},
   "source": [
    "Let's take a closer look at this Match object."
   ]
  },
  {
   "cell_type": "code",
   "execution_count": 393,
   "id": "expressed-compiler",
   "metadata": {},
   "outputs": [
    {
     "data": {
      "text/plain": [
       "<re.Match object; span=(13, 18), match='phone'>"
      ]
     },
     "execution_count": 393,
     "metadata": {},
     "output_type": "execute_result"
    }
   ],
   "source": [
    "match = re.search('phone', text)\n",
    "\n",
    "match"
   ]
  },
  {
   "cell_type": "markdown",
   "id": "injured-longitude",
   "metadata": {},
   "source": [
    "**Notice the span, there is a start and end index information.**"
   ]
  },
  {
   "cell_type": "code",
   "execution_count": 396,
   "id": "virgin-honor",
   "metadata": {},
   "outputs": [
    {
     "data": {
      "text/plain": [
       "(13, 18)"
      ]
     },
     "execution_count": 396,
     "metadata": {},
     "output_type": "execute_result"
    }
   ],
   "source": [
    "match.span()"
   ]
  },
  {
   "cell_type": "code",
   "execution_count": 397,
   "id": "consecutive-platinum",
   "metadata": {},
   "outputs": [
    {
     "data": {
      "text/plain": [
       "13"
      ]
     },
     "execution_count": 397,
     "metadata": {},
     "output_type": "execute_result"
    }
   ],
   "source": [
    "match.start()"
   ]
  },
  {
   "cell_type": "code",
   "execution_count": 398,
   "id": "combined-lodging",
   "metadata": {},
   "outputs": [
    {
     "data": {
      "text/plain": [
       "18"
      ]
     },
     "execution_count": 398,
     "metadata": {},
     "output_type": "execute_result"
    }
   ],
   "source": [
    "match.end()"
   ]
  },
  {
   "cell_type": "markdown",
   "id": "compatible-subject",
   "metadata": {},
   "source": [
    "But what if the pattern occurs more than once ?"
   ]
  },
  {
   "cell_type": "code",
   "execution_count": 402,
   "id": "hindu-serum",
   "metadata": {},
   "outputs": [
    {
     "data": {
      "text/plain": [
       "(4, 8)"
      ]
     },
     "execution_count": 402,
     "metadata": {},
     "output_type": "execute_result"
    }
   ],
   "source": [
    "text = 'the lake is down the road. lake water is warmer.'\n",
    "\n",
    "match = re.search('lake', text)\n",
    "\n",
    "match.span()"
   ]
  },
  {
   "cell_type": "markdown",
   "id": "fantastic-thunder",
   "metadata": {},
   "source": [
    "**Notice it only matches the first instance.**\n",
    "\n",
    "If we wanted a list of all matches, we can use `.findall()` method. It returns the list of all matched occurences."
   ]
  },
  {
   "cell_type": "code",
   "execution_count": 403,
   "id": "former-tension",
   "metadata": {},
   "outputs": [
    {
     "data": {
      "text/plain": [
       "['lake', 'lake']"
      ]
     },
     "execution_count": 403,
     "metadata": {},
     "output_type": "execute_result"
    }
   ],
   "source": [
    "matches = re.findall('lake', text)\n",
    "\n",
    "matches"
   ]
  },
  {
   "cell_type": "markdown",
   "id": "reserved-proportion",
   "metadata": {},
   "source": [
    "To get actual match objects, use the iterator i.e. `.finditer()` method :"
   ]
  },
  {
   "cell_type": "code",
   "execution_count": 406,
   "id": "backed-diana",
   "metadata": {},
   "outputs": [
    {
     "name": "stdout",
     "output_type": "stream",
     "text": [
      "<re.Match object; span=(4, 8), match='lake'>\n",
      "(4, 8)\n",
      "***x***\n",
      "<re.Match object; span=(27, 31), match='lake'>\n",
      "(27, 31)\n",
      "***x***\n"
     ]
    }
   ],
   "source": [
    "for match in re.finditer('lake', text):\n",
    "    print(match)\n",
    "    print(match.span())\n",
    "    print(\"***x***\")"
   ]
  },
  {
   "cell_type": "markdown",
   "id": "utility-kansas",
   "metadata": {},
   "source": [
    "If you wanted the actual text that matched, you can use the `.group()` method."
   ]
  },
  {
   "cell_type": "code",
   "execution_count": 405,
   "id": "continental-small",
   "metadata": {},
   "outputs": [
    {
     "data": {
      "text/plain": [
       "'lake'"
      ]
     },
     "execution_count": 405,
     "metadata": {},
     "output_type": "execute_result"
    }
   ],
   "source": [
    "match.group()"
   ]
  },
  {
   "cell_type": "markdown",
   "id": "relevant-tiger",
   "metadata": {},
   "source": [
    "## Patterns\n",
    "\n",
    "So far we've learned how to search for a basic text/string. What about more complex examples? Such as trying to find a telephone number in a large string of text? Or an email address?\n",
    "\n",
    "We could just use `search` method if we know the exact phone or email, but what if we don't know it? We may know the general format, and we can use that along with regular expressions to search the document for strings that match a particular pattern.\n",
    "\n",
    "This is where the syntax may appear strange at first, but take your time with this, often its just a matter of looking up the pattern code.\n",
    "\n",
    "### Identifiers for Characters in Patterns\n",
    "\n",
    "Characters such as a digit or a single string have different codes that represent them. You can use these to build up a pattern string. Notice how these make heavy use of the backwards slash `\\` . Because of this when defining a pattern string for regular expression we use the format :\n",
    "\n",
    "    r'mypattern'\n",
    "\n",
    "placing the `r` in front of the string allows python to understand that the `\\` in the pattern string are not meant to be escape slashes.\n",
    "\n",
    "Below you can find a table of all the possible identifiers :"
   ]
  },
  {
   "cell_type": "code",
   "execution_count": 407,
   "id": "naked-marketing",
   "metadata": {},
   "outputs": [],
   "source": [
    "text = 'my telephone number is 886-724-1234'\n",
    "phone = re.search(r'\\d\\d\\d-\\d\\d\\d-\\d\\d\\d\\d', text)"
   ]
  },
  {
   "cell_type": "code",
   "execution_count": 408,
   "id": "naked-mirror",
   "metadata": {},
   "outputs": [
    {
     "data": {
      "text/plain": [
       "'886-724-1234'"
      ]
     },
     "execution_count": 408,
     "metadata": {},
     "output_type": "execute_result"
    }
   ],
   "source": [
    "phone.group()"
   ]
  },
  {
   "cell_type": "markdown",
   "id": "graphic-hanging",
   "metadata": {},
   "source": [
    "Notice the repetition of `\\d`. That is a bit of an annoyance, especially if we are looking for very long strings of numbers. Let's explore the possible quantifiers.\n",
    "\n",
    "### Quantifiers\n",
    "\n",
    "Now that we know the special character designations, we can use them along with quantifiers to define how many we expect.\n",
    "\n",
    "**<u>Character identifiers</u>**\n",
    "\n",
    "| Character|Description|Example Pattern Code|Example Match |\n",
    "| :----: | :----: | :----: | :----: |\n",
    "| \\d | A digit | file_\\d\\d | file_25 |\n",
    "| \\w | Alphanumeric | \\w-\\w\\w\\w | A-b_1 |\n",
    "| \\s | White space | a\\sb\\sc | a b c |\n",
    "| \\D | A non-digit | \\D\\D\\D | ABC |\n",
    "| \\W | Non-alphanumeric | \\W\\W\\W\\W\\W | \\*-+=) |\n",
    "| \\S | Non-whitespace | \\S\\S\\S\\S | Yoyo |\n",
    "\n",
    "**<u>Quantifiers</u>** - indicate repitition of a same character.\n",
    "\n",
    "| Character|Description|Example Pattern Code|Example Match |\n",
    "| :----: | :----: | :----: | :----: |\n",
    "| + | Occurs 1 or more times | Version \\w-\\w+ | Version A-b1_1 |\n",
    "| {3} | Occurs exactly 3 times | \\D{3} | abc |\n",
    "| {2,4} | Occurs 2 to 4 times | \\d{2,4} | • 123 • 58 • 1829  |\n",
    "| {3,} | Occurs 3 or more times | \\w{3,} | anycharacters |\n",
    "| \\* | Occurs 0 or more times | A\\*B\\*C* | • AAACC • ABBC • BC • AB • BBB • C|\n",
    "| ? | Once or more | plurals? | • plural • plurals |\n",
    "\n",
    "Let's rewrite our pattern using these quantifiers :"
   ]
  },
  {
   "cell_type": "markdown",
   "id": "historical-green",
   "metadata": {},
   "source": [
    "<br>"
   ]
  },
  {
   "cell_type": "code",
   "execution_count": 412,
   "id": "traditional-cancer",
   "metadata": {},
   "outputs": [
    {
     "data": {
      "text/plain": [
       "<re.Match object; span=(23, 35), match='886-724-1234'>"
      ]
     },
     "execution_count": 412,
     "metadata": {},
     "output_type": "execute_result"
    }
   ],
   "source": [
    "re.search(r'\\d{3}-\\d{3}-\\d{4}', text)"
   ]
  },
  {
   "cell_type": "markdown",
   "id": "instrumental-highland",
   "metadata": {},
   "source": [
    "### Groups\n",
    "\n",
    "What if we wanted to do two tasks, find phone numbers, but also be able to quickly extract their area code (the first three digits). We can use groups for any general task that involves grouping together regular expressions (so that we can later break them down).\n",
    "\n",
    "Using the phone number example, we can separate groups of regular expressions using parenthesis :"
   ]
  },
  {
   "cell_type": "code",
   "execution_count": 413,
   "id": "transparent-album",
   "metadata": {},
   "outputs": [],
   "source": [
    "phone_pattern = re.compile(r'(\\d{3})-(\\d{3})-(\\d{4})')"
   ]
  },
  {
   "cell_type": "code",
   "execution_count": 414,
   "id": "prerequisite-found",
   "metadata": {},
   "outputs": [],
   "source": [
    "results = re.search(phone_pattern, text)"
   ]
  },
  {
   "cell_type": "code",
   "execution_count": 415,
   "id": "round-silence",
   "metadata": {},
   "outputs": [
    {
     "data": {
      "text/plain": [
       "'886-724-1234'"
      ]
     },
     "execution_count": 415,
     "metadata": {},
     "output_type": "execute_result"
    }
   ],
   "source": [
    "results.group()"
   ]
  },
  {
   "cell_type": "markdown",
   "id": "gorgeous-opera",
   "metadata": {},
   "source": [
    "- Can then also call by group position.\n",
    "- Remember, groups were separated by parenthesis `()`\n",
    "- Importan note is that the group ordering starts at 1. Passing in 0 returns everything."
   ]
  },
  {
   "cell_type": "code",
   "execution_count": 453,
   "id": "ahead-ballet",
   "metadata": {},
   "outputs": [
    {
     "data": {
      "text/plain": [
       "'886-724-1234'"
      ]
     },
     "execution_count": 453,
     "metadata": {},
     "output_type": "execute_result"
    }
   ],
   "source": [
    "results.group(0)"
   ]
  },
  {
   "cell_type": "code",
   "execution_count": 416,
   "id": "passive-reunion",
   "metadata": {},
   "outputs": [
    {
     "data": {
      "text/plain": [
       "'886'"
      ]
     },
     "execution_count": 416,
     "metadata": {},
     "output_type": "execute_result"
    }
   ],
   "source": [
    "results.group(1)"
   ]
  },
  {
   "cell_type": "code",
   "execution_count": 417,
   "id": "clean-chinese",
   "metadata": {},
   "outputs": [
    {
     "data": {
      "text/plain": [
       "'724'"
      ]
     },
     "execution_count": 417,
     "metadata": {},
     "output_type": "execute_result"
    }
   ],
   "source": [
    "results.group(2)"
   ]
  },
  {
   "cell_type": "code",
   "execution_count": 418,
   "id": "cooperative-folder",
   "metadata": {},
   "outputs": [
    {
     "data": {
      "text/plain": [
       "'1234'"
      ]
     },
     "execution_count": 418,
     "metadata": {},
     "output_type": "execute_result"
    }
   ],
   "source": [
    "results.group(3)"
   ]
  },
  {
   "cell_type": "code",
   "execution_count": 419,
   "id": "middle-radio",
   "metadata": {},
   "outputs": [
    {
     "ename": "IndexError",
     "evalue": "no such group",
     "output_type": "error",
     "traceback": [
      "\u001b[0;31m---------------------------------------------------------------------------\u001b[0m",
      "\u001b[0;31mIndexError\u001b[0m                                Traceback (most recent call last)",
      "\u001b[0;32m<ipython-input-419-33984beeecd9>\u001b[0m in \u001b[0;36m<module>\u001b[0;34m\u001b[0m\n\u001b[0;32m----> 1\u001b[0;31m \u001b[0mresults\u001b[0m\u001b[0;34m.\u001b[0m\u001b[0mgroup\u001b[0m\u001b[0;34m(\u001b[0m\u001b[0;36m4\u001b[0m\u001b[0;34m)\u001b[0m\u001b[0;34m\u001b[0m\u001b[0;34m\u001b[0m\u001b[0m\n\u001b[0m",
      "\u001b[0;31mIndexError\u001b[0m: no such group"
     ]
    }
   ],
   "source": [
    "# IndexError, because we only had 3 groups of prenthesis\n",
    "\n",
    "results.group(4)"
   ]
  },
  {
   "cell_type": "markdown",
   "id": "pointed-decimal",
   "metadata": {},
   "source": [
    "## Additional Regex syntax\n",
    "\n",
    "#### 1. OR operator `|`"
   ]
  },
  {
   "cell_type": "markdown",
   "id": "satellite-sociology",
   "metadata": {},
   "source": [
    "Use the pipe operator to have an `or` statement, i.e. to perform search for multiple terms in a single regex. For example :"
   ]
  },
  {
   "cell_type": "code",
   "execution_count": 454,
   "id": "incredible-crawford",
   "metadata": {},
   "outputs": [
    {
     "data": {
      "text/plain": [
       "<re.Match object; span=(5, 8), match='man'>"
      ]
     },
     "execution_count": 454,
     "metadata": {},
     "output_type": "execute_result"
    }
   ],
   "source": [
    "# search for 'man' or 'woman'\n",
    "\n",
    "re.search(r\"man|woman\", \"This man was going to the beach.\")"
   ]
  },
  {
   "cell_type": "code",
   "execution_count": 421,
   "id": "together-residence",
   "metadata": {},
   "outputs": [
    {
     "data": {
      "text/plain": [
       "<re.Match object; span=(25, 30), match='woman'>"
      ]
     },
     "execution_count": 421,
     "metadata": {},
     "output_type": "execute_result"
    }
   ],
   "source": [
    "re.search(r\"man|woman\", \"Your Highness Kelly is a woman of pride and respect.\")"
   ]
  },
  {
   "cell_type": "code",
   "execution_count": 422,
   "id": "legitimate-imagination",
   "metadata": {},
   "outputs": [
    {
     "data": {
      "text/plain": [
       "<re.Match object; span=(6, 9), match='man'>"
      ]
     },
     "execution_count": 422,
     "metadata": {},
     "output_type": "execute_result"
    }
   ],
   "source": [
    "# it will match and return the first occurence only\n",
    "\n",
    "re.search(r\"man|woman\", \"Every man and woman in the town shall obey the orders.\")"
   ]
  },
  {
   "cell_type": "markdown",
   "id": "reduced-tissue",
   "metadata": {},
   "source": [
    "#### 2. Wildcard character\n",
    "\n",
    "Use a \"wildcard\" as a placement that will match any character placed there. You can use a simple period `.` for this. For example :"
   ]
  },
  {
   "cell_type": "code",
   "execution_count": 456,
   "id": "available-vegetarian",
   "metadata": {},
   "outputs": [
    {
     "data": {
      "text/plain": [
       "['at', 'at', 'at']"
      ]
     },
     "execution_count": 456,
     "metadata": {},
     "output_type": "execute_result"
    }
   ],
   "source": [
    "re.findall(r\"at\", \"The cat in the hat sat there.\")"
   ]
  },
  {
   "cell_type": "code",
   "execution_count": 455,
   "id": "proud-brisbane",
   "metadata": {},
   "outputs": [
    {
     "data": {
      "text/plain": [
       "['cat', 'hat', 'sat']"
      ]
     },
     "execution_count": 455,
     "metadata": {},
     "output_type": "execute_result"
    }
   ],
   "source": [
    "re.findall(r\".at\", \"The cat in the hat sat there.\")"
   ]
  },
  {
   "cell_type": "code",
   "execution_count": 425,
   "id": "fiscal-medium",
   "metadata": {},
   "outputs": [
    {
     "data": {
      "text/plain": [
       "['Bat', 'lat', 'bat']"
      ]
     },
     "execution_count": 425,
     "metadata": {},
     "output_type": "execute_result"
    }
   ],
   "source": [
    "re.findall(r\".at\", \"The Batman splats a sound which alerted all bats.\")"
   ]
  },
  {
   "cell_type": "markdown",
   "id": "confident-fleet",
   "metadata": {},
   "source": [
    "Notice how we only matched the first 3 letters, that is because we need a `.` for each wildcard letter. Or, use the quantifiers described above to set its own rules."
   ]
  },
  {
   "cell_type": "code",
   "execution_count": 426,
   "id": "outstanding-spice",
   "metadata": {},
   "outputs": [
    {
     "data": {
      "text/plain": [
       "['e Bat', 'splat', 'l bat']"
      ]
     },
     "execution_count": 426,
     "metadata": {},
     "output_type": "execute_result"
    }
   ],
   "source": [
    "re.findall(r\"...at\",\"The Batman splats a sound which alerted all bats.\")"
   ]
  },
  {
   "cell_type": "markdown",
   "id": "flush-overview",
   "metadata": {},
   "source": [
    "However this still leads the problem to grabbing more beforehand. Really we only want words that end with \"at\""
   ]
  },
  {
   "cell_type": "code",
   "execution_count": 427,
   "id": "blocked-salvation",
   "metadata": {},
   "outputs": [
    {
     "data": {
      "text/plain": [
       "['Bat', 'splat', 'bat']"
      ]
     },
     "execution_count": 427,
     "metadata": {},
     "output_type": "execute_result"
    }
   ],
   "source": [
    "# oen or more non-whitespace that ends with 'at'\n",
    "\n",
    "re.findall(r'\\S+at', \"The Batman splats a sound which alerted all bats.\")"
   ]
  },
  {
   "cell_type": "markdown",
   "id": "alpha-person",
   "metadata": {},
   "source": [
    "#### 3. Starts with and Ends with\n",
    "\n",
    "We can use the `^` to signal starts with, and the `$` to signal ends with :"
   ]
  },
  {
   "cell_type": "code",
   "execution_count": 430,
   "id": "automated-assets",
   "metadata": {},
   "outputs": [
    {
     "data": {
      "text/plain": [
       "['9']"
      ]
     },
     "execution_count": 430,
     "metadata": {},
     "output_type": "execute_result"
    }
   ],
   "source": [
    "# ends with a number\n",
    "\n",
    "re.findall(r'\\d$', \"My account number is XCVB-5279\")"
   ]
  },
  {
   "cell_type": "code",
   "execution_count": 431,
   "id": "acceptable-disaster",
   "metadata": {},
   "outputs": [
    {
     "data": {
      "text/plain": [
       "['2']"
      ]
     },
     "execution_count": 431,
     "metadata": {},
     "output_type": "execute_result"
    }
   ],
   "source": [
    "# starts with a number\n",
    "\n",
    "re.findall(r'^\\d', \"2 is the first prime number\")"
   ]
  },
  {
   "cell_type": "markdown",
   "id": "dated-familiar",
   "metadata": {},
   "source": [
    "Note that this is for the entire string, not individual words!<br>See below line as example :"
   ]
  },
  {
   "cell_type": "code",
   "execution_count": 457,
   "id": "recognized-atlas",
   "metadata": {},
   "outputs": [
    {
     "data": {
      "text/plain": [
       "[]"
      ]
     },
     "execution_count": 457,
     "metadata": {},
     "output_type": "execute_result"
    }
   ],
   "source": [
    "re.findall(r'^\\d', 'the 3.14 is pi')"
   ]
  },
  {
   "cell_type": "code",
   "execution_count": 439,
   "id": "labeled-hundred",
   "metadata": {},
   "outputs": [
    {
     "data": {
      "text/plain": [
       "['6']"
      ]
     },
     "execution_count": 439,
     "metadata": {},
     "output_type": "execute_result"
    }
   ],
   "source": [
    "re.findall(r'^\\d', \"698798\")"
   ]
  },
  {
   "cell_type": "markdown",
   "id": "silent-termination",
   "metadata": {},
   "source": [
    "#### 4. Exclusion\n",
    "\n",
    "To exclude characters, we can use the `^` symbol in conjunction with a set of brackets `[]`. Anything inside the brackets is excluded. For example :"
   ]
  },
  {
   "cell_type": "code",
   "execution_count": 440,
   "id": "charged-riverside",
   "metadata": {},
   "outputs": [],
   "source": [
    "phrase = 'there are 3 numbeers 34 inside 5 this sentence.'"
   ]
  },
  {
   "cell_type": "code",
   "execution_count": 458,
   "id": "honey-narrow",
   "metadata": {},
   "outputs": [
    {
     "data": {
      "text/plain": [
       "['T',\n",
       " 'h',\n",
       " 'i',\n",
       " 's',\n",
       " ' ',\n",
       " 'i',\n",
       " 's',\n",
       " ' ',\n",
       " 'a',\n",
       " ' ',\n",
       " 's',\n",
       " 't',\n",
       " 'r',\n",
       " 'i',\n",
       " 'n',\n",
       " 'g',\n",
       " '!',\n",
       " ' ',\n",
       " 'B',\n",
       " 'u',\n",
       " 't',\n",
       " ' ',\n",
       " 'i',\n",
       " 't',\n",
       " ' ',\n",
       " 'h',\n",
       " 'a',\n",
       " 's',\n",
       " ' ',\n",
       " 'p',\n",
       " 'u',\n",
       " 'n',\n",
       " 'c',\n",
       " 't',\n",
       " 'u',\n",
       " 'a',\n",
       " 't',\n",
       " 'i',\n",
       " 'o',\n",
       " 'n',\n",
       " '.',\n",
       " ' ',\n",
       " 'H',\n",
       " 'o',\n",
       " 'w',\n",
       " ' ',\n",
       " 'c',\n",
       " 'a',\n",
       " 'n',\n",
       " ' ',\n",
       " 'w',\n",
       " 'e',\n",
       " ' ',\n",
       " 'r',\n",
       " 'e',\n",
       " 'm',\n",
       " 'o',\n",
       " 'v',\n",
       " 'e',\n",
       " ' ',\n",
       " 'i',\n",
       " 't',\n",
       " '?']"
      ]
     },
     "execution_count": 458,
     "metadata": {},
     "output_type": "execute_result"
    }
   ],
   "source": [
    "re.findall(r'[^\\d]', phrase)      # exclude any digits in 'phrase'"
   ]
  },
  {
   "cell_type": "markdown",
   "id": "specific-credits",
   "metadata": {},
   "source": [
    "To get the words back together, use a `+` sign."
   ]
  },
  {
   "cell_type": "code",
   "execution_count": 442,
   "id": "suburban-generic",
   "metadata": {},
   "outputs": [
    {
     "data": {
      "text/plain": [
       "['there are ', ' numbeers ', ' inside ', ' this sentence.']"
      ]
     },
     "execution_count": 442,
     "metadata": {},
     "output_type": "execute_result"
    }
   ],
   "source": [
    "re.findall(r'[^\\d]+', phrase)"
   ]
  },
  {
   "cell_type": "markdown",
   "id": "divine-valuation",
   "metadata": {},
   "source": [
    "> **Tip:** [Exclusions](#4.-Exclusion) can be useful to remove punctuation from a sentence."
   ]
  },
  {
   "cell_type": "code",
   "execution_count": 443,
   "id": "protecting-sleeping",
   "metadata": {},
   "outputs": [],
   "source": [
    "phrase = 'This is a string! But it has punctuation. How can we remove it?'"
   ]
  },
  {
   "cell_type": "code",
   "execution_count": 444,
   "id": "spiritual-merchandise",
   "metadata": {},
   "outputs": [
    {
     "data": {
      "text/plain": [
       "['This',\n",
       " 'is',\n",
       " 'a',\n",
       " 'string',\n",
       " 'But',\n",
       " 'it',\n",
       " 'has',\n",
       " 'punctuation',\n",
       " 'How',\n",
       " 'can',\n",
       " 'we',\n",
       " 'remove',\n",
       " 'it']"
      ]
     },
     "execution_count": 444,
     "metadata": {},
     "output_type": "execute_result"
    }
   ],
   "source": [
    "re.findall('[^!.? ]+', phrase)"
   ]
  },
  {
   "cell_type": "code",
   "execution_count": 445,
   "id": "textile-samuel",
   "metadata": {},
   "outputs": [
    {
     "data": {
      "text/plain": [
       "'This is a string But it has punctuation How can we remove it'"
      ]
     },
     "execution_count": 445,
     "metadata": {},
     "output_type": "execute_result"
    }
   ],
   "source": [
    "clean = ' '.join(re.findall('[^!.? ]+', phrase))\n",
    "\n",
    "clean"
   ]
  },
  {
   "cell_type": "markdown",
   "id": "solid-guidance",
   "metadata": {},
   "source": [
    "#### 5. Brackets for Grouping\n",
    "\n",
    "As we showed above we can use brackets `[]` to group together options, for example if we wanted to find hyphenated words :"
   ]
  },
  {
   "cell_type": "code",
   "execution_count": 446,
   "id": "expensive-carbon",
   "metadata": {},
   "outputs": [],
   "source": [
    "text = '''Only find the hypen-words in this sentence.\n",
    "But you do not know how long-ish they are'''"
   ]
  },
  {
   "cell_type": "code",
   "execution_count": 447,
   "id": "varying-guard",
   "metadata": {},
   "outputs": [
    {
     "data": {
      "text/plain": [
       "['hypen-words', 'long-ish']"
      ]
     },
     "execution_count": 447,
     "metadata": {},
     "output_type": "execute_result"
    }
   ],
   "source": [
    "re.findall(r'[\\w]+-[\\w]+', text)"
   ]
  },
  {
   "cell_type": "markdown",
   "id": "clean-representation",
   "metadata": {},
   "source": [
    "#### 6. Parenthesis for Multiple Options\n",
    "\n",
    "If we have multiple options for matching, we can use parenthesis to list out these options.<br>For example :"
   ]
  },
  {
   "cell_type": "code",
   "execution_count": 448,
   "id": "unknown-detective",
   "metadata": {},
   "outputs": [],
   "source": [
    "# Find words that start with 'cat' and end with one of these options: 'fish','nap', or 'claw'\n",
    "textOne = \"Hello, would you like some catfish?\"\n",
    "textTwo = \"Hello, would you like to take a catnap?\"\n",
    "textThree = \"Hello, have you seen this caterpillar?\""
   ]
  },
  {
   "cell_type": "code",
   "execution_count": 450,
   "id": "swedish-symbol",
   "metadata": {},
   "outputs": [
    {
     "data": {
      "text/plain": [
       "<re.Match object; span=(27, 34), match='catfish'>"
      ]
     },
     "execution_count": 450,
     "metadata": {},
     "output_type": "execute_result"
    }
   ],
   "source": [
    "re.search(r'cat(fish|nap|claw)', textOne)"
   ]
  },
  {
   "cell_type": "code",
   "execution_count": 451,
   "id": "bigger-environment",
   "metadata": {},
   "outputs": [
    {
     "data": {
      "text/plain": [
       "<re.Match object; span=(32, 38), match='catnap'>"
      ]
     },
     "execution_count": 451,
     "metadata": {},
     "output_type": "execute_result"
    }
   ],
   "source": [
    "re.search(r'cat(fish|nap|claw)', textTwo)"
   ]
  },
  {
   "cell_type": "code",
   "execution_count": 452,
   "id": "consecutive-mission",
   "metadata": {},
   "outputs": [],
   "source": [
    "re.search(r'cat(fish|nap|claw)', textThree)        # None is returned"
   ]
  },
  {
   "cell_type": "code",
   "execution_count": 459,
   "id": "structured-aaron",
   "metadata": {},
   "outputs": [
    {
     "data": {
      "text/plain": [
       "<re.Match object; span=(26, 37), match='caterpillar'>"
      ]
     },
     "execution_count": 459,
     "metadata": {},
     "output_type": "execute_result"
    }
   ],
   "source": [
    "re.search(r'cat(fish|nap|erpillar)', textThree)"
   ]
  },
  {
   "cell_type": "markdown",
   "id": "collaborative-government",
   "metadata": {},
   "source": [
    "<br>\n",
    "_____________________________________________________________________\n",
    "\n",
    "# Timing your code\n",
    "Sometimes it's important to know how long your code is taking to run, or at least know if a particular line of code is slowing down your entire project. Python has a built-in timing module to do this.\n",
    "\n",
    "### Example Function or Script\n",
    "\n",
    "Here we have two functions that do the same thing, but in different ways. How can we tell which one is more efficient ? Let's time it!"
   ]
  },
  {
   "cell_type": "code",
   "execution_count": 460,
   "id": "satisfactory-content",
   "metadata": {},
   "outputs": [],
   "source": [
    "def func_one(n):\n",
    "    '''\n",
    "    Given a number n, returns a list of string integers\n",
    "    ['0','1','2',...'n']\n",
    "    '''\n",
    "    return [str(num) for num in range(n)]"
   ]
  },
  {
   "cell_type": "code",
   "execution_count": 461,
   "id": "therapeutic-commonwealth",
   "metadata": {},
   "outputs": [
    {
     "data": {
      "text/plain": [
       "['0', '1', '2', '3', '4', '5', '6', '7', '8', '9']"
      ]
     },
     "execution_count": 461,
     "metadata": {},
     "output_type": "execute_result"
    }
   ],
   "source": [
    "func_one(10)"
   ]
  },
  {
   "cell_type": "code",
   "execution_count": 462,
   "id": "instrumental-producer",
   "metadata": {},
   "outputs": [],
   "source": [
    "def func_two(n):\n",
    "    '''\n",
    "    Given a number n, returns a list of string integers\n",
    "    ['0','1','2',...'n']\n",
    "    '''\n",
    "    return list(map(str,range(n)))"
   ]
  },
  {
   "cell_type": "code",
   "execution_count": 463,
   "id": "hindu-decline",
   "metadata": {},
   "outputs": [
    {
     "data": {
      "text/plain": [
       "['0', '1', '2', '3', '4', '5', '6', '7', '8', '9']"
      ]
     },
     "execution_count": 463,
     "metadata": {},
     "output_type": "execute_result"
    }
   ],
   "source": [
    "func_two(10)"
   ]
  },
  {
   "cell_type": "markdown",
   "id": "interim-prompt",
   "metadata": {},
   "source": [
    "### Timing Start and Stop\n",
    "We can try using the `time` module to simply calculate the elapsed time for the code. Keep in mind, due to the time module's precision, the code needs to take at least 0.1 seconds to complete."
   ]
  },
  {
   "cell_type": "code",
   "execution_count": 464,
   "id": "blessed-shift",
   "metadata": {},
   "outputs": [],
   "source": [
    "import time"
   ]
  },
  {
   "cell_type": "code",
   "execution_count": 465,
   "id": "moral-queen",
   "metadata": {},
   "outputs": [
    {
     "data": {
      "text/plain": [
       "0.22466802597045898"
      ]
     },
     "execution_count": 465,
     "metadata": {},
     "output_type": "execute_result"
    }
   ],
   "source": [
    "# STEP 1: get start time\n",
    "start_time = time.time()\n",
    "\n",
    "# STEP 2: run your code you want to time\n",
    "result = func_one(1000000)\n",
    "\n",
    "#STEP 3: calculate total time elapsed\n",
    "end_time = time.time() - start_time\n",
    "\n",
    "end_time"
   ]
  },
  {
   "cell_type": "markdown",
   "id": "scientific-lindsay",
   "metadata": {},
   "source": [
    "### Timeit module\n",
    "\n",
    "What if we have two blocks of code that are quite fast, the difference from the `time.time()` method may not be enough to tell which is fater. In this case, we can use the `timeit` module.\n",
    "\n",
    "The `timeit` module takes in two strings, a statement (stmt) and a setup. It then runs the setup code and runs the stmt code some `n` number of times and reports back average length of time it took."
   ]
  },
  {
   "cell_type": "code",
   "execution_count": 466,
   "id": "determined-romania",
   "metadata": {},
   "outputs": [],
   "source": [
    "import timeit"
   ]
  },
  {
   "cell_type": "markdown",
   "id": "ecological-bridges",
   "metadata": {},
   "source": [
    "The setup (anything that needs to be defined beforehand, such as def functions.)"
   ]
  },
  {
   "cell_type": "code",
   "execution_count": 468,
   "id": "sustained-selection",
   "metadata": {},
   "outputs": [],
   "source": [
    "setup = '''\n",
    "def func_one(n):\n",
    "    return [str(num) for num in range(n)]\n",
    "'''"
   ]
  },
  {
   "cell_type": "code",
   "execution_count": 469,
   "id": "durable-copper",
   "metadata": {},
   "outputs": [],
   "source": [
    "stmt = 'func_one(100)'"
   ]
  },
  {
   "cell_type": "code",
   "execution_count": 470,
   "id": "quantitative-praise",
   "metadata": {},
   "outputs": [
    {
     "data": {
      "text/plain": [
       "1.7208647910156287"
      ]
     },
     "execution_count": 470,
     "metadata": {},
     "output_type": "execute_result"
    }
   ],
   "source": [
    "timeit.timeit(stmt, setup, number=100000)"
   ]
  },
  {
   "cell_type": "markdown",
   "id": "criminal-machinery",
   "metadata": {},
   "source": [
    "Now let try running func_two 100,000 times and compare the length of time it took."
   ]
  },
  {
   "cell_type": "code",
   "execution_count": 471,
   "id": "approximate-circumstances",
   "metadata": {},
   "outputs": [],
   "source": [
    "setup2 = '''\n",
    "def func_two(n):\n",
    "    return list(map(str,range(n)))\n",
    "'''"
   ]
  },
  {
   "cell_type": "code",
   "execution_count": 472,
   "id": "interstate-notification",
   "metadata": {},
   "outputs": [],
   "source": [
    "stmt2 = 'func_two(100)'"
   ]
  },
  {
   "cell_type": "code",
   "execution_count": 473,
   "id": "listed-necklace",
   "metadata": {},
   "outputs": [
    {
     "data": {
      "text/plain": [
       "1.3566677809867542"
      ]
     },
     "execution_count": 473,
     "metadata": {},
     "output_type": "execute_result"
    }
   ],
   "source": [
    "timeit.timeit(stmt2, setup2, number=100000)"
   ]
  },
  {
   "cell_type": "markdown",
   "id": "aboriginal-consistency",
   "metadata": {},
   "source": [
    "It looks like func_two is more efficient. You can specify more number of runs if you want to clarify the different for fast performing functions."
   ]
  },
  {
   "cell_type": "code",
   "execution_count": 474,
   "id": "affecting-calcium",
   "metadata": {},
   "outputs": [
    {
     "data": {
      "text/plain": [
       "16.38055953499861"
      ]
     },
     "execution_count": 474,
     "metadata": {},
     "output_type": "execute_result"
    }
   ],
   "source": [
    "timeit.timeit(stmt,setup,number=1000000)"
   ]
  },
  {
   "cell_type": "code",
   "execution_count": 475,
   "id": "level-tomorrow",
   "metadata": {},
   "outputs": [
    {
     "data": {
      "text/plain": [
       "12.934618312981911"
      ]
     },
     "execution_count": 475,
     "metadata": {},
     "output_type": "execute_result"
    }
   ],
   "source": [
    "timeit.timeit(stmt2, setup2, number=1000000)"
   ]
  },
  {
   "cell_type": "markdown",
   "id": "established-growing",
   "metadata": {},
   "source": [
    "<br>\n",
    "\n",
    "### Timing your code with Jupyter 'magic' method\n",
    "\n",
    "**NOTE:** This method is ONLY available in Jupyter and the magic command needs to be at the top of the cell with nothing above it (not even commented code)"
   ]
  },
  {
   "cell_type": "code",
   "execution_count": 476,
   "id": "vertical-arrival",
   "metadata": {},
   "outputs": [
    {
     "name": "stdout",
     "output_type": "stream",
     "text": [
      "17.6 µs ± 1.16 µs per loop (mean ± std. dev. of 7 runs, 10000 loops each)\n"
     ]
    }
   ],
   "source": [
    "%%timeit\n",
    "func_one(100)"
   ]
  },
  {
   "cell_type": "code",
   "execution_count": 477,
   "id": "recorded-metabolism",
   "metadata": {},
   "outputs": [
    {
     "name": "stdout",
     "output_type": "stream",
     "text": [
      "12.6 µs ± 267 ns per loop (mean ± std. dev. of 7 runs, 100000 loops each)\n"
     ]
    }
   ],
   "source": [
    "%%timeit\n",
    "func_two(100)"
   ]
  },
  {
   "cell_type": "markdown",
   "id": "suburban-exhibition",
   "metadata": {},
   "source": [
    "Hence it shows that func_two is indeed faster than func_one."
   ]
  },
  {
   "cell_type": "markdown",
   "id": "headed-novelty",
   "metadata": {},
   "source": [
    "<br>\n",
    "___________________________________________________________________________________________________________\n",
    "\n",
    "# Unzipping and Zipping files\n",
    "\n",
    "As you are probably aware, files can be compressed to a zip format. Often people use special programs on their computer to unzip these files, luckily for us, Python can do the same task with just a few simple lines of code.\n",
    "\n",
    "### Create files to Compress"
   ]
  },
  {
   "cell_type": "code",
   "execution_count": 478,
   "id": "representative-creek",
   "metadata": {},
   "outputs": [],
   "source": [
    "# slashes may need to change for MacOS or Linux\n",
    "\n",
    "f = open(\"new_file.txt\",'w+')\n",
    "f.write(\"Here is some text.\")\n",
    "f.close()\n",
    "\n",
    "# slashes may need to change for MacOS or Linux\n",
    "f = open(\"new_file2.txt\",'w+')\n",
    "f.write(\"Here is some text in file-2.\")\n",
    "f.close()"
   ]
  },
  {
   "cell_type": "markdown",
   "id": "familiar-journalism",
   "metadata": {},
   "source": [
    "### Zipping Files\n",
    "\n",
    "The [zipfile library](https://docs.python.org/3/library/zipfile.html) is built in to Python, we can use it to compress folders or files. To compress all files in a folder, just use the `os.walk()` method to iterate this process for all the files in a directory."
   ]
  },
  {
   "cell_type": "code",
   "execution_count": 479,
   "id": "greater-dakota",
   "metadata": {},
   "outputs": [],
   "source": [
    "import zipfile"
   ]
  },
  {
   "cell_type": "markdown",
   "id": "technological-prince",
   "metadata": {},
   "source": [
    "Create Zip file first , then write to it (the write step compresses the files.)"
   ]
  },
  {
   "cell_type": "code",
   "execution_count": 481,
   "id": "operational-cursor",
   "metadata": {},
   "outputs": [],
   "source": [
    "exampleZip = zipfile.ZipFile('exampleZip.zip', 'w')"
   ]
  },
  {
   "cell_type": "code",
   "execution_count": 482,
   "id": "nominated-collar",
   "metadata": {},
   "outputs": [],
   "source": [
    "exampleZip.write('new_file.txt', compress_type=zipfile.ZIP_DEFLATED)\n",
    "exampleZip.write('new_file2.txt', compress_type=zipfile.ZIP_DEFLATED)"
   ]
  },
  {
   "cell_type": "markdown",
   "id": "stunning-vertical",
   "metadata": {},
   "source": [
    "Remember to close the zip file after using it."
   ]
  },
  {
   "cell_type": "code",
   "execution_count": 483,
   "id": "manual-routine",
   "metadata": {},
   "outputs": [],
   "source": [
    "exampleZip.close()"
   ]
  },
  {
   "cell_type": "markdown",
   "id": "european-gazette",
   "metadata": {},
   "source": [
    "### Extracting from Zip files\n",
    "\n",
    "We can easily extract files with either the `extractall()` method to get all the files, or just using the `extract()` method to only grab individual files."
   ]
  },
  {
   "cell_type": "code",
   "execution_count": 488,
   "id": "fatty-acting",
   "metadata": {},
   "outputs": [],
   "source": [
    "zipObj = zipfile.ZipFile('exampleZip.zip', 'r')"
   ]
  },
  {
   "cell_type": "code",
   "execution_count": 489,
   "id": "short-emperor",
   "metadata": {},
   "outputs": [],
   "source": [
    "zipObj.extractall('extract-exampleZip')       # extract all contents"
   ]
  },
  {
   "cell_type": "code",
   "execution_count": 491,
   "id": "experienced-happiness",
   "metadata": {},
   "outputs": [
    {
     "data": {
      "text/plain": [
       "'/Users/barmanr/Documents/myself/Python3-material/12-Advanced-Python-Module/new_file.txt'"
      ]
     },
     "execution_count": 491,
     "metadata": {},
     "output_type": "execute_result"
    }
   ],
   "source": [
    "zipObj.extract('new_file.txt')                  # extract only the new_file.txt file"
   ]
  },
  {
   "cell_type": "markdown",
   "id": "trained-figure",
   "metadata": {},
   "source": [
    "## Using `shutil` library\n",
    "\n",
    "Often you don't want to extract or archive individual files from a .zip, but instead archive everything at once. The `shutil` library that is built in to python has easy to use commands for this :"
   ]
  },
  {
   "cell_type": "code",
   "execution_count": 513,
   "id": "varying-printing",
   "metadata": {},
   "outputs": [],
   "source": [
    "import shutil"
   ]
  },
  {
   "cell_type": "markdown",
   "id": "growing-rainbow",
   "metadata": {},
   "source": [
    "The shutil library can accept a format parameter, format is the archive format: one of \"zip\", \"tar\", \"gztar\", \"bztar\", or \"xztar\"."
   ]
  },
  {
   "cell_type": "code",
   "execution_count": 516,
   "id": "binary-package",
   "metadata": {},
   "outputs": [],
   "source": [
    "directory_to_zip = '''/Users/barmanr/Documents/myself/Python3-material/12-Advanced-Python-Module/extract-exampleZip'''"
   ]
  },
  {
   "cell_type": "code",
   "execution_count": 517,
   "id": "cardiac-sponsorship",
   "metadata": {},
   "outputs": [
    {
     "data": {
      "text/plain": [
       "'/Users/barmanr/Documents/myself/Python3-material/12-Advanced-Python-Module/exampleShutil.zip'"
      ]
     },
     "execution_count": 517,
     "metadata": {},
     "output_type": "execute_result"
    }
   ],
   "source": [
    "# creating a zip archive\n",
    "output_filename = 'exampleShutil'\n",
    "\n",
    "# Just fill in the output_filename and the directory to zip\n",
    "# Note this won't run as is, because the variable are undefined\n",
    "shutil.make_archive(output_filename,'zip', directory_to_zip)"
   ]
  },
  {
   "cell_type": "code",
   "execution_count": 518,
   "id": "under-pilot",
   "metadata": {},
   "outputs": [],
   "source": [
    "# Extracting a zip archive\n",
    "\n",
    "# Notice how the arguement order is slightly different here\n",
    "shutil.unpack_archive('exampleShutil.zip', 'extract-exampleShutil', 'zip')"
   ]
  },
  {
   "cell_type": "code",
   "execution_count": 522,
   "id": "stainless-wildlife",
   "metadata": {},
   "outputs": [],
   "source": [
    "shutil.unpack_archive('exampleShutil.zip','extract-exampleShutil', 'zip')"
   ]
  },
  {
   "cell_type": "markdown",
   "id": "bridal-threat",
   "metadata": {},
   "source": [
    "______________________"
   ]
  },
  {
   "cell_type": "code",
   "execution_count": null,
   "id": "consolidated-sierra",
   "metadata": {},
   "outputs": [],
   "source": []
  }
 ],
 "metadata": {
  "kernelspec": {
   "display_name": "Python 3",
   "language": "python",
   "name": "python3"
  },
  "language_info": {
   "codemirror_mode": {
    "name": "ipython",
    "version": 3
   },
   "file_extension": ".py",
   "mimetype": "text/x-python",
   "name": "python",
   "nbconvert_exporter": "python",
   "pygments_lexer": "ipython3",
   "version": "3.7.8"
  }
 },
 "nbformat": 4,
 "nbformat_minor": 5
}
