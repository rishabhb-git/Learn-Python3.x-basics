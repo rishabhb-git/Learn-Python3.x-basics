{
 "cells": [
  {
   "cell_type": "markdown",
   "id": "adverse-builder",
   "metadata": {},
   "source": [
    "# Emailing with Python\n",
    "\n",
    "The `smtplib` library allows you to manually go through the steps of creating and sending an email in Python. This comes pre-packaged with Python3 recent versions, so you don't need to install seperately."
   ]
  },
  {
   "cell_type": "code",
   "execution_count": 2,
   "id": "twelve-beijing",
   "metadata": {},
   "outputs": [],
   "source": [
    "import smtplib"
   ]
  },
  {
   "cell_type": "markdown",
   "id": "latter-watch",
   "metadata": {},
   "source": [
    "Create an SMTP object for a server. Here are the main Server Domain Name for the top email services. If you don't see your email server here, you may need to do a quick Google Search to see if there SMTP server domain name is available :\n",
    "\n",
    "| Provider | SMTP server domain name |\n",
    "|:-----:|:-----:|\n",
    "| Gmail (will need App Password) | smtp.gmail.com |\n",
    "| Yahoo Mail | smtp.mail.yahoo.com |\n",
    "| Outlook.com/Hotmail.com | smtp-mail.outlook.com |\n",
    "| AT&T | smtp.mail.att.net (Use port 465) |\n",
    "| Verizon | smtp.verizon.net (Use port 465) |\n",
    "| Verizon | smtp.verizon.net (Use port 465) |\n",
    "| Comcast | smtp.comcast.net |\n",
    "\n",
    "<br>\n",
    "<br>\n",
    "Next is to create an STMP object that can make the method calls to log you in to your email in order to send messages. Notice how also specify a port number. If the number 587 does not work on your computer, try using 465 instead. Keep in mind, a firewall or antivirus may prevent Python from opening up this port, so you may need to disable it on your computer.<br><br>"
   ]
  },
  {
   "cell_type": "code",
   "execution_count": 12,
   "id": "quiet-kernel",
   "metadata": {},
   "outputs": [],
   "source": [
    "smtp_object = smtplib.SMTP('smtp.gmail.com',587)"
   ]
  },
  {
   "cell_type": "markdown",
   "id": "foster-restoration",
   "metadata": {},
   "source": [
    "Next we run the `ehlo()` command which \"greets\" the server and establishes the connection. **This method call should be done directly after creating the object.** Calling it after other methods may result in errors in connecting later on. The first item in the tuple that is returned should be **250**, indicating a successful connection."
   ]
  },
  {
   "cell_type": "code",
   "execution_count": 13,
   "id": "corrected-technique",
   "metadata": {},
   "outputs": [
    {
     "data": {
      "text/plain": [
       "(250,\n",
       " b'smtp.gmail.com at your service, [27.58.162.254]\\nSIZE 35882577\\n8BITMIME\\nSTARTTLS\\nENHANCEDSTATUSCODES\\nPIPELINING\\nCHUNKING\\nSMTPUTF8')"
      ]
     },
     "execution_count": 13,
     "metadata": {},
     "output_type": "execute_result"
    }
   ],
   "source": [
    "smtp_object.ehlo()"
   ]
  },
  {
   "cell_type": "markdown",
   "id": "ceramic-miller",
   "metadata": {},
   "source": [
    "When using the 587 port, this means you are using TLS encryption, which you need to initiate by running the `starttls()` command.\n",
    "\n",
    "If you are using port 465, this means you are using SSL and you can skip this step.\n"
   ]
  },
  {
   "cell_type": "code",
   "execution_count": 14,
   "id": "behavioral-butler",
   "metadata": {},
   "outputs": [
    {
     "data": {
      "text/plain": [
       "(220, b'2.0.0 Ready to start TLS')"
      ]
     },
     "execution_count": 14,
     "metadata": {},
     "output_type": "execute_result"
    }
   ],
   "source": [
    "smtp_object.starttls()"
   ]
  },
  {
   "cell_type": "markdown",
   "id": "other-collector",
   "metadata": {},
   "source": [
    "****\n",
    "Now its time to set up the email and the passwords.\n",
    "\n",
    "You should never save the raw string of your password or email in a script, because anyone that sees this script will then be able to see you email and password!<br>Instead you should use `input()` to get that information. If you also don't want your password to be visible when typing it in, you can use the built-in `getpass` library that will hide your password as you type it in, either with asterisks or by just keeping it invisible."
   ]
  },
  {
   "cell_type": "code",
   "execution_count": 6,
   "id": "balanced-creation",
   "metadata": {},
   "outputs": [],
   "source": [
    "# For hidden passwords\n",
    "import getpass"
   ]
  },
  {
   "cell_type": "code",
   "execution_count": 8,
   "id": "dangerous-rally",
   "metadata": {},
   "outputs": [
    {
     "name": "stdout",
     "output_type": "stream",
     "text": [
      "Type something here and it will be hidden: ········\n"
     ]
    }
   ],
   "source": [
    "result = getpass.getpass(\"Type something here and it will be hidden: \")"
   ]
  },
  {
   "cell_type": "code",
   "execution_count": 10,
   "id": "complicated-conducting",
   "metadata": {},
   "outputs": [
    {
     "data": {
      "text/plain": [
       "'hello'"
      ]
     },
     "execution_count": 10,
     "metadata": {},
     "output_type": "execute_result"
    }
   ],
   "source": [
    "# Just keep in mind that its still visible as an object internally :\n",
    "\n",
    "result"
   ]
  },
  {
   "cell_type": "markdown",
   "id": "violent-purchase",
   "metadata": {},
   "source": [
    "****\n",
    "\n",
    "Note for Gmail Users -><br>You need to generate an app password instead of your normal email password. This also requires enabling **2-step authentication**. Follow the instructions to set-up 2-Step Factor Authentication as well as App Password Generation, here : https://support.google.com/accounts/answer/185833?hl=en/.\n",
    "\n",
    "Set-up 2 Factor Authentication, then create the App Password. Choose Mail as the App and give it any name you want. This will output a 16 letter password for you. Pass in this password as your login password for the smtp."
   ]
  },
  {
   "cell_type": "code",
   "execution_count": null,
   "id": "honey-connection",
   "metadata": {},
   "outputs": [],
   "source": [
    "email = getpass.getpass(\"Enter your email: \")\n",
    "password = getpass.getpass(\"Enter your password: \")\n",
    "smtp_object.login(email, password)"
   ]
  },
  {
   "cell_type": "markdown",
   "id": "elder-nickel",
   "metadata": {},
   "source": [
    "Now we can send an email using the `.sendmail()` method.<br><br>"
   ]
  },
  {
   "cell_type": "code",
   "execution_count": null,
   "id": "boxed-costs",
   "metadata": {},
   "outputs": [],
   "source": [
    "from_address = getpass.getpass(\"Enter your email: \")\n",
    "to_address = getpass.getpass(\"Enter the email of the recipient: \")\n",
    "\n",
    "subject = input(\"Enter the subject line: \")\n",
    "message = input(\"Type out the message you want to send: \")\n",
    "msg = \"Subject: \" + subject + '\\n' + message\n",
    "\n",
    "smtp_object.sendmail(from_address, to_address, msg)"
   ]
  },
  {
   "cell_type": "markdown",
   "id": "educated-watson",
   "metadata": {},
   "source": [
    "<br><br>If you get back an empty dictionary, then the sending was successful.\n",
    "\n",
    "You can then close your session with the `.quit()` method."
   ]
  },
  {
   "cell_type": "code",
   "execution_count": 15,
   "id": "exciting-equipment",
   "metadata": {},
   "outputs": [
    {
     "data": {
      "text/plain": [
       "(221, b'2.0.0 closing connection m2sm2844369pgd.70 - gsmtp')"
      ]
     },
     "execution_count": 15,
     "metadata": {},
     "output_type": "execute_result"
    }
   ],
   "source": [
    "smtp_object.quit()\n",
    "\n"
   ]
  },
  {
   "cell_type": "markdown",
   "id": "complete-reaction",
   "metadata": {},
   "source": [
    "<br>\n",
    "________________________________________________________________________________________________________\n",
    "\n",
    "# Overview of Received Mails\n",
    "\n",
    "Now that we understand how to send emails progammatically with Python, let's explore how we can read and search recieved emails.\n",
    "\n",
    "To do we will use the built-in `imaplib` library. We will also use the built-in `email` library for parsing through the recieved emails."
   ]
  },
  {
   "cell_type": "code",
   "execution_count": 20,
   "id": "intellectual-ticket",
   "metadata": {},
   "outputs": [],
   "source": [
    "import imaplib"
   ]
  },
  {
   "cell_type": "markdown",
   "id": "extreme-queen",
   "metadata": {},
   "source": [
    "Now, create an instance of imap :"
   ]
  },
  {
   "cell_type": "code",
   "execution_count": 21,
   "id": "victorian-model",
   "metadata": {},
   "outputs": [],
   "source": [
    "# imap server for gmail is 'imap.gmail.com'\n",
    "\n",
    "M = imaplib.IMAP4_SSL('imap.gmail.com')"
   ]
  },
  {
   "cell_type": "code",
   "execution_count": 22,
   "id": "considerable-annual",
   "metadata": {},
   "outputs": [],
   "source": [
    "import getpass"
   ]
  },
  {
   "cell_type": "code",
   "execution_count": 23,
   "id": "standing-union",
   "metadata": {},
   "outputs": [
    {
     "name": "stdout",
     "output_type": "stream",
     "text": [
      "Email: ········\n",
      "Password: ········\n"
     ]
    }
   ],
   "source": [
    "# give your email and the app-password.\n",
    "\n",
    "email = getpass.getpass('Email: ')\n",
    "password = getpass.getpass('Password: ')"
   ]
  },
  {
   "cell_type": "code",
   "execution_count": null,
   "id": "negative-links",
   "metadata": {},
   "outputs": [],
   "source": [
    "# login to your imap server.\n",
    "# When login is a success, it'll display a sucess message too. \n",
    "\n",
    "M.login(email, password)"
   ]
  },
  {
   "cell_type": "code",
   "execution_count": null,
   "id": "willing-annual",
   "metadata": {},
   "outputs": [],
   "source": [
    "M.list()"
   ]
  },
  {
   "cell_type": "code",
   "execution_count": null,
   "id": "ancient-sister",
   "metadata": {},
   "outputs": [],
   "source": [
    "M.select(\"inbox\")"
   ]
  },
  {
   "cell_type": "markdown",
   "id": "neither-winter",
   "metadata": {},
   "source": [
    "`M.list()` -> this will display the list of functionalities/options/flags provided by that mail provider. These options can be Inbox, Sent, Spams, Trash, Drafts, Folders, etc.\n",
    "\n",
    "`M.select(\"inbox\")` -> this will select out the 'inbox' from all the providers/options available. Post execution it will display \"OK\" with some sort-of connection number.\n",
    "\n",
    "*****\n",
    "\n",
    "## Serching Mail\n",
    "\n",
    "Now that we have connected to our mail, we should be able to search for it using the specialized syntax of IMAP.\n",
    "\n",
    "Here are the different search keys you can use :\n",
    "\n",
    "| Keyword | Definition |\n",
    "| :----- | :----- |\n",
    "| 'ALL' | Returns all messages in your email folder. Often there are size limits from `imaplib`.<br>To change these use `imaplib._MAXLINE = 100`, where 100 is whatever you want the limit to be. |\n",
    "| 'BEFORE date' | Returns all messages before the date. Date must be formatted as 01-Nov-2004. |\n",
    "| 'ON date' | Returns all messages on the date. Date must be formatted as 01-Nov-2004. |\n",
    "| 'SINCE date' | Returns all messages after the date. Date must be formatted as 01-Nov-2004. |\n",
    "| 'FROM some_string' | Returns all from the sender in the string. String can be email, for example 'FROM user\\@example.com' or just a string that may appear in the email, \"FROM example\" |\n",
    "| 'TO some_string' | Return all outgoing email to the email in the string. String can be an email, for example 'FROM user\\@example.com' or just a string that may appear in the email, \"FROM example\" |\n",
    "| 'CC some_string' and/or 'BCC some_string' | Returns all messages in your email folder. Often there are size limits from `imaplib`.<br>To change these use `imaplib._MAXLINE = 100`, where 100 is whatever you want the limit to be. |\n",
    "| 'SUBJECT string','BODY string','TEXT \"string with spaces\"' | Returns all messages with the subject string or the string in the  body of the email. If the string you are searching for has spaces in it, wrap it in double quotes. |\n",
    "| 'SEEN','UNSEEN' | Returns all messages that have been seen or unseen. (Also known as read or unread) |\n",
    "| 'ANSWERED','UNANSWERED' | Returns all messages that have been replied to or unreplied to. |\n",
    "| 'DELETED','UNDELETED' | Returns all messages that have been deleted or that have not been deleted. |\n",
    "<br>\n",
    "\n",
    "You can also use the logical operators `AND` and `OR` to combine the above statements. Check out the full list of search keys here :<br> http://www.4d.com/docs/CMU/CMU88864.HTM\n",
    "\n",
    "Please note that some IMAP server providers for different email services will have slightly different syntax. You may need to experiment to get the results you want.\n",
    "\n",
    "Using this table, search your mail for any term/keyword that you may want to."
   ]
  },
  {
   "cell_type": "markdown",
   "id": "adverse-operation",
   "metadata": {},
   "source": [
    "<br>\n",
    "Send yourself a test email with a subject line.\n",
    "\n",
    "We will now need to reconnect to our imap server. You will probably need to restart your kernel for this step if you are using jupyter notebook."
   ]
  },
  {
   "cell_type": "code",
   "execution_count": null,
   "id": "combined-reset",
   "metadata": {},
   "outputs": [],
   "source": [
    "# Restart your kernel and run the following :\n",
    "\n",
    "import imaplib\n",
    "import getpass\n",
    "\n",
    "M = imaplib.IMAP4_SSL('imap.gmail.com')\n",
    "\n",
    "user = input(\"Enter your email: \")\n",
    "password = getpass.getpass(\"Enter your password: \")\n",
    "\n",
    "# login\n",
    "M.login(user,password)\n",
    "\n",
    "# Connect to your inbox\n",
    "M.select(\"inbox\")"
   ]
  },
  {
   "cell_type": "markdown",
   "id": "dying-appraisal",
   "metadata": {},
   "source": [
    "<br>Let's now search and confirm if it is there :"
   ]
  },
  {
   "cell_type": "code",
   "execution_count": null,
   "id": "planned-scholar",
   "metadata": {},
   "outputs": [],
   "source": [
    "typ, data = M.search(None,'SUBJECT \"this is a test email for python\"')      # searches by SUBJECT\n",
    "\n",
    "# typ, data = M.search(None, 'FROM user@example.com')      # find/display mails from user@example.com\n",
    "\n",
    "# typ, data = M.search(None,'BEFORE 01-Nov-205')           # find/display only those mails which are before 01-Nov-2021"
   ]
  },
  {
   "cell_type": "code",
   "execution_count": null,
   "id": "psychological-review",
   "metadata": {},
   "outputs": [],
   "source": [
    "email_id = data[0]"
   ]
  },
  {
   "cell_type": "code",
   "execution_count": null,
   "id": "fancy-transformation",
   "metadata": {},
   "outputs": [],
   "source": [
    "result, email_data = M.fetch(email_id, '(RFC822)')         # the 2nd parameter here i.e. '(RFC822)' is a protocol which must be passed in single quotes."
   ]
  },
  {
   "cell_type": "code",
   "execution_count": null,
   "id": "fabulous-republic",
   "metadata": {},
   "outputs": [],
   "source": [
    "email_data"
   ]
  },
  {
   "cell_type": "markdown",
   "id": "ancient-operator",
   "metadata": {},
   "source": [
    "Here you'll get the `email_data`, fetched from the `email_id`. It will be a sloppy bunch of data (it may be a tuple) with lots of info in it. To view the email body you can do like,"
   ]
  },
  {
   "cell_type": "code",
   "execution_count": null,
   "id": "initial-trader",
   "metadata": {},
   "outputs": [],
   "source": [
    "raw_email = email_data[0][1]\n",
    "\n",
    "raw_email_string = raw_email.decode('utf-8')"
   ]
  },
  {
   "cell_type": "markdown",
   "id": "present-thompson",
   "metadata": {},
   "source": [
    "`raw_email_string` should display the email body.\n",
    "\n",
    "****\n",
    "\n",
    "We can also use the built in `email` library to help parse this raw string."
   ]
  },
  {
   "cell_type": "code",
   "execution_count": 25,
   "id": "palestinian-trial",
   "metadata": {},
   "outputs": [],
   "source": [
    "import email         # email library helps grab the actual message from a string."
   ]
  },
  {
   "cell_type": "code",
   "execution_count": null,
   "id": "biblical-riverside",
   "metadata": {},
   "outputs": [],
   "source": [
    "email_message = email.message_from_string(raw_email_string)"
   ]
  },
  {
   "cell_type": "code",
   "execution_count": null,
   "id": "covered-official",
   "metadata": {},
   "outputs": [],
   "source": [
    "for part in email_message.walk():\n",
    "    if part.get_content_type() == \"text/plain\":\n",
    "        body = part.get_payload(decode=True)\n",
    "        print(body)"
   ]
  },
  {
   "cell_type": "markdown",
   "id": "bound-estimate",
   "metadata": {},
   "source": [
    "So, this piece-of-code shall display the email body or plain-text written in email. Voila! "
   ]
  }
 ],
 "metadata": {
  "kernelspec": {
   "display_name": "Python 3",
   "language": "python",
   "name": "python3"
  },
  "language_info": {
   "codemirror_mode": {
    "name": "ipython",
    "version": 3
   },
   "file_extension": ".py",
   "mimetype": "text/x-python",
   "name": "python",
   "nbconvert_exporter": "python",
   "pygments_lexer": "ipython3",
   "version": "3.7.8"
  }
 },
 "nbformat": 4,
 "nbformat_minor": 5
}
