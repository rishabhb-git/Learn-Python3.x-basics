{
 "cells": [
  {
   "cell_type": "markdown",
   "id": "f6e1e266",
   "metadata": {},
   "source": [
    "# `super()`\n",
    "\n",
    "`super` construct in Python points to the reference of immediate parent class.\n",
    "\n",
    "One usecase to use `super` is to run the \\_\\_init\\_\\_ of parent class, to perform certain initializations for the child class."
   ]
  },
  {
   "cell_type": "code",
   "execution_count": 2,
   "id": "a7438e69",
   "metadata": {},
   "outputs": [],
   "source": [
    "class SchoolMember:\n",
    "    def __init__(self, name):\n",
    "        self.name = name\n",
    "        \n",
    "\n",
    "class Student(SchoolMember):\n",
    "    def __init__(self, name, grades):\n",
    "        super().__init__(name)\n",
    "        self.grades = grades\n",
    "        \n",
    "        \n",
    "class Staff(SchoolMember):\n",
    "    def __init__(self, name, salary):\n",
    "        super().__init__(name)\n",
    "        self.salary = salary\n",
    "\n",
    "\n",
    "class Teacher(Staff):\n",
    "    def __init__(self, name, salary, subject):\n",
    "        super().__init__(name, salary)               ## Staff.__init__(self, name, salary)\n",
    "        self.subject = subject"
   ]
  },
  {
   "cell_type": "markdown",
   "id": "aedf6da8",
   "metadata": {},
   "source": [
    "<hr>\n",
    "\n",
    "# Concept of Private Variables & Methods\n",
    "\n",
    "A private instance variable is declared by prefixing double underscores ( \\_\\_ ) in the variable name. For eg, \\_\\_variableName"
   ]
  },
  {
   "cell_type": "code",
   "execution_count": 46,
   "id": "7c66d8b9",
   "metadata": {},
   "outputs": [],
   "source": [
    "class BankAccount:\n",
    "    def __init__(self, balance):\n",
    "        self.__balance = balance\n",
    "        \n",
    "    def deposit(self, amount):\n",
    "        self.__balance += amount\n",
    "        \n",
    "    def withdraw(self, amount):\n",
    "        self.__balance -= amount\n",
    "        \n",
    "    def show_balance(self):\n",
    "        return self.__balance"
   ]
  },
  {
   "cell_type": "code",
   "execution_count": 47,
   "id": "488d72ab",
   "metadata": {},
   "outputs": [],
   "source": [
    "b = BankAccount(2000)"
   ]
  },
  {
   "cell_type": "code",
   "execution_count": 48,
   "id": "38b15870",
   "metadata": {},
   "outputs": [
    {
     "ename": "AttributeError",
     "evalue": "'BankAccount' object has no attribute '__balance'",
     "output_type": "error",
     "traceback": [
      "\u001b[1;31m---------------------------------------------------------------------------\u001b[0m",
      "\u001b[1;31mAttributeError\u001b[0m                            Traceback (most recent call last)",
      "Input \u001b[1;32mIn [48]\u001b[0m, in \u001b[0;36m<cell line: 1>\u001b[1;34m()\u001b[0m\n\u001b[1;32m----> 1\u001b[0m \u001b[43mb\u001b[49m\u001b[38;5;241;43m.\u001b[39;49m\u001b[43m__balance\u001b[49m\n",
      "\u001b[1;31mAttributeError\u001b[0m: 'BankAccount' object has no attribute '__balance'"
     ]
    }
   ],
   "source": [
    "b.__balance"
   ]
  },
  {
   "cell_type": "code",
   "execution_count": 49,
   "id": "b7926d2c",
   "metadata": {},
   "outputs": [],
   "source": [
    "b.deposit(800)"
   ]
  },
  {
   "cell_type": "code",
   "execution_count": 50,
   "id": "a6630609",
   "metadata": {},
   "outputs": [
    {
     "data": {
      "text/plain": [
       "2800"
      ]
     },
     "execution_count": 50,
     "metadata": {},
     "output_type": "execute_result"
    }
   ],
   "source": [
    "b.show_balance()"
   ]
  },
  {
   "cell_type": "code",
   "execution_count": 51,
   "id": "3d6a3009",
   "metadata": {},
   "outputs": [],
   "source": [
    "b.withdraw(2500)"
   ]
  },
  {
   "cell_type": "code",
   "execution_count": 52,
   "id": "99fecea8",
   "metadata": {},
   "outputs": [
    {
     "data": {
      "text/plain": [
       "300"
      ]
     },
     "execution_count": 52,
     "metadata": {},
     "output_type": "execute_result"
    }
   ],
   "source": [
    "b.show_balance()"
   ]
  },
  {
   "cell_type": "code",
   "execution_count": 53,
   "id": "2f8491ca",
   "metadata": {},
   "outputs": [
    {
     "data": {
      "text/plain": [
       "['_BankAccount__balance',\n",
       " '__module__',\n",
       " '__init__',\n",
       " 'deposit',\n",
       " 'withdraw',\n",
       " 'show_balance',\n",
       " '__dict__',\n",
       " '__weakref__',\n",
       " '__doc__',\n",
       " '__repr__',\n",
       " '__hash__',\n",
       " '__str__',\n",
       " '__getattribute__',\n",
       " '__setattr__',\n",
       " '__delattr__',\n",
       " '__lt__',\n",
       " '__le__',\n",
       " '__eq__',\n",
       " '__ne__',\n",
       " '__gt__',\n",
       " '__ge__',\n",
       " '__new__',\n",
       " '__reduce_ex__',\n",
       " '__reduce__',\n",
       " '__subclasshook__',\n",
       " '__init_subclass__',\n",
       " '__format__',\n",
       " '__sizeof__',\n",
       " '__dir__',\n",
       " '__class__']"
      ]
     },
     "execution_count": 53,
     "metadata": {},
     "output_type": "execute_result"
    }
   ],
   "source": [
    "b.__dir__()"
   ]
  },
  {
   "cell_type": "code",
   "execution_count": 54,
   "id": "b2bff3f0",
   "metadata": {},
   "outputs": [],
   "source": [
    "b.__balance = 600    ## `__balance` will not get created as a new instance variable within `b`"
   ]
  },
  {
   "cell_type": "code",
   "execution_count": 55,
   "id": "51a2d061",
   "metadata": {},
   "outputs": [
    {
     "data": {
      "text/plain": [
       "300"
      ]
     },
     "execution_count": 55,
     "metadata": {},
     "output_type": "execute_result"
    }
   ],
   "source": [
    "b.show_balance()"
   ]
  },
  {
   "cell_type": "code",
   "execution_count": 45,
   "id": "e16a4598",
   "metadata": {},
   "outputs": [
    {
     "data": {
      "text/plain": [
       "['_BankAccount__balance',\n",
       " '__balance',\n",
       " '__module__',\n",
       " '__init__',\n",
       " 'deposit',\n",
       " 'withdraw',\n",
       " 'show_balance',\n",
       " '__dict__',\n",
       " '__weakref__',\n",
       " '__doc__',\n",
       " '__repr__',\n",
       " '__hash__',\n",
       " '__str__',\n",
       " '__getattribute__',\n",
       " '__setattr__',\n",
       " '__delattr__',\n",
       " '__lt__',\n",
       " '__le__',\n",
       " '__eq__',\n",
       " '__ne__',\n",
       " '__gt__',\n",
       " '__ge__',\n",
       " '__new__',\n",
       " '__reduce_ex__',\n",
       " '__reduce__',\n",
       " '__subclasshook__',\n",
       " '__init_subclass__',\n",
       " '__format__',\n",
       " '__sizeof__',\n",
       " '__dir__',\n",
       " '__class__']"
      ]
     },
     "execution_count": 45,
     "metadata": {},
     "output_type": "execute_result"
    }
   ],
   "source": [
    "b.__dir__()"
   ]
  },
  {
   "cell_type": "markdown",
   "id": "dcacba30",
   "metadata": {},
   "source": [
    "<br>\n",
    "\n",
    "Via the above example, in actuality, at memory level Python did not create `__balance` as the private variable.<br>But, it created `_BankAccount__balance` as the private variable.\n",
    "\n",
    "### Moreover, nothing is <u>\"private\"</u> in Python. It's just a variable created automatically with a strange sounding variable-name.\n",
    "\n",
    "|   | accessible   | inherited     | syntax   |\n",
    "|:--| :----------: | :-----------: | :------: |\n",
    "| Private | ❌ | ❌ | \\_\\_variableName |\n",
    "| Protected | ❌ | ✅ | \\_\\_variableName |\n",
    "| Public | ✅ | ✅ | varialeName |"
   ]
  },
  {
   "cell_type": "code",
   "execution_count": null,
   "id": "96735fc8",
   "metadata": {},
   "outputs": [],
   "source": [
    "\n"
   ]
  }
 ],
 "metadata": {
  "kernelspec": {
   "display_name": "Python 3 (ipykernel)",
   "language": "python",
   "name": "python3"
  },
  "language_info": {
   "codemirror_mode": {
    "name": "ipython",
    "version": 3
   },
   "file_extension": ".py",
   "mimetype": "text/x-python",
   "name": "python",
   "nbconvert_exporter": "python",
   "pygments_lexer": "ipython3",
   "version": "3.9.6"
  }
 },
 "nbformat": 4,
 "nbformat_minor": 5
}
