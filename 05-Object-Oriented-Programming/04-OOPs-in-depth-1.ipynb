{
 "cells": [
  {
   "cell_type": "code",
   "execution_count": 9,
   "id": "af96d6cb",
   "metadata": {},
   "outputs": [],
   "source": [
    "class Student:\n",
    "    pass"
   ]
  },
  {
   "cell_type": "code",
   "execution_count": 10,
   "id": "71b0bef5",
   "metadata": {},
   "outputs": [],
   "source": [
    "s1 = Student()"
   ]
  },
  {
   "cell_type": "code",
   "execution_count": 13,
   "id": "e4ec7691",
   "metadata": {},
   "outputs": [],
   "source": [
    "s1.name = \"John Doe\""
   ]
  },
  {
   "cell_type": "code",
   "execution_count": 14,
   "id": "20f08c68",
   "metadata": {},
   "outputs": [
    {
     "data": {
      "text/plain": [
       "'John Doe'"
      ]
     },
     "execution_count": 14,
     "metadata": {},
     "output_type": "execute_result"
    }
   ],
   "source": [
    "s1.name"
   ]
  },
  {
   "cell_type": "markdown",
   "id": "be299ddd",
   "metadata": {},
   "source": [
    "Essentially, a class signifies or defines the bare minimum properties (instances and methods) for its object, in form a blueprint.\n",
    "\n",
    "However, an object of that class can still define/add more instance variables and methods inside it. But, whatever new is added in `s1` will remain a part of `s1` only, does not becomes a part of any other `s2` object."
   ]
  },
  {
   "cell_type": "code",
   "execution_count": 16,
   "id": "e9b28916",
   "metadata": {},
   "outputs": [
    {
     "ename": "AttributeError",
     "evalue": "'Student' object has no attribute 'name'",
     "output_type": "error",
     "traceback": [
      "\u001b[1;31m---------------------------------------------------------------------------\u001b[0m",
      "\u001b[1;31mAttributeError\u001b[0m                            Traceback (most recent call last)",
      "Input \u001b[1;32mIn [16]\u001b[0m, in \u001b[0;36m<cell line: 3>\u001b[1;34m()\u001b[0m\n\u001b[0;32m      1\u001b[0m s2 \u001b[38;5;241m=\u001b[39m Student()\n\u001b[1;32m----> 3\u001b[0m \u001b[43ms2\u001b[49m\u001b[38;5;241;43m.\u001b[39;49m\u001b[43mname\u001b[49m\n",
      "\u001b[1;31mAttributeError\u001b[0m: 'Student' object has no attribute 'name'"
     ]
    }
   ],
   "source": [
    "s2 = Student()\n",
    "\n",
    "s2.name"
   ]
  },
  {
   "cell_type": "markdown",
   "id": "323f25eb",
   "metadata": {},
   "source": [
    "<hr>"
   ]
  },
  {
   "cell_type": "markdown",
   "id": "d4a71293",
   "metadata": {},
   "source": [
    "# Python does not have <u>CONSTRUCTOR!</u>\n",
    "\n",
    "Actually, a python object has a life cycle of itself.<br>\n",
    "Whenever an object is instantiated, the interpreter program allocates some memory for the object via some automatic internal call (this doesn't happen via the \\_\\_init\\_\\_ method).\n",
    "\n",
    "Essentially, the purpose of \\_\\_init\\_\\_ is just to assign/initialize the instance members(variables) with their corresponding values, inside the object's memory, during its instantiation. Keep in mind, the memory for object is already available, and \\_\\_init\\_\\_ has access to the object's reference in memory.\n",
    "\n",
    "**\\_\\_init\\_\\_ is NOT CONSTRUCTOR**, but a type of :\n",
    "- special dunder method\n",
    "- magic method"
   ]
  },
  {
   "cell_type": "markdown",
   "id": "6b0b68d6",
   "metadata": {},
   "source": [
    "<hr>"
   ]
  },
  {
   "cell_type": "code",
   "execution_count": 28,
   "id": "4cea954d",
   "metadata": {},
   "outputs": [],
   "source": [
    "class Student:\n",
    "    def hello():\n",
    "        print(\"Hello!\")\n",
    "    \n",
    "    def print_id(self):\n",
    "        print(id(self))"
   ]
  },
  {
   "cell_type": "code",
   "execution_count": 29,
   "id": "3bcf4ab4",
   "metadata": {},
   "outputs": [],
   "source": [
    "s1 = Student()"
   ]
  },
  {
   "cell_type": "markdown",
   "id": "a557e25b",
   "metadata": {},
   "source": [
    "<br>\n",
    "\n",
    "Below would give error :"
   ]
  },
  {
   "cell_type": "code",
   "execution_count": 30,
   "id": "6bc0ffdc",
   "metadata": {},
   "outputs": [
    {
     "ename": "TypeError",
     "evalue": "hello() takes 0 positional arguments but 1 was given",
     "output_type": "error",
     "traceback": [
      "\u001b[1;31m---------------------------------------------------------------------------\u001b[0m",
      "\u001b[1;31mTypeError\u001b[0m                                 Traceback (most recent call last)",
      "Input \u001b[1;32mIn [30]\u001b[0m, in \u001b[0;36m<cell line: 1>\u001b[1;34m()\u001b[0m\n\u001b[1;32m----> 1\u001b[0m \u001b[43ms1\u001b[49m\u001b[38;5;241;43m.\u001b[39;49m\u001b[43mhello\u001b[49m\u001b[43m(\u001b[49m\u001b[43m)\u001b[49m\n",
      "\u001b[1;31mTypeError\u001b[0m: hello() takes 0 positional arguments but 1 was given"
     ]
    }
   ],
   "source": [
    "s1.hello()"
   ]
  },
  {
   "cell_type": "markdown",
   "id": "4c51cd22",
   "metadata": {},
   "source": [
    "<br>\n",
    "\n",
    "But this will not :"
   ]
  },
  {
   "cell_type": "code",
   "execution_count": 31,
   "id": "a4697402",
   "metadata": {},
   "outputs": [
    {
     "name": "stdout",
     "output_type": "stream",
     "text": [
      "Hello!\n"
     ]
    }
   ],
   "source": [
    "Student.hello()"
   ]
  },
  {
   "cell_type": "markdown",
   "id": "909b1c4b",
   "metadata": {},
   "source": [
    "<br>\n",
    "\n",
    "Now, When `print_id` method is defined with `self` keyword, in the class. And, if this function is run, the below behavior shows that `self` is nothing but acts as a reference to the object."
   ]
  },
  {
   "cell_type": "code",
   "execution_count": 32,
   "id": "46e6448b",
   "metadata": {},
   "outputs": [
    {
     "name": "stdout",
     "output_type": "stream",
     "text": [
      "2358424868848\n",
      "2358424868848\n"
     ]
    }
   ],
   "source": [
    "print(id(s1))\n",
    "\n",
    "s1.print_id()"
   ]
  },
  {
   "cell_type": "markdown",
   "id": "8b74853e",
   "metadata": {},
   "source": [
    "<br>\n",
    "\n",
    "So, essentially, for an object to access the methods of a class, it's customary to define the reference in the method definition. It can be any word, however `self` is the usual preferred keyword.\n",
    "\n",
    "Hence now, the `hello` method should be corrected in this way : \n",
    "<br>"
   ]
  },
  {
   "cell_type": "code",
   "execution_count": 33,
   "id": "6c766f39",
   "metadata": {},
   "outputs": [],
   "source": [
    "class Student():\n",
    "    def hello(self):\n",
    "        print(\"Hello!\")\n",
    "    \n",
    "    def print_id(self):\n",
    "        print(id(self))"
   ]
  },
  {
   "cell_type": "code",
   "execution_count": 34,
   "id": "0ea17d3a",
   "metadata": {},
   "outputs": [],
   "source": [
    "s1 = Student()"
   ]
  },
  {
   "cell_type": "code",
   "execution_count": 36,
   "id": "eea1045e",
   "metadata": {},
   "outputs": [
    {
     "name": "stdout",
     "output_type": "stream",
     "text": [
      "Hello!\n"
     ]
    }
   ],
   "source": [
    "s1.hello()          ## = Student.hello(s1)\n"
   ]
  },
  {
   "cell_type": "code",
   "execution_count": 37,
   "id": "3d0b5ded",
   "metadata": {},
   "outputs": [
    {
     "name": "stdout",
     "output_type": "stream",
     "text": [
      "Hello!\n"
     ]
    }
   ],
   "source": [
    "Student.hello(s1)"
   ]
  },
  {
   "cell_type": "markdown",
   "id": "734aba51",
   "metadata": {},
   "source": [
    "<hr>"
   ]
  },
  {
   "cell_type": "code",
   "execution_count": 41,
   "id": "72ac8b61",
   "metadata": {},
   "outputs": [],
   "source": [
    "class Dog():\n",
    "    kind = \"labra\"\n",
    "    \n",
    "    def __init__(self, name, age):\n",
    "        self.name = name\n",
    "        self.age = age\n",
    "    \n",
    "    def tricks(self, trick):\n",
    "        print(f\"{self.name} can do {trick}\")"
   ]
  },
  {
   "cell_type": "code",
   "execution_count": 42,
   "id": "fbcc37f6",
   "metadata": {},
   "outputs": [],
   "source": [
    "d1 = Dog(\"milo\", 13)"
   ]
  },
  {
   "cell_type": "markdown",
   "id": "48a2aacb",
   "metadata": {},
   "source": [
    "Let's assign a new function to the object, outside the actual class :"
   ]
  },
  {
   "cell_type": "code",
   "execution_count": 48,
   "id": "4e314ed3",
   "metadata": {},
   "outputs": [],
   "source": [
    "d1.random_method = lambda self: \"I am random\""
   ]
  },
  {
   "cell_type": "markdown",
   "id": "61cf8394",
   "metadata": {},
   "source": [
    "<br>\n",
    "\n",
    "An error would occur now if that function is called. It's because, we would also need to pass the reference of same object in the function."
   ]
  },
  {
   "cell_type": "code",
   "execution_count": 50,
   "id": "fb805a87",
   "metadata": {},
   "outputs": [
    {
     "ename": "TypeError",
     "evalue": "<lambda>() missing 1 required positional argument: 'self'",
     "output_type": "error",
     "traceback": [
      "\u001b[1;31m---------------------------------------------------------------------------\u001b[0m",
      "\u001b[1;31mTypeError\u001b[0m                                 Traceback (most recent call last)",
      "Input \u001b[1;32mIn [50]\u001b[0m, in \u001b[0;36m<cell line: 1>\u001b[1;34m()\u001b[0m\n\u001b[1;32m----> 1\u001b[0m \u001b[43md1\u001b[49m\u001b[38;5;241;43m.\u001b[39;49m\u001b[43mrandom_method\u001b[49m\u001b[43m(\u001b[49m\u001b[43m)\u001b[49m\n",
      "\u001b[1;31mTypeError\u001b[0m: <lambda>() missing 1 required positional argument: 'self'"
     ]
    }
   ],
   "source": [
    "d1.random_method()"
   ]
  },
  {
   "cell_type": "code",
   "execution_count": 51,
   "id": "e2400d87",
   "metadata": {},
   "outputs": [
    {
     "data": {
      "text/plain": [
       "'I am random'"
      ]
     },
     "execution_count": 51,
     "metadata": {},
     "output_type": "execute_result"
    }
   ],
   "source": [
    "d1.random_method(d1)"
   ]
  },
  {
   "cell_type": "markdown",
   "id": "919f2b69",
   "metadata": {},
   "source": [
    "<hr>"
   ]
  },
  {
   "cell_type": "markdown",
   "id": "ad54822c",
   "metadata": {},
   "source": [
    "## Class Variable\n",
    "\n",
    "A little concept to remember is :\n",
    "\n",
    "- Mutable : in case you try to update a (mutable) class variable using an object, the class variable will get updated or mutated.\n",
    "\n",
    "<br>\n",
    "\n",
    "- Immutable : in case you try to mutate a (immutable) class variable using object, a new instance variable gets created for that object only (other objects are not affected). Original class variable would remain as is or intact.\n",
    "\n",
    "However, in a nutshell - ***a class variable that's mutable in nature can only be updated/mutated.***\n",
    "\n",
    "<u>example-1</u> :"
   ]
  },
  {
   "cell_type": "code",
   "execution_count": 52,
   "id": "8c5b3d52",
   "metadata": {},
   "outputs": [],
   "source": [
    "class Dog:\n",
    "    tricks = []\n",
    "    \n",
    "    def __init__(self, name):\n",
    "        self.name = name\n",
    "    \n",
    "    def teach_trick(self, trick):\n",
    "        self.tricks.append(trick)"
   ]
  },
  {
   "cell_type": "code",
   "execution_count": 53,
   "id": "7a640d0e",
   "metadata": {},
   "outputs": [],
   "source": [
    "d1 = Dog(\"Scooby\")"
   ]
  },
  {
   "cell_type": "code",
   "execution_count": 55,
   "id": "57033490",
   "metadata": {},
   "outputs": [],
   "source": [
    "d2 = Dog(\"Astro\")"
   ]
  },
  {
   "cell_type": "markdown",
   "id": "3ad862d7",
   "metadata": {},
   "source": [
    "<br>\n",
    "\n",
    "define a trick for `d1` dog only :"
   ]
  },
  {
   "cell_type": "code",
   "execution_count": 61,
   "id": "ba0b7788",
   "metadata": {},
   "outputs": [],
   "source": [
    "d1.teach_trick(\"Sniff\")"
   ]
  },
  {
   "cell_type": "code",
   "execution_count": 62,
   "id": "913728ad",
   "metadata": {},
   "outputs": [
    {
     "data": {
      "text/plain": [
       "['Sniff']"
      ]
     },
     "execution_count": 62,
     "metadata": {},
     "output_type": "execute_result"
    }
   ],
   "source": [
    "d1.tricks"
   ]
  },
  {
   "cell_type": "code",
   "execution_count": 63,
   "id": "353421d5",
   "metadata": {},
   "outputs": [
    {
     "data": {
      "text/plain": [
       "['Sniff']"
      ]
     },
     "execution_count": 63,
     "metadata": {},
     "output_type": "execute_result"
    }
   ],
   "source": [
    "d2.tricks"
   ]
  },
  {
   "cell_type": "code",
   "execution_count": 64,
   "id": "ad4edd57",
   "metadata": {},
   "outputs": [
    {
     "data": {
      "text/plain": [
       "['Sniff']"
      ]
     },
     "execution_count": 64,
     "metadata": {},
     "output_type": "execute_result"
    }
   ],
   "source": [
    "Dog.tricks"
   ]
  },
  {
   "cell_type": "markdown",
   "id": "bcc9f4d2",
   "metadata": {},
   "source": [
    "<br>\n",
    "\n",
    "define a trick for `d2` dog only :"
   ]
  },
  {
   "cell_type": "code",
   "execution_count": 65,
   "id": "c83ecb7e",
   "metadata": {},
   "outputs": [],
   "source": [
    "d2.teach_trick(\"Solve mysteries\")"
   ]
  },
  {
   "cell_type": "code",
   "execution_count": 66,
   "id": "aa7a648d",
   "metadata": {},
   "outputs": [
    {
     "data": {
      "text/plain": [
       "['Sniff', 'Solve mysteries']"
      ]
     },
     "execution_count": 66,
     "metadata": {},
     "output_type": "execute_result"
    }
   ],
   "source": [
    "d2.tricks"
   ]
  },
  {
   "cell_type": "code",
   "execution_count": 67,
   "id": "43f73ee0",
   "metadata": {},
   "outputs": [
    {
     "data": {
      "text/plain": [
       "['Sniff', 'Solve mysteries']"
      ]
     },
     "execution_count": 67,
     "metadata": {},
     "output_type": "execute_result"
    }
   ],
   "source": [
    "d1.tricks"
   ]
  },
  {
   "cell_type": "code",
   "execution_count": 68,
   "id": "d4a90e5a",
   "metadata": {},
   "outputs": [
    {
     "data": {
      "text/plain": [
       "['Sniff', 'Solve mysteries']"
      ]
     },
     "execution_count": 68,
     "metadata": {},
     "output_type": "execute_result"
    }
   ],
   "source": [
    "Dog.tricks"
   ]
  },
  {
   "cell_type": "markdown",
   "id": "70cbf6c6",
   "metadata": {},
   "source": [
    "`tricks` class variable gets updated/mutated for all objects of `Dog` class and for the `Dog` class itself, too.\n",
    "\n",
    "<hr>\n",
    "\n",
    "<u>example-2</u> :"
   ]
  },
  {
   "cell_type": "code",
   "execution_count": 70,
   "id": "069e89fb",
   "metadata": {},
   "outputs": [],
   "source": [
    "class Dog:\n",
    "    legs = 4\n",
    "    \n",
    "    def __init__(self, name):\n",
    "        self.name = name\n",
    "    \n",
    "    def teach_trick(self, trick):\n",
    "        self.tricks.append(trick)"
   ]
  },
  {
   "cell_type": "code",
   "execution_count": 82,
   "id": "9837a6c9",
   "metadata": {},
   "outputs": [
    {
     "data": {
      "text/plain": [
       "4"
      ]
     },
     "execution_count": 82,
     "metadata": {},
     "output_type": "execute_result"
    }
   ],
   "source": [
    "Dog.legs"
   ]
  },
  {
   "cell_type": "code",
   "execution_count": 83,
   "id": "66c47d29",
   "metadata": {},
   "outputs": [],
   "source": [
    "d1 = Dog(\"milo\")"
   ]
  },
  {
   "cell_type": "code",
   "execution_count": 84,
   "id": "1f96b40f",
   "metadata": {},
   "outputs": [],
   "source": [
    "d1.legs = 7"
   ]
  },
  {
   "cell_type": "code",
   "execution_count": 85,
   "id": "3c84c6f5",
   "metadata": {},
   "outputs": [
    {
     "data": {
      "text/plain": [
       "7"
      ]
     },
     "execution_count": 85,
     "metadata": {},
     "output_type": "execute_result"
    }
   ],
   "source": [
    "## a new instance variable gets created for `d1` object\n",
    "\n",
    "d1.legs"
   ]
  },
  {
   "cell_type": "code",
   "execution_count": 87,
   "id": "53201c58",
   "metadata": {},
   "outputs": [
    {
     "data": {
      "text/plain": [
       "4"
      ]
     },
     "execution_count": 87,
     "metadata": {},
     "output_type": "execute_result"
    }
   ],
   "source": [
    "## `Dog` class variable would remain intact\n",
    "\n",
    "Dog.legs"
   ]
  },
  {
   "cell_type": "code",
   "execution_count": null,
   "id": "edb91c1f",
   "metadata": {},
   "outputs": [],
   "source": []
  }
 ],
 "metadata": {
  "kernelspec": {
   "display_name": "Python 3 (ipykernel)",
   "language": "python",
   "name": "python3"
  },
  "language_info": {
   "codemirror_mode": {
    "name": "ipython",
    "version": 3
   },
   "file_extension": ".py",
   "mimetype": "text/x-python",
   "name": "python",
   "nbconvert_exporter": "python",
   "pygments_lexer": "ipython3",
   "version": "3.9.6"
  }
 },
 "nbformat": 4,
 "nbformat_minor": 5
}
