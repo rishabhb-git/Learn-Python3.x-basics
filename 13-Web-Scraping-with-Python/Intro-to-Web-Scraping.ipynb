{
 "cells": [
  {
   "cell_type": "markdown",
   "id": "terminal-bloom",
   "metadata": {},
   "source": [
    "# Web Scraping\n",
    "\n",
    "Web Scraping is a general term for techniques involving automating the gathering of data from a website.\n",
    "\n",
    "**Guidelines/Cautions :**<br>\n",
    "Before we begin, here are some important rules to follow and understand :\n",
    "\n",
    "• Always be respectful and try to get premission to scrape, do not bombard a website with scraping requests, otherwise your IP address may be blocked!<br>• Be aware that websites change often, meaning your code could go from working to totally broken from one day to the next.<br>• Pretty much every web scraping project of interest is a unique and custom job, so try your best to generalize the skills learned here.\n",
    "\n",
    "OK, let's get started with the basics!\n",
    "\n",
    "#### Web Scraping in Python\n",
    "\n",
    "There are a few libraries you will need, you can go to your command line and install them with `conda` install (if you are using anaconda distribution), or `pip` install for other python distributions.\n",
    "\n",
    "    conda install requests\n",
    "    conda install lxml\n",
    "    conda install bs4\n",
    "\n",
    "With `pip install`, for example :\n",
    "\n",
    "    pip install requests\n",
    "    pip install lxml\n",
    "    pip install bs4\n",
    "\n",
    "Now let's see what we can do with these libraries.\n",
    "\n",
    "### Example Task 0 - Grabbing the title of a page\n",
    "\n",
    "Let's start very simple, we will grab the title of a page. Remember that this is the HTML block with the title tag. For this task we will use www.example.com which is a website specifically made to serve as an example domain. Let's go through the main steps :"
   ]
  },
  {
   "cell_type": "code",
   "execution_count": 1,
   "id": "capable-college",
   "metadata": {},
   "outputs": [],
   "source": [
    "import requests"
   ]
  },
  {
   "cell_type": "code",
   "execution_count": 25,
   "id": "voluntary-guide",
   "metadata": {},
   "outputs": [],
   "source": [
    "# Step 1: Use the requests library to grab the page\n",
    "\n",
    "# Note, this may fail if you have a firewall blocking Python/Jupyter\n",
    "\n",
    "# Note, sometimes you need to run this twice if it fails the first time\n",
    "res = requests.get(\"http://www.example.com\")"
   ]
  },
  {
   "cell_type": "markdown",
   "id": "compliant-ivory",
   "metadata": {},
   "source": [
    "This object is a `requests.models.Response` object and it actually contains the information from the website, for example :"
   ]
  },
  {
   "cell_type": "code",
   "execution_count": 26,
   "id": "attached-significance",
   "metadata": {},
   "outputs": [
    {
     "data": {
      "text/plain": [
       "requests.models.Response"
      ]
     },
     "execution_count": 26,
     "metadata": {},
     "output_type": "execute_result"
    }
   ],
   "source": [
    "type(res)"
   ]
  },
  {
   "cell_type": "code",
   "execution_count": 27,
   "id": "ancient-grave",
   "metadata": {},
   "outputs": [
    {
     "data": {
      "text/plain": [
       "'<!doctype html>\\n<html>\\n<head>\\n    <title>Example Domain</title>\\n\\n    <meta charset=\"utf-8\" />\\n    <meta http-equiv=\"Content-type\" content=\"text/html; charset=utf-8\" />\\n    <meta name=\"viewport\" content=\"width=device-width, initial-scale=1\" />\\n    <style type=\"text/css\">\\n    body {\\n        background-color: #f0f0f2;\\n        margin: 0;\\n        padding: 0;\\n        font-family: -apple-system, system-ui, BlinkMacSystemFont, \"Segoe UI\", \"Open Sans\", \"Helvetica Neue\", Helvetica, Arial, sans-serif;\\n        \\n    }\\n    div {\\n        width: 600px;\\n        margin: 5em auto;\\n        padding: 2em;\\n        background-color: #fdfdff;\\n        border-radius: 0.5em;\\n        box-shadow: 2px 3px 7px 2px rgba(0,0,0,0.02);\\n    }\\n    a:link, a:visited {\\n        color: #38488f;\\n        text-decoration: none;\\n    }\\n    @media (max-width: 700px) {\\n        div {\\n            margin: 0 auto;\\n            width: auto;\\n        }\\n    }\\n    </style>    \\n</head>\\n\\n<body>\\n<div>\\n    <h1>Example Domain</h1>\\n    <p>This domain is for use in illustrative examples in documents. You may use this\\n    domain in literature without prior coordination or asking for permission.</p>\\n    <p><a href=\"https://www.iana.org/domains/example\">More information...</a></p>\\n</div>\\n</body>\\n</html>\\n'"
      ]
     },
     "execution_count": 27,
     "metadata": {},
     "output_type": "execute_result"
    }
   ],
   "source": [
    "res.text"
   ]
  },
  {
   "cell_type": "markdown",
   "id": "moral-terminal",
   "metadata": {},
   "source": [
    "****\n",
    "Now we can use `BeautifulSoup` to analyze the extracted page. Technically we could use our own custom script to loook for items in the string of `res.text` but the BeautifulSoup library already has lots of built-in tools and methods to grab information from a string of this nature (basically an HTML file). Using BeautifulSoup we can create a \"soup\" object that contains all the \"ingredients\" of the webpage.\n",
    "\n",
    "`lxml` is the engine used to decode/parse a webpage's text content to generate a _soup_ object."
   ]
  },
  {
   "cell_type": "code",
   "execution_count": 28,
   "id": "comprehensive-mortality",
   "metadata": {},
   "outputs": [],
   "source": [
    "import bs4"
   ]
  },
  {
   "cell_type": "code",
   "execution_count": 29,
   "id": "talented-settlement",
   "metadata": {},
   "outputs": [],
   "source": [
    "soup = bs4.BeautifulSoup(res.text, \"lxml\")"
   ]
  },
  {
   "cell_type": "code",
   "execution_count": 30,
   "id": "contained-recall",
   "metadata": {},
   "outputs": [
    {
     "data": {
      "text/plain": [
       "<!DOCTYPE html>\n",
       "<html>\n",
       "<head>\n",
       "<title>Example Domain</title>\n",
       "<meta charset=\"utf-8\"/>\n",
       "<meta content=\"text/html; charset=utf-8\" http-equiv=\"Content-type\"/>\n",
       "<meta content=\"width=device-width, initial-scale=1\" name=\"viewport\"/>\n",
       "<style type=\"text/css\">\n",
       "    body {\n",
       "        background-color: #f0f0f2;\n",
       "        margin: 0;\n",
       "        padding: 0;\n",
       "        font-family: -apple-system, system-ui, BlinkMacSystemFont, \"Segoe UI\", \"Open Sans\", \"Helvetica Neue\", Helvetica, Arial, sans-serif;\n",
       "        \n",
       "    }\n",
       "    div {\n",
       "        width: 600px;\n",
       "        margin: 5em auto;\n",
       "        padding: 2em;\n",
       "        background-color: #fdfdff;\n",
       "        border-radius: 0.5em;\n",
       "        box-shadow: 2px 3px 7px 2px rgba(0,0,0,0.02);\n",
       "    }\n",
       "    a:link, a:visited {\n",
       "        color: #38488f;\n",
       "        text-decoration: none;\n",
       "    }\n",
       "    @media (max-width: 700px) {\n",
       "        div {\n",
       "            margin: 0 auto;\n",
       "            width: auto;\n",
       "        }\n",
       "    }\n",
       "    </style>\n",
       "</head>\n",
       "<body>\n",
       "<div>\n",
       "<h1>Example Domain</h1>\n",
       "<p>This domain is for use in illustrative examples in documents. You may use this\n",
       "    domain in literature without prior coordination or asking for permission.</p>\n",
       "<p><a href=\"https://www.iana.org/domains/example\">More information...</a></p>\n",
       "</div>\n",
       "</body>\n",
       "</html>"
      ]
     },
     "execution_count": 30,
     "metadata": {},
     "output_type": "execute_result"
    }
   ],
   "source": [
    "soup"
   ]
  },
  {
   "cell_type": "markdown",
   "id": "engaged-simon",
   "metadata": {},
   "source": [
    "Now let's use the `.select()` method to grab elements. We are looking for the **'title'** tag, so we will pass in 'title'."
   ]
  },
  {
   "cell_type": "code",
   "execution_count": 10,
   "id": "intellectual-istanbul",
   "metadata": {},
   "outputs": [
    {
     "data": {
      "text/plain": [
       "[<title>Example Domain</title>]"
      ]
     },
     "execution_count": 10,
     "metadata": {},
     "output_type": "execute_result"
    }
   ],
   "source": [
    "soup.select('title')"
   ]
  },
  {
   "cell_type": "code",
   "execution_count": 12,
   "id": "anticipated-captain",
   "metadata": {},
   "outputs": [
    {
     "data": {
      "text/plain": [
       "bs4.element.ResultSet"
      ]
     },
     "execution_count": 12,
     "metadata": {},
     "output_type": "execute_result"
    }
   ],
   "source": [
    "type(soup.select('title'))"
   ]
  },
  {
   "cell_type": "markdown",
   "id": "heavy-gross",
   "metadata": {},
   "source": [
    "> Notice what is returned here, its actually a list containing all the title elements (along with their tags). You can use indexing or even looping to grab the elements from the list. Since this object it still a specialized tag, we can use method calls to grab just the text."
   ]
  },
  {
   "cell_type": "code",
   "execution_count": 13,
   "id": "broadband-disposition",
   "metadata": {},
   "outputs": [],
   "source": [
    "title_tag = soup.select('title')"
   ]
  },
  {
   "cell_type": "code",
   "execution_count": 14,
   "id": "owned-smoke",
   "metadata": {},
   "outputs": [
    {
     "data": {
      "text/plain": [
       "[<title>Example Domain</title>]"
      ]
     },
     "execution_count": 14,
     "metadata": {},
     "output_type": "execute_result"
    }
   ],
   "source": [
    "title_tag[0]"
   ]
  },
  {
   "cell_type": "code",
   "execution_count": 15,
   "id": "positive-sheep",
   "metadata": {},
   "outputs": [
    {
     "data": {
      "text/plain": [
       "bs4.element.Tag"
      ]
     },
     "execution_count": 15,
     "metadata": {},
     "output_type": "execute_result"
    }
   ],
   "source": [
    "type(title_tag[0])     # the type displayed here is a special beautifulsoup object."
   ]
  },
  {
   "cell_type": "code",
   "execution_count": 19,
   "id": "contemporary-guide",
   "metadata": {},
   "outputs": [
    {
     "data": {
      "text/plain": [
       "'Example Domain'"
      ]
     },
     "execution_count": 19,
     "metadata": {},
     "output_type": "execute_result"
    }
   ],
   "source": [
    "title_tag[0].getText()"
   ]
  },
  {
   "cell_type": "code",
   "execution_count": 31,
   "id": "sound-grade",
   "metadata": {},
   "outputs": [
    {
     "data": {
      "text/plain": [
       "[<p>This domain is for use in illustrative examples in documents. You may use this\n",
       "     domain in literature without prior coordination or asking for permission.</p>,\n",
       " <p><a href=\"https://www.iana.org/domains/example\">More information...</a></p>]"
      ]
     },
     "execution_count": 31,
     "metadata": {},
     "output_type": "execute_result"
    }
   ],
   "source": [
    "soup.select('p')"
   ]
  },
  {
   "cell_type": "markdown",
   "id": "collected-tribute",
   "metadata": {},
   "source": [
    "### Example Task 1 - Grabbing all elements of a class\n",
    "\n",
    "Let's try to grab all the section headings of the Wikipedia Article on Late Shri A.P.J. Abdul Kalam from this URL : https://en.wikipedia.org/wiki/A._P._J._Abdul_Kalam"
   ]
  },
  {
   "cell_type": "code",
   "execution_count": 66,
   "id": "logical-protocol",
   "metadata": {},
   "outputs": [],
   "source": [
    "# First get the request\n",
    "res = requests.get('https://en.wikipedia.org/wiki/A._P._J._Abdul_Kalam')"
   ]
  },
  {
   "cell_type": "code",
   "execution_count": 67,
   "id": "textile-melbourne",
   "metadata": {},
   "outputs": [],
   "source": [
    "# Create a soup from request\n",
    "soup = bs4.BeautifulSoup(res.text,\"lxml\")"
   ]
  },
  {
   "cell_type": "markdown",
   "id": "attractive-handling",
   "metadata": {},
   "source": [
    "Now its time to figure out what we are actually looking for. Inspect the element on the page to see that the section headers. Because this is a class and not a straight tag, we need to adhere to some syntax for CSS. In this case :\n",
    "\n",
    "| Syntax to pass to the `.select()` method | Match Results |\n",
    "| :-------: | :--------: |\n",
    "| soup.select('div') | All elements with the \\<div\\> tag |\n",
    "| soup.select('#some_id') | All the HTML elements with the CSS class named notice |\n",
    "| soup.select('div span') | Any elements named \\<span\\> that are within an element named \\<div\\> |\n",
    "| soup.select('div > span') | Any elements named \\<span\\> that are **directly** within an element named \\<div\\>, with no other element in between. |"
   ]
  },
  {
   "cell_type": "code",
   "execution_count": 68,
   "id": "exposed-interpretation",
   "metadata": {},
   "outputs": [
    {
     "data": {
      "text/plain": [
       "[<span class=\"toctext\">Early life and education</span>,\n",
       " <span class=\"toctext\">Career as a scientist</span>,\n",
       " <span class=\"toctext\">Presidency</span>,\n",
       " <span class=\"toctext\">Post-presidency</span>,\n",
       " <span class=\"toctext\">Death</span>,\n",
       " <span class=\"toctext\">Reactions</span>,\n",
       " <span class=\"toctext\">Memorial</span>,\n",
       " <span class=\"toctext\">Personal life</span>,\n",
       " <span class=\"toctext\">Religious and spiritual views</span>,\n",
       " <span class=\"toctext\">Islam</span>,\n",
       " <span class=\"toctext\">Syncretism</span>,\n",
       " <span class=\"toctext\">Pramukh Swami as Guru</span>,\n",
       " <span class=\"toctext\">Writings</span>,\n",
       " <span class=\"toctext\">Awards and honours</span>,\n",
       " <span class=\"toctext\">Island</span>,\n",
       " <span class=\"toctext\">Road</span>,\n",
       " <span class=\"toctext\">Plant species</span>,\n",
       " <span class=\"toctext\">Other awards and honours</span>,\n",
       " <span class=\"toctext\">Legacy</span>,\n",
       " <span class=\"toctext\">Books, documentaries and popular culture</span>,\n",
       " <span class=\"toctext\">See also</span>,\n",
       " <span class=\"toctext\">References</span>,\n",
       " <span class=\"toctext\">External links</span>]"
      ]
     },
     "execution_count": 68,
     "metadata": {},
     "output_type": "execute_result"
    }
   ],
   "source": [
    "# note, depending on your IP Address this class may be called something different\n",
    "\n",
    "soup.select(\".toctext\")"
   ]
  },
  {
   "cell_type": "code",
   "execution_count": 65,
   "id": "annual-retreat",
   "metadata": {},
   "outputs": [
    {
     "name": "stdout",
     "output_type": "stream",
     "text": [
      "Early life and education\n",
      "Career as a scientist\n",
      "Presidency\n",
      "Post-presidency\n",
      "Death\n",
      "Reactions\n",
      "Memorial\n",
      "Personal life\n",
      "Religious and spiritual views\n",
      "Islam\n",
      "Syncretism\n",
      "Pramukh Swami as Guru\n",
      "Writings\n",
      "Awards and honours\n",
      "Island\n",
      "Road\n",
      "Plant species\n",
      "Other awards and honours\n",
      "Legacy\n",
      "Books, documentaries and popular culture\n",
      "See also\n",
      "References\n",
      "External links\n"
     ]
    }
   ],
   "source": [
    "for item in soup.select('.toctext'):\n",
    "    print(item.text)"
   ]
  },
  {
   "cell_type": "markdown",
   "id": "effective-bradford",
   "metadata": {},
   "source": [
    "### Example task 3 - Getting an Image from a Website\n",
    "\n",
    "Let's attempt to grab the image of the Quantum Computing from this wikipedia article: https://en.wikipedia.org/wiki/Quantum_computing"
   ]
  },
  {
   "cell_type": "code",
   "execution_count": 47,
   "id": "abandoned-moisture",
   "metadata": {},
   "outputs": [],
   "source": [
    "res = requests.get(\"https://en.wikipedia.org/wiki/Quantum_computing\")"
   ]
  },
  {
   "cell_type": "code",
   "execution_count": 48,
   "id": "laden-transformation",
   "metadata": {},
   "outputs": [],
   "source": [
    "soup = bs4.BeautifulSoup(res.text, 'lxml')"
   ]
  },
  {
   "cell_type": "code",
   "execution_count": 49,
   "id": "constant-anxiety",
   "metadata": {},
   "outputs": [
    {
     "data": {
      "text/plain": [
       "[<img alt=\"\" class=\"thumbimage\" data-file-height=\"3584\" data-file-width=\"5166\" decoding=\"async\" height=\"153\" src=\"//upload.wikimedia.org/wikipedia/commons/thumb/6/60/IBM_Q_system_%28Fraunhofer_2%29.jpg/220px-IBM_Q_system_%28Fraunhofer_2%29.jpg\" srcset=\"//upload.wikimedia.org/wikipedia/commons/thumb/6/60/IBM_Q_system_%28Fraunhofer_2%29.jpg/330px-IBM_Q_system_%28Fraunhofer_2%29.jpg 1.5x, //upload.wikimedia.org/wikipedia/commons/thumb/6/60/IBM_Q_system_%28Fraunhofer_2%29.jpg/440px-IBM_Q_system_%28Fraunhofer_2%29.jpg 2x\" width=\"220\"/>,\n",
       " <img alt=\"\" class=\"thumbimage\" data-file-height=\"185\" data-file-width=\"163\" decoding=\"async\" height=\"250\" src=\"//upload.wikimedia.org/wikipedia/commons/thumb/f/f4/Bloch_Sphere.svg/220px-Bloch_Sphere.svg.png\" srcset=\"//upload.wikimedia.org/wikipedia/commons/thumb/f/f4/Bloch_Sphere.svg/330px-Bloch_Sphere.svg.png 1.5x, //upload.wikimedia.org/wikipedia/commons/thumb/f/f4/Bloch_Sphere.svg/440px-Bloch_Sphere.svg.png 2x\" width=\"220\"/>,\n",
       " <img alt=\"\" class=\"thumbimage\" data-file-height=\"414\" data-file-width=\"518\" decoding=\"async\" height=\"176\" src=\"//upload.wikimedia.org/wikipedia/commons/thumb/1/1d/BQP_complexity_class_diagram.svg/220px-BQP_complexity_class_diagram.svg.png\" srcset=\"//upload.wikimedia.org/wikipedia/commons/thumb/1/1d/BQP_complexity_class_diagram.svg/330px-BQP_complexity_class_diagram.svg.png 1.5x, //upload.wikimedia.org/wikipedia/commons/thumb/1/1d/BQP_complexity_class_diagram.svg/440px-BQP_complexity_class_diagram.svg.png 2x\" width=\"220\"/>]"
      ]
     },
     "execution_count": 49,
     "metadata": {},
     "output_type": "execute_result"
    }
   ],
   "source": [
    "imageInfo = soup.select('.thumbimage')\n",
    "imageInfo"
   ]
  },
  {
   "cell_type": "code",
   "execution_count": 50,
   "id": "anticipated-singles",
   "metadata": {},
   "outputs": [
    {
     "data": {
      "text/plain": [
       "3"
      ]
     },
     "execution_count": 50,
     "metadata": {},
     "output_type": "execute_result"
    }
   ],
   "source": [
    "# this webpage contains 3 images\n",
    "len(imageInfo)"
   ]
  },
  {
   "cell_type": "code",
   "execution_count": 53,
   "id": "boring-charm",
   "metadata": {},
   "outputs": [
    {
     "data": {
      "text/plain": [
       "bs4.element.Tag"
      ]
     },
     "execution_count": 53,
     "metadata": {},
     "output_type": "execute_result"
    }
   ],
   "source": [
    "quantumCompImage = imageInfo[0]\n",
    "type(quantumCompImage)"
   ]
  },
  {
   "cell_type": "markdown",
   "id": "static-mandate",
   "metadata": {},
   "source": [
    "You can make dictionary like calls for parts of the Tag, in this case, we are interested in the `src`, or \"source\" of the image, which should be its own .jpg or .png link :"
   ]
  },
  {
   "cell_type": "code",
   "execution_count": 54,
   "id": "assumed-waste",
   "metadata": {},
   "outputs": [
    {
     "data": {
      "text/plain": [
       "'//upload.wikimedia.org/wikipedia/commons/thumb/6/60/IBM_Q_system_%28Fraunhofer_2%29.jpg/220px-IBM_Q_system_%28Fraunhofer_2%29.jpg'"
      ]
     },
     "execution_count": 54,
     "metadata": {},
     "output_type": "execute_result"
    }
   ],
   "source": [
    "quantumCompImage['src']"
   ]
  },
  {
   "cell_type": "markdown",
   "id": "capital-diesel",
   "metadata": {},
   "source": [
    "We can actually display it with a markdown cell with the following :\n",
    "\n",
    "    <img src='https://upload.wikimedia.org/wikipedia/commons/thumb/6/60/IBM_Q_system_%28Fraunhofer_2%29.jpg/220px-IBM_Q_system_%28Fraunhofer_2%29.jpg'>\n",
    "    \n",
    "<img src='https://upload.wikimedia.org/wikipedia/commons/thumb/6/60/IBM_Q_system_%28Fraunhofer_2%29.jpg/220px-IBM_Q_system_%28Fraunhofer_2%29.jpg'>\n",
    "\n",
    "Now that you have the actual src link, you can grab the image with requests and get along with the .content attribute.<br>Note how we had to add `https://` before the link, if you don't do this, requests will complain."
   ]
  },
  {
   "cell_type": "code",
   "execution_count": 56,
   "id": "affiliated-equivalent",
   "metadata": {},
   "outputs": [],
   "source": [
    "imageLink = requests.get('https://upload.wikimedia.org/wikipedia/commons/thumb/6/60/IBM_Q_system_%28Fraunhofer_2%29.jpg/220px-IBM_Q_system_%28Fraunhofer_2%29.jpg')"
   ]
  },
  {
   "cell_type": "code",
   "execution_count": 57,
   "id": "agricultural-glory",
   "metadata": {},
   "outputs": [
    {
     "data": {
      "text/plain": [
       "b'\\xff\\xd8\\xff\\xe2\\x02@ICC_PROFILE\\x00\\x01\\x01\\x00\\x00\\x020ADBE\\x02\\x10\\x00\\x00mntrRGB XYZ \\x07\\xcf\\x00\\x06\\x00\\x03\\x00\\x00\\x00\\x00\\x00\\x00acspAPPL\\x00\\x00\\x00\\x00none\\x00\\x00\\x00\\x00\\x00\\x00\\x00\\x00\\x00\\x00\\x00\\x00\\x00\\x00\\x00\\x00\\x00\\x00\\xf6\\xd6\\x00\\x01\\x00\\x00\\x00\\x00\\xd3-ADBE\\x00\\x00\\x00\\x00\\x00\\x00\\x00\\x00\\x00\\x00\\x00\\x00\\x00\\x00\\x00\\x00\\x00\\x00\\x00\\x00\\x00\\x00\\x00\\x00\\x00\\x00\\x00\\x00\\x00\\x00\\x00\\x00\\x00\\x00\\x00\\x00\\x00\\x00\\x00\\x00\\x00\\x00\\x00\\x00\\x00\\x00\\x00\\ncprt\\x00\\x00\\x00\\xfc\\x00\\x00\\x002desc\\x00\\x00\\x010\\x00\\x00\\x00kwtpt\\x00\\x00\\x01\\x9c\\x00\\x00\\x00\\x14bkpt\\x00\\x00\\x01\\xb0\\x00\\x00\\x00\\x14rTRC\\x00\\x00\\x01\\xc4\\x00\\x00\\x00\\x0egTRC\\x00\\x00\\x01\\xd4\\x00\\x00\\x00\\x0ebTRC\\x00\\x00\\x01\\xe4\\x00\\x00\\x00\\x0erXYZ\\x00\\x00\\x01\\xf4\\x00\\x00\\x00\\x14gXYZ\\x00\\x00\\x02\\x08\\x00\\x00\\x00\\x14bXYZ\\x00\\x00\\x02\\x1c\\x00\\x00\\x00\\x14text\\x00\\x00\\x00\\x00Copyright 1999 Adobe Systems Incorporated\\x00\\x00\\x00desc\\x00\\x00\\x00\\x00\\x00\\x00\\x00\\x11Adobe RGB (1998)\\x00\\x00\\x00\\x00\\x00\\x00\\x00\\x00\\x00\\x00\\x00\\x00\\x00\\x00\\x00\\x00\\x00\\x00\\x00\\x00\\x00\\x00\\x00\\x00\\x00\\x00\\x00\\x00\\x00\\x00\\x00\\x00\\x00\\x00\\x00\\x00\\x00\\x00\\x00\\x00\\x00\\x00\\x00\\x00\\x00\\x00\\x00\\x00\\x00\\x00\\x00\\x00\\x00\\x00\\x00\\x00\\x00\\x00\\x00\\x00\\x00\\x00\\x00\\x00\\x00\\x00\\x00\\x00\\x00\\x00\\x00\\x00\\x00\\x00\\x00\\x00\\x00\\x00\\x00\\x00XYZ \\x00\\x00\\x00\\x00\\x00\\x00\\xf3Q\\x00\\x01\\x00\\x00\\x00\\x01\\x16\\xccXYZ \\x00\\x00\\x00\\x00\\x00\\x00\\x00\\x00\\x00\\x00\\x00\\x00\\x00\\x00\\x00\\x00curv\\x00\\x00\\x00\\x00\\x00\\x00\\x00\\x01\\x023\\x00\\x00curv\\x00\\x00\\x00\\x00\\x00\\x00\\x00\\x01\\x023\\x00\\x00curv\\x00\\x00\\x00\\x00\\x00\\x00\\x00\\x01\\x023\\x00\\x00XYZ \\x00\\x00\\x00\\x00\\x00\\x00\\x9c\\x18\\x00\\x00O\\xa5\\x00\\x00\\x04\\xfcXYZ \\x00\\x00\\x00\\x00\\x00\\x004\\x8d\\x00\\x00\\xa0,\\x00\\x00\\x0f\\x95XYZ \\x00\\x00\\x00\\x00\\x00\\x00&1\\x00\\x00\\x10/\\x00\\x00\\xbe\\x9c\\xff\\xdb\\x00C\\x00\\x04\\x03\\x03\\x04\\x03\\x03\\x04\\x04\\x03\\x04\\x05\\x04\\x04\\x05\\x06\\n\\x07\\x06\\x06\\x06\\x06\\r\\t\\n\\x08\\n\\x0f\\r\\x10\\x10\\x0f\\r\\x0f\\x0e\\x11\\x13\\x18\\x14\\x11\\x12\\x17\\x12\\x0e\\x0f\\x15\\x1c\\x15\\x17\\x19\\x19\\x1b\\x1b\\x1b\\x10\\x14\\x1d\\x1f\\x1d\\x1a\\x1f\\x18\\x1a\\x1b\\x1a\\xff\\xdb\\x00C\\x01\\x04\\x05\\x05\\x06\\x05\\x06\\x0c\\x07\\x07\\x0c\\x1a\\x11\\x0f\\x11\\x1a\\x1a\\x1a\\x1a\\x1a\\x1a\\x1a\\x1a\\x1a\\x1a\\x1a\\x1a\\x1a\\x1a\\x1a\\x1a\\x1a\\x1a\\x1a\\x1a\\x1a\\x1a\\x1a\\x1a\\x1a\\x1a\\x1a\\x1a\\x1a\\x1a\\x1a\\x1a\\x1a\\x1a\\x1a\\x1a\\x1a\\x1a\\x1a\\x1a\\x1a\\x1a\\x1a\\x1a\\x1a\\x1a\\x1a\\x1a\\x1a\\x1a\\xff\\xc0\\x00\\x11\\x08\\x00\\x99\\x00\\xdc\\x03\\x01\"\\x00\\x02\\x11\\x01\\x03\\x11\\x01\\xff\\xc4\\x00\\x1d\\x00\\x00\\x00\\x07\\x01\\x01\\x01\\x00\\x00\\x00\\x00\\x00\\x00\\x00\\x00\\x00\\x00\\x01\\x02\\x03\\x04\\x05\\x06\\x07\\x08\\x00\\t\\xff\\xc4\\x00[\\x10\\x00\\x01\\x02\\x03\\x05\\x03\\x06\\x07\\x08\\r\\x08\\x07\\t\\x00\\x00\\x00\\x01\\x02\\x03\\x00\\x04\\x11\\x05\\x06\\x12!1\\x07AQ\\x13\"aq\\x81\\x91\\x1423\\xa1\\xb1\\xc1\\xd2\\x15#BCRr\\x92\\xd1\\x08\\x164Sbs\\x82\\x85\\xa2\\xb2\\xc2\\xd3\\xe1\\x17$%&Vcu\\x935Fe\\x84\\x95\\xc3\\xf0DEdt\\x83\\x94\\xa3\\xe2\\xf1\\xff\\xc4\\x00\\x18\\x01\\x01\\x01\\x01\\x01\\x01\\x00\\x00\\x00\\x00\\x00\\x00\\x00\\x00\\x00\\x00\\x00\\x00\\x01\\x02\\x03\\x04\\xff\\xc4\\x00\"\\x11\\x01\\x00\\x03\\x00\\x01\\x05\\x00\\x03\\x01\\x01\\x00\\x00\\x00\\x00\\x00\\x00\\x00\\x01\\x02\\x11!\\x03\\x121AQ\\x14\"a\\x13\\xd1\\xff\\xda\\x00\\x0c\\x03\\x01\\x00\\x02\\x11\\x03\\x11\\x00?\\x00\\xe4Cj\\xb8FK=\\xf0\\x92\\xedG\\x0e\\x8bW|A\\x87\\x88\\xd0\\xc0\\xf2\\xf5\\xeb\\x8ccg\\xcf\\xcc\\xa9\\xca\\xd5D\\xc4s\\xa6\\xa6\\x01\\xc7\\x88\\xd3.\\x98L\\xac\\xd7=z\\xe2\\xe2\\n@P\\xd2\\n\\xa1\\x07Uu\\x00As:\\x01^\\xb8\\xb0\\n\\x05`\\nr\\x85*\\xaa\\x00@\\x14\\xd2\\x90\\x1a\\xeb\\x15\\t\\x81C\\x0e\\x9as\\x0e\\x90\\xdc\\xe5\\x1eB\\xb3\\xe1\\x05X$\\xed\\x15\\xb5\\xe2\\xa8\\x88\\x96j\\xddt\\x0f({\\xe2\\xa2\\xdb\\x94\\x85\\xc3\\xdd1\\x9c\\x16\\xcfw\\x9d\\xfb\\xe2\\xbb\\xe3\\xc6\\xddt\\x9f(\\xae\\xf8\\xaa\\x87\\xe0ys\\xc6\\x18,\\xca\\xb7]?\\x18{\\xe0\\x9e\\xed\\xb9\\xf7\\xc3\\xdf\\x15\\xb2\\xfc\\x14\\xbcx\\xc3\\x05\\x81\\xdbi\\xd2<\\xa2\\xbb\\xe2:b\\xd1[\\xb5\\nY1\\x1a\\xa7\\xbaa\\x05\\xbb\\x0c\\x07y\\xd2u0\\xd5J$\\xc7\\x96\\xe7\\x18\\x00h+\\x1a\\x06\\x15\\x00SS\\x1e\\xa5\\x053\\xfa\\xe3\\xc0\\x1d\\xfa\\x98\\x13\\x10xA\\xc6PJ\\xa8\\x0ei\\x03\\x8dx@p\\xd0@;iy\\xe5\\xdf\\x12r\\xb3\\x8af\\x98TGlC%G\\xa2\\x90\\xba\\x1c=\\x11\\x91if\\xdaq4\\xf7\\xc3\\xdf\\x0e=\\xdft|b\\xbb\\xe2\\xa4\\x1f9\\x81\\xba\\x07\\xc2\\x0f\\x13\\x0c\\x0c\\x12\\xa2F\\xa0\\xc7\\x89\\xae\\xf8l\\x972\\xd4\\x1e\\xd8Q.WZAJb)\\xd71\\x07H\\xc42\\xccp\\x84\\xd3\\x9fT.\\xd3u<\\xd8\\xba\\x81\\r\\xef\\x19\\x88\\x1eH\\xc3\\xe6e\\xd4\\xbd\\xdd\\xb0\\xbf\\x80\\xa8\\xe5\\x86&\\x88\\x853\\x8c\\x04\\xd0\\x95\\x12\\x00\\x00T\\x92M\\x05!\\xf4\\xe5\\xd2\\xb6\\xec\\xe9u\\xcdZ\\x16-\\xa3)*\\x82\\x02\\xdezYH@$\\xd0\\x0cG,\\xc9\\xca\\x1eJ\\xb2\\xdc\\xab\\xc5\\xd9\\xb69v\\xd2\\x9a\\x84\\x87Kd(\\x11\\x84\\x83C\\xa1\\xce\\x94\\xa1\\x87\\x16\\xbd\\xf3\\xb7\\xad\\x89e\\xc9Z\\xf6\\xcc\\xec\\xe4\\xa2\\x8aj\\xc2\\xd6\\x03|\\xd3Q\\xcd\\x00\\x0c\\x8e\\x99e\\x9f\\x13\\x17El\\xcb\\'\\t n\\x82\\x06\\xc7\\xc10\\xba\\x89\\xc3@M \\xa9\\x14\\xd7!\\x14\\n\\x13\\xd3\\n\\x04\\x18\\x04)\\xbf\\x96\\x8f\\xa4!\\xec\\x93\\x8c\\xb70\\xdb\\x93\\x12\\xe9\\x9ce5\\xc4\\xcf*\\xa4\\x05e\\x9799\\x8c\\xf3\\xec\\x80k\\x80\\xc0\\xe118-\\x1b0\\x7f\\xab\\xcc\\xd7\\xa6~c\\xeb\\x8f\\x1bJ\\xcd\\xfe\\xce\\xcbv\\xce\\xcc{P\\x10XL\\x14\\xa5CtN\\xfb\\xa7g\\x7fg$\\xff\\x00\\xf7\\x93\\x1e\\xdc\\x01\\xb5,\\xed\\xf7rK\\xb6ng\\xdb\\x86\\x8a\\xfa\\xeb\\x08\\xa8\\x18|\\xfa\\x92\\xe3\\xabSm\\xa5\\x94)D\\xa5\\xb4\\xa8\\x90\\x91\\xc0\\x13\\x99\\xa7L\"\\xa4\\xf4CC%&\\xb0\\\\\\x10\\xf4\\xa0S\\xc5\\xac\\x10#\\xf0L44\\xe4\\xeb\\x0b6\\xd8\\x00\\x98u.\\x96\\xd0\\xf3j}\\x9e]\\xb0\\xa0T\\xde2\\x8cC\\x86!\\x98\\xeb\\x89W\\xfc\\nm\\xa4\\x89\\x1b-\\x12\\x0b\\n\\xaa\\x95\\xe1n;\\x88p\\xa2\\xb4\\xeb\\x86\\x88L\\x07x\\x80\\xc0w\\xc4\\xb7\\x81\\x9aR\\x83\\xbe\\x1b\\xbb-\\x83\\x87|M\\x0c4\\xd6\\x04+\\xff\\x00\\xc1\\x07ZBk\\xe9\\x84\\t\\xa5i^\\xb8\\x05\\n\\xc6U\\xd2\\n]\\xe0+\\r\\xd4\\xb0\\x08*=\\xf0R\\xf2F\\xa4\\x1e\\xd8\\xa3\\xc2`\\xefC_\\xe4\\xa7\\xea\\x81.\\x15\\xe5F\\xc7\\xcdl$\\xf9\\xa1\\x0c$t\\xc0\\x83\\xc6\"\\x1c\\xa1Dj|\\xd0\\xf1\\x87\\x00<\\xe2b8(\\xf5\\xf4\\x18]\\x01\\x7f \\x8e\\xd1\\x0cV\\xabdmV~\\xcf\\x94f_\\xdc\\xcb\\xbe\\xf2Z@@[\\x963\\x05d\\x01J\\xa9A9\\x9e\\x93\\x9cK\\r\\xb0\\xcd\\xd3\\xfd\\x0fwO\\xe6v\\xbe\\xa8\\xc7\\x9b.|\\x93\\xde>\\xb8X8\\xa1\\x92\\x81\\x1d\\xb10kI\\xda\\xcc\\xdc\\xe3\\xc8m\\xbb\\x12\\xee\\xa9I\\nX\\x06\\xc7g:$\\xd4\\x1a\\x8c\\xc5\\t\\xca3\\x87l\\xe6\\xad\\xe7\\xe6\\x08W\\x82\\xe1\\xe7\\x14\\xa19\\x02I\\xc8\\r\\xc3\\xa2\\x02\\xc3X\\xf7M\\xb2\\xa2\\x00\\r\\xb9R\\xa3\\xf8&4i=\\x9c\\xde9\\xcb>\\xcb\\xb5l\\xcb\\x15\\xe9\\xd6\\xad\\xa7\\x14\\xc4\\x90\\x92q\\xb9\\x87\\x9fR\\x01R\\x87\"\\xda\\x8b\\x80\\x80\\x95\\x1erF\\x90\\x8e\\'\\te\\xea\\xba(I?\\xcf\\x17O\\xc5\\xff\\x00\\x18\\x04\\xdd$(\\xd0N,\\x7f\\xe9\\xff\\x00\\x18\\xd8N\\xc66\\x86\\xbc\\xfe\\xd0\\xafX\\xaf\\x1b\\x0ec\\xd8\\x85\\x1b\\xd8\\x9e\\xd0\\x89\\x1f\\xd4K\\xd2\\x07M\\x8b1\\xecGh\\xac\\xb1\\xac\\xa1\\xbb\\x9a\\xd3\\x8d\\xa5\\x06l\\x804W\"+\\xe9\\x87\\x8c\\xec\\xfd+N\\x11i\\xba\\x90x1\\xff\\x00\\xda5\\xe9m\\x8b_\\xe4\\x9c\\xee=\\xe6\\x1dv;\\xfe\\xccJ\\xb1\\xb1\\xcb\\xf8\\x8aV\\xe5^1\\xf9\\xa5\\xeff\\x13I]c\\xadl\\xe0-\\tI\\xb6_\\x00i\\xfc\\xdc{P\\xb7\\xf2`\\x82?\\xd3\\x93\\x03\\xfd\\xd4{q\\xb65\\xb2[\\xf2\\x9dn]\\xe3\\x1f\\x9a\\x9e\\xf6a\\x7f\\xe4\\xae\\xfc\\x7fb\\xef\\x1f\\xfc)\\xeff111\\xe8\\xd6\\x14\\xad\\x97\\xa0\\x7f\\xdfO\\x9f\\xf7a\\xed\\xc3gvn\\xd2\\x08&\\xd5yT\\xff\\x00\\xc3\\x8fj7f6k|ge\\xdb~N\\xe8^\\t\\x86\\x1dN$8\\xdd\\x96\\xf2\\x92\\xa1\\xc4\\x10\\x9c\\xe1\\xbb\\xfb(\\xbf*\\xd2\\xe5^^\\xcb\\x1d\\xff\\x00f\\x19?\\x06\\x06\\xf5\\xc3i\\xb2O\\xba.\\x93\\xf8\\x9a~\\xd45]\\xd5J4\\x9es\\xfc\\xa1\\xf5\\xc6\\xe51\\xb2+\\xf6k\\xfdH\\xbc\\xe7\\xf3,\\xc7\\xb1\\x11s\\x1b\\x1f\\xbf\\x83\\xfdG\\xbd#\\xf3$\\xcf\\xb1\\x1a\\x8a\\xcf\\xc4\\xd64n\\xba\\x07\\xfd\\xb1\\xd3\\xf9\\x1f\\xc6\\x0b\\xf6\\xaa\\x85\\xeb:\\xe8\\x1f3\\xf8\\xc6\\xac\\xe6\\xc9o\\xdak[\\x91z\\x7f\\xe0S^\\xc45^\\xcco\\xbbg\\x9droN_\\xec\\x19\\xaf\\xdd\\xc5\\xed\\x9f\\x86\\xb3\\x85]\\xe4Yr\\xaa|\\xce-\\xc1\\x8d))R)\\xa9\\xe3X\\xb7\\xd9\\x1bH\\xb4,\\t\\tii\\t;(\\xcb0\\x14\\x86\\xcc\\xc5\\x98\\xcb\\xaa8\\x8dIR\\xd4\\x9a\\xa8\\xe43:i\\x07\\xb7\\xae\\xcd\\xadc6\\xdc\\xbd\\xe5\\xb1-;%k\\xc2\\xea\\x1b\\xb4$]\\x96R\\xd3SE\\x00\\xe2A##\\x9fDTm\\xc5\\xa5-\\xb2\\x96\\xf7+A\\x1c\\xad\\xe7\\x1a\\x85\\xed[e\\xb5\\xe9\\xf7\\x05\\x83\\xd7\\xee,\\xbf\\xb3\\x107\\x8fh\\xf6\\x9d\\xe0\\x90\\\\\\x94\\xdb\\x16K\\x0c\\xac\\x82\\xa3-e0\\xca\\xcd\\ri\\x8d)\\xc4\\x07Q\\x11H\\xc6\\xb5x\\xa9Q\\x84\\xdc\\xe5~\\xf6\\xaf4E\\x03\\xce\\x82I\\x86\\xcbv\\xbc \\xcbK\\x87T\\x9f4 r\\xd7X\\x00\\x0e\\xa9&\\xa0&\\xbaf\\x90\\xafL\\x0f.\\xe1\\xdc\\xdf\\xf9H\\xfa\\xa0\\x87=2\\x8fa<+\\x1a\\xd6O\\x96\\xd0\\xe1\\x08)\\xb1\\xa6\\xfaC\\xe7\\x04 S\\x99\\xea1\\x1a3(\\xa7D\\x19#*\\xd3\\xcd\\n,\\x1d\\xf0vQT\\x1e\\xb8\\xa8\"\\r7y\\xa1t(t\\x08!Dx\\n\\x18\\ro\\xecr\\x9f\\xbbVf\\xd9.\\xf4\\xde\\xd0\\x19bf\\xec6\\xc4\\xf0\\xb4\\x1a~IS\\x88Z\\x15*\\xe2R\\x14\\xcaR\\xa2\\xb1\\x8dI\\xd1&\\x9a\\xee\\x8d\\xc6\\xfd\\xdc\\x1d\\x86N>\\xabGdW\\xd6\\xd3\\xbas\\xa0\\xe3L\\x94\\xd5\\x81i\\xbf(T)L\\x0er<\\xab9\\xe7Z\\xad#rDr\\xf5\\xc2p\\xb3yY_\\x06\\x1d\\xfdX\\xd6\\x93h\\x1c9\\x18\\xedZ\\xc5\\xa3\\x97;Zb[>\\xcb>\\xcb\\xeb\\xcbr\\x9dE\\x91\\xb40\\xf5\\xe9\\xb2\\xd9V\\x032I\\x13\\xad&\\xbe0R\\xe9\\xca\\x8af\\x02\\xe8\\xa3Q\\xce\\x1aGYY\\x1bx\\xb9v\\xec\\x94\\xbc\\xdd\\x991i\\xbc\\xd3\\xed\\x85\\xa6\\x96<\\xd5EF\\x87\\xde\\xe9^\\xaa\\x88\\xf9[y-\\x06e\\xadY\\xb7\\xa6\\xe4[\\xb4[\\tO\\xbc\\xb8\\xfb\\x8d\\n\\xe0\\xc9X\\x9b!U\\x1dq\\xd3;8\\xb6U+a\\xd9\\x88\\xae\\x10e\\x194\\xa94\\xaa\\x12i\\x9eq\\xd2\\x9d:\\xdege&\\xd3\\x10\\xec\\xc4mZ\\xef\\xac\\x9c\"\\xd5?\\x9a&G\\xecB\\xe9\\xda]\\x88\\xbf\\x15\\xbbP\\xfek|~\\xcc`RV\\xe2V\\x91UD\\xb3v\\xca@\\xadDv\\xfcz\\xfd\\x96?\\xd2Zl\\xed\\xe8\\xb0\\xdd\\x9d\\x9a\\xb4o\\x1d\\xf3r\\xc1\\xb2S\\xc9!\\x99i\\xd5\\xfb\\x96\\x90\\xa5Tf\\xea\\xcaK\\x98\\x884\\x02\\x84f\\rj)\\xcc\\xdbR\\xda\\xd5\\xfa\\x9da\\xdbZ\\xe5\\xdal][\\x96\\xb7_]\\x930\\xcb^\\x1f?j2\\xd2\\xcbFh\\xad\\xe5\\x146\\xd2\\x8aT\\xa4\\nW\\x0f8\\xea\"\\xb7\\xf6G^\\xe1g?r\\x9fSm<\\x80\\xb9\\xf4+\\x94H!\\x18\\xdbBB\\xfa)\\x1c\\xb6\\xf5\\xab5)\\xe1R\\x16d\\xdc\\xc4\\xad\\x9a\\x1dR\\xbc\\x19\\xa7\\x94\\x1aZ\\xa8RVS\\xa5H\\xd7\\x8e\\xf8\\xd5k\\xd2\\xe9Z-~\\x7f\\x9e=q\\xc93{\\xc6W\\x8f\\xeb\\xa76A\\xb6m\\xabMK53e[\\x88\\xbe6t\\xb4\\xba\\xde\\x98\\xb1m\\x06\\x84\\x8b\\xef0\\xdf9\\xceFa\\xa2\\x00p$\\x1a\\x15\\rE\\x089\\x03\\xd4K\\xda5\\xd2\\x9b\\xb2l\\xcb\\xcfs\\xf6\\x8d0\\xa9\\x17^\\x973\\x12L\\x7fK\\xac\\xa1\\xc4\\x179%2\\x9cN2\\xe1H5\\'$\\xd1U\\x15\\xa5>Z\\x1bBi\\x997$\\xd0\\xfb\\xde\\x00\\xe1HrU+!\\xb5\\x80q\\x00S\\xbcW:o\\xdfX\\xdc6Ei\\xb0\\xab\\xe31+(\\xd4\\xbaZ\\x94\\xb1\\x0b%m \\x02\\xb3\\xe1\\x01y\\xa8fh\\x08\\x1d\\x14\\x8c\\xe7K\\xab;\\x1f\\xaf\\x11\\xc7\\xd9\\xf7\\xff\\x00Wo^\\'\\x97\\xd0\\x14\\xed\\xd2\\xe6\\xa8W\\x97\\xb5G\\xe69\\xcf\\xdd@\\xabn72\\x9fu\\xdai\\xeb\\xb0gO\\xfc\\xa8\\xe7$O\\x00!\\'\\xed@\\x84\\x9a\\x1aC\\xf1\\xe9\\xf6N\\xf9tT\\xe7\\xd9\\x05\\xb3\\xeb=\\x95\\xbd;kO\\xb0\\xd2\\x05T\\xa5XS\\xf4\\x03\\xfc\\x98\\xe6\\x8d\\xaa}\\x9c3\\xb3\\xe9z\\xcf\\xd95\\x9e\\xe4\\x83\\n\\x05>\\xea\\xcf4\\x14\\xf2\\xff\\x00\\x14\\xcea=\\x05U=\\x00\\xc5F\\xf6Z\\xca\\x98a\\xc6\\xf1U%&\\xa2\\xbd\\x11\\xccV|\\xf4\\xbc\\xd4\\xfc\\xb3\\xb2R^\\xe7\\xb4\\xa5\\xb7V\\xbc%o\\xe7O\\x1b\\x12\\xf3\\xcf,\\xba#\\x85\\xfaqO\\x12\\xdcZe\\xb8]\\xeb\\x1a\\xe0\\xde\\xebO\\xdd\\x9d\\xbc\\xed\\x86\\xd4\\x98\\x99v\\x8avJ\\xce\\xb2\\xed\\x17\\xdd9\\n%sn0R)\\xa1Kh\\xea^\\xf8\\x88\\xfb(\\xe7\\xf6>\\xe5\\x8dq\\xa46\\n\\xd4\\xbbR\\xb2N\\xcf\\x1bMi\\x91\\x99e\\xe7\\x14\\xb0\\xcf&\\\\va\\x01n\\x9ek\\x94\\xa9U:+\\x15%\\xccss\\'\\xbe)w\\xdd|\\xa4\\xa4\\xa6u\\xf7\\xd3\\xe8\\x8esX\\x88\\xd2-3*z\\x95B+A\\x95a2\\xa1\\xba\\x90\\\\0`\\x98\\xe4\\xe9\\xa0\\xc3\\x8b\\x84\\x187\\x07J \\xe1\\x11\\x02ilA\\xf0uB\\x8108z \\xa5\\x15\\ta\\xd7\\xaa\\x15=0N=Q\\x03u\\x03\\n\\xcb\\x0f{W\\xce\\x82\\xacA\\xe5\\xfc\\x9a\\xbew\\xaa(\\x15\\nBf\\x0e\\xb2`\\x95\\xce\\x02~\\xe9/\\x92\\xb6\\x02\\xb80\\xe7\\xa0E\\xfd\\xb9\\xdc\\x87:3\\x8b\\x01|\\x9c\\xf9W\\xf7+\\xf5E\\xa5\\xb9\\x9e\\x98\\xebI\\xe1\\xce\\xd1\\xc9\\x8d\\xe9w\\x94\\x99\\x9a\\xe9J?R7\\xcb\\xabhr6e\\x9c1R\\x92\\xac\\x8f\\xfe4\\xc7;[\\x8ecy\\xfd\\xf5Js\\xfc\\x98\\xd8,I\\xec\\x12R@\\x9c\\x84\\xbb_\\xa8#\\xafNre-\\x1cCi\\xb3\\xed\\xbeh\\xaa\\xa2Y6\\xe77\\xc7\\x8c\\xb2J\\xd34\\xf1\\xa8\"M6\\xae\\x9c\\xe8\\xf5\\xc5\\xdc\\xbbU/\\xb2\"{\\xc3\\x19\\xbb`\\x9c\\x92f\\x0f\\x99?TbK5\\x98x\\x1f\\x96}1\\xa8mzm\\xb9\\xb5X\\xa9}./\\n^#\\x03\\x81<8\\x83\\x19\\xa2\\xdc\\x94\\x13O{\\xd4\\xd7\\x8cu}\\x07\\xf6#\\xc3\\xd5\\x9d\\xbc\\xbbW\\xc1\\x17R:\\xb3\\x8d?d\\x0fx=\\xef\\xb4\\x16\\r+\"\\xb1\\xfab3e\\xb9*R\\tnb\\x95\\xdc\\xf2\\x07\\xecE\\xebg\\x93\\x0c\\xb3yf\\x8b)u$\\xca\\xacUn$\\xfc!\\xc1\"%\\'\\xf6\\x85\\x9f\\r\\xf5V\\x96\\x1f\\x85\\xac0\\x9c\\xb5\\x06\\x13R{\\xe2\\tv\\x88\\xc23\\xf3\\xc4|\\xd4\\xfe!Br\\xeb\\x8fg{\\x96\\x12\\xb6\\'\\xb1b\\xcfP}\\x11\\xcfV*\\xf97\\xa5?\\x18\\x93\\xe6\\x8d\\x92zl(\\xab=\\xc7\\xd0c\\x13\\xb3\\x15\\x85r\\xfd\\nO\\xa2<\\xfdI\\xd6\\xea\\xb8\\xb95\\x96\\xb1Z\\xbc\\xeer\\xb2lt=O\\xd10\\xf9\\xc7\\xc4D[j+\\x92l\\xd3.^\\x9f\\xa2c\\x9d\\xa7\\x82!_\\xa6pt\\xa6<\\x98Q#\\xa28:\\x04\\x088L\\x08L)\\x86\\n L\\x1b\\x08\\x83\\x84\\xc0\\xd0E\\x08\\xa8e\\t\\xd4\\x85\\x00\\x06D\\x1a\\x9e\\xc8UPQ\\x91\\xec\\x80A\\xc1\\x94-(=\\xe9u\\xf9^\\xa8My\\x93\\x0bI\\x8f{]>W\\xaa(#\\x89\\x84\\xe9\\x0eW\\xd1\\r\\\\PI\\xcd@tC\\x11%c\\x91\\xe1K\\xaf\\xdeU\\xea\\x89\\xd4-5\\xe1\\x15\\xbb-\\xd0&\\x14A\\xf8\\xb2<\\xe2&\\x10\\xe8\\xe3\\x168BV\\xa1\\xab\\x8e\\xf0\\xc0=\\x11\\xa6Y\\xb38e%\\x07\\x06[\\xfdQ\\x19|\\xfa\\xf1\\x173\\xf8#\\xd1\\x17\\xa9\\x19\\x8aKKp\\xe4\\x91\\xfa\\xa2:\\xd2RW\\x19y\\xdc=P\\xf8Z\\x1c\\xd3JEQ\\x99\\x9aeZ\\x88w\\xe1t\\x19\\x9c\\xa3\\xacY\\x8cD\\xdf\\xf9\\xae]\\xcb2\\xa6\\xb4K\\xbe\\xa8\\xa2\\xbc\\xa0f\\x9e\\xa7\\xcb1e\\xbd\\xaf\\x97_\\x92\\xcc\\xe4\\x97=QOqg\\xc3^ \\xd3\\x9c=&<\\xf7\\x9d\\xb3q\\xe0\\xe0\\xab \\x0f\\x18\\xb9\\xdc\\xc9\\x80\\xdd\\xb8\\xe2\\xc9\\xcc\\xcb\\xac~\\x90\\x8a\\x11r\\x87\\xa3\\x10\\x8bE\\xdc\\x7f\\x93\\xb5\\n\\x86\\xf6\\x16<\\xe2%g\\x98_MPN\\x85\\xd4\\xee\\x86\\xd3\\x13\"\\x86\\xa6!\\x91:\\nE\\x0ep\\x9b\\xd3{\\xebX\\xef\\xdc\\xc6\\x06m\\xf0\\xacYd\\x12}\\x11\\x94\\xca\\x0c+g\\xa0\\x8fDh3\\x13D\\x85\\xe7\\xb8\\xfa#>\\x97#\\x1bD\\x1e\\x1e\\x88\\xe7i\\xe1\\xa8H)C\\xaa#\\xadR\\x0c\\x9a\\x07\\xf7\\xd5\\xfd\\x18t\\xb5\\x80u\\x866\\x8a\\xd3\\xe0\\xc8\\xa9\\xf8\\xdf\\xd9\\x8es\\xe1Q\\x89\\x10\\xbaD$\\x85$\\x9a\\x02\\t\\xeb\\x85\\xd0F\\xfc\\xa3\\r\\x0e\\x94\\xc2\\x80AA\\xe1\\x07NqG\\xa3\\xd0ze\\x00D\\x03UA\\t\\x02\\xb5\\xcb(~\\x99$\\xea\\xa5\\x15\\x13\\xb8d \\xc1\\xa4\\xa4{\\xda\\x12\\x93\\xbe\\xb9\\xfa`\"\\xe8\\xa7<D\\x928\\xc2\\xec\\xa1\\xd6\\xd0SD\\x8a\\x9a\\xd4\\xd7\\xd1\\x0f\\x15\\x8b\\x8e(\"\\r\\x15\\x9dzwE\\x80\\x90\\x95S\\x94\\xc6\\xb5(\\x1d\\xd5\\xc2<\\xd0\\xabv`5\\xc2\\xdd;!\\xcb\"\\xaa\\xe3\\xe6\\x89VZ%\"\\xa0\\xe2P\\xd4\\x9f\\xe3\\x15\\x94t\\xb5\\x9e\\x1aX \\n\\x13\\x84\\xe7\\xff\\x00\\\\\"A\\x12ct=KIR\\xa5\\xc2\\x97\\x88\\xf2\\xa9\\x1a\\xe9\\x91\\x89\\x03.\\xdbh\\xc4\\xb7\\x08\\x19\\x0c\\x84\\x04\\x13\\xb6rVT)R@\\x19D\\xe4\\xbb\\x9c\\x9bm\\xa3r\\x12\\x13\\xdc)\\x1a\\xdd\\xc5\\xd8\\xcb\\x93E\\xabJ\\xf82\\xeb\\x12\\xea\\xa2\\x9a\\xb3I\\xc2\\xe3\\x83qwz\\x13\\xf8>1\\xdfM!\\xf5\\xa3\\xb1i\\x07m\\t\\xa7[\\xb4g\\xa5\\xdby\\xe5\\xb8\\x94!\\xb6\\xb0\\xa0(\\x93\\x84\\x0c:\\n\\xd0t\\x08\\xb5\\x9c\\x92Y\\x02^\\xa6\\x86\\x04\\xcc\\x9d\\t\\x8d[\\xf9\\x0f\\x95\\xa1\"\\xd9\\x9e\\x1f9\\x96\\xfe\\xa8i1\\xb1\\x96\\x10=\\xea\\xd7\\x9c]+\\xf1\\x08\\x8e\\x8c\\xb29\\xf4\\xb34Pf+TW\\t\\n\\xa6\\xba\\xc4+\\xd6T\\xb9Z\\x9cC\\xce\\x82\\xa3\\\\\\xe8cZ\\xb46_+(\\x82\\xa9\\x8bRv\\x9f\\x8a@\\x8a\\xcc\\xd5\\xd4\\xb1\\xda$\\x1bJ}G\\xe6\\xb6=P\\x98\\x8ff\\xa8\\xa9\\xb3\\x18Q\\xaa\\xdep\\xf5\\x00\"VM\\xb6\\xa5]\\xe5\\x1b*R\\xf0\\xe1\\xaa\\x95\\xea\\x89\\xc6\\xee\\xc5\\x94\\xb3D\\xda\\x13\\xc3\\xb1\\xb3\\xea\\x89i+\\x83+3\\xe4m\\x19\\xba\\x1d\\xe5\\xa4\\x18\\x99\\x1e\\x97\\x94\\x1bseF\\x80\\xc1\\xd6\\xf8\\x033X\\xbb\\xcbl\\xa1+\"\\xb6\\xab\\xe9\\'\\x7f \\x98|\\x9d\\x8e\\xb4\\xbaV\\xda\\x99=\\x02Y?\\\\\\x11\\x97\\xb8\\xf6,\\xa9\\xae]\\xf1\\x08,\\xbeE\\xc0\\x95dRi\\xa5#ooc\\x0cr\\xedb\\xb5\\'\\x14\\x12\\xb4\\xa8\\x83.\\xd8\\x04\\x02\\r;iH^\\xfal\\x89Kq\\xebJ\\xe84\\xa3\\x88\\x95\\xae\\xce\\xc5\\x9e\\x7fzQ\\xd7\\xe6\\x13\\xd4wG;KP\\xc2W%Z\\xe4a\\xa4\\xcc\\x8e0\\x11M\\xf8\\xa8{\\xa2\\xca\\xb9P\\x14\\xb4\\x90\\xa4-\\x04\\xa5iZp\\xa9$j\\x089\\x828\\x18j\\xe4\\xb2D\\xc2R+\\x9bD\\xfe\\x90\\x8c\\xaa\\xa2\\xfd\\x9a7\\xa6\\xb0\\xd8\\xca\\xad\\x19!JH\\xe0s\\x11ly\\x84R\\x83=\\xfaC\\x07%A$&\\xbdxO\\x9e\\x10!\\xd0\\x97\\x06\\xa9J\\x80\\xe0h{\\xa0\\xe1\\xc4\\xa4\\x8cUG\\xce\\x14\\x87\\xbc\\x90\\x19\\x11\\xa4\\x07$:\\rF\\x82.\\x84\\x81\\xa8\\xae\\xe8\\xf5 \\xde\\x08\\x92y\\x9c\\xc3\\xc5\\'\\x0c\\x01e\\xd4\\x9a\\x07k\\xf3\\x90\\t\\x8c\\xea\\x9c\\xac\\x01\\xad\\x07\\xae\\x0bRNE*>s\\x07t\\x84\\xac\\x80\\x05z\\xa9\\xe8\\x84\\xd2I\\xa0\\xc21n\\xa6\\xf8\\xa0\\ny\\xd9\\x11\\x91\\xd7\\x0e\\x86\\x15fW\\x95\\xa9 \\x95\\x0c\\xfcRGo\\x08\\xf0I\\xc9I%YgL\\xe9\\xdd\\x0f\\xe5\\xf1\\x92\\x93E\"\\x9f\\x83@{\"\\xc3 jU9V\\xb5#\"\\x15\\x0f[\\x96\\'\\x9b\\x8a\\x8a\\xa7\\x8b\\x84\\xd4\\xc2\\x89\\x97\\xa2q\\xab\\x02\\x0e\\xeaPV\\x1c\\xb4\\xd8\\xc0yJ\\n\\x91J\\x11\\xe81AP\\x80\\xdb\\xb2a\\xc7\\x9bh\\x19\\xa6\\xd3\\x8ea\\xc4\\xb4\\x84\\x92\\x149\\xcbQ\\tH\\xe9&\\x827\\xcb\\x83f\\xec\\xfa\\xea\\x16\\xad\\x0bZ\\xfb]{N\\xde\\x19\\xa5~\\xea\\xb2Y\\x94<\\x1a\\x04\\xf3\\x95\\xfd\\xe1\\xfc\\x905<\\xefy\\x1bA\\xb0\\x14R\\t\\xf7\\xf6\\xab\\x96\\xb9\\x98\\xa8;(\\xec\\xae%LK<\\xc8\\x14\\xa9q\\x85$\\n\\xe9Z\\x88+\\xbf\\x91~nR\\xf5\\xbe\\xb7d\\x93\\xc6\\xd9c\\xda\\x81U\\xec\\xb9\\x8e\\x8a}\\xb8\\xdd\\x93\\xd5l\\xcb\\xfbq\\xf3\\xfc\\x16\\x8eE\"\\xb4\\x074S]7B\\x98\\x1a#6\\xd1\\xf4DM1\\xdf\"\\xf1\\\\\\xe5\\xe4\\x9b\\xe1v\\xe9\\xfe5-\\xed\\xc3I\\x99\\xeb\\xa98\\xe1X\\xbe\\xb7m\\xb4\\xd0\\x04\\xa56\\xc4\\xb6C\\xaf\\x95\\xce89M3O$\\xdf\\xd0\\x10P\\xcb;\\xd9o\\xe8\\x88\\xd7q\\x8e\\xda\\xb4,{\\xa9>\\x82>\\xdd\\xee\\xe9\\'J\\xda\\xf2\\xff\\x00\\xbd\\x8a\\xac\\xee\\xcf.\\xc4\\xc1\\'\\xed\\xc2\\xed*\\xbf\\xed\\x99_\\xdeG)\\xa2]\\x8a\\xd0\\xb2\\xde\\x7f\\x80!O\\x06b\\xbeA\\xaf\\xa0!\\xdd\\xa6:u\\xad\\x9c\\xdd\\xa6O6\\xf7]\\xc4\\x8f\\xf1\\x89_S\\x911%wn\\xdc\\x9d\\x07\\xdb\\x95\\xdd\\x14\\xe1k\\xcb\\xfe\\xf29\\x1f\\xc1\\xd8\\xd3\\x90o\\xe8\\x08*\\xa5\\xd8\\xdc\\xc3\\x7f@B-\\x06;NX\\xdd\\xa9e\\xa4\\xfd\\xb8]\\xf2\\x01\\xcc\\x1b^\\\\\\x83\\xc7\\xe3\"U\\x16\\xbd\\xd6NB\\xf5]\\xe4\\xd0\\xd4\\x7fL\\xcb\\xe9\\xf4\\xe3\\x84\\xc3\\r\\x03\\xe4\\x9b\\xfa\\x02\\x14\\xe4\\x19\\'&[=H\\x10\\xee1\\xdd\\xc8\\xbc\\x17U&\\xaa\\xbd\\xb7v\\xbf\\xe3\\x12\\xfe\\xdc\\x0b\\x97\\xa2\\xe8S;\\xdfw\\x01\\xe9\\xb6%\\xfd\\xb8\\xe0\\xf2\\xc3?zG\\xd1\\x10R\\xd3i\\xd1\\xb4\\x0f\\xc8\\x11\\x9d1\\xd7W\\xd2J\\xe0\\xde\\xd0\\xa7\\x9c\\xbd\\xf7vF\\xd5\\t\\xa3s\\xcd\\xda\\x8c(\\xaa\\x9a%\\xd4\\xe2\\xe7\\xa7\\xa7\\xc6\\x1b\\x8e\\xe8\\xc2\\xad\\x19DJ[\\x0eJ\\xf8T\\x85\\xa4Zc\\xca\\xc8\\xce&e\\x95\\x02\\xbc\\x88Z\\x0e\\xfahhF\\xf1\\x19\\x99i\\xb3RP\\x9d~H\\x8b%\\xcdBR\\xf4\\xfe\\x14\\xd3\\xde\\xdb\\xd2\\x83\\xe1\\x18\\x0b\\x02\\xdaH\\xc4*\\x05t\\x050\\xcd\\xe6k\\x8a\\x82\\x9c)\\x9eq(\\xe0\\xc5LY\\xa4\\x7f\\xd7\\x18E\\xc5\\x82p\\xa1\\x01h\\xadh@\\xad\"\\xa2\\x15l\\x1c\\xf1\\x85T\\x1adk\\x08\\xf2@\\xa8\\x84\\xe25\\xdd\\x8a$^IV,\\x9c \\xebT\\xe5\\x0c\\xdcJH8S\\x95t\\xfe\\x11\\x02\\x1c\\x9d)A\\x8b\\xb7(\\xf1d\\x83B(xA\\xcf7:(S\\xa7\\xcf\\x1e\\r\\x95\\n\\x9c\\x03\\xb6$\\xc0\\xf2\\xdaMh\\x12\\xda\\x8e\\xfc\\'XM,c\\x04$\\x86\\xeb\\xf0H\\x06\\xb0e\\xcc\\xe7Z\\x0c\\xb7\\xd2\\x90\\x8f.\\x90\\xaa\\xac\\xe1\\x15\\xf8&\\x90\\xd5\\x1c2\\xa4\\x92\\x93\\\\Z\\x01\\xa6u\\xde!\\xfc\\xabHJp\\x90\\xa2\\xb4\\xea\\xa0\\xa3J\\xc4W\\x87\\x14\\x95`$\\xd7zM|\\xc6<&V\\x17E(\\xd7x\\xadI\\xee\\x8d\"\\xc8\\xca\\x03\\x85%\\xc5\\x05\\xd4P\\x12\\xba\\x9f<:K $\\xe2P\\xa0;\\xf3\\x88\\x19Y\\xa2\\xba\\'\\x16\\x14\\x0f\\x84\\xa4hxk\\x12ML5\\x88\\x07f\\xb1\\xa8\\xf8\\xb8\\x100\\x81\\xdf\\x01\\xeb}*M\\x8c\\xf2\\x90\\x02\\x92\\xdb\\xcd8@\\xaeI\\n\\xa9&\\x1d\\xabl6\\x93.<\\xec\\x87\\xba2\\xb3\\x0e\\x14\\xe2t^\\x19\\xc5\\x10\\x02\\xb1\\x04\\x80M\\x00\\x07A\\xc3Z\\xc0=2\\xdbHm\\xb0\\xf2VrQ)@\\xca\\x11Z\\xd2\\xe6%\\x19\\xd2\\xb2\\x08\\xe6\\xd0\\x9a\\xf6\\xe9\\x01\\x15y\\xf6\\x8dk^v\\x13)7h\\xdaI\\xb3\\xf2Z\\xe4\\xdf\\xb5\\x1f\\x9biN\\x05(\\xa5ts0@ \\x01\\xba\\x9d1V\\x13)\\xdc\\xa1\\x17\\x87V\\xd8Y(\\x98RA\\xd0,\\xd4\\x8e\\x83HESiM9G\\xa9^\\x88.\\xa9\\xa5\\xf4\\x1dT R\\xfb`\\xf8\\xe9\\xafI\\x8b\\xd3\\x0e%b\\xa1\\xe4\\xba\\x90*J\\x93T\\x8e\\xb8p\\x96\\xe5\\x94\\tR\\xc2\\x12G5k*\\x15\\xea\\x1410\\xd6~&Z\\x07\\xc7\\x1d\\xf0\\x7f\\x0chj\\xa4\\xfd(\\xbf\\xb7\\x80\\xa4\\xa5)H:\\x80\\xb6\\xf5\\xe9\\xac\\nH|\\x90\\xd2\\xd0U\\xd0\\x9dz:a\\x86\\xb3\\xd36\\xd7\\xcbI\\xed\\x84\\xd52\\x82h\\x16;\\xe3A\\xe6:TR\\xa5\\x925%:@\\xad\\x94\\xa5`)AN\\xefI@ \\x0e\\xc8\\x1a\\xce\\xf9d}\\xf15\\xe1X\\xf7\\x84 e\\xca$\\xf6\\xc6\\x80\\xb2\\xd2\\\\PPN\\x102(\\x14\\xcf\\xaf8\\x01\\x84\\xd2\\x81$\\x91\\x99\\x19\\xd3\\xae\\x905A\\xf0\\x86\\xe9\\x9a\\x87|\\x10\\xbe\\xda\\x8f\\x8e\\x9a\\xf5\\xc6\\x82\\x99\\xa6\\xd0(\\xb7\\x13Jd)S^\\xe8\\xf2\\x9cb\\x80\\xa6e%@x\\xb8t\\xeb\\xca)\\xac\\xf0\\xbe\\xd8M1\\xa4\\x1a\\xd6\\xb5\\x06,\\xb7?\\x16)\\xf5\\x84)I\\xa3i\\xa8\\x04gS\\x94N,\\xa4$ro \\x85i\\xcd\\xa9\\xef\\x85\\xd8}\\r,\\xf2\\xcf\\x90\\xa5dy\\xa4W\\xaf\\x8c\\r*[\\xaezS\\xe0\\xaa\\xa0\\x88I\\xcc\\x154\\xa2k\\x04~i\\x01Dr\\x87\\x8dx\\xc3\\'g\\x1bRJA%Dj\\x15H!G\\xdcC`\\xa8\\xd7JU&\\x91\\x1a\\xa7\\x85h\\r\\x06\\x99\\x90a\\x07&\\n\\xab\\xce\\x15\\xfc*\\x83\\xd9\\x1eB\\xd4QD\\xa4,\\x1dF\\n\\xff\\x00\\x1e\\xe8\\xce\\x85\\x8b\\xaa(\\xa2\\x95CL\\x8dk\\xd9\\xd1\\x01\\xca\\x03\\x9a\\x91S\\xbe\\x8a\\xa4\\x15j\\t\\x006\\x95%_\\t$A\\xd2T\\x06@\\x0e\\x85\\x1a\\x1f<@\\x82\\xd8*Q\\xc0\\x93]\\xea\"\\xb4\\x84y\\x15\\x11P\\xba.\\x87Q\\x13\\x0eyS\\xf3\\xa1A\\xaa{a\\x8a\\xaf.]\\xc2\\x02\\x8a\\xf1(\\x8d3\\'\\xd1H;2\\xae\\xa8c\\xc0P4\\x00\\'S\\xe9\\x89\\xa7\\xbc\\xb9\\xea\\x10\\xa2|\\xa2cF\\xa3\\x15(\\xf8JBP\\x90R+R\\x822\\x85\\x9a\\x95\\x9d-\\xf2\\xa1\\xa70\\xa4|R\\xd2\\x94\\x8e\\xf3\\x12#\\xe0\\xf6z!7\\xfc\\xbb\\xbf\\x93\\xea\\x8a\\x88\\xc5\\xcbO\\xb8\\xbcji8\\x07\\xc3X\\xf4\\x98M\\xe6\\xe6]Y)e\\xb2\\x90y\\xb8])\\'\\xa7H\\x9b\\x93\\xf8?:\\x1d#\\xc4\\x10\\x15DY\\xb3\\x98\\xaa\\x14\\xd3I\\xaeE\\xd7j;r\\x83.Fu+\\x05\\xd0\\xda@\\x14R\\xd0\\xbc@q\\xca\\x9eh\\xb5M|\\x1f\\x9b\\tLyU\\xfe8\\xfa`\"\\x99\\x93x2\\x84\\xb7\\x8dKZ\\x80\\n>!\\xf5\\xc3\\xc9\\xb7\\x8f \\xe1\\xb6\\x1f\\x9bK\\xcc\\x02\\x946\\x94\\xd5*\\x15\\x02\\x95\\xaeC>\\x11\"\\xe7\\xdd-\\xf5\\xc2\\x13~E?8\\xc0FJK\\xcc\\xac\\x17\\x04\\xa3\\xb8H\\n\\xc6[*\\xa5OQ\\xdd\\x02\\x86\\xd2\\xe1\\n\\x98IC*\\xf1\\x08ET{i\\x90\\xeb\\xe8\\x89\\x1b3\\xee7\\xbf\\xf3\\xe3\\xd5\\x12\\xc8\\xf1?%\\x7f\\xac +\\x0eUJShR\\x94\\xd6\"\\x1a\\xa9\\xd4W\\xb2\\x9dQ ,\\xe5\\xb6\\xcaj\\x02\\xb4%@\\xd4\\x01J\\xf1\\xa5z\\x04\\x16c\\xfeq\\x86\\xacyFz\\xc7\\xa6\\x01WYG \\x1c\\xab\\x8db\\xad\\x06H\\x03\\x86g#\\x0cZ\\xc6U\\x81\\x85\\xe3?\\x08r\\x94\\xcbZ\\x82\\r\\x0cX&\\xbe\\xe3\\x1f8z\\xa2\\x10\\xef\\xeb\\xf5\\x98\\x04\\xa6\\xe4\\xe6\\x94\\xda\\xf97\\x18P\\xaf7\\x9e\\t\\xfd,\\xfb\\xb4\\x823g<\\x89e,\\xce(\\xcc\\xfc\\x84\\xd2\\x80\\x0e\\x9a\\xc3\\x84y~\\xd8|<\\x8b]\\xb0\\x11(bp`K\\xb4)\"\\x84\\x85k\\x0eV\\xca\\x9bIPJB\\t\\xcb\\x9e\\x92H\\xec\\xcf\\xcd\\x0e\\xd3\\xe3\\xaa\\x08\\xdf\\xdc\\xcb\\xf9\\xe3\\xd7\\x102\\xe5\\x92\\x02T\\x95` P\\xe7P{!\\x17N2\\x95$aUs\\xc02\\xef\\xdd\\x12\\x96o\\xdd)\\x87n}\\xd8\\xef\\xe2\\xbdq\\x1aW\\xdbi\\xc2y\\x84,\\x91\\x98:\\x1e\\x93\\x9e\\xb0\\xa0\\x96\\xc23@A\\x1f\\x07?LH\\x0f\\x89\\xfcg\\xd5\\x08\\xfc`\\xeb>\\x98\\x98\\x102\\xe4\\x92YF#\\xc2\\xb5\\x03\\xbcC\\xa4\\xbc\\xea\\x00\\x1e\\n\\xe2r\\xd1+\\xca\\x01\\xef,\\xd7_\\xaa\\x0e\\xde\\x87\\xae\\x08\\xff\\xd9'"
      ]
     },
     "execution_count": 57,
     "metadata": {},
     "output_type": "execute_result"
    }
   ],
   "source": [
    "imageLink.content"
   ]
  },
  {
   "cell_type": "markdown",
   "id": "severe-joseph",
   "metadata": {},
   "source": [
    "Above is the raw content of the actual image i.e. it's a binary file and can be interpreted by a computer's machine language.\n",
    "\n",
    "**Let's write this to a file,<br>Note the `'wb'` call to denote a binary writing of the file.**<br>\n",
    "`wb` = `write binary`"
   ]
  },
  {
   "cell_type": "code",
   "execution_count": 58,
   "id": "least-action",
   "metadata": {},
   "outputs": [],
   "source": [
    "f = open('quantum-computer-image.jpg', 'wb')"
   ]
  },
  {
   "cell_type": "code",
   "execution_count": 59,
   "id": "subject-finger",
   "metadata": {},
   "outputs": [
    {
     "data": {
      "text/plain": [
       "6816"
      ]
     },
     "execution_count": 59,
     "metadata": {},
     "output_type": "execute_result"
    }
   ],
   "source": [
    "f.write(imageLink.content)"
   ]
  },
  {
   "cell_type": "code",
   "execution_count": 60,
   "id": "attractive-architecture",
   "metadata": {},
   "outputs": [],
   "source": [
    "f.close()"
   ]
  },
  {
   "cell_type": "markdown",
   "id": "viral-beijing",
   "metadata": {},
   "source": [
    "Now we can display this file right here in the notebook as markdown using :\n",
    "\n",
    "    <img src=\"quantum-computer-image.jpg\">\n",
    "    \n",
    "Just write the above line in a new markdown cell and it will display the image we just downloaded!"
   ]
  },
  {
   "cell_type": "markdown",
   "id": "dominant-remove",
   "metadata": {},
   "source": [
    "<img src=\"quantum-computer-image.jpg\">"
   ]
  },
  {
   "cell_type": "markdown",
   "id": "aboriginal-liberty",
   "metadata": {},
   "source": [
    "### Example Project - Working with Multiple Pages and Items\n",
    "\n",
    "Let's show a more realistic example of scraping a full site. The website: http://books.toscrape.com/index.html (a part of, https://toscrape.com/) is specifically designed for people to scrape it. Let's try to get the title of every book that has a 2 star rating and at the end just have a Python list with all their titles.\n",
    "\n",
    "We will do the following:\n",
    "\n",
    "• Figure out the URL structure to go through every page.<br>\n",
    "• Scrap every page in the catalogue.<br>\n",
    "• Figure out what tag/class represents the Star rating.<br>\n",
    "• Filter by that star rating using an `if` statement.<br>\n",
    "• Store the results to a list.<br>\n",
    "\n",
    "We can see that the URL structure is the following:\n",
    "\n",
    "    http://books.toscrape.com/catalogue/page-1.html"
   ]
  },
  {
   "cell_type": "code",
   "execution_count": 112,
   "id": "clinical-dependence",
   "metadata": {},
   "outputs": [],
   "source": [
    "baseUrl = 'http://books.toscrape.com/catalogue/page-{}.html'"
   ]
  },
  {
   "cell_type": "markdown",
   "id": "exterior-weekend",
   "metadata": {},
   "source": [
    "We can then fill in the page number with `.format()`"
   ]
  },
  {
   "cell_type": "code",
   "execution_count": 113,
   "id": "piano-stone",
   "metadata": {},
   "outputs": [
    {
     "data": {
      "text/plain": [
       "<Response [200]>"
      ]
     },
     "execution_count": 113,
     "metadata": {},
     "output_type": "execute_result"
    }
   ],
   "source": [
    "# Obtain request\n",
    "\n",
    "res = requests.get(baseUrl.format('1'))\n",
    "res"
   ]
  },
  {
   "cell_type": "markdown",
   "id": "embedded-consultancy",
   "metadata": {},
   "source": [
    "Now, let's grab the products (books) from the get request result :"
   ]
  },
  {
   "cell_type": "code",
   "execution_count": 114,
   "id": "impressed-vocabulary",
   "metadata": {},
   "outputs": [],
   "source": [
    "# Turn into soup\n",
    "\n",
    "soup = bs4.BeautifulSoup(res.text, 'lxml')"
   ]
  },
  {
   "cell_type": "code",
   "execution_count": 115,
   "id": "russian-traffic",
   "metadata": {},
   "outputs": [
    {
     "data": {
      "text/plain": [
       "[<article class=\"product_pod\">\n",
       " <div class=\"image_container\">\n",
       " <a href=\"a-light-in-the-attic_1000/index.html\"><img alt=\"A Light in the Attic\" class=\"thumbnail\" src=\"../media/cache/2c/da/2cdad67c44b002e7ead0cc35693c0e8b.jpg\"/></a>\n",
       " </div>\n",
       " <p class=\"star-rating Three\">\n",
       " <i class=\"icon-star\"></i>\n",
       " <i class=\"icon-star\"></i>\n",
       " <i class=\"icon-star\"></i>\n",
       " <i class=\"icon-star\"></i>\n",
       " <i class=\"icon-star\"></i>\n",
       " </p>\n",
       " <h3><a href=\"a-light-in-the-attic_1000/index.html\" title=\"A Light in the Attic\">A Light in the ...</a></h3>\n",
       " <div class=\"product_price\">\n",
       " <p class=\"price_color\">Â£51.77</p>\n",
       " <p class=\"instock availability\">\n",
       " <i class=\"icon-ok\"></i>\n",
       "     \n",
       "         In stock\n",
       "     \n",
       " </p>\n",
       " <form>\n",
       " <button class=\"btn btn-primary btn-block\" data-loading-text=\"Adding...\" type=\"submit\">Add to basket</button>\n",
       " </form>\n",
       " </div>\n",
       " </article>,\n",
       " <article class=\"product_pod\">\n",
       " <div class=\"image_container\">\n",
       " <a href=\"tipping-the-velvet_999/index.html\"><img alt=\"Tipping the Velvet\" class=\"thumbnail\" src=\"../media/cache/26/0c/260c6ae16bce31c8f8c95daddd9f4a1c.jpg\"/></a>\n",
       " </div>\n",
       " <p class=\"star-rating One\">\n",
       " <i class=\"icon-star\"></i>\n",
       " <i class=\"icon-star\"></i>\n",
       " <i class=\"icon-star\"></i>\n",
       " <i class=\"icon-star\"></i>\n",
       " <i class=\"icon-star\"></i>\n",
       " </p>\n",
       " <h3><a href=\"tipping-the-velvet_999/index.html\" title=\"Tipping the Velvet\">Tipping the Velvet</a></h3>\n",
       " <div class=\"product_price\">\n",
       " <p class=\"price_color\">Â£53.74</p>\n",
       " <p class=\"instock availability\">\n",
       " <i class=\"icon-ok\"></i>\n",
       "     \n",
       "         In stock\n",
       "     \n",
       " </p>\n",
       " <form>\n",
       " <button class=\"btn btn-primary btn-block\" data-loading-text=\"Adding...\" type=\"submit\">Add to basket</button>\n",
       " </form>\n",
       " </div>\n",
       " </article>,\n",
       " <article class=\"product_pod\">\n",
       " <div class=\"image_container\">\n",
       " <a href=\"soumission_998/index.html\"><img alt=\"Soumission\" class=\"thumbnail\" src=\"../media/cache/3e/ef/3eef99c9d9adef34639f510662022830.jpg\"/></a>\n",
       " </div>\n",
       " <p class=\"star-rating One\">\n",
       " <i class=\"icon-star\"></i>\n",
       " <i class=\"icon-star\"></i>\n",
       " <i class=\"icon-star\"></i>\n",
       " <i class=\"icon-star\"></i>\n",
       " <i class=\"icon-star\"></i>\n",
       " </p>\n",
       " <h3><a href=\"soumission_998/index.html\" title=\"Soumission\">Soumission</a></h3>\n",
       " <div class=\"product_price\">\n",
       " <p class=\"price_color\">Â£50.10</p>\n",
       " <p class=\"instock availability\">\n",
       " <i class=\"icon-ok\"></i>\n",
       "     \n",
       "         In stock\n",
       "     \n",
       " </p>\n",
       " <form>\n",
       " <button class=\"btn btn-primary btn-block\" data-loading-text=\"Adding...\" type=\"submit\">Add to basket</button>\n",
       " </form>\n",
       " </div>\n",
       " </article>,\n",
       " <article class=\"product_pod\">\n",
       " <div class=\"image_container\">\n",
       " <a href=\"sharp-objects_997/index.html\"><img alt=\"Sharp Objects\" class=\"thumbnail\" src=\"../media/cache/32/51/3251cf3a3412f53f339e42cac2134093.jpg\"/></a>\n",
       " </div>\n",
       " <p class=\"star-rating Four\">\n",
       " <i class=\"icon-star\"></i>\n",
       " <i class=\"icon-star\"></i>\n",
       " <i class=\"icon-star\"></i>\n",
       " <i class=\"icon-star\"></i>\n",
       " <i class=\"icon-star\"></i>\n",
       " </p>\n",
       " <h3><a href=\"sharp-objects_997/index.html\" title=\"Sharp Objects\">Sharp Objects</a></h3>\n",
       " <div class=\"product_price\">\n",
       " <p class=\"price_color\">Â£47.82</p>\n",
       " <p class=\"instock availability\">\n",
       " <i class=\"icon-ok\"></i>\n",
       "     \n",
       "         In stock\n",
       "     \n",
       " </p>\n",
       " <form>\n",
       " <button class=\"btn btn-primary btn-block\" data-loading-text=\"Adding...\" type=\"submit\">Add to basket</button>\n",
       " </form>\n",
       " </div>\n",
       " </article>,\n",
       " <article class=\"product_pod\">\n",
       " <div class=\"image_container\">\n",
       " <a href=\"sapiens-a-brief-history-of-humankind_996/index.html\"><img alt=\"Sapiens: A Brief History of Humankind\" class=\"thumbnail\" src=\"../media/cache/be/a5/bea5697f2534a2f86a3ef27b5a8c12a6.jpg\"/></a>\n",
       " </div>\n",
       " <p class=\"star-rating Five\">\n",
       " <i class=\"icon-star\"></i>\n",
       " <i class=\"icon-star\"></i>\n",
       " <i class=\"icon-star\"></i>\n",
       " <i class=\"icon-star\"></i>\n",
       " <i class=\"icon-star\"></i>\n",
       " </p>\n",
       " <h3><a href=\"sapiens-a-brief-history-of-humankind_996/index.html\" title=\"Sapiens: A Brief History of Humankind\">Sapiens: A Brief History ...</a></h3>\n",
       " <div class=\"product_price\">\n",
       " <p class=\"price_color\">Â£54.23</p>\n",
       " <p class=\"instock availability\">\n",
       " <i class=\"icon-ok\"></i>\n",
       "     \n",
       "         In stock\n",
       "     \n",
       " </p>\n",
       " <form>\n",
       " <button class=\"btn btn-primary btn-block\" data-loading-text=\"Adding...\" type=\"submit\">Add to basket</button>\n",
       " </form>\n",
       " </div>\n",
       " </article>,\n",
       " <article class=\"product_pod\">\n",
       " <div class=\"image_container\">\n",
       " <a href=\"the-requiem-red_995/index.html\"><img alt=\"The Requiem Red\" class=\"thumbnail\" src=\"../media/cache/68/33/68339b4c9bc034267e1da611ab3b34f8.jpg\"/></a>\n",
       " </div>\n",
       " <p class=\"star-rating One\">\n",
       " <i class=\"icon-star\"></i>\n",
       " <i class=\"icon-star\"></i>\n",
       " <i class=\"icon-star\"></i>\n",
       " <i class=\"icon-star\"></i>\n",
       " <i class=\"icon-star\"></i>\n",
       " </p>\n",
       " <h3><a href=\"the-requiem-red_995/index.html\" title=\"The Requiem Red\">The Requiem Red</a></h3>\n",
       " <div class=\"product_price\">\n",
       " <p class=\"price_color\">Â£22.65</p>\n",
       " <p class=\"instock availability\">\n",
       " <i class=\"icon-ok\"></i>\n",
       "     \n",
       "         In stock\n",
       "     \n",
       " </p>\n",
       " <form>\n",
       " <button class=\"btn btn-primary btn-block\" data-loading-text=\"Adding...\" type=\"submit\">Add to basket</button>\n",
       " </form>\n",
       " </div>\n",
       " </article>,\n",
       " <article class=\"product_pod\">\n",
       " <div class=\"image_container\">\n",
       " <a href=\"the-dirty-little-secrets-of-getting-your-dream-job_994/index.html\"><img alt=\"The Dirty Little Secrets of Getting Your Dream Job\" class=\"thumbnail\" src=\"../media/cache/92/27/92274a95b7c251fea59a2b8a78275ab4.jpg\"/></a>\n",
       " </div>\n",
       " <p class=\"star-rating Four\">\n",
       " <i class=\"icon-star\"></i>\n",
       " <i class=\"icon-star\"></i>\n",
       " <i class=\"icon-star\"></i>\n",
       " <i class=\"icon-star\"></i>\n",
       " <i class=\"icon-star\"></i>\n",
       " </p>\n",
       " <h3><a href=\"the-dirty-little-secrets-of-getting-your-dream-job_994/index.html\" title=\"The Dirty Little Secrets of Getting Your Dream Job\">The Dirty Little Secrets ...</a></h3>\n",
       " <div class=\"product_price\">\n",
       " <p class=\"price_color\">Â£33.34</p>\n",
       " <p class=\"instock availability\">\n",
       " <i class=\"icon-ok\"></i>\n",
       "     \n",
       "         In stock\n",
       "     \n",
       " </p>\n",
       " <form>\n",
       " <button class=\"btn btn-primary btn-block\" data-loading-text=\"Adding...\" type=\"submit\">Add to basket</button>\n",
       " </form>\n",
       " </div>\n",
       " </article>,\n",
       " <article class=\"product_pod\">\n",
       " <div class=\"image_container\">\n",
       " <a href=\"the-coming-woman-a-novel-based-on-the-life-of-the-infamous-feminist-victoria-woodhull_993/index.html\"><img alt=\"The Coming Woman: A Novel Based on the Life of the Infamous Feminist, Victoria Woodhull\" class=\"thumbnail\" src=\"../media/cache/3d/54/3d54940e57e662c4dd1f3ff00c78cc64.jpg\"/></a>\n",
       " </div>\n",
       " <p class=\"star-rating Three\">\n",
       " <i class=\"icon-star\"></i>\n",
       " <i class=\"icon-star\"></i>\n",
       " <i class=\"icon-star\"></i>\n",
       " <i class=\"icon-star\"></i>\n",
       " <i class=\"icon-star\"></i>\n",
       " </p>\n",
       " <h3><a href=\"the-coming-woman-a-novel-based-on-the-life-of-the-infamous-feminist-victoria-woodhull_993/index.html\" title=\"The Coming Woman: A Novel Based on the Life of the Infamous Feminist, Victoria Woodhull\">The Coming Woman: A ...</a></h3>\n",
       " <div class=\"product_price\">\n",
       " <p class=\"price_color\">Â£17.93</p>\n",
       " <p class=\"instock availability\">\n",
       " <i class=\"icon-ok\"></i>\n",
       "     \n",
       "         In stock\n",
       "     \n",
       " </p>\n",
       " <form>\n",
       " <button class=\"btn btn-primary btn-block\" data-loading-text=\"Adding...\" type=\"submit\">Add to basket</button>\n",
       " </form>\n",
       " </div>\n",
       " </article>,\n",
       " <article class=\"product_pod\">\n",
       " <div class=\"image_container\">\n",
       " <a href=\"the-boys-in-the-boat-nine-americans-and-their-epic-quest-for-gold-at-the-1936-berlin-olympics_992/index.html\"><img alt=\"The Boys in the Boat: Nine Americans and Their Epic Quest for Gold at the 1936 Berlin Olympics\" class=\"thumbnail\" src=\"../media/cache/66/88/66883b91f6804b2323c8369331cb7dd1.jpg\"/></a>\n",
       " </div>\n",
       " <p class=\"star-rating Four\">\n",
       " <i class=\"icon-star\"></i>\n",
       " <i class=\"icon-star\"></i>\n",
       " <i class=\"icon-star\"></i>\n",
       " <i class=\"icon-star\"></i>\n",
       " <i class=\"icon-star\"></i>\n",
       " </p>\n",
       " <h3><a href=\"the-boys-in-the-boat-nine-americans-and-their-epic-quest-for-gold-at-the-1936-berlin-olympics_992/index.html\" title=\"The Boys in the Boat: Nine Americans and Their Epic Quest for Gold at the 1936 Berlin Olympics\">The Boys in the ...</a></h3>\n",
       " <div class=\"product_price\">\n",
       " <p class=\"price_color\">Â£22.60</p>\n",
       " <p class=\"instock availability\">\n",
       " <i class=\"icon-ok\"></i>\n",
       "     \n",
       "         In stock\n",
       "     \n",
       " </p>\n",
       " <form>\n",
       " <button class=\"btn btn-primary btn-block\" data-loading-text=\"Adding...\" type=\"submit\">Add to basket</button>\n",
       " </form>\n",
       " </div>\n",
       " </article>,\n",
       " <article class=\"product_pod\">\n",
       " <div class=\"image_container\">\n",
       " <a href=\"the-black-maria_991/index.html\"><img alt=\"The Black Maria\" class=\"thumbnail\" src=\"../media/cache/58/46/5846057e28022268153beff6d352b06c.jpg\"/></a>\n",
       " </div>\n",
       " <p class=\"star-rating One\">\n",
       " <i class=\"icon-star\"></i>\n",
       " <i class=\"icon-star\"></i>\n",
       " <i class=\"icon-star\"></i>\n",
       " <i class=\"icon-star\"></i>\n",
       " <i class=\"icon-star\"></i>\n",
       " </p>\n",
       " <h3><a href=\"the-black-maria_991/index.html\" title=\"The Black Maria\">The Black Maria</a></h3>\n",
       " <div class=\"product_price\">\n",
       " <p class=\"price_color\">Â£52.15</p>\n",
       " <p class=\"instock availability\">\n",
       " <i class=\"icon-ok\"></i>\n",
       "     \n",
       "         In stock\n",
       "     \n",
       " </p>\n",
       " <form>\n",
       " <button class=\"btn btn-primary btn-block\" data-loading-text=\"Adding...\" type=\"submit\">Add to basket</button>\n",
       " </form>\n",
       " </div>\n",
       " </article>,\n",
       " <article class=\"product_pod\">\n",
       " <div class=\"image_container\">\n",
       " <a href=\"starving-hearts-triangular-trade-trilogy-1_990/index.html\"><img alt=\"Starving Hearts (Triangular Trade Trilogy, #1)\" class=\"thumbnail\" src=\"../media/cache/be/f4/bef44da28c98f905a3ebec0b87be8530.jpg\"/></a>\n",
       " </div>\n",
       " <p class=\"star-rating Two\">\n",
       " <i class=\"icon-star\"></i>\n",
       " <i class=\"icon-star\"></i>\n",
       " <i class=\"icon-star\"></i>\n",
       " <i class=\"icon-star\"></i>\n",
       " <i class=\"icon-star\"></i>\n",
       " </p>\n",
       " <h3><a href=\"starving-hearts-triangular-trade-trilogy-1_990/index.html\" title=\"Starving Hearts (Triangular Trade Trilogy, #1)\">Starving Hearts (Triangular Trade ...</a></h3>\n",
       " <div class=\"product_price\">\n",
       " <p class=\"price_color\">Â£13.99</p>\n",
       " <p class=\"instock availability\">\n",
       " <i class=\"icon-ok\"></i>\n",
       "     \n",
       "         In stock\n",
       "     \n",
       " </p>\n",
       " <form>\n",
       " <button class=\"btn btn-primary btn-block\" data-loading-text=\"Adding...\" type=\"submit\">Add to basket</button>\n",
       " </form>\n",
       " </div>\n",
       " </article>,\n",
       " <article class=\"product_pod\">\n",
       " <div class=\"image_container\">\n",
       " <a href=\"shakespeares-sonnets_989/index.html\"><img alt=\"Shakespeare's Sonnets\" class=\"thumbnail\" src=\"../media/cache/10/48/1048f63d3b5061cd2f424d20b3f9b666.jpg\"/></a>\n",
       " </div>\n",
       " <p class=\"star-rating Four\">\n",
       " <i class=\"icon-star\"></i>\n",
       " <i class=\"icon-star\"></i>\n",
       " <i class=\"icon-star\"></i>\n",
       " <i class=\"icon-star\"></i>\n",
       " <i class=\"icon-star\"></i>\n",
       " </p>\n",
       " <h3><a href=\"shakespeares-sonnets_989/index.html\" title=\"Shakespeare's Sonnets\">Shakespeare's Sonnets</a></h3>\n",
       " <div class=\"product_price\">\n",
       " <p class=\"price_color\">Â£20.66</p>\n",
       " <p class=\"instock availability\">\n",
       " <i class=\"icon-ok\"></i>\n",
       "     \n",
       "         In stock\n",
       "     \n",
       " </p>\n",
       " <form>\n",
       " <button class=\"btn btn-primary btn-block\" data-loading-text=\"Adding...\" type=\"submit\">Add to basket</button>\n",
       " </form>\n",
       " </div>\n",
       " </article>,\n",
       " <article class=\"product_pod\">\n",
       " <div class=\"image_container\">\n",
       " <a href=\"set-me-free_988/index.html\"><img alt=\"Set Me Free\" class=\"thumbnail\" src=\"../media/cache/5b/88/5b88c52633f53cacf162c15f4f823153.jpg\"/></a>\n",
       " </div>\n",
       " <p class=\"star-rating Five\">\n",
       " <i class=\"icon-star\"></i>\n",
       " <i class=\"icon-star\"></i>\n",
       " <i class=\"icon-star\"></i>\n",
       " <i class=\"icon-star\"></i>\n",
       " <i class=\"icon-star\"></i>\n",
       " </p>\n",
       " <h3><a href=\"set-me-free_988/index.html\" title=\"Set Me Free\">Set Me Free</a></h3>\n",
       " <div class=\"product_price\">\n",
       " <p class=\"price_color\">Â£17.46</p>\n",
       " <p class=\"instock availability\">\n",
       " <i class=\"icon-ok\"></i>\n",
       "     \n",
       "         In stock\n",
       "     \n",
       " </p>\n",
       " <form>\n",
       " <button class=\"btn btn-primary btn-block\" data-loading-text=\"Adding...\" type=\"submit\">Add to basket</button>\n",
       " </form>\n",
       " </div>\n",
       " </article>,\n",
       " <article class=\"product_pod\">\n",
       " <div class=\"image_container\">\n",
       " <a href=\"scott-pilgrims-precious-little-life-scott-pilgrim-1_987/index.html\"><img alt=\"Scott Pilgrim's Precious Little Life (Scott Pilgrim #1)\" class=\"thumbnail\" src=\"../media/cache/94/b1/94b1b8b244bce9677c2f29ccc890d4d2.jpg\"/></a>\n",
       " </div>\n",
       " <p class=\"star-rating Five\">\n",
       " <i class=\"icon-star\"></i>\n",
       " <i class=\"icon-star\"></i>\n",
       " <i class=\"icon-star\"></i>\n",
       " <i class=\"icon-star\"></i>\n",
       " <i class=\"icon-star\"></i>\n",
       " </p>\n",
       " <h3><a href=\"scott-pilgrims-precious-little-life-scott-pilgrim-1_987/index.html\" title=\"Scott Pilgrim's Precious Little Life (Scott Pilgrim #1)\">Scott Pilgrim's Precious Little ...</a></h3>\n",
       " <div class=\"product_price\">\n",
       " <p class=\"price_color\">Â£52.29</p>\n",
       " <p class=\"instock availability\">\n",
       " <i class=\"icon-ok\"></i>\n",
       "     \n",
       "         In stock\n",
       "     \n",
       " </p>\n",
       " <form>\n",
       " <button class=\"btn btn-primary btn-block\" data-loading-text=\"Adding...\" type=\"submit\">Add to basket</button>\n",
       " </form>\n",
       " </div>\n",
       " </article>,\n",
       " <article class=\"product_pod\">\n",
       " <div class=\"image_container\">\n",
       " <a href=\"rip-it-up-and-start-again_986/index.html\"><img alt=\"Rip it Up and Start Again\" class=\"thumbnail\" src=\"../media/cache/81/c4/81c4a973364e17d01f217e1188253d5e.jpg\"/></a>\n",
       " </div>\n",
       " <p class=\"star-rating Five\">\n",
       " <i class=\"icon-star\"></i>\n",
       " <i class=\"icon-star\"></i>\n",
       " <i class=\"icon-star\"></i>\n",
       " <i class=\"icon-star\"></i>\n",
       " <i class=\"icon-star\"></i>\n",
       " </p>\n",
       " <h3><a href=\"rip-it-up-and-start-again_986/index.html\" title=\"Rip it Up and Start Again\">Rip it Up and ...</a></h3>\n",
       " <div class=\"product_price\">\n",
       " <p class=\"price_color\">Â£35.02</p>\n",
       " <p class=\"instock availability\">\n",
       " <i class=\"icon-ok\"></i>\n",
       "     \n",
       "         In stock\n",
       "     \n",
       " </p>\n",
       " <form>\n",
       " <button class=\"btn btn-primary btn-block\" data-loading-text=\"Adding...\" type=\"submit\">Add to basket</button>\n",
       " </form>\n",
       " </div>\n",
       " </article>,\n",
       " <article class=\"product_pod\">\n",
       " <div class=\"image_container\">\n",
       " <a href=\"our-band-could-be-your-life-scenes-from-the-american-indie-underground-1981-1991_985/index.html\"><img alt=\"Our Band Could Be Your Life: Scenes from the American Indie Underground, 1981-1991\" class=\"thumbnail\" src=\"../media/cache/54/60/54607fe8945897cdcced0044103b10b6.jpg\"/></a>\n",
       " </div>\n",
       " <p class=\"star-rating Three\">\n",
       " <i class=\"icon-star\"></i>\n",
       " <i class=\"icon-star\"></i>\n",
       " <i class=\"icon-star\"></i>\n",
       " <i class=\"icon-star\"></i>\n",
       " <i class=\"icon-star\"></i>\n",
       " </p>\n",
       " <h3><a href=\"our-band-could-be-your-life-scenes-from-the-american-indie-underground-1981-1991_985/index.html\" title=\"Our Band Could Be Your Life: Scenes from the American Indie Underground, 1981-1991\">Our Band Could Be ...</a></h3>\n",
       " <div class=\"product_price\">\n",
       " <p class=\"price_color\">Â£57.25</p>\n",
       " <p class=\"instock availability\">\n",
       " <i class=\"icon-ok\"></i>\n",
       "     \n",
       "         In stock\n",
       "     \n",
       " </p>\n",
       " <form>\n",
       " <button class=\"btn btn-primary btn-block\" data-loading-text=\"Adding...\" type=\"submit\">Add to basket</button>\n",
       " </form>\n",
       " </div>\n",
       " </article>,\n",
       " <article class=\"product_pod\">\n",
       " <div class=\"image_container\">\n",
       " <a href=\"olio_984/index.html\"><img alt=\"Olio\" class=\"thumbnail\" src=\"../media/cache/55/33/553310a7162dfbc2c6d19a84da0df9e1.jpg\"/></a>\n",
       " </div>\n",
       " <p class=\"star-rating One\">\n",
       " <i class=\"icon-star\"></i>\n",
       " <i class=\"icon-star\"></i>\n",
       " <i class=\"icon-star\"></i>\n",
       " <i class=\"icon-star\"></i>\n",
       " <i class=\"icon-star\"></i>\n",
       " </p>\n",
       " <h3><a href=\"olio_984/index.html\" title=\"Olio\">Olio</a></h3>\n",
       " <div class=\"product_price\">\n",
       " <p class=\"price_color\">Â£23.88</p>\n",
       " <p class=\"instock availability\">\n",
       " <i class=\"icon-ok\"></i>\n",
       "     \n",
       "         In stock\n",
       "     \n",
       " </p>\n",
       " <form>\n",
       " <button class=\"btn btn-primary btn-block\" data-loading-text=\"Adding...\" type=\"submit\">Add to basket</button>\n",
       " </form>\n",
       " </div>\n",
       " </article>,\n",
       " <article class=\"product_pod\">\n",
       " <div class=\"image_container\">\n",
       " <a href=\"mesaerion-the-best-science-fiction-stories-1800-1849_983/index.html\"><img alt=\"Mesaerion: The Best Science Fiction Stories 1800-1849\" class=\"thumbnail\" src=\"../media/cache/09/a3/09a3aef48557576e1a85ba7efea8ecb7.jpg\"/></a>\n",
       " </div>\n",
       " <p class=\"star-rating One\">\n",
       " <i class=\"icon-star\"></i>\n",
       " <i class=\"icon-star\"></i>\n",
       " <i class=\"icon-star\"></i>\n",
       " <i class=\"icon-star\"></i>\n",
       " <i class=\"icon-star\"></i>\n",
       " </p>\n",
       " <h3><a href=\"mesaerion-the-best-science-fiction-stories-1800-1849_983/index.html\" title=\"Mesaerion: The Best Science Fiction Stories 1800-1849\">Mesaerion: The Best Science ...</a></h3>\n",
       " <div class=\"product_price\">\n",
       " <p class=\"price_color\">Â£37.59</p>\n",
       " <p class=\"instock availability\">\n",
       " <i class=\"icon-ok\"></i>\n",
       "     \n",
       "         In stock\n",
       "     \n",
       " </p>\n",
       " <form>\n",
       " <button class=\"btn btn-primary btn-block\" data-loading-text=\"Adding...\" type=\"submit\">Add to basket</button>\n",
       " </form>\n",
       " </div>\n",
       " </article>,\n",
       " <article class=\"product_pod\">\n",
       " <div class=\"image_container\">\n",
       " <a href=\"libertarianism-for-beginners_982/index.html\"><img alt=\"Libertarianism for Beginners\" class=\"thumbnail\" src=\"../media/cache/0b/bc/0bbcd0a6f4bcd81ccb1049a52736406e.jpg\"/></a>\n",
       " </div>\n",
       " <p class=\"star-rating Two\">\n",
       " <i class=\"icon-star\"></i>\n",
       " <i class=\"icon-star\"></i>\n",
       " <i class=\"icon-star\"></i>\n",
       " <i class=\"icon-star\"></i>\n",
       " <i class=\"icon-star\"></i>\n",
       " </p>\n",
       " <h3><a href=\"libertarianism-for-beginners_982/index.html\" title=\"Libertarianism for Beginners\">Libertarianism for Beginners</a></h3>\n",
       " <div class=\"product_price\">\n",
       " <p class=\"price_color\">Â£51.33</p>\n",
       " <p class=\"instock availability\">\n",
       " <i class=\"icon-ok\"></i>\n",
       "     \n",
       "         In stock\n",
       "     \n",
       " </p>\n",
       " <form>\n",
       " <button class=\"btn btn-primary btn-block\" data-loading-text=\"Adding...\" type=\"submit\">Add to basket</button>\n",
       " </form>\n",
       " </div>\n",
       " </article>,\n",
       " <article class=\"product_pod\">\n",
       " <div class=\"image_container\">\n",
       " <a href=\"its-only-the-himalayas_981/index.html\"><img alt=\"It's Only the Himalayas\" class=\"thumbnail\" src=\"../media/cache/27/a5/27a53d0bb95bdd88288eaf66c9230d7e.jpg\"/></a>\n",
       " </div>\n",
       " <p class=\"star-rating Two\">\n",
       " <i class=\"icon-star\"></i>\n",
       " <i class=\"icon-star\"></i>\n",
       " <i class=\"icon-star\"></i>\n",
       " <i class=\"icon-star\"></i>\n",
       " <i class=\"icon-star\"></i>\n",
       " </p>\n",
       " <h3><a href=\"its-only-the-himalayas_981/index.html\" title=\"It's Only the Himalayas\">It's Only the Himalayas</a></h3>\n",
       " <div class=\"product_price\">\n",
       " <p class=\"price_color\">Â£45.17</p>\n",
       " <p class=\"instock availability\">\n",
       " <i class=\"icon-ok\"></i>\n",
       "     \n",
       "         In stock\n",
       "     \n",
       " </p>\n",
       " <form>\n",
       " <button class=\"btn btn-primary btn-block\" data-loading-text=\"Adding...\" type=\"submit\">Add to basket</button>\n",
       " </form>\n",
       " </div>\n",
       " </article>]"
      ]
     },
     "execution_count": 115,
     "metadata": {},
     "output_type": "execute_result"
    }
   ],
   "source": [
    "soup.select(\".product_pod\")\n",
    "\n",
    "# this is gonna be a large part inside the body element."
   ]
  },
  {
   "cell_type": "markdown",
   "id": "historical-evidence",
   "metadata": {},
   "source": [
    "Now we can see that each book has the **product_pod** class. We can select any tag with this class, and then further reduce it by its rating."
   ]
  },
  {
   "cell_type": "code",
   "execution_count": 116,
   "id": "verbal-gambling",
   "metadata": {},
   "outputs": [],
   "source": [
    "products = soup.select(\".product_pod\")"
   ]
  },
  {
   "cell_type": "code",
   "execution_count": 117,
   "id": "cubic-opera",
   "metadata": {},
   "outputs": [],
   "source": [
    "example = products[0]"
   ]
  },
  {
   "cell_type": "code",
   "execution_count": 118,
   "id": "atmospheric-sierra",
   "metadata": {},
   "outputs": [
    {
     "data": {
      "text/plain": [
       "bs4.element.Tag"
      ]
     },
     "execution_count": 118,
     "metadata": {},
     "output_type": "execute_result"
    }
   ],
   "source": [
    "type(example)"
   ]
  },
  {
   "cell_type": "code",
   "execution_count": 119,
   "id": "talented-abraham",
   "metadata": {},
   "outputs": [
    {
     "data": {
      "text/plain": [
       "{'class': ['product_pod']}"
      ]
     },
     "execution_count": 119,
     "metadata": {},
     "output_type": "execute_result"
    }
   ],
   "source": [
    "example.attrs"
   ]
  },
  {
   "cell_type": "markdown",
   "id": "complimentary-fusion",
   "metadata": {},
   "source": [
    "Now by inspecting the site we can see that the class we want is `class='star-rating Two'` , if you click on this in your browser, you'll notice it displays the space as a `.` , so that means we want to search for `\".star-rating.Two\"`"
   ]
  },
  {
   "cell_type": "code",
   "execution_count": 126,
   "id": "regulated-knife",
   "metadata": {},
   "outputs": [
    {
     "data": {
      "text/plain": [
       "['\\n',\n",
       " <div class=\"image_container\">\n",
       " <a href=\"a-light-in-the-attic_1000/index.html\"><img alt=\"A Light in the Attic\" class=\"thumbnail\" src=\"../media/cache/2c/da/2cdad67c44b002e7ead0cc35693c0e8b.jpg\"/></a>\n",
       " </div>,\n",
       " '\\n',\n",
       " <p class=\"star-rating Three\">\n",
       " <i class=\"icon-star\"></i>\n",
       " <i class=\"icon-star\"></i>\n",
       " <i class=\"icon-star\"></i>\n",
       " <i class=\"icon-star\"></i>\n",
       " <i class=\"icon-star\"></i>\n",
       " </p>,\n",
       " '\\n',\n",
       " <h3><a href=\"a-light-in-the-attic_1000/index.html\" title=\"A Light in the Attic\">A Light in the ...</a></h3>,\n",
       " '\\n',\n",
       " <div class=\"product_price\">\n",
       " <p class=\"price_color\">Â£51.77</p>\n",
       " <p class=\"instock availability\">\n",
       " <i class=\"icon-ok\"></i>\n",
       "     \n",
       "         In stock\n",
       "     \n",
       " </p>\n",
       " <form>\n",
       " <button class=\"btn btn-primary btn-block\" data-loading-text=\"Adding...\" type=\"submit\">Add to basket</button>\n",
       " </form>\n",
       " </div>,\n",
       " '\\n']"
      ]
     },
     "execution_count": 126,
     "metadata": {},
     "output_type": "execute_result"
    }
   ],
   "source": [
    "list(example.children)"
   ]
  },
  {
   "cell_type": "code",
   "execution_count": 129,
   "id": "durable-authority",
   "metadata": {},
   "outputs": [
    {
     "data": {
      "text/plain": [
       "[<p class=\"star-rating Three\">\n",
       " <i class=\"icon-star\"></i>\n",
       " <i class=\"icon-star\"></i>\n",
       " <i class=\"icon-star\"></i>\n",
       " <i class=\"icon-star\"></i>\n",
       " <i class=\"icon-star\"></i>\n",
       " </p>]"
      ]
     },
     "execution_count": 129,
     "metadata": {},
     "output_type": "execute_result"
    }
   ],
   "source": [
    "example.select('.star-rating.Three')"
   ]
  },
  {
   "cell_type": "markdown",
   "id": "rocky-canberra",
   "metadata": {},
   "source": [
    "But we are looking for **2 stars**, so it looks like we can just check to see if something was returned."
   ]
  },
  {
   "cell_type": "code",
   "execution_count": 123,
   "id": "fifteen-patio",
   "metadata": {},
   "outputs": [
    {
     "data": {
      "text/plain": [
       "[]"
      ]
     },
     "execution_count": 123,
     "metadata": {},
     "output_type": "execute_result"
    }
   ],
   "source": [
    "example.select('.star-rating.Two')\n",
    "\n",
    "# hence, there are no elements with \".star-rating Two\" class"
   ]
  },
  {
   "cell_type": "markdown",
   "id": "indian-conspiracy",
   "metadata": {},
   "source": [
    "Alternatively, we can just quickly check the text string to see if \"star-rating Two\" is in it, i.e. check to see if `\"star-rating Two\" in example` is true or false.<br>Either approach is fine.\n",
    "\n",
    "Now let's see how we can get the title if we have a 2-star match :"
   ]
  },
  {
   "cell_type": "code",
   "execution_count": 124,
   "id": "civilian-variety",
   "metadata": {},
   "outputs": [
    {
     "data": {
      "text/plain": [
       "[<a href=\"a-light-in-the-attic_1000/index.html\"><img alt=\"A Light in the Attic\" class=\"thumbnail\" src=\"../media/cache/2c/da/2cdad67c44b002e7ead0cc35693c0e8b.jpg\"/></a>,\n",
       " <a href=\"a-light-in-the-attic_1000/index.html\" title=\"A Light in the Attic\">A Light in the ...</a>]"
      ]
     },
     "execution_count": 124,
     "metadata": {},
     "output_type": "execute_result"
    }
   ],
   "source": [
    "example.select('a')"
   ]
  },
  {
   "cell_type": "code",
   "execution_count": 125,
   "id": "impressed-entry",
   "metadata": {},
   "outputs": [
    {
     "data": {
      "text/plain": [
       "<a href=\"a-light-in-the-attic_1000/index.html\" title=\"A Light in the Attic\">A Light in the ...</a>"
      ]
     },
     "execution_count": 125,
     "metadata": {},
     "output_type": "execute_result"
    }
   ],
   "source": [
    "example.select('a')[1]"
   ]
  },
  {
   "cell_type": "code",
   "execution_count": 88,
   "id": "reflected-window",
   "metadata": {},
   "outputs": [
    {
     "data": {
      "text/plain": [
       "'A Light in the Attic'"
      ]
     },
     "execution_count": 88,
     "metadata": {},
     "output_type": "execute_result"
    }
   ],
   "source": [
    "example.select('a')[1]['title']"
   ]
  },
  {
   "cell_type": "markdown",
   "id": "thorough-forth",
   "metadata": {},
   "source": [
    "Okay, let's give it a shot by combining all the ideas we've talked about! (this should take about 20-60 seconds to complete running. Be aware a firwall may prevent this script from running. Also if you are getting a no response error, maybe try adding a sleep step with `time.sleep(1)`."
   ]
  },
  {
   "cell_type": "code",
   "execution_count": 90,
   "id": "joint-alias",
   "metadata": {},
   "outputs": [],
   "source": [
    "two_star_titles = []\n",
    "\n",
    "for n in range(1, 51):\n",
    "\n",
    "    scrapeUrl = baseUrl.format(n)\n",
    "    res = requests.get(scrapeUrl)\n",
    "    \n",
    "    soup = bs4.BeautifulSoup(res.text,\"lxml\")\n",
    "    books = soup.select(\".product_pod\")\n",
    "    \n",
    "    for book in books:\n",
    "        if len(book.select('.star-rating.Two')) != 0:\n",
    "            two_star_titles.append(book.select('a')[1]['title'])"
   ]
  },
  {
   "cell_type": "code",
   "execution_count": 91,
   "id": "central-bradley",
   "metadata": {},
   "outputs": [
    {
     "data": {
      "text/plain": [
       "['Starving Hearts (Triangular Trade Trilogy, #1)',\n",
       " 'Libertarianism for Beginners',\n",
       " \"It's Only the Himalayas\",\n",
       " 'How Music Works',\n",
       " 'Maude (1883-1993):She Grew Up with the country',\n",
       " \"You can't bury them all: Poems\",\n",
       " 'Reasons to Stay Alive',\n",
       " 'Without Borders (Wanderlove #1)',\n",
       " 'Soul Reader',\n",
       " 'Security',\n",
       " 'Saga, Volume 5 (Saga (Collected Editions) #5)',\n",
       " 'Reskilling America: Learning to Labor in the Twenty-First Century',\n",
       " 'Political Suicide: Missteps, Peccadilloes, Bad Calls, Backroom Hijinx, Sordid Pasts, Rotten Breaks, and Just Plain Dumb Mistakes in the Annals of American Politics',\n",
       " 'Obsidian (Lux #1)',\n",
       " 'My Paris Kitchen: Recipes and Stories',\n",
       " 'Masks and Shadows',\n",
       " 'Lumberjanes, Vol. 2: Friendship to the Max (Lumberjanes #5-8)',\n",
       " 'Lumberjanes Vol. 3: A Terrible Plan (Lumberjanes #9-12)',\n",
       " 'Judo: Seven Steps to Black Belt (an Introductory Guide for Beginners)',\n",
       " 'I Hate Fairyland, Vol. 1: Madly Ever After (I Hate Fairyland (Compilations) #1-5)',\n",
       " 'Giant Days, Vol. 2 (Giant Days #5-8)',\n",
       " 'Everydata: The Misinformation Hidden in the Little Data You Consume Every Day',\n",
       " \"Don't Be a Jerk: And Other Practical Advice from Dogen, Japan's Greatest Zen Master\",\n",
       " 'Bossypants',\n",
       " 'Bitch Planet, Vol. 1: Extraordinary Machine (Bitch Planet (Collected Editions))',\n",
       " 'Avatar: The Last Airbender: Smoke and Shadow, Part 3 (Smoke and Shadow #3)',\n",
       " 'Tuesday Nights in 1980',\n",
       " 'The Psychopath Test: A Journey Through the Madness Industry',\n",
       " 'The Power of Now: A Guide to Spiritual Enlightenment',\n",
       " \"The Omnivore's Dilemma: A Natural History of Four Meals\",\n",
       " 'The Love and Lemons Cookbook: An Apple-to-Zucchini Celebration of Impromptu Cooking',\n",
       " 'The Girl on the Train',\n",
       " 'The Emerald Mystery',\n",
       " 'The Argonauts',\n",
       " 'Suddenly in Love (Lake Haven #1)',\n",
       " 'Soft Apocalypse',\n",
       " \"So You've Been Publicly Shamed\",\n",
       " 'Shoe Dog: A Memoir by the Creator of NIKE',\n",
       " 'Louisa: The Extraordinary Life of Mrs. Adams',\n",
       " 'Large Print Heart of the Pride',\n",
       " 'Grumbles',\n",
       " 'Chasing Heaven: What Dying Taught Me About Living',\n",
       " 'Becoming Wise: An Inquiry into the Mystery and Art of Living',\n",
       " 'Beauty Restored (Riley Family Legacy Novellas #3)',\n",
       " 'Batman: The Long Halloween (Batman)',\n",
       " \"Ayumi's Violin\",\n",
       " 'Wild Swans',\n",
       " \"What's It Like in Space?: Stories from Astronauts Who've Been There\",\n",
       " 'Until Friday Night (The Field Party #1)',\n",
       " 'Unbroken: A World War II Story of Survival, Resilience, and Redemption',\n",
       " 'Twenty Yawns',\n",
       " 'Through the Woods',\n",
       " 'This Is Where It Ends',\n",
       " 'The Year of Magical Thinking',\n",
       " 'The Last Mile (Amos Decker #2)',\n",
       " 'The Immortal Life of Henrietta Lacks',\n",
       " 'The Hidden Oracle (The Trials of Apollo #1)',\n",
       " 'The Guilty (Will Robie #4)',\n",
       " 'Red Hood/Arsenal, Vol. 1: Open for Business (Red Hood/Arsenal #1)',\n",
       " 'Once Was a Time',\n",
       " 'No Dream Is Too High: Life Lessons From a Man Who Walked on the Moon',\n",
       " 'Naruto (3-in-1 Edition), Vol. 14: Includes Vols. 40, 41 & 42 (Naruto: Omnibus #14)',\n",
       " 'More Than Music (Chasing the Dream #1)',\n",
       " 'Lowriders to the Center of the Earth (Lowriders in Space #2)',\n",
       " 'Eat Fat, Get Thin',\n",
       " 'Doctor Sleep (The Shining #2)',\n",
       " 'Crazy Love: Overwhelmed by a Relentless God',\n",
       " 'Carrie',\n",
       " 'Batman: Europa',\n",
       " 'Angels Walking (Angels Walking #1)',\n",
       " 'Adulthood Is a Myth: A \"Sarah\\'s Scribbles\" Collection',\n",
       " 'A Study in Scarlet (Sherlock Holmes #1)',\n",
       " 'A Series of Catastrophes and Miracles: A True Story of Love, Science, and Cancer',\n",
       " \"A People's History of the United States\",\n",
       " 'My Kitchen Year: 136 Recipes That Saved My Life',\n",
       " 'The Lonely City: Adventures in the Art of Being Alone',\n",
       " 'The Dinner Party',\n",
       " 'Stars Above (The Lunar Chronicles #4.5)',\n",
       " 'Love, Lies and Spies',\n",
       " 'Troublemaker: Surviving Hollywood and Scientology',\n",
       " 'The Widow',\n",
       " 'Setting the World on Fire: The Brief, Astonishing Life of St. Catherine of Siena',\n",
       " 'Mothering Sunday',\n",
       " 'Lilac Girls',\n",
       " '10% Happier: How I Tamed the Voice in My Head, Reduced Stress Without Losing My Edge, and Found Self-Help That Actually Works',\n",
       " 'Underlying Notes',\n",
       " 'The Flowers Lied',\n",
       " 'Modern Day Fables',\n",
       " \"Chernobyl 01:23:40: The Incredible True Story of the World's Worst Nuclear Disaster\",\n",
       " '23 Degrees South: A Tropical Tale of Changing Whether...',\n",
       " 'When Breath Becomes Air',\n",
       " 'Vagabonding: An Uncommon Guide to the Art of Long-Term World Travel',\n",
       " 'The Martian (The Martian #1)',\n",
       " \"Miller's Valley\",\n",
       " \"Love That Boy: What Two Presidents, Eight Road Trips, and My Son Taught Me About a Parent's Expectations\",\n",
       " 'Left Behind (Left Behind #1)',\n",
       " 'Howl and Other Poems',\n",
       " \"Heaven is for Real: A Little Boy's Astounding Story of His Trip to Heaven and Back\",\n",
       " \"Brazen: The Courage to Find the You That's Been Hiding\",\n",
       " '32 Yolks',\n",
       " 'Wildlife of New York: A Five-Borough Coloring Book',\n",
       " 'Unreasonable Hope: Finding Faith in the God Who Brings Purpose to Your Pain',\n",
       " 'The Art Book',\n",
       " 'Steal Like an Artist: 10 Things Nobody Told You About Being Creative',\n",
       " 'Raymie Nightingale',\n",
       " 'Like Never Before (Walker Family #2)',\n",
       " 'How to Be a Domestic Goddess: Baking and the Art of Comfort Cooking',\n",
       " 'Finding God in the Ruins: How God Redeems Pain',\n",
       " 'Chronicles, Vol. 1',\n",
       " 'A Summer In Europe',\n",
       " 'The Rise and Fall of the Third Reich: A History of Nazi Germany',\n",
       " 'The Makings of a Fatherless Child',\n",
       " 'The Fellowship of the Ring (The Lord of the Rings #1)',\n",
       " \"Tell the Wolves I'm Home\",\n",
       " 'In the Woods (Dublin Murder Squad #1)',\n",
       " 'Give It Back',\n",
       " 'Why Save the Bankers?: And Other Essays on Our Economic and Political Crisis',\n",
       " 'The Raven King (The Raven Cycle #4)',\n",
       " 'The Expatriates',\n",
       " 'The 5th Wave (The 5th Wave #1)',\n",
       " 'Peak: Secrets from the New Science of Expertise',\n",
       " 'Logan Kade (Fallen Crest High #5.5)',\n",
       " \"I Know Why the Caged Bird Sings (Maya Angelou's Autobiography #1)\",\n",
       " 'Drama',\n",
       " \"America's War for the Greater Middle East: A Military History\",\n",
       " 'A Game of Thrones (A Song of Ice and Fire #1)',\n",
       " \"The Pilgrim's Progress\",\n",
       " 'The Hound of the Baskervilles (Sherlock Holmes #5)',\n",
       " \"The Geography of Bliss: One Grump's Search for the Happiest Places in the World\",\n",
       " 'The Demonists (Demonist #1)',\n",
       " 'The Demon Prince of Momochi House, Vol. 4 (The Demon Prince of Momochi House #4)',\n",
       " 'Misery',\n",
       " 'Far From True (Promise Falls Trilogy #2)',\n",
       " 'Confessions of a Shopaholic (Shopaholic #1)',\n",
       " 'Vegan Vegetarian Omnivore: Dinner for Everyone at the Table',\n",
       " 'Two Boys Kissing',\n",
       " 'Twilight (Twilight #1)',\n",
       " 'Twenties Girl',\n",
       " 'The Tipping Point: How Little Things Can Make a Big Difference',\n",
       " 'The Stand',\n",
       " 'The Picture of Dorian Gray',\n",
       " 'The Name of God is Mercy',\n",
       " \"The Lover's Dictionary\",\n",
       " 'The Last Painting of Sara de Vos',\n",
       " 'The Guns of August',\n",
       " 'The Girl Who Played with Fire (Millennium Trilogy #2)',\n",
       " 'The Da Vinci Code (Robert Langdon #2)',\n",
       " 'The Cat in the Hat (Beginner Books B-1)',\n",
       " 'The Book Thief',\n",
       " 'The Autobiography of Malcolm X',\n",
       " \"Surely You're Joking, Mr. Feynman!: Adventures of a Curious Character\",\n",
       " 'Soldier (Talon #3)',\n",
       " 'Shopaholic & Baby (Shopaholic #5)',\n",
       " 'Seven Days in the Art World',\n",
       " 'Rework',\n",
       " 'Packing for Mars: The Curious Science of Life in the Void',\n",
       " 'Orange Is the New Black',\n",
       " 'One for the Money (Stephanie Plum #1)',\n",
       " 'Midnight Riot (Peter Grant/ Rivers of London - books #1)',\n",
       " 'Me Talk Pretty One Day',\n",
       " 'Manuscript Found in Accra',\n",
       " 'Lust & Wonder',\n",
       " \"Life, the Universe and Everything (Hitchhiker's Guide to the Galaxy #3)\",\n",
       " 'Life After Life',\n",
       " 'I Am Malala: The Girl Who Stood Up for Education and Was Shot by the Taliban',\n",
       " 'House of Lost Worlds: Dinosaurs, Dynasties, and the Story of Life on Earth',\n",
       " 'Horrible Bear!',\n",
       " 'Holidays on Ice',\n",
       " 'Girl in the Blue Coat',\n",
       " 'Fruits Basket, Vol. 3 (Fruits Basket #3)',\n",
       " 'Cosmos',\n",
       " 'Civilization and Its Discontents',\n",
       " \"Catastrophic Happiness: Finding Joy in Childhood's Messy Years\",\n",
       " 'Career of Evil (Cormoran Strike #3)',\n",
       " 'Born to Run: A Hidden Tribe, Superathletes, and the Greatest Race the World Has Never Seen',\n",
       " \"Best of My Love (Fool's Gold #20)\",\n",
       " 'Beowulf',\n",
       " 'Awkward',\n",
       " 'And Then There Were None',\n",
       " 'A Storm of Swords (A Song of Ice and Fire #3)',\n",
       " 'The Suffragettes (Little Black Classics, #96)',\n",
       " 'Vampire Girl (Vampire Girl #1)',\n",
       " 'Three Wishes (River of Time: California #1)',\n",
       " 'The Wicked + The Divine, Vol. 1: The Faust Act (The Wicked + The Divine)',\n",
       " 'The Little Prince',\n",
       " 'The Last Girl (The Dominion Trilogy #1)',\n",
       " 'Taking Shots (Assassins #1)',\n",
       " 'Settling the Score (The Summer Games #1)',\n",
       " 'Rhythm, Chord & Malykhin',\n",
       " 'One Second (Seven #7)',\n",
       " \"Old Records Never Die: One Man's Quest for His Vinyl and His Past\",\n",
       " 'Of Mice and Men',\n",
       " 'My Perfect Mistake (Over the Top #1)',\n",
       " 'Meditations',\n",
       " 'Frankenstein',\n",
       " 'Emma']"
      ]
     },
     "execution_count": 91,
     "metadata": {},
     "output_type": "execute_result"
    }
   ],
   "source": [
    "two_star_titles"
   ]
  },
  {
   "cell_type": "markdown",
   "id": "express-education",
   "metadata": {},
   "source": [
    "****"
   ]
  },
  {
   "cell_type": "code",
   "execution_count": null,
   "id": "destroyed-longitude",
   "metadata": {},
   "outputs": [],
   "source": []
  }
 ],
 "metadata": {
  "kernelspec": {
   "display_name": "Python 3",
   "language": "python",
   "name": "python3"
  },
  "language_info": {
   "codemirror_mode": {
    "name": "ipython",
    "version": 3
   },
   "file_extension": ".py",
   "mimetype": "text/x-python",
   "name": "python",
   "nbconvert_exporter": "python",
   "pygments_lexer": "ipython3",
   "version": "3.7.8"
  }
 },
 "nbformat": 4,
 "nbformat_minor": 5
}
