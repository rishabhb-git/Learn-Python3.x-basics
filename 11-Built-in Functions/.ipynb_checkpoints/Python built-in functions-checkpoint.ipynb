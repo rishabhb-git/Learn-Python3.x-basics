{
 "cells": [
  {
   "cell_type": "markdown",
   "id": "moral-israel",
   "metadata": {},
   "source": [
    "# `map( )`\n",
    "\n",
    "`map()` is a built-in Python function that takes in 2 or more arguments: a function and one or more iterables, in the form:\n",
    "\n",
    "`map(function, iterable, ...)`\n",
    "\n",
    "• `map()` returns a map object - i.e. `map()` returns a special object that is iterable.\n",
    "\n",
    "• For now, since our examples are so small, we will cast `map()` as a list to see the results immediately.\n",
    "\n",
    "• When we went over list comprehensions we created a small expression to convert Celsius to Fahrenheit.<br>Let's do the same here using map :\n",
    "\n",
    "**Example 1 :**"
   ]
  },
  {
   "cell_type": "code",
   "execution_count": 2,
   "id": "nominated-polls",
   "metadata": {},
   "outputs": [],
   "source": [
    "def fahrenheit(celsius):\n",
    "    return (9/5)*celsius + 32\n",
    "    \n",
    "temps = [0, 22.5, 40, 100]"
   ]
  },
  {
   "cell_type": "markdown",
   "id": "working-theta",
   "metadata": {},
   "source": [
    "Now, let's see `map()` in action :"
   ]
  },
  {
   "cell_type": "code",
   "execution_count": 3,
   "id": "hundred-collaboration",
   "metadata": {},
   "outputs": [
    {
     "data": {
      "text/plain": [
       "[32.0, 72.5, 104.0, 212.0]"
      ]
     },
     "execution_count": 3,
     "metadata": {},
     "output_type": "execute_result"
    }
   ],
   "source": [
    "F_temps = map(fahrenheit, temps)\n",
    "\n",
    "# Show\n",
    "list(F_temps)"
   ]
  },
  {
   "cell_type": "markdown",
   "id": "dominant-cross",
   "metadata": {},
   "source": [
    "In the example above, `map()` applies the fahrenheit function to every item in temps. However, we don't have to define our functions beforehand; we can use a lambda expression instead :"
   ]
  },
  {
   "cell_type": "code",
   "execution_count": 4,
   "id": "measured-heading",
   "metadata": {},
   "outputs": [
    {
     "data": {
      "text/plain": [
       "[32.0, 72.5, 104.0, 212.0]"
      ]
     },
     "execution_count": 4,
     "metadata": {},
     "output_type": "execute_result"
    }
   ],
   "source": [
    "list(map(lambda x: (9/5)*x + 32, temps))"
   ]
  },
  {
   "cell_type": "markdown",
   "id": "refined-warren",
   "metadata": {},
   "source": [
    "Great, we got the same result!<br><br><br>\n",
    "\n",
    "**Example 2 :**"
   ]
  },
  {
   "cell_type": "code",
   "execution_count": 9,
   "id": "mature-amber",
   "metadata": {},
   "outputs": [
    {
     "name": "stdout",
     "output_type": "stream",
     "text": [
      "[4, 16, -6]\n"
     ]
    }
   ],
   "source": [
    "def multiply_by2(arr):\n",
    "    new_list = []\n",
    "    for i in arr:\n",
    "        new_list.append(i*2)\n",
    "    return new_list\n",
    "\n",
    "print(multiply_by2([2,8,-3]))"
   ]
  },
  {
   "cell_type": "markdown",
   "id": "therapeutic-church",
   "metadata": {},
   "source": [
    "Let's write this using `map()`....\n",
    "\n",
    "And remember, with `map()` it's incorrect to a create `new_list[]` and append the elements in it. As it would lead to error."
   ]
  },
  {
   "cell_type": "code",
   "execution_count": 11,
   "id": "fitted-sixth",
   "metadata": {},
   "outputs": [
    {
     "ename": "TypeError",
     "evalue": "'int' object is not iterable",
     "output_type": "error",
     "traceback": [
      "\u001b[0;31m---------------------------------------------------------------------------\u001b[0m",
      "\u001b[0;31mTypeError\u001b[0m                                 Traceback (most recent call last)",
      "\u001b[0;32m<ipython-input-11-0fd229bf9620>\u001b[0m in \u001b[0;36m<module>\u001b[0;34m\u001b[0m\n\u001b[1;32m      5\u001b[0m     \u001b[0;32mreturn\u001b[0m \u001b[0mnew_list\u001b[0m\u001b[0;34m\u001b[0m\u001b[0;34m\u001b[0m\u001b[0m\n\u001b[1;32m      6\u001b[0m \u001b[0;34m\u001b[0m\u001b[0m\n\u001b[0;32m----> 7\u001b[0;31m \u001b[0mprint\u001b[0m\u001b[0;34m(\u001b[0m\u001b[0mlist\u001b[0m\u001b[0;34m(\u001b[0m\u001b[0mmap\u001b[0m\u001b[0;34m(\u001b[0m\u001b[0mmultiply_by2\u001b[0m\u001b[0;34m,\u001b[0m \u001b[0;34m[\u001b[0m\u001b[0;36m2\u001b[0m\u001b[0;34m,\u001b[0m\u001b[0;36m8\u001b[0m\u001b[0;34m,\u001b[0m\u001b[0;34m-\u001b[0m\u001b[0;36m3\u001b[0m\u001b[0;34m]\u001b[0m\u001b[0;34m)\u001b[0m\u001b[0;34m)\u001b[0m\u001b[0;34m)\u001b[0m\u001b[0;34m\u001b[0m\u001b[0;34m\u001b[0m\u001b[0m\n\u001b[0m",
      "\u001b[0;32m<ipython-input-11-0fd229bf9620>\u001b[0m in \u001b[0;36mmultiply_by2\u001b[0;34m(arr)\u001b[0m\n\u001b[1;32m      1\u001b[0m \u001b[0;32mdef\u001b[0m \u001b[0mmultiply_by2\u001b[0m\u001b[0;34m(\u001b[0m\u001b[0marr\u001b[0m\u001b[0;34m)\u001b[0m\u001b[0;34m:\u001b[0m\u001b[0;34m\u001b[0m\u001b[0;34m\u001b[0m\u001b[0m\n\u001b[1;32m      2\u001b[0m     \u001b[0mnew_list\u001b[0m \u001b[0;34m=\u001b[0m \u001b[0;34m[\u001b[0m\u001b[0;34m]\u001b[0m\u001b[0;34m\u001b[0m\u001b[0;34m\u001b[0m\u001b[0m\n\u001b[0;32m----> 3\u001b[0;31m     \u001b[0;32mfor\u001b[0m \u001b[0mi\u001b[0m \u001b[0;32min\u001b[0m \u001b[0marr\u001b[0m\u001b[0;34m:\u001b[0m\u001b[0;34m\u001b[0m\u001b[0;34m\u001b[0m\u001b[0m\n\u001b[0m\u001b[1;32m      4\u001b[0m         \u001b[0mnew_list\u001b[0m\u001b[0;34m.\u001b[0m\u001b[0mappend\u001b[0m\u001b[0;34m(\u001b[0m\u001b[0mi\u001b[0m\u001b[0;34m*\u001b[0m\u001b[0;36m2\u001b[0m\u001b[0;34m)\u001b[0m\u001b[0;34m\u001b[0m\u001b[0;34m\u001b[0m\u001b[0m\n\u001b[1;32m      5\u001b[0m     \u001b[0;32mreturn\u001b[0m \u001b[0mnew_list\u001b[0m\u001b[0;34m\u001b[0m\u001b[0;34m\u001b[0m\u001b[0m\n",
      "\u001b[0;31mTypeError\u001b[0m: 'int' object is not iterable"
     ]
    }
   ],
   "source": [
    "def multiply_by2(arr):\n",
    "    new_list = []\n",
    "    for i in arr:\n",
    "        new_list.append(i*2)\n",
    "    return new_list\n",
    "\n",
    "print(list(map(multiply_by2, [2,8,-3])))"
   ]
  },
  {
   "cell_type": "code",
   "execution_count": 3,
   "id": "determined-passenger",
   "metadata": {},
   "outputs": [
    {
     "name": "stdout",
     "output_type": "stream",
     "text": [
      "•Printing the map object : <map object at 0x10af20250>\n",
      "\n",
      "•Printing it as a list : [4, 16, -6]\n",
      "\n",
      "•Printing it as a tuple : (4, 16, -6)\n",
      "\n",
      "•Printing it as set (duplicate elements are written only once) : {16, 2, 4}\n",
      "\n",
      "myList_1: [2, 8, -3]\n",
      "myList_2: [2, 8, 2, 1, 2, 1, 1]\n"
     ]
    }
   ],
   "source": [
    "myList_1 = [2,8,-3]\n",
    "myList_2 = [2,8,2,1,2,1,1]\n",
    "\n",
    "def multiply_by2(item_in_list):\n",
    "    return item_in_list*2\n",
    "\n",
    "mapObj = map(multiply_by2, myList_1)\n",
    "\n",
    "print('•Printing the map object :',mapObj, end='\\n\\n')\n",
    "\n",
    "print('•Printing it as a list :',list(map(multiply_by2, myList_1)), end='\\n\\n')\n",
    "\n",
    "print('•Printing it as a tuple :',tuple(map(multiply_by2, myList_1)), end='\\n\\n')\n",
    "\n",
    "print('•Printing it as set (duplicate elements are written only once) :',set(map(multiply_by2, myList_2)), end=\"\\n\\n\")\n",
    "\n",
    "print('myList_1:', myList_1)\n",
    "\n",
    "print('myList_2:', myList_2)"
   ]
  },
  {
   "cell_type": "markdown",
   "id": "heard-monitoring",
   "metadata": {},
   "source": [
    "So, `myList_1` and `myList-2` remain the same. And eveytime a new list is created by map.\n",
    "\n",
    "<br>\n",
    "________________________________________________________________________________________________________________________________________________\n",
    "\n",
    "## Advantages of using `map()`, `filter()` and `reduce()` :\n",
    "\n",
    "- Does not modify the exisitng list or iterable (which is passed to it as argument) in-place. Instead, it creates a new iterable everytime.\n",
    "\n",
    "- In this way, each one is a **pure function** in itself, so it's convenient than `for`-loops.\n",
    "<br><br>\n",
    "\n",
    "> Using **map**, (and **reduce & filter**) with **lambda expressions** is much more common since the entire purpose of `map( )` is to save effort on having to create manual `for` loops.\n",
    "\n",
    "<br>\n",
    "________________________________________________________________________________________________________________________________________________\n",
    "\n",
    "### `map()` with multiple iterables\n",
    "`map()` can accept more than one iterable. The iterables should be the same length - in the event that they are not, `map()` will stop as soon as the shortest iterable is exhausted.\n",
    "\n",
    "For instance, if our function is trying to add two values x and y, we can pass a list of x values and another list of y values to `map()`. The function (or lambda) will be fed the 0th index from each list, and then the 1st index, and so on until the n-th index is reached.\n",
    "\n",
    "Let's see this in action with 2 and then 3 lists :"
   ]
  },
  {
   "cell_type": "code",
   "execution_count": 5,
   "id": "selective-light",
   "metadata": {},
   "outputs": [
    {
     "data": {
      "text/plain": [
       "[6, 8, 10, 12]"
      ]
     },
     "execution_count": 5,
     "metadata": {},
     "output_type": "execute_result"
    }
   ],
   "source": [
    "a = [1,2,3,4]\n",
    "b = [5,6,7,8]\n",
    "c = [9,10,11,12]\n",
    "\n",
    "list(map(lambda x,y:x+y, a, b))"
   ]
  },
  {
   "cell_type": "markdown",
   "id": "crazy-variable",
   "metadata": {},
   "source": [
    "Now, with all three lists ...."
   ]
  },
  {
   "cell_type": "code",
   "execution_count": 6,
   "id": "heavy-elevation",
   "metadata": {},
   "outputs": [
    {
     "data": {
      "text/plain": [
       "[15, 18, 21, 24]"
      ]
     },
     "execution_count": 6,
     "metadata": {},
     "output_type": "execute_result"
    }
   ],
   "source": [
    "list(map(lambda x,y,z:x+y+z, a, b, c))"
   ]
  },
  {
   "cell_type": "markdown",
   "id": "normal-vertex",
   "metadata": {},
   "source": [
    "We can see in the example above that the parameter `x` gets its values from the list `a`, while `y` gets its values from `b` and `z` from list `c`.\n",
    "*****\n",
    "\n",
    "# `reduce( )`\n",
    "\n",
    "`reduce` does not come built-in with python. Instead it needs to imported from `functools`.\n",
    "\n",
    "The function `reduce(function, sequence)` continually applies the function to the sequence.<br>\n",
    "**It then returns a single value.**\n",
    "\n",
    "If seq = [ s1, s2, s3, ... , sn ], calling reduce(function, sequence) works like this:\n",
    "\n",
    "- At first the first two elements of seq will be applied to function, i.e. `func(s1,s2)`\n",
    "- The list on which reduce( ) works looks now like this: `[function(s1, s2), s3, ... , sn]`\n",
    "- In the next step the function will be applied on the previous result and the third element of the list, i.e. `function(function(s1,s2), s3)`\n",
    "The list looks like this now: `[function(function(s1,s2), s3), ... , sn]`\n",
    "- It continues like this until just 1 element is left and return this element as the result of `reduce( )`\n",
    "\n",
    "Let's see an example:\n",
    "\n",
    "**Example 1 :**"
   ]
  },
  {
   "cell_type": "code",
   "execution_count": 7,
   "id": "alien-facing",
   "metadata": {},
   "outputs": [
    {
     "data": {
      "text/plain": [
       "113"
      ]
     },
     "execution_count": 7,
     "metadata": {},
     "output_type": "execute_result"
    }
   ],
   "source": [
    "from functools import reduce\n",
    "\n",
    "lst = [47, 11, 42, 13]\n",
    "reduce(lambda x,y: x+y, lst)"
   ]
  },
  {
   "cell_type": "markdown",
   "id": "qualified-update",
   "metadata": {},
   "source": [
    "Let's look at a diagram to get a better understanding of what is going on here :"
   ]
  },
  {
   "cell_type": "code",
   "execution_count": 9,
   "id": "czech-queen",
   "metadata": {},
   "outputs": [
    {
     "data": {
      "image/png": "[encoded data removed]",
      "text/plain": [
       "<IPython.core.display.Image object>"
      ]
     },
     "execution_count": 9,
     "metadata": {},
     "output_type": "execute_result"
    }
   ],
   "source": [
    "from IPython.display import Image\n",
    "Image('./reduce-diagram.png')"
   ]
  },
  {
   "cell_type": "markdown",
   "id": "quiet-outline",
   "metadata": {},
   "source": [
    "Note how we keep reducing the sequence until a single final value is obtained. Lets see another example :\n",
    "\n",
    "Find the maximum of a sequence (*This already exists as `max()`* )"
   ]
  },
  {
   "cell_type": "code",
   "execution_count": 10,
   "id": "gorgeous-updating",
   "metadata": {},
   "outputs": [],
   "source": [
    "max_find = lambda a,b: a if (a>b) else b"
   ]
  },
  {
   "cell_type": "markdown",
   "id": "unexpected-execution",
   "metadata": {},
   "source": [
    "Find max"
   ]
  },
  {
   "cell_type": "code",
   "execution_count": 11,
   "id": "metric-photography",
   "metadata": {},
   "outputs": [
    {
     "data": {
      "text/plain": [
       "47"
      ]
     },
     "execution_count": 11,
     "metadata": {},
     "output_type": "execute_result"
    }
   ],
   "source": [
    "reduce(max_find, lst)"
   ]
  },
  {
   "cell_type": "markdown",
   "id": "found-prime",
   "metadata": {},
   "source": [
    "**Example 2 :**"
   ]
  },
  {
   "cell_type": "code",
   "execution_count": 15,
   "id": "behind-stockholm",
   "metadata": {},
   "outputs": [
    {
     "name": "stdout",
     "output_type": "stream",
     "text": [
      "10 2\n",
      "12 8\n",
      "20 -3\n",
      "17\n"
     ]
    }
   ],
   "source": [
    "from functools import reduce\n",
    "\n",
    "def accumulator(acc, item):\n",
    "    print(acc, item)\n",
    "    return acc+item\n",
    "\n",
    "print('')\n",
    "print(reduce(accumulator, myList_1, 10))"
   ]
  },
  {
   "cell_type": "markdown",
   "id": "varied-popularity",
   "metadata": {},
   "source": [
    "*****\n",
    "\n",
    "# `filter( )`\n",
    "\n",
    "The function `filter(function, list)` offers a convenient way to filter out all the elements of an iterable, for which the function returns True.\n",
    "\n",
    "The function filter(function,list) needs a function as its 1st argument. The function needs to return a Boolean value (either True or False).<br>This function will be applied to every element of the iterable. Only if the function returns True will the element of the iterable be included in the result.\n",
    "\n",
    "Like `map()`, the `filter()` returns an iterator - i.e., filter yields 1 result at a time as needed.\n",
    "\n",
    "For now, since our examples are so small, we will cast `filter( )` as a list to see our results immediately.\n",
    "\n",
    "Let's see some examples :"
   ]
  },
  {
   "cell_type": "code",
   "execution_count": 9,
   "id": "weekly-scientist",
   "metadata": {},
   "outputs": [],
   "source": [
    "# First let's make a function\n",
    "def even_check(num):\n",
    "    return num%2 == 0"
   ]
  },
  {
   "cell_type": "markdown",
   "id": "sharp-daisy",
   "metadata": {},
   "source": [
    "Now let's filter a list of numbers.\n",
    "\n",
    "Note: putting the function into filter without any parentheses might feel strange, but keep in mind that functions are objects as well."
   ]
  },
  {
   "cell_type": "code",
   "execution_count": 10,
   "id": "naked-juvenile",
   "metadata": {},
   "outputs": [
    {
     "name": "stdout",
     "output_type": "stream",
     "text": [
      "[0, 2, 4, 6, 8, 10, 12, 14, 16, 18]\n",
      "[0, 1, 2, 3, 4, 5, 6, 7, 8, 9, 10, 11, 12, 13, 14, 15, 16, 17, 18, 19]\n"
     ]
    }
   ],
   "source": [
    "lst = range(20)\n",
    "\n",
    "print(list(filter(even_check, lst)))\n",
    "\n",
    "print(list(lst))                            # lst remain the same."
   ]
  },
  {
   "cell_type": "markdown",
   "id": "expensive-pilot",
   "metadata": {},
   "source": [
    "`filter( )` is more commonly used with lambda functions, because we usually use filter for a quick job where we don't want to write an entire function.\n",
    "\n",
    "Let's repeat the example above using a lambda expression :"
   ]
  },
  {
   "cell_type": "code",
   "execution_count": 15,
   "id": "engaging-compression",
   "metadata": {},
   "outputs": [
    {
     "data": {
      "text/plain": [
       "[0, 2, 4, 6, 8, 10, 12, 14, 16, 18]"
      ]
     },
     "execution_count": 15,
     "metadata": {},
     "output_type": "execute_result"
    }
   ],
   "source": [
    "list(filter(lambda x: x%2 == 0, lst))"
   ]
  },
  {
   "cell_type": "markdown",
   "id": "stylish-strengthening",
   "metadata": {},
   "source": [
    "****\n",
    "\n",
    "# `zip( )`\n",
    "\n",
    "`zip( )` makes an iterator that aggregates elements from each of the iterables.\n",
    "\n",
    "Returns an iterator of tuples, where the `i`-th tuple contains the `i`-th element from each of the argument sequences or iterables. The iterator stops when the shortest input iterable is exhausted.\n",
    "\n",
    "With a single iterable argument, it returns an iterator of 1-tuples. With no arguments, it returns an empty iterator.\n",
    "\n",
    "`zip()` is equivalent to:\n",
    "\n",
    "<code>def zip(*iterables):\n",
    "        # zip('ABCD', 'xy') --> Ax By\n",
    "        sentinel = object()\n",
    "        iterators = [iter(it) for it in iterables]\n",
    "        while iterators:\n",
    "            result = []\n",
    "            for it in iterators:\n",
    "                elem = next(it, sentinel)\n",
    "                if elem is sentinel:\n",
    "                    return\n",
    "                result.append(elem)\n",
    "            yield tuple(result)\n",
    "</code>\n",
    "<br><br>\n",
    "`zip( )` should only be used with unequal length inputs when you don’t care about trailing, unmatched values from the longer iterables.\n",
    "\n",
    "### Examples\n",
    "\n",
    "**Example 1 :**"
   ]
  },
  {
   "cell_type": "code",
   "execution_count": 16,
   "id": "entitled-dutch",
   "metadata": {},
   "outputs": [
    {
     "data": {
      "text/plain": [
       "[(1, 4), (2, 5), (3, 6)]"
      ]
     },
     "execution_count": 16,
     "metadata": {},
     "output_type": "execute_result"
    }
   ],
   "source": [
    "latitude = [1,2,3]\n",
    "longitude = [4,5,6]\n",
    "\n",
    "# zip the lists together\n",
    "list(zip(latitude, longitude))"
   ]
  },
  {
   "cell_type": "markdown",
   "id": "contained-harmony",
   "metadata": {},
   "source": [
    "**Example 2 :**"
   ]
  },
  {
   "cell_type": "code",
   "execution_count": 12,
   "id": "published-receiver",
   "metadata": {},
   "outputs": [
    {
     "data": {
      "text/plain": [
       "[(1, 4), (2, 5), (3, 9)]"
      ]
     },
     "execution_count": 12,
     "metadata": {},
     "output_type": "execute_result"
    }
   ],
   "source": [
    "latitude = [1,2,3]              # list\n",
    "longitude = (4,5,9,0,1)          # tuple\n",
    "\n",
    "# zip together a list and tuple\n",
    "\n",
    "list(zip(latitude, longitude))"
   ]
  },
  {
   "cell_type": "markdown",
   "id": "unlimited-species",
   "metadata": {},
   "source": [
    "Note how tuples are returned.\n",
    "\n",
    "**Example 3 :** What if one iterable is longer than the other ?"
   ]
  },
  {
   "cell_type": "code",
   "execution_count": 17,
   "id": "superior-detroit",
   "metadata": {},
   "outputs": [
    {
     "data": {
      "text/plain": [
       "[(1, 4), (2, 5), (3, 6)]"
      ]
     },
     "execution_count": 17,
     "metadata": {},
     "output_type": "execute_result"
    }
   ],
   "source": [
    "x = [1,2,3]\n",
    "y = [4,5,6,7,8]\n",
    "\n",
    "# zip together lists of different lenghts.\n",
    "list(zip(x, y))"
   ]
  },
  {
   "cell_type": "markdown",
   "id": "commercial-repository",
   "metadata": {},
   "source": [
    "**Example 3 :** Zipping together 3 (or more) lists."
   ]
  },
  {
   "cell_type": "code",
   "execution_count": 13,
   "id": "quarterly-profile",
   "metadata": {},
   "outputs": [
    {
     "data": {
      "text/plain": [
       "[(1, -1, 'a'), (2, -2, 'b'), (3, -3, 'c')]"
      ]
     },
     "execution_count": 13,
     "metadata": {},
     "output_type": "execute_result"
    }
   ],
   "source": [
    "latitude = [1,2,3]\n",
    "longitude = [-1,-2,-3]\n",
    "position = ['a','b','c']\n",
    "\n",
    "# zip\n",
    "list(zip(latitude, longitude, position))"
   ]
  },
  {
   "cell_type": "markdown",
   "id": "optical-packaging",
   "metadata": {},
   "source": [
    "Note how the zip is defined by the shortest iterable length.\n",
    "\n",
    "It's generally advised not to zip unequal length iterables unless your very sure you only need partial tuple pairings.\n",
    "\n",
    "**Example 5 :** What happens if we try to zip together dictionaries ?"
   ]
  },
  {
   "cell_type": "code",
   "execution_count": 18,
   "id": "breathing-memorabilia",
   "metadata": {},
   "outputs": [
    {
     "data": {
      "text/plain": [
       "[('a', 'c'), ('b', 'd')]"
      ]
     },
     "execution_count": 18,
     "metadata": {},
     "output_type": "execute_result"
    }
   ],
   "source": [
    "d1 = {'a':1,'b':2}\n",
    "d2 = {'c':4,'d':5}\n",
    "\n",
    "# zip\n",
    "list(zip(d1, d2))"
   ]
  },
  {
   "cell_type": "markdown",
   "id": "nearby-phoenix",
   "metadata": {},
   "source": [
    "This makes sense because simply iterating through the dictionaries will result in just the keys. We would have to call methods to mix keys and values, i.e. :"
   ]
  },
  {
   "cell_type": "code",
   "execution_count": 20,
   "id": "historic-martin",
   "metadata": {},
   "outputs": [
    {
     "name": "stdout",
     "output_type": "stream",
     "text": [
      "[('c', 4), ('d', 5)]\n",
      "[('a', 1), ('b', 2)]\n",
      "[('c', 1), ('d', 2)]\n"
     ]
    }
   ],
   "source": [
    "print(list(zip(d2, d2.values())))\n",
    "\n",
    "print(list(zip(d1, d1.values())))\n",
    "\n",
    "print(list(zip(d2, d1.values())))    # zipping d2 with values of keys of d1"
   ]
  },
  {
   "cell_type": "markdown",
   "id": "falling-louisiana",
   "metadata": {},
   "source": [
    "****\n",
    "Let's use `zip( )` to switch the keys and values of the two dictionaries :"
   ]
  },
  {
   "cell_type": "code",
   "execution_count": 21,
   "id": "regulation-shelter",
   "metadata": {},
   "outputs": [
    {
     "data": {
      "text/plain": [
       "{'a': 4, 'b': 5}"
      ]
     },
     "execution_count": 21,
     "metadata": {},
     "output_type": "execute_result"
    }
   ],
   "source": [
    "def switchDicts(d1, d2):\n",
    "    dout = {}\n",
    "    # this is output dictionary created by taking keys of d1 and values of d2\n",
    "    \n",
    "    for d1Key,d2Val in zip(d1, d2.values()):\n",
    "        dout[d1Key] = d2Val\n",
    "    \n",
    "    return dout\n",
    "\n",
    "switchDicts(d1, d2)"
   ]
  },
  {
   "cell_type": "markdown",
   "id": "beautiful-vienna",
   "metadata": {},
   "source": [
    "Great! You can use zip to save a lot of typing in many situations/use cases!\n",
    "\n",
    "*****"
   ]
  },
  {
   "cell_type": "markdown",
   "id": "brazilian-envelope",
   "metadata": {},
   "source": [
    "# `enumerate( )`\n",
    "\n",
    "In this lecture we will learn about an extremely useful built-in function: enumerate( ). Enumerate allows you to keep a count as you iterate through an object.\n",
    "\n",
    "It does this by returning a tuple in the form `(count,element)`.\n",
    "\n",
    "The function itself is equivalent to:\n",
    "\n",
    "`def enumerate(sequence, start=0):\n",
    "    n = start\n",
    "    for elem in sequence:\n",
    "        yield n, elem\n",
    "        n += 1`\n",
    "        \n",
    "### Examples :"
   ]
  },
  {
   "cell_type": "code",
   "execution_count": 2,
   "id": "legendary-relative",
   "metadata": {},
   "outputs": [
    {
     "name": "stdout",
     "output_type": "stream",
     "text": [
      "0 a\n",
      "1 b\n",
      "2 c\n"
     ]
    }
   ],
   "source": [
    "lst = ['a', 'b', 'c']\n",
    "\n",
    "for number, item in enumerate(lst):\n",
    "    print(number, item)"
   ]
  },
  {
   "cell_type": "markdown",
   "id": "changing-terrace",
   "metadata": {},
   "source": [
    "`enumerate()` becomes particularly useful when you have a case where you need to have some sort of tracker.<br>For example:"
   ]
  },
  {
   "cell_type": "code",
   "execution_count": 26,
   "id": "cubic-lodging",
   "metadata": {},
   "outputs": [
    {
     "name": "stdout",
     "output_type": "stream",
     "text": [
      "a\n",
      "b\n"
     ]
    }
   ],
   "source": [
    "for count,item in enumerate(lst):\n",
    "    if count >= 2:\n",
    "        break\n",
    "    else:\n",
    "        print(item)"
   ]
  },
  {
   "cell_type": "markdown",
   "id": "elder-punch",
   "metadata": {},
   "source": [
    "`enumerate( )` takes an optional \"start\" argument to override the default value of zero :"
   ]
  },
  {
   "cell_type": "code",
   "execution_count": 27,
   "id": "angry-leonard",
   "metadata": {},
   "outputs": [
    {
     "data": {
      "text/plain": [
       "[(3, 'March'), (4, 'April'), (5, 'May'), (6, 'June')]"
      ]
     },
     "execution_count": 27,
     "metadata": {},
     "output_type": "execute_result"
    }
   ],
   "source": [
    "months = ['March', 'April', 'May', 'June']\n",
    "\n",
    "list(enumerate(months, start=3))"
   ]
  },
  {
   "cell_type": "markdown",
   "id": "mysterious-tournament",
   "metadata": {},
   "source": [
    "****\n",
    "\n",
    "# `all()` and `any()`"
   ]
  },
  {
   "cell_type": "markdown",
   "id": "complicated-resort",
   "metadata": {},
   "source": [
    "`all( )` and `any( )` are built-in functions in Python that allow us to conveniently check for boolean matching in an iterable. all() will return True if all elements in an iterable are True. It is the same as this function code:\n",
    "\n",
    "`def all(iterable):\n",
    "    for element in iterable:\n",
    "        if not element:\n",
    "            return False\n",
    "    return True`\n",
    "\n",
    "any( ) will return True if any of the elements in the iterable are True. It is equivalent to the following function code:\n",
    "\n",
    "`def any(iterable):\n",
    "    for element in iterable:\n",
    "        if element:\n",
    "            return True\n",
    "    return False`\n",
    "\n",
    "Let's see a few examples of these functions. They should be fairly straightforward:"
   ]
  },
  {
   "cell_type": "code",
   "execution_count": 29,
   "id": "accompanied-allen",
   "metadata": {},
   "outputs": [
    {
     "data": {
      "text/plain": [
       "False"
      ]
     },
     "execution_count": 29,
     "metadata": {},
     "output_type": "execute_result"
    }
   ],
   "source": [
    "lst = [True, True, False, True]\n",
    "\n",
    "all(lst)"
   ]
  },
  {
   "cell_type": "markdown",
   "id": "appreciated-county",
   "metadata": {},
   "source": [
    "Returns **False** because, not all elements are True. "
   ]
  },
  {
   "cell_type": "code",
   "execution_count": 30,
   "id": "negative-wagon",
   "metadata": {},
   "outputs": [
    {
     "data": {
      "text/plain": [
       "True"
      ]
     },
     "execution_count": 30,
     "metadata": {},
     "output_type": "execute_result"
    }
   ],
   "source": [
    "any(lst)"
   ]
  },
  {
   "cell_type": "markdown",
   "id": "played-immune",
   "metadata": {},
   "source": [
    "Returns True because at least 1 of the elements in the list is True.\n",
    "\n",
    "*****\n",
    "\n",
    "# `complex()`\n",
    "\n",
    "`complex()` returns a complex number with the value __real + imag\\*1j__ or converts a string or number to a complex number.\n",
    "\n",
    "If the first parameter is a string, it will be interpreted as a complex number and the function must be called without a second parameter. The second parameter can never be a string. Each argument may be any numeric type (including complex). If imag is omitted, it defaults to zero and the constructor serves as a numeric conversion like int and float. If both arguments are omitted, returns 0j.\n",
    "\n",
    "If you are doing math or engineering that requires complex numbers (such as dynamics, control systems, or impedance of a circuit) this is a useful tool to have in Python.\n",
    "\n",
    "Let's see some examples :\n",
    "\n",
    "Create `2+3j`,"
   ]
  },
  {
   "cell_type": "code",
   "execution_count": 31,
   "id": "strategic-gauge",
   "metadata": {},
   "outputs": [
    {
     "data": {
      "text/plain": [
       "(2+3j)"
      ]
     },
     "execution_count": 31,
     "metadata": {},
     "output_type": "execute_result"
    }
   ],
   "source": [
    "complex(2,3)"
   ]
  },
  {
   "cell_type": "code",
   "execution_count": 32,
   "id": "light-damage",
   "metadata": {},
   "outputs": [
    {
     "data": {
      "text/plain": [
       "(10+1j)"
      ]
     },
     "execution_count": 32,
     "metadata": {},
     "output_type": "execute_result"
    }
   ],
   "source": [
    "complex(10,1)"
   ]
  },
  {
   "cell_type": "markdown",
   "id": "covered-triple",
   "metadata": {},
   "source": [
    "We can also pass strings :"
   ]
  },
  {
   "cell_type": "code",
   "execution_count": 34,
   "id": "known-imaging",
   "metadata": {},
   "outputs": [
    {
     "data": {
      "text/plain": [
       "(12+2j)"
      ]
     },
     "execution_count": 34,
     "metadata": {},
     "output_type": "execute_result"
    }
   ],
   "source": [
    "complex('12+2j')"
   ]
  },
  {
   "cell_type": "markdown",
   "id": "limited-slave",
   "metadata": {},
   "source": [
    "Do not include spaces while writing it, i.e. '12 + 2j' will result in error :"
   ]
  },
  {
   "cell_type": "code",
   "execution_count": 36,
   "id": "assumed-thanksgiving",
   "metadata": {},
   "outputs": [
    {
     "ename": "ValueError",
     "evalue": "complex() arg is a malformed string",
     "output_type": "error",
     "traceback": [
      "\u001b[0;31m---------------------------------------------------------------------------\u001b[0m",
      "\u001b[0;31mValueError\u001b[0m                                Traceback (most recent call last)",
      "\u001b[0;32m<ipython-input-36-70635bd9f473>\u001b[0m in \u001b[0;36m<module>\u001b[0;34m\u001b[0m\n\u001b[0;32m----> 1\u001b[0;31m \u001b[0mcomplex\u001b[0m\u001b[0;34m(\u001b[0m\u001b[0;34m'12 + 2j'\u001b[0m\u001b[0;34m)\u001b[0m\u001b[0;34m\u001b[0m\u001b[0;34m\u001b[0m\u001b[0m\n\u001b[0m",
      "\u001b[0;31mValueError\u001b[0m: complex() arg is a malformed string"
     ]
    }
   ],
   "source": [
    "complex('12 + 2j')"
   ]
  },
  {
   "cell_type": "markdown",
   "id": "architectural-palestinian",
   "metadata": {},
   "source": [
    "****\n",
    "\n",
    "# Built-in Functions Test-&-Solutions\n",
    "\n",
    "#### For this test, you should use built-in functions and be able to write the requested functions in one line.\n",
    "\n",
    "### Problem 1\n",
    "\n",
    "Use `map( )` to create a function which finds the length of each word in the phrase (broken by spaces) and return the values in a list.\n",
    "\n",
    "The function will have an input of a string, and output a list of integers."
   ]
  },
  {
   "cell_type": "code",
   "execution_count": 37,
   "id": "sought-mortgage",
   "metadata": {},
   "outputs": [],
   "source": [
    "def length_of_word(phrase):\n",
    "    return list(map(len, phrase.split()))"
   ]
  },
  {
   "cell_type": "code",
   "execution_count": 39,
   "id": "comprehensive-earthquake",
   "metadata": {},
   "outputs": [
    {
     "data": {
      "text/plain": [
       "[4, 2, 3, 6, 2, 4, 4, 2, 4, 8]"
      ]
     },
     "execution_count": 39,
     "metadata": {},
     "output_type": "execute_result"
    }
   ],
   "source": [
    "length_of_word('What is the length of each word in this sentence')"
   ]
  },
  {
   "cell_type": "markdown",
   "id": "speaking-lewis",
   "metadata": {},
   "source": [
    "### Problem 2\n",
    "Use reduce( ) to take a list of digits and return the number that they correspond to. For example, [1,2,3] corresponds to one-hundred-twenty-three.<br>\n",
    "___Do not convert the integers to strings!___"
   ]
  },
  {
   "cell_type": "code",
   "execution_count": 40,
   "id": "optimum-analyst",
   "metadata": {},
   "outputs": [],
   "source": [
    "from functools import reduce\n",
    "\n",
    "def digits_to_num(digits):\n",
    "    return reduce(lambda x,y: x*10+y, digits)"
   ]
  },
  {
   "cell_type": "code",
   "execution_count": 48,
   "id": "integrated-shaft",
   "metadata": {},
   "outputs": [
    {
     "data": {
      "text/plain": [
       "2314"
      ]
     },
     "execution_count": 48,
     "metadata": {},
     "output_type": "execute_result"
    }
   ],
   "source": [
    "digits_to_num([2,3,1,4])"
   ]
  },
  {
   "cell_type": "code",
   "execution_count": 50,
   "id": "aerial-workstation",
   "metadata": {},
   "outputs": [
    {
     "data": {
      "text/plain": [
       "4006"
      ]
     },
     "execution_count": 50,
     "metadata": {},
     "output_type": "execute_result"
    }
   ],
   "source": [
    "digits_to_num([4,0,0,6])"
   ]
  },
  {
   "cell_type": "code",
   "execution_count": 51,
   "id": "clinical-melissa",
   "metadata": {},
   "outputs": [
    {
     "data": {
      "text/plain": [
       "380"
      ]
     },
     "execution_count": 51,
     "metadata": {},
     "output_type": "execute_result"
    }
   ],
   "source": [
    "digits_to_num([0,3,8,0])"
   ]
  },
  {
   "cell_type": "code",
   "execution_count": 52,
   "id": "constant-option",
   "metadata": {},
   "outputs": [
    {
     "data": {
      "text/plain": [
       "40"
      ]
     },
     "execution_count": 52,
     "metadata": {},
     "output_type": "execute_result"
    }
   ],
   "source": [
    "digits_to_num([0,0,4,0])"
   ]
  },
  {
   "cell_type": "markdown",
   "id": "north-restriction",
   "metadata": {},
   "source": [
    "### Problem 3\n",
    "\n",
    "Use filter( ) to return the words from a list of words which start with a target letter."
   ]
  },
  {
   "cell_type": "code",
   "execution_count": 53,
   "id": "terminal-favor",
   "metadata": {},
   "outputs": [],
   "source": [
    "def filter_words(listWord, letter):\n",
    "    return list(filter(lambda word: word[0]==letter, listWord))"
   ]
  },
  {
   "cell_type": "code",
   "execution_count": 54,
   "id": "focal-arbitration",
   "metadata": {},
   "outputs": [
    {
     "data": {
      "text/plain": [
       "['hello', 'hamster', 'hi', 'honey', 'heart']"
      ]
     },
     "execution_count": 54,
     "metadata": {},
     "output_type": "execute_result"
    }
   ],
   "source": [
    "words = ['hello', 'cat', 'hamster', 'hi', 'dog', 'zebra', 'honey', 'nest', 'heart']\n",
    "filter_words(words, 'h')"
   ]
  },
  {
   "cell_type": "markdown",
   "id": "political-blame",
   "metadata": {},
   "source": [
    "### Problem 4\n",
    "\n",
    "Use zip( ) and a list comprehension to return a list of the same length where each value is the two strings from L1 and L2 concatenated together with a connector between them."
   ]
  },
  {
   "cell_type": "code",
   "execution_count": 57,
   "id": "listed-begin",
   "metadata": {},
   "outputs": [],
   "source": [
    "def concatenate(L1, L2, connector):\n",
    "    return [word1+connector+word2 for (word1,word2) in zip(L1,L2)]"
   ]
  },
  {
   "cell_type": "code",
   "execution_count": 58,
   "id": "mexican-commander",
   "metadata": {},
   "outputs": [
    {
     "data": {
      "text/plain": [
       "['A-a', 'B-b']"
      ]
     },
     "execution_count": 58,
     "metadata": {},
     "output_type": "execute_result"
    }
   ],
   "source": [
    "concatenate(['A','B'], ['a','b'], '-')"
   ]
  },
  {
   "cell_type": "markdown",
   "id": "preceding-jesus",
   "metadata": {},
   "source": [
    "### Problem 5\n",
    "\n",
    "Use `enumerate()` and other skills to return a dictionary which has the values of the list as keys and the index as the value. You may assume that a value will only appear once in the given list."
   ]
  },
  {
   "cell_type": "code",
   "execution_count": 59,
   "id": "timely-rescue",
   "metadata": {},
   "outputs": [],
   "source": [
    "def d_list(L):\n",
    "    return {key:value for value,key in enumerate(L)}"
   ]
  },
  {
   "cell_type": "code",
   "execution_count": 60,
   "id": "coordinated-hierarchy",
   "metadata": {},
   "outputs": [
    {
     "data": {
      "text/plain": [
       "{'h': 0, 'i': 1, 'j': 2, 'k': 3}"
      ]
     },
     "execution_count": 60,
     "metadata": {},
     "output_type": "execute_result"
    }
   ],
   "source": [
    "d_list(['h','i','j','k'])"
   ]
  },
  {
   "cell_type": "markdown",
   "id": "mobile-weekly",
   "metadata": {},
   "source": [
    "### Problem 6\n",
    "Use enumerate( ) and other skills from above to return the count of the number of items in the list whose value equals its index."
   ]
  },
  {
   "cell_type": "code",
   "execution_count": 61,
   "id": "finnish-edmonton",
   "metadata": {},
   "outputs": [],
   "source": [
    "def count_index(L):\n",
    "    return len([num for count,num in enumerate(L) if num==count])"
   ]
  },
  {
   "cell_type": "code",
   "execution_count": 63,
   "id": "monthly-nowhere",
   "metadata": {},
   "outputs": [
    {
     "data": {
      "text/plain": [
       "5"
      ]
     },
     "execution_count": 63,
     "metadata": {},
     "output_type": "execute_result"
    }
   ],
   "source": [
    "count_index([0,2,2,1,4,3,6,7])"
   ]
  },
  {
   "cell_type": "code",
   "execution_count": 28,
   "id": "continuing-desktop",
   "metadata": {},
   "outputs": [
    {
     "data": {
      "text/plain": [
       "{'e', 'h', 'l', 'o'}"
      ]
     },
     "execution_count": 28,
     "metadata": {},
     "output_type": "execute_result"
    }
   ],
   "source": [
    "str = 'heleloo'\n",
    "\n",
    "ls = {c for c in str}\n",
    "\n",
    "# ls[3] = 'x'\n",
    "\n",
    "ls"
   ]
  },
  {
   "cell_type": "markdown",
   "id": "chicken-beads",
   "metadata": {},
   "source": [
    "*****"
   ]
  }
 ],
 "metadata": {
  "kernelspec": {
   "display_name": "Python 3",
   "language": "python",
   "name": "python3"
  },
  "language_info": {
   "codemirror_mode": {
    "name": "ipython",
    "version": 3
   },
   "file_extension": ".py",
   "mimetype": "text/x-python",
   "name": "python",
   "nbconvert_exporter": "python",
   "pygments_lexer": "ipython3",
   "version": "3.7.8"
  }
 },
 "nbformat": 4,
 "nbformat_minor": 5
}
