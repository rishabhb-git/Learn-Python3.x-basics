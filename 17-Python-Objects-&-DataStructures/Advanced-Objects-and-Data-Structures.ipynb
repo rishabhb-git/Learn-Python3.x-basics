{
 "cells": [
  {
   "cell_type": "markdown",
   "id": "grand-telescope",
   "metadata": {},
   "source": [
    "# Advanced Numbers\n",
    "\n",
    "### Hexadecimal\n",
    "\n",
    "Using the function `hex()` you can convert numbers into a [hexadecimal](https://en.wikipedia.org/wiki/Hexadecimal) format :"
   ]
  },
  {
   "cell_type": "code",
   "execution_count": 18,
   "id": "initial-danger",
   "metadata": {},
   "outputs": [
    {
     "data": {
      "text/plain": [
       "'0x13'"
      ]
     },
     "execution_count": 18,
     "metadata": {},
     "output_type": "execute_result"
    }
   ],
   "source": [
    "hex(19)"
   ]
  },
  {
   "cell_type": "code",
   "execution_count": 25,
   "id": "accompanied-excitement",
   "metadata": {},
   "outputs": [
    {
     "data": {
      "text/plain": [
       "'0x2e'"
      ]
     },
     "execution_count": 25,
     "metadata": {},
     "output_type": "execute_result"
    }
   ],
   "source": [
    "hex(46)"
   ]
  },
  {
   "cell_type": "code",
   "execution_count": 20,
   "id": "extra-faculty",
   "metadata": {},
   "outputs": [
    {
     "data": {
      "text/plain": [
       "'-0x18'"
      ]
     },
     "execution_count": 20,
     "metadata": {},
     "output_type": "execute_result"
    }
   ],
   "source": [
    "hex(-24)"
   ]
  },
  {
   "cell_type": "code",
   "execution_count": 23,
   "id": "attempted-opinion",
   "metadata": {},
   "outputs": [
    {
     "data": {
      "text/plain": [
       "'0x18'"
      ]
     },
     "execution_count": 23,
     "metadata": {},
     "output_type": "execute_result"
    }
   ],
   "source": [
    "hex(24)"
   ]
  },
  {
   "cell_type": "markdown",
   "id": "sustainable-terrain",
   "metadata": {},
   "source": [
    "### Binary\n",
    "\n",
    "Using the function `bin()` you can convert numbers into their binary format."
   ]
  },
  {
   "cell_type": "code",
   "execution_count": 26,
   "id": "israeli-manufacturer",
   "metadata": {},
   "outputs": [
    {
     "data": {
      "text/plain": [
       "'0b10011010010'"
      ]
     },
     "execution_count": 26,
     "metadata": {},
     "output_type": "execute_result"
    }
   ],
   "source": [
    "bin(1234)"
   ]
  },
  {
   "cell_type": "code",
   "execution_count": 28,
   "id": "brave-warrior",
   "metadata": {},
   "outputs": [
    {
     "data": {
      "text/plain": [
       "'-0b100101'"
      ]
     },
     "execution_count": 28,
     "metadata": {},
     "output_type": "execute_result"
    }
   ],
   "source": [
    "bin(-37)"
   ]
  },
  {
   "cell_type": "code",
   "execution_count": 29,
   "id": "irish-perry",
   "metadata": {},
   "outputs": [
    {
     "data": {
      "text/plain": [
       "'0b100101'"
      ]
     },
     "execution_count": 29,
     "metadata": {},
     "output_type": "execute_result"
    }
   ],
   "source": [
    "bin(37)"
   ]
  },
  {
   "cell_type": "code",
   "execution_count": 32,
   "id": "heard-caution",
   "metadata": {},
   "outputs": [
    {
     "data": {
      "text/plain": [
       "'0b1000000000'"
      ]
     },
     "execution_count": 32,
     "metadata": {},
     "output_type": "execute_result"
    }
   ],
   "source": [
    "bin(512)"
   ]
  },
  {
   "cell_type": "markdown",
   "id": "consecutive-shape",
   "metadata": {},
   "source": [
    "### Exponentials\n",
    "\n",
    "The function `pow()` takes 2 arguments, equivalent to x^y. With 3 arguments it is equivalent to (x^y)%z, but may be more efficient for long integers."
   ]
  },
  {
   "cell_type": "code",
   "execution_count": 33,
   "id": "varying-worse",
   "metadata": {},
   "outputs": [
    {
     "data": {
      "text/plain": [
       "81"
      ]
     },
     "execution_count": 33,
     "metadata": {},
     "output_type": "execute_result"
    }
   ],
   "source": [
    "pow(3,4)"
   ]
  },
  {
   "cell_type": "code",
   "execution_count": 34,
   "id": "ignored-auditor",
   "metadata": {},
   "outputs": [
    {
     "data": {
      "text/plain": [
       "3"
      ]
     },
     "execution_count": 34,
     "metadata": {},
     "output_type": "execute_result"
    }
   ],
   "source": [
    "pow(3,4,6)\n",
    "\n",
    "# (3^4)%6 = 81%6 = 3"
   ]
  },
  {
   "cell_type": "markdown",
   "id": "imposed-smith",
   "metadata": {},
   "source": [
    "### Absolute Value\n",
    "\n",
    "The function `abs()` returns the absolute value of a number. The argument may be an integer or a floating point number.\n",
    "\n",
    "If the argument is a complex number, its magnitude is returned."
   ]
  },
  {
   "cell_type": "code",
   "execution_count": 35,
   "id": "asian-evolution",
   "metadata": {},
   "outputs": [
    {
     "data": {
      "text/plain": [
       "3.14"
      ]
     },
     "execution_count": 35,
     "metadata": {},
     "output_type": "execute_result"
    }
   ],
   "source": [
    "abs(-3.14)"
   ]
  },
  {
   "cell_type": "code",
   "execution_count": 36,
   "id": "removable-gates",
   "metadata": {},
   "outputs": [
    {
     "data": {
      "text/plain": [
       "3"
      ]
     },
     "execution_count": 36,
     "metadata": {},
     "output_type": "execute_result"
    }
   ],
   "source": [
    "abs(-3)"
   ]
  },
  {
   "cell_type": "code",
   "execution_count": 40,
   "id": "touched-magnitude",
   "metadata": {},
   "outputs": [
    {
     "data": {
      "text/plain": [
       "5.0"
      ]
     },
     "execution_count": 40,
     "metadata": {},
     "output_type": "execute_result"
    }
   ],
   "source": [
    "abs(3+4j)    # complex number"
   ]
  },
  {
   "cell_type": "markdown",
   "id": "endless-envelope",
   "metadata": {},
   "source": [
    "### Round\n",
    "\n",
    "The function `round()` will round a number to a given precision in decimal digits (default 0 digits). It does not convert integers to floats."
   ]
  },
  {
   "cell_type": "code",
   "execution_count": 42,
   "id": "elementary-marketing",
   "metadata": {},
   "outputs": [
    {
     "data": {
      "text/plain": [
       "4"
      ]
     },
     "execution_count": 42,
     "metadata": {},
     "output_type": "execute_result"
    }
   ],
   "source": [
    "round(4,2)"
   ]
  },
  {
   "cell_type": "code",
   "execution_count": 50,
   "id": "cardiovascular-archives",
   "metadata": {},
   "outputs": [
    {
     "data": {
      "text/plain": [
       "400"
      ]
     },
     "execution_count": 50,
     "metadata": {},
     "output_type": "execute_result"
    }
   ],
   "source": [
    "round(395, -2)"
   ]
  },
  {
   "cell_type": "code",
   "execution_count": 73,
   "id": "nearby-cornell",
   "metadata": {},
   "outputs": [
    {
     "name": "stdout",
     "output_type": "stream",
     "text": [
      "3.63\n"
     ]
    }
   ],
   "source": [
    "print(round(3.628, 2))"
   ]
  },
  {
   "cell_type": "code",
   "execution_count": 53,
   "id": "blank-qatar",
   "metadata": {},
   "outputs": [
    {
     "data": {
      "text/plain": [
       "3.14"
      ]
     },
     "execution_count": 53,
     "metadata": {},
     "output_type": "execute_result"
    }
   ],
   "source": [
    "import math\n",
    "round(math.pi,2)"
   ]
  },
  {
   "cell_type": "code",
   "execution_count": 54,
   "id": "original-accordance",
   "metadata": {},
   "outputs": [
    {
     "data": {
      "text/plain": [
       "3.14"
      ]
     },
     "execution_count": 54,
     "metadata": {},
     "output_type": "execute_result"
    }
   ],
   "source": [
    "round(3.1415926535, 2)"
   ]
  },
  {
   "cell_type": "markdown",
   "id": "taken-quick",
   "metadata": {},
   "source": [
    "Python has a built-in math library that is also useful to play around with in case you are ever in need of some mathematical operations. Explore the documentation -> https://docs.python.org/3/library/math.html\n",
    "\n",
    "<br>\n",
    "__________________________________________________________________________________________________________________________________________________\n",
    "\n",
    "# Advanced Strings"
   ]
  },
  {
   "cell_type": "code",
   "execution_count": 106,
   "id": "fatal-theta",
   "metadata": {},
   "outputs": [],
   "source": [
    "s = 'hello world'"
   ]
  },
  {
   "cell_type": "markdown",
   "id": "hindu-desktop",
   "metadata": {},
   "source": [
    "String objects have a variety of methods we can use to save time and add functionality.\n",
    "\n",
    "### Changing case\n",
    "\n",
    "We can use methods to capitalize the first word of a string, or change the case of the entire string."
   ]
  },
  {
   "cell_type": "code",
   "execution_count": 77,
   "id": "floating-haiti",
   "metadata": {},
   "outputs": [
    {
     "data": {
      "text/plain": [
       "'Hello world'"
      ]
     },
     "execution_count": 77,
     "metadata": {},
     "output_type": "execute_result"
    }
   ],
   "source": [
    "# Capitalize first word in string\n",
    "s.capitalize()"
   ]
  },
  {
   "cell_type": "code",
   "execution_count": 78,
   "id": "tough-driver",
   "metadata": {},
   "outputs": [
    {
     "data": {
      "text/plain": [
       "'HELLO WORLD'"
      ]
     },
     "execution_count": 78,
     "metadata": {},
     "output_type": "execute_result"
    }
   ],
   "source": [
    "s.upper()"
   ]
  },
  {
   "cell_type": "code",
   "execution_count": 79,
   "id": "considerable-wyoming",
   "metadata": {},
   "outputs": [
    {
     "data": {
      "text/plain": [
       "'hello world'"
      ]
     },
     "execution_count": 79,
     "metadata": {},
     "output_type": "execute_result"
    }
   ],
   "source": [
    "s.lower()"
   ]
  },
  {
   "cell_type": "markdown",
   "id": "focused-leone",
   "metadata": {},
   "source": [
    "> Remember, **strings are IMMUTABLE**.<br>None of the above methods change the string in place, they only return modified copies of the original string."
   ]
  },
  {
   "cell_type": "code",
   "execution_count": 107,
   "id": "brave-berry",
   "metadata": {},
   "outputs": [
    {
     "data": {
      "text/plain": [
       "'hello world'"
      ]
     },
     "execution_count": 107,
     "metadata": {},
     "output_type": "execute_result"
    }
   ],
   "source": [
    "s"
   ]
  },
  {
   "cell_type": "code",
   "execution_count": 108,
   "id": "hired-finance",
   "metadata": {},
   "outputs": [
    {
     "data": {
      "text/plain": [
       "'HELLO WORLD'"
      ]
     },
     "execution_count": 108,
     "metadata": {},
     "output_type": "execute_result"
    }
   ],
   "source": [
    "s = s.upper()\n",
    "\n",
    "s"
   ]
  },
  {
   "cell_type": "markdown",
   "id": "superb-librarian",
   "metadata": {},
   "source": [
    "****\n",
    "\n",
    "### Location and Counting"
   ]
  },
  {
   "cell_type": "code",
   "execution_count": 85,
   "id": "premier-warrant",
   "metadata": {},
   "outputs": [
    {
     "data": {
      "text/plain": [
       "2"
      ]
     },
     "execution_count": 85,
     "metadata": {},
     "output_type": "execute_result"
    }
   ],
   "source": [
    "s.count('O') # returns the number of occurrences, without overlap\n"
   ]
  },
  {
   "cell_type": "code",
   "execution_count": 86,
   "id": "favorite-parker",
   "metadata": {},
   "outputs": [
    {
     "data": {
      "text/plain": [
       "0"
      ]
     },
     "execution_count": 86,
     "metadata": {},
     "output_type": "execute_result"
    }
   ],
   "source": [
    "s.count('c')   # returns 0, if not found "
   ]
  },
  {
   "cell_type": "code",
   "execution_count": 87,
   "id": "commercial-venue",
   "metadata": {},
   "outputs": [
    {
     "data": {
      "text/plain": [
       "2"
      ]
     },
     "execution_count": 87,
     "metadata": {},
     "output_type": "execute_result"
    }
   ],
   "source": [
    "s.find('L') # returns the starting index position of the first occurence\n"
   ]
  },
  {
   "cell_type": "markdown",
   "id": "caroline-holder",
   "metadata": {},
   "source": [
    "****\n",
    "\n",
    "### Formatting\n",
    "\n",
    "The `center()` method allows you to place your string 'centered' between a provided string with a certain length. "
   ]
  },
  {
   "cell_type": "code",
   "execution_count": 116,
   "id": "supposed-juvenile",
   "metadata": {},
   "outputs": [
    {
     "data": {
      "text/plain": [
       "'xxxxHELLO WORLDxxxxx'"
      ]
     },
     "execution_count": 116,
     "metadata": {},
     "output_type": "execute_result"
    }
   ],
   "source": [
    "s.center(20, \"x\")"
   ]
  },
  {
   "cell_type": "code",
   "execution_count": 117,
   "id": "absolute-filling",
   "metadata": {},
   "outputs": [
    {
     "data": {
      "text/plain": [
       "'    HELLO WORLD     '"
      ]
     },
     "execution_count": 117,
     "metadata": {},
     "output_type": "execute_result"
    }
   ],
   "source": [
    "s.center(20, \" \")"
   ]
  },
  {
   "cell_type": "markdown",
   "id": "emotional-jerusalem",
   "metadata": {},
   "source": [
    "<br>The `expandtabs()` method will expand tab notations `\\t` into spaces :"
   ]
  },
  {
   "cell_type": "code",
   "execution_count": 96,
   "id": "comfortable-monster",
   "metadata": {},
   "outputs": [
    {
     "data": {
      "text/plain": [
       "'hello   hi'"
      ]
     },
     "execution_count": 96,
     "metadata": {},
     "output_type": "execute_result"
    }
   ],
   "source": [
    "'hello\\thi'.expandtabs()"
   ]
  },
  {
   "cell_type": "code",
   "execution_count": 97,
   "id": "demanding-anchor",
   "metadata": {},
   "outputs": [
    {
     "data": {
      "text/plain": [
       "'Hello   Jenni'"
      ]
     },
     "execution_count": 97,
     "metadata": {},
     "output_type": "execute_result"
    }
   ],
   "source": [
    "'Hello\\tJenni'.expandtabs()"
   ]
  },
  {
   "cell_type": "markdown",
   "id": "italic-huntington",
   "metadata": {},
   "source": [
    "_This is same as doing..._"
   ]
  },
  {
   "cell_type": "code",
   "execution_count": 118,
   "id": "flush-weather",
   "metadata": {},
   "outputs": [
    {
     "name": "stdout",
     "output_type": "stream",
     "text": [
      "Hello\tJenni\n"
     ]
    }
   ],
   "source": [
    "print('Hello\\tJenni')"
   ]
  },
  {
   "cell_type": "markdown",
   "id": "employed-press",
   "metadata": {},
   "source": [
    "****\n",
    "\n",
    "### is check methods\n",
    "These various methods below check if the string is some case."
   ]
  },
  {
   "cell_type": "code",
   "execution_count": 98,
   "id": "defined-marshall",
   "metadata": {},
   "outputs": [],
   "source": [
    "s = 'hello'\n"
   ]
  },
  {
   "cell_type": "markdown",
   "id": "painful-pollution",
   "metadata": {},
   "source": [
    "<br>`isalnum()` will return True if all characters in **s** are alphanumeric"
   ]
  },
  {
   "cell_type": "code",
   "execution_count": 99,
   "id": "portable-spirituality",
   "metadata": {},
   "outputs": [
    {
     "data": {
      "text/plain": [
       "True"
      ]
     },
     "execution_count": 99,
     "metadata": {},
     "output_type": "execute_result"
    }
   ],
   "source": [
    "s.isalnum()"
   ]
  },
  {
   "cell_type": "markdown",
   "id": "damaged-tumor",
   "metadata": {},
   "source": [
    "<br>`isalpha()` will return True if all characters in **s** are alphabetic"
   ]
  },
  {
   "cell_type": "code",
   "execution_count": 100,
   "id": "conservative-leisure",
   "metadata": {},
   "outputs": [
    {
     "data": {
      "text/plain": [
       "True"
      ]
     },
     "execution_count": 100,
     "metadata": {},
     "output_type": "execute_result"
    }
   ],
   "source": [
    "s.isalpha()"
   ]
  },
  {
   "cell_type": "markdown",
   "id": "reduced-transmission",
   "metadata": {},
   "source": [
    "<br>`islower()` will return True if all cased characters in **s** are lowercase and there is at least one cased character in **s**, False otherwise."
   ]
  },
  {
   "cell_type": "code",
   "execution_count": 101,
   "id": "smart-jacksonville",
   "metadata": {},
   "outputs": [
    {
     "data": {
      "text/plain": [
       "True"
      ]
     },
     "execution_count": 101,
     "metadata": {},
     "output_type": "execute_result"
    }
   ],
   "source": [
    "s.islower()"
   ]
  },
  {
   "cell_type": "code",
   "execution_count": 123,
   "id": "quality-dependence",
   "metadata": {},
   "outputs": [
    {
     "data": {
      "text/plain": [
       "False"
      ]
     },
     "execution_count": 123,
     "metadata": {},
     "output_type": "execute_result"
    }
   ],
   "source": [
    "\"pRick\".islower()"
   ]
  },
  {
   "cell_type": "markdown",
   "id": "inclusive-sacramento",
   "metadata": {},
   "source": [
    "<br>`isspace()` will return True if all characters in **s** are whitespace."
   ]
  },
  {
   "cell_type": "code",
   "execution_count": 124,
   "id": "sophisticated-master",
   "metadata": {},
   "outputs": [
    {
     "data": {
      "text/plain": [
       "False"
      ]
     },
     "execution_count": 124,
     "metadata": {},
     "output_type": "execute_result"
    }
   ],
   "source": [
    "s.isspace()"
   ]
  },
  {
   "cell_type": "code",
   "execution_count": 132,
   "id": "copyrighted-alfred",
   "metadata": {},
   "outputs": [
    {
     "name": "stdout",
     "output_type": "stream",
     "text": [
      "True\n",
      "True\n",
      "True\n"
     ]
    }
   ],
   "source": [
    "print(\"   \".isspace())\n",
    "\n",
    "print(\"\\n\".isspace())\n",
    "\n",
    "print(\"\\t\".isspace())"
   ]
  },
  {
   "cell_type": "markdown",
   "id": "statutory-attribute",
   "metadata": {},
   "source": [
    "<br>`istitle()` will return True if **s** is a title cased string and there is at least one character in **s**, i.e. uppercase characters may only follow uncased characters and lowercase characters only cased ones. It returns False otherwise."
   ]
  },
  {
   "cell_type": "code",
   "execution_count": 134,
   "id": "latin-tourist",
   "metadata": {},
   "outputs": [
    {
     "data": {
      "text/plain": [
       "False"
      ]
     },
     "execution_count": 134,
     "metadata": {},
     "output_type": "execute_result"
    }
   ],
   "source": [
    "s.istitle()"
   ]
  },
  {
   "cell_type": "markdown",
   "id": "confused-conservative",
   "metadata": {},
   "source": [
    "`isupper()` will return True if all cased characters in **s** are uppercase and there is at least one cased character in s, False otherwise."
   ]
  },
  {
   "cell_type": "code",
   "execution_count": 135,
   "id": "straight-teacher",
   "metadata": {},
   "outputs": [
    {
     "data": {
      "text/plain": [
       "True"
      ]
     },
     "execution_count": 135,
     "metadata": {},
     "output_type": "execute_result"
    }
   ],
   "source": [
    "s.isupper()"
   ]
  },
  {
   "cell_type": "markdown",
   "id": "italian-highway",
   "metadata": {},
   "source": [
    "<br>`endswith()` method is essentially the same as a boolean check on `s[-1]`"
   ]
  },
  {
   "cell_type": "code",
   "execution_count": 136,
   "id": "elder-think",
   "metadata": {},
   "outputs": [
    {
     "data": {
      "text/plain": [
       "False"
      ]
     },
     "execution_count": 136,
     "metadata": {},
     "output_type": "execute_result"
    }
   ],
   "source": [
    "s.endswith('o')"
   ]
  },
  {
   "cell_type": "code",
   "execution_count": 137,
   "id": "atomic-costa",
   "metadata": {},
   "outputs": [
    {
     "data": {
      "text/plain": [
       "True"
      ]
     },
     "execution_count": 137,
     "metadata": {},
     "output_type": "execute_result"
    }
   ],
   "source": [
    "\"world\".endswith('d')"
   ]
  },
  {
   "cell_type": "markdown",
   "id": "excited-prescription",
   "metadata": {},
   "source": [
    "****\n",
    "\n",
    "## Built-in RegEx\n",
    "\n",
    "Strings have some built-in methods that can resemble regular expression operations. We can use `split()` to split the string at a certain element and **return a list** of the results.\n",
    "\n",
    "We can use `partition()` to **return a tuple** that includes the first occurrence of the separator sandwiched between the first half and the end half."
   ]
  },
  {
   "cell_type": "code",
   "execution_count": 145,
   "id": "knowing-republic",
   "metadata": {},
   "outputs": [
    {
     "data": {
      "text/plain": [
       "['h', 'llo world']"
      ]
     },
     "execution_count": 145,
     "metadata": {},
     "output_type": "execute_result"
    }
   ],
   "source": [
    "\"hello world\".split('e')"
   ]
  },
  {
   "cell_type": "code",
   "execution_count": 154,
   "id": "occupational-mission",
   "metadata": {},
   "outputs": [
    {
     "name": "stdout",
     "output_type": "stream",
     "text": [
      "['macb', '', 'k'] \n",
      "\n",
      "['he', '', 'o wor', 'd'] \n",
      "\n",
      "['c', 'lend', 'r'] \n",
      "\n",
      "['', 'ong']\n"
     ]
    }
   ],
   "source": [
    "print(\"macbook\".split('o'), '\\n')    # seperates at every occurence of letter 'o'\n",
    "\n",
    "print(\"hello world\".split('l'), '\\n')     # seperates at every occurence of letter 'l'\n",
    "\n",
    "print(\"calendar\".split('a'), '\\n')     # seperates at every occurence of letter 'a'\n",
    "\n",
    "print(\"song\".split('s'))     # if split is done at the 1st letter, the returned list includes an empty string at the index 0."
   ]
  },
  {
   "cell_type": "code",
   "execution_count": 161,
   "id": "least-spice",
   "metadata": {},
   "outputs": [
    {
     "data": {
      "text/plain": [
       "('he', 'l', 'lo world')"
      ]
     },
     "execution_count": 161,
     "metadata": {},
     "output_type": "execute_result"
    }
   ],
   "source": [
    "\"hello world\".partition('l')"
   ]
  },
  {
   "cell_type": "code",
   "execution_count": 162,
   "id": "seven-tuner",
   "metadata": {},
   "outputs": [
    {
     "data": {
      "text/plain": [
       "('hot', 'i', 'hhihihihihi')"
      ]
     },
     "execution_count": 162,
     "metadata": {},
     "output_type": "execute_result"
    }
   ],
   "source": [
    "\"hotihhihihihihi\".partition('i')       # seperates at first instance of 'i'\n",
    "\n",
    "# front--sep--back"
   ]
  },
  {
   "cell_type": "markdown",
   "id": "extraordinary-discussion",
   "metadata": {},
   "source": [
    "<br>\n",
    "__________________________________________________________________________________________________________________________________________________\n",
    "\n",
    "# Advanced Sets"
   ]
  },
  {
   "cell_type": "code",
   "execution_count": 163,
   "id": "abroad-branch",
   "metadata": {},
   "outputs": [],
   "source": [
    "s = set()"
   ]
  },
  {
   "cell_type": "markdown",
   "id": "charitable-strengthening",
   "metadata": {},
   "source": [
    "### `.add()`\n",
    "\n",
    "Add elements to a set. Remember, a set won't duplicate elements; it will only present them once (that's why it's called a set!)"
   ]
  },
  {
   "cell_type": "code",
   "execution_count": 164,
   "id": "banned-lightning",
   "metadata": {},
   "outputs": [],
   "source": [
    "s.add(1)"
   ]
  },
  {
   "cell_type": "code",
   "execution_count": 165,
   "id": "unusual-earthquake",
   "metadata": {},
   "outputs": [],
   "source": [
    "s.add(7)"
   ]
  },
  {
   "cell_type": "code",
   "execution_count": 166,
   "id": "typical-montgomery",
   "metadata": {},
   "outputs": [
    {
     "data": {
      "text/plain": [
       "{1, 7}"
      ]
     },
     "execution_count": 166,
     "metadata": {},
     "output_type": "execute_result"
    }
   ],
   "source": [
    "s"
   ]
  },
  {
   "cell_type": "markdown",
   "id": "simple-ranch",
   "metadata": {},
   "source": [
    "### `.clear()`\n",
    "removes all elements from the set"
   ]
  },
  {
   "cell_type": "code",
   "execution_count": 167,
   "id": "frank-privacy",
   "metadata": {},
   "outputs": [],
   "source": [
    "s.clear()"
   ]
  },
  {
   "cell_type": "code",
   "execution_count": 168,
   "id": "equipped-scholarship",
   "metadata": {},
   "outputs": [
    {
     "data": {
      "text/plain": [
       "set()"
      ]
     },
     "execution_count": 168,
     "metadata": {},
     "output_type": "execute_result"
    }
   ],
   "source": [
    "s"
   ]
  },
  {
   "cell_type": "markdown",
   "id": "norman-doubt",
   "metadata": {},
   "source": [
    "### `.copy()`\n",
    "returns a copy of the set.\n",
    "> Note it is a copy, so changes to the original don't effect the copy."
   ]
  },
  {
   "cell_type": "code",
   "execution_count": 169,
   "id": "enclosed-canyon",
   "metadata": {},
   "outputs": [],
   "source": [
    "s = {1,2,3}\n",
    "sc = s.copy()"
   ]
  },
  {
   "cell_type": "code",
   "execution_count": 170,
   "id": "revolutionary-sydney",
   "metadata": {},
   "outputs": [
    {
     "data": {
      "text/plain": [
       "{1, 2, 3}"
      ]
     },
     "execution_count": 170,
     "metadata": {},
     "output_type": "execute_result"
    }
   ],
   "source": [
    "sc"
   ]
  },
  {
   "cell_type": "code",
   "execution_count": 171,
   "id": "moderate-correlation",
   "metadata": {},
   "outputs": [
    {
     "data": {
      "text/plain": [
       "{1, 2, 3}"
      ]
     },
     "execution_count": 171,
     "metadata": {},
     "output_type": "execute_result"
    }
   ],
   "source": [
    "s"
   ]
  },
  {
   "cell_type": "code",
   "execution_count": 172,
   "id": "assumed-brass",
   "metadata": {},
   "outputs": [
    {
     "data": {
      "text/plain": [
       "{1, 2, 3, 8}"
      ]
     },
     "execution_count": 172,
     "metadata": {},
     "output_type": "execute_result"
    }
   ],
   "source": [
    "s.add(8)\n",
    "\n",
    "s"
   ]
  },
  {
   "cell_type": "code",
   "execution_count": 173,
   "id": "enhanced-zambia",
   "metadata": {},
   "outputs": [
    {
     "data": {
      "text/plain": [
       "{1, 2, 3}"
      ]
     },
     "execution_count": 173,
     "metadata": {},
     "output_type": "execute_result"
    }
   ],
   "source": [
    "sc"
   ]
  },
  {
   "cell_type": "markdown",
   "id": "modified-prediction",
   "metadata": {},
   "source": [
    "### `.difference()`\n",
    "difference returns the difference of two or more sets. The syntax is :\n",
    "`set1.difference(set2)`"
   ]
  },
  {
   "cell_type": "code",
   "execution_count": 174,
   "id": "entire-saver",
   "metadata": {},
   "outputs": [
    {
     "data": {
      "text/plain": [
       "{8}"
      ]
     },
     "execution_count": 174,
     "metadata": {},
     "output_type": "execute_result"
    }
   ],
   "source": [
    "s.difference(sc)"
   ]
  },
  {
   "cell_type": "markdown",
   "id": "injured-looking",
   "metadata": {},
   "source": [
    "### `.difference_update()`\n",
    "\n",
    "difference_update syntax is :\n",
    "\n",
    "`set1.difference_update(set2)`\n",
    "\n",
    "the method returns set1 after removing elements found in set2."
   ]
  },
  {
   "cell_type": "code",
   "execution_count": 177,
   "id": "governmental-graphics",
   "metadata": {},
   "outputs": [],
   "source": [
    "# defining s1 and s2\n",
    "s1 = {1,2,3}\n",
    "\n",
    "s2 = {1,4,5}"
   ]
  },
  {
   "cell_type": "code",
   "execution_count": 178,
   "id": "accomplished-arthritis",
   "metadata": {},
   "outputs": [],
   "source": [
    "s1.difference_update(s2)"
   ]
  },
  {
   "cell_type": "code",
   "execution_count": 179,
   "id": "looking-glucose",
   "metadata": {},
   "outputs": [
    {
     "data": {
      "text/plain": [
       "{2, 3}"
      ]
     },
     "execution_count": 179,
     "metadata": {},
     "output_type": "execute_result"
    }
   ],
   "source": [
    "s1"
   ]
  },
  {
   "cell_type": "code",
   "execution_count": 180,
   "id": "loaded-software",
   "metadata": {},
   "outputs": [
    {
     "data": {
      "text/plain": [
       "{1, 4, 5}"
      ]
     },
     "execution_count": 180,
     "metadata": {},
     "output_type": "execute_result"
    }
   ],
   "source": [
    "s2"
   ]
  },
  {
   "cell_type": "markdown",
   "id": "demanding-passport",
   "metadata": {},
   "source": [
    "### `.discard()`\n",
    "\n",
    "Removes an element from a set if it is a member. If the element is not a member, it does nothing."
   ]
  },
  {
   "cell_type": "code",
   "execution_count": 181,
   "id": "neither-conclusion",
   "metadata": {},
   "outputs": [
    {
     "data": {
      "text/plain": [
       "{1, 2, 3, 8}"
      ]
     },
     "execution_count": 181,
     "metadata": {},
     "output_type": "execute_result"
    }
   ],
   "source": [
    "s"
   ]
  },
  {
   "cell_type": "code",
   "execution_count": 183,
   "id": "authorized-access",
   "metadata": {},
   "outputs": [
    {
     "data": {
      "text/plain": [
       "{1, 3, 8}"
      ]
     },
     "execution_count": 183,
     "metadata": {},
     "output_type": "execute_result"
    }
   ],
   "source": [
    "s.discard(2)\n",
    "\n",
    "s"
   ]
  },
  {
   "cell_type": "markdown",
   "id": "verified-stake",
   "metadata": {},
   "source": [
    "### `.intersection()` and `.intersection_update()`\n",
    "\n",
    "Returns the intersection of two or more sets as a new set (i.e. elements that are common to all of the sets)."
   ]
  },
  {
   "cell_type": "code",
   "execution_count": 184,
   "id": "floppy-feature",
   "metadata": {},
   "outputs": [],
   "source": [
    "s1 = {1,2,3}\n",
    "\n",
    "s2 = {1,2,4}"
   ]
  },
  {
   "cell_type": "code",
   "execution_count": 185,
   "id": "executed-complex",
   "metadata": {},
   "outputs": [
    {
     "data": {
      "text/plain": [
       "{1, 2}"
      ]
     },
     "execution_count": 185,
     "metadata": {},
     "output_type": "execute_result"
    }
   ],
   "source": [
    "s1.intersection(s2)"
   ]
  },
  {
   "cell_type": "code",
   "execution_count": 186,
   "id": "loving-subscriber",
   "metadata": {},
   "outputs": [
    {
     "data": {
      "text/plain": [
       "{1, 2, 3}"
      ]
     },
     "execution_count": 186,
     "metadata": {},
     "output_type": "execute_result"
    }
   ],
   "source": [
    "s1"
   ]
  },
  {
   "cell_type": "markdown",
   "id": "hungarian-excess",
   "metadata": {},
   "source": [
    "`intersection_update` will update a set with the intersection of itself and another."
   ]
  },
  {
   "cell_type": "code",
   "execution_count": 187,
   "id": "tight-helping",
   "metadata": {},
   "outputs": [],
   "source": [
    "s1.intersection_update(s2)"
   ]
  },
  {
   "cell_type": "code",
   "execution_count": 188,
   "id": "specified-luxury",
   "metadata": {},
   "outputs": [
    {
     "data": {
      "text/plain": [
       "{1, 2}"
      ]
     },
     "execution_count": 188,
     "metadata": {},
     "output_type": "execute_result"
    }
   ],
   "source": [
    "s1    # now, 's1' will be updated"
   ]
  },
  {
   "cell_type": "code",
   "execution_count": 189,
   "id": "tight-distributor",
   "metadata": {},
   "outputs": [
    {
     "data": {
      "text/plain": [
       "{1, 2, 4}"
      ]
     },
     "execution_count": 189,
     "metadata": {},
     "output_type": "execute_result"
    }
   ],
   "source": [
    "s2"
   ]
  },
  {
   "cell_type": "markdown",
   "id": "center-reconstruction",
   "metadata": {},
   "source": [
    "### `.isdisjoint()`\n",
    "This method will return True if the 2 sets have a `null` intersection."
   ]
  },
  {
   "cell_type": "code",
   "execution_count": 227,
   "id": "higher-signal",
   "metadata": {},
   "outputs": [],
   "source": [
    "s1 = {1,2}\n",
    "s2 = {1,2,4}\n",
    "s3 = {5}"
   ]
  },
  {
   "cell_type": "code",
   "execution_count": 228,
   "id": "transparent-management",
   "metadata": {},
   "outputs": [
    {
     "data": {
      "text/plain": [
       "False"
      ]
     },
     "execution_count": 228,
     "metadata": {},
     "output_type": "execute_result"
    }
   ],
   "source": [
    "s1.isdisjoint(s2)"
   ]
  },
  {
   "cell_type": "code",
   "execution_count": 229,
   "id": "technological-cuisine",
   "metadata": {},
   "outputs": [
    {
     "data": {
      "text/plain": [
       "True"
      ]
     },
     "execution_count": 229,
     "metadata": {},
     "output_type": "execute_result"
    }
   ],
   "source": [
    "s1.isdisjoint(s3)"
   ]
  },
  {
   "cell_type": "code",
   "execution_count": 233,
   "id": "incorrect-annual",
   "metadata": {},
   "outputs": [
    {
     "data": {
      "text/plain": [
       "True"
      ]
     },
     "execution_count": 233,
     "metadata": {},
     "output_type": "execute_result"
    }
   ],
   "source": [
    "s2.isdisjoint(s3)"
   ]
  },
  {
   "cell_type": "markdown",
   "id": "cooperative-introduction",
   "metadata": {},
   "source": [
    "### `.issubset()`\n",
    "\n",
    "This method reports whether another set contains this set."
   ]
  },
  {
   "cell_type": "code",
   "execution_count": 212,
   "id": "upset-purchase",
   "metadata": {},
   "outputs": [
    {
     "data": {
      "text/plain": [
       "{1, 2}"
      ]
     },
     "execution_count": 212,
     "metadata": {},
     "output_type": "execute_result"
    }
   ],
   "source": [
    "s1"
   ]
  },
  {
   "cell_type": "code",
   "execution_count": 213,
   "id": "wanted-nurse",
   "metadata": {},
   "outputs": [
    {
     "data": {
      "text/plain": [
       "{1, 2, 4}"
      ]
     },
     "execution_count": 213,
     "metadata": {},
     "output_type": "execute_result"
    }
   ],
   "source": [
    "s2"
   ]
  },
  {
   "cell_type": "code",
   "execution_count": 214,
   "id": "handed-system",
   "metadata": {},
   "outputs": [
    {
     "data": {
      "text/plain": [
       "True"
      ]
     },
     "execution_count": 214,
     "metadata": {},
     "output_type": "execute_result"
    }
   ],
   "source": [
    "s1.issubset(s2)"
   ]
  },
  {
   "cell_type": "markdown",
   "id": "juvenile-mexico",
   "metadata": {},
   "source": [
    "### `.issuperset()`\n",
    "\n",
    "This method will report whether this set contains another set."
   ]
  },
  {
   "cell_type": "code",
   "execution_count": 215,
   "id": "portuguese-invitation",
   "metadata": {},
   "outputs": [
    {
     "data": {
      "text/plain": [
       "True"
      ]
     },
     "execution_count": 215,
     "metadata": {},
     "output_type": "execute_result"
    }
   ],
   "source": [
    "s2.issuperset(s1)"
   ]
  },
  {
   "cell_type": "code",
   "execution_count": 216,
   "id": "sorted-catholic",
   "metadata": {},
   "outputs": [
    {
     "data": {
      "text/plain": [
       "False"
      ]
     },
     "execution_count": 216,
     "metadata": {},
     "output_type": "execute_result"
    }
   ],
   "source": [
    "s1.issuperset(s2)"
   ]
  },
  {
   "cell_type": "markdown",
   "id": "tired-wages",
   "metadata": {},
   "source": [
    "### symmetric_difference and symmetric_update\n",
    "Return the symmetric difference of two sets as a new set (i.e. all elements that are in exactly one of the sets)."
   ]
  },
  {
   "cell_type": "code",
   "execution_count": 217,
   "id": "electronic-grove",
   "metadata": {},
   "outputs": [
    {
     "data": {
      "text/plain": [
       "{1, 2}"
      ]
     },
     "execution_count": 217,
     "metadata": {},
     "output_type": "execute_result"
    }
   ],
   "source": [
    "s1"
   ]
  },
  {
   "cell_type": "code",
   "execution_count": 218,
   "id": "military-crack",
   "metadata": {},
   "outputs": [
    {
     "data": {
      "text/plain": [
       "{1, 2, 4}"
      ]
     },
     "execution_count": 218,
     "metadata": {},
     "output_type": "execute_result"
    }
   ],
   "source": [
    "s2"
   ]
  },
  {
   "cell_type": "code",
   "execution_count": 219,
   "id": "heated-tribe",
   "metadata": {},
   "outputs": [
    {
     "data": {
      "text/plain": [
       "{4}"
      ]
     },
     "execution_count": 219,
     "metadata": {},
     "output_type": "execute_result"
    }
   ],
   "source": [
    "s1.symmetric_difference(s2)"
   ]
  },
  {
   "cell_type": "markdown",
   "id": "ranging-hybrid",
   "metadata": {},
   "source": [
    "### `.union()`\n",
    "Returns the union of two sets (i.e. all elements that are in either set.)"
   ]
  },
  {
   "cell_type": "code",
   "execution_count": 220,
   "id": "satisfied-kelly",
   "metadata": {},
   "outputs": [
    {
     "data": {
      "text/plain": [
       "{1, 2, 4}"
      ]
     },
     "execution_count": 220,
     "metadata": {},
     "output_type": "execute_result"
    }
   ],
   "source": [
    "s1.union(s2)\n"
   ]
  },
  {
   "cell_type": "code",
   "execution_count": 222,
   "id": "apart-batch",
   "metadata": {},
   "outputs": [
    {
     "name": "stdout",
     "output_type": "stream",
     "text": [
      "s1: {1, 2}\n",
      "s2: {1, 2, 4}\n"
     ]
    }
   ],
   "source": [
    "print('s1:', s1)\n",
    "\n",
    "print('s2:', s2)"
   ]
  },
  {
   "cell_type": "markdown",
   "id": "eight-polish",
   "metadata": {},
   "source": [
    "### `.update()`\n",
    "Update a set with the union of itself and others."
   ]
  },
  {
   "cell_type": "code",
   "execution_count": 223,
   "id": "complete-instruction",
   "metadata": {},
   "outputs": [
    {
     "data": {
      "text/plain": [
       "{1, 2}"
      ]
     },
     "execution_count": 223,
     "metadata": {},
     "output_type": "execute_result"
    }
   ],
   "source": [
    "s1"
   ]
  },
  {
   "cell_type": "code",
   "execution_count": 224,
   "id": "retained-concern",
   "metadata": {},
   "outputs": [],
   "source": [
    "s1.update(s2)"
   ]
  },
  {
   "cell_type": "code",
   "execution_count": 225,
   "id": "solar-pillow",
   "metadata": {},
   "outputs": [
    {
     "data": {
      "text/plain": [
       "{1, 2, 4}"
      ]
     },
     "execution_count": 225,
     "metadata": {},
     "output_type": "execute_result"
    }
   ],
   "source": [
    "s1"
   ]
  },
  {
   "cell_type": "code",
   "execution_count": 226,
   "id": "editorial-cigarette",
   "metadata": {},
   "outputs": [
    {
     "data": {
      "text/plain": [
       "{1, 2, 4}"
      ]
     },
     "execution_count": 226,
     "metadata": {},
     "output_type": "execute_result"
    }
   ],
   "source": [
    "s2"
   ]
  },
  {
   "cell_type": "markdown",
   "id": "suspected-malpractice",
   "metadata": {},
   "source": [
    "So, `Set()` data structure is pretty handy to use when needed to compare for unique values. Use it for such scenarios.\n",
    "\n",
    "<br>\n",
    "__________________________________________________________________________________________________________________________________________________\n",
    "\n",
    "# Advanced Dictionaries\n",
    "\n",
    "### Dictionary Comprehensions\n",
    "\n",
    "Just like List Comprehensions, Dictionary Data Types also support their own version of comprehension for quick creation. It is not as commonly used as List Comprehensions, but the syntax is :"
   ]
  },
  {
   "cell_type": "code",
   "execution_count": 234,
   "id": "simplified-latino",
   "metadata": {},
   "outputs": [
    {
     "data": {
      "text/plain": [
       "{0: 0, 1: 1, 2: 4, 3: 9, 4: 16, 5: 25, 6: 36, 7: 49, 8: 64, 9: 81}"
      ]
     },
     "execution_count": 234,
     "metadata": {},
     "output_type": "execute_result"
    }
   ],
   "source": [
    "{x:x**2 for x in range(10)}"
   ]
  },
  {
   "cell_type": "code",
   "execution_count": 246,
   "id": "meaningful-probability",
   "metadata": {},
   "outputs": [
    {
     "data": {
      "text/plain": [
       "{'a': 0, 'b': 1}"
      ]
     },
     "execution_count": 246,
     "metadata": {},
     "output_type": "execute_result"
    }
   ],
   "source": [
    "{k:v**2 for k,v in zip(['a','b'],range(2))}"
   ]
  },
  {
   "cell_type": "code",
   "execution_count": 249,
   "id": "fixed-graphics",
   "metadata": {},
   "outputs": [
    {
     "name": "stdout",
     "output_type": "stream",
     "text": [
      "('a', 0)\n",
      "('b', 1)\n"
     ]
    }
   ],
   "source": [
    "# just doing a side-check here of the .zip() which is used above\n",
    "\n",
    "for i in zip(['a','b'],range(2)):\n",
    "    print(i)"
   ]
  },
  {
   "cell_type": "markdown",
   "id": "suitable-preliminary",
   "metadata": {},
   "source": [
    "One of the reasons it is not as common is the difficulty in structuring key names that are not based off the values.<br><br>\n",
    "\n",
    "### Iteration over keys, values, and items\n",
    "\n",
    "Dictionaries can be iterated over using the `keys()`, `values()` and `items()` methods.<br>For example :"
   ]
  },
  {
   "cell_type": "code",
   "execution_count": 252,
   "id": "disabled-eleven",
   "metadata": {},
   "outputs": [],
   "source": [
    "d = {'k1':1,'k2':2}"
   ]
  },
  {
   "cell_type": "code",
   "execution_count": 254,
   "id": "opened-rover",
   "metadata": {},
   "outputs": [
    {
     "name": "stdout",
     "output_type": "stream",
     "text": [
      "k1\n",
      "<class 'str'>\n",
      "_________________\n",
      "k2\n",
      "<class 'str'>\n",
      "_________________\n"
     ]
    }
   ],
   "source": [
    "for k in d.keys():\n",
    "    print(k)\n",
    "    print(type(k))\n",
    "    print('_________________')"
   ]
  },
  {
   "cell_type": "code",
   "execution_count": 239,
   "id": "protective-vessel",
   "metadata": {},
   "outputs": [
    {
     "name": "stdout",
     "output_type": "stream",
     "text": [
      "1\n",
      "<class 'int'>\n",
      "__________________\n",
      "2\n",
      "<class 'int'>\n",
      "__________________\n"
     ]
    }
   ],
   "source": [
    "for v in d.values():\n",
    "    print(v)\n",
    "    print(type(v))\n",
    "    print('__________________')"
   ]
  },
  {
   "cell_type": "markdown",
   "id": "spare-delaware",
   "metadata": {},
   "source": [
    "<br>\n",
    "\n",
    "### Viewing keys, values and items\n",
    "\n",
    "By themselves the `keys()`, `values()` and `items()` methods return a dictionary view object. This is not a separate list of items. Instead, the view is always tied to the original dictionary."
   ]
  },
  {
   "cell_type": "code",
   "execution_count": 243,
   "id": "boring-conservative",
   "metadata": {},
   "outputs": [
    {
     "data": {
      "text/plain": [
       "dict_keys(['k1', 'k2'])"
      ]
     },
     "execution_count": 243,
     "metadata": {},
     "output_type": "execute_result"
    }
   ],
   "source": [
    "key_view = d.keys()\n",
    "\n",
    "key_view"
   ]
  },
  {
   "cell_type": "code",
   "execution_count": 244,
   "id": "effective-advocate",
   "metadata": {},
   "outputs": [
    {
     "data": {
      "text/plain": [
       "{'k1': 1, 'k2': 2, 'k3': 5}"
      ]
     },
     "execution_count": 244,
     "metadata": {},
     "output_type": "execute_result"
    }
   ],
   "source": [
    "d['k3'] = 5\n",
    "\n",
    "d"
   ]
  },
  {
   "cell_type": "code",
   "execution_count": 245,
   "id": "parliamentary-julian",
   "metadata": {},
   "outputs": [
    {
     "data": {
      "text/plain": [
       "dict_keys(['k1', 'k2', 'k3'])"
      ]
     },
     "execution_count": 245,
     "metadata": {},
     "output_type": "execute_result"
    }
   ],
   "source": [
    "key_view\n"
   ]
  },
  {
   "cell_type": "markdown",
   "id": "running-tucson",
   "metadata": {},
   "source": [
    "<br>\n",
    "__________________________________________________________________________________________________________________________________________________\n",
    "\n",
    "# Advanced Lists"
   ]
  },
  {
   "cell_type": "code",
   "execution_count": 284,
   "id": "infrared-florist",
   "metadata": {},
   "outputs": [],
   "source": [
    "ls = [3,6,2,3,8]"
   ]
  },
  {
   "cell_type": "markdown",
   "id": "incorporate-pizza",
   "metadata": {},
   "source": [
    "### `.append()`\n",
    "merely appends an element at the end of a given list :"
   ]
  },
  {
   "cell_type": "code",
   "execution_count": 266,
   "id": "found-shannon",
   "metadata": {},
   "outputs": [
    {
     "data": {
      "text/plain": [
       "[3, 6, 2, 3, 8, 4]"
      ]
     },
     "execution_count": 266,
     "metadata": {},
     "output_type": "execute_result"
    }
   ],
   "source": [
    "ls.append(4)\n",
    "ls"
   ]
  },
  {
   "cell_type": "markdown",
   "id": "annual-welding",
   "metadata": {},
   "source": [
    "### `.count()`\n",
    "\n",
    "count() takes in an element and returns the number of times it occurs in given list :"
   ]
  },
  {
   "cell_type": "code",
   "execution_count": 267,
   "id": "superior-canyon",
   "metadata": {},
   "outputs": [
    {
     "data": {
      "text/plain": [
       "0"
      ]
     },
     "execution_count": 267,
     "metadata": {},
     "output_type": "execute_result"
    }
   ],
   "source": [
    "ls.count(10)"
   ]
  },
  {
   "cell_type": "code",
   "execution_count": 269,
   "id": "purple-techno",
   "metadata": {},
   "outputs": [
    {
     "data": {
      "text/plain": [
       "2"
      ]
     },
     "execution_count": 269,
     "metadata": {},
     "output_type": "execute_result"
    }
   ],
   "source": [
    "ls.count(3)"
   ]
  },
  {
   "cell_type": "markdown",
   "id": "automotive-tragedy",
   "metadata": {},
   "source": [
    "### `.extend()`\n",
    "extends a list by appending elements from the iterable :"
   ]
  },
  {
   "cell_type": "code",
   "execution_count": 271,
   "id": "ancient-margin",
   "metadata": {},
   "outputs": [
    {
     "name": "stdout",
     "output_type": "stream",
     "text": [
      "'x' before =>  [1, 2, 3]\n",
      "'x' after =>  [1, 2, 3, 4, 5]\n"
     ]
    }
   ],
   "source": [
    "x = [1, 2, 3]\n",
    "print(\"'x' before => \",x)\n",
    "\n",
    "x.extend([4, 5])\n",
    "\n",
    "print(\"'x' after => \",x)"
   ]
  },
  {
   "cell_type": "code",
   "execution_count": 273,
   "id": "systematic-boost",
   "metadata": {},
   "outputs": [
    {
     "name": "stdout",
     "output_type": "stream",
     "text": [
      "'x' before =>  [1, 2, 3]\n",
      "'x' after =>  [1, 2, 3, [4, 5]]\n"
     ]
    }
   ],
   "source": [
    "x = [1, 2, 3]\n",
    "print(\"'x' before => \",x)\n",
    "\n",
    "x.append([4, 5])\n",
    "\n",
    "print(\"'x' after => \",x)"
   ]
  },
  {
   "cell_type": "markdown",
   "id": "twenty-washington",
   "metadata": {},
   "source": [
    "> **Note ->**<br><br>`.extend()` : extends a list by appending elements from the iterable<br><br>`.append()` : appends the whole object at end\n",
    "\n",
    "<br><br>\n",
    "\n",
    "### `.index()`\n",
    "it returns the index of whatever element is placed as an argument.\n",
    "\n",
    "> **Note :** If the the element is not in the list an error is raised."
   ]
  },
  {
   "cell_type": "code",
   "execution_count": 275,
   "id": "suburban-flavor",
   "metadata": {},
   "outputs": [
    {
     "data": {
      "text/plain": [
       "1"
      ]
     },
     "execution_count": 275,
     "metadata": {},
     "output_type": "execute_result"
    }
   ],
   "source": [
    "ls.index(6)"
   ]
  },
  {
   "cell_type": "code",
   "execution_count": 276,
   "id": "electrical-arkansas",
   "metadata": {},
   "outputs": [
    {
     "ename": "ValueError",
     "evalue": "13 is not in list",
     "output_type": "error",
     "traceback": [
      "\u001b[0;31m---------------------------------------------------------------------------\u001b[0m",
      "\u001b[0;31mValueError\u001b[0m                                Traceback (most recent call last)",
      "\u001b[0;32m<ipython-input-276-ef03175c921b>\u001b[0m in \u001b[0;36m<module>\u001b[0;34m\u001b[0m\n\u001b[0;32m----> 1\u001b[0;31m \u001b[0mls\u001b[0m\u001b[0;34m.\u001b[0m\u001b[0mindex\u001b[0m\u001b[0;34m(\u001b[0m\u001b[0;36m13\u001b[0m\u001b[0;34m)\u001b[0m\u001b[0;34m\u001b[0m\u001b[0;34m\u001b[0m\u001b[0m\n\u001b[0m",
      "\u001b[0;31mValueError\u001b[0m: 13 is not in list"
     ]
    }
   ],
   "source": [
    "ls.index(13)"
   ]
  },
  {
   "cell_type": "markdown",
   "id": "pleased-restaurant",
   "metadata": {},
   "source": [
    "### `.insert()`\n",
    "it takes in 2 arguments: `insert(index, object)`.<br>This method places the object at the index supplied."
   ]
  },
  {
   "cell_type": "code",
   "execution_count": 286,
   "id": "color-mailing",
   "metadata": {},
   "outputs": [
    {
     "data": {
      "text/plain": [
       "[3, 6, 2, 3, 8]"
      ]
     },
     "execution_count": 286,
     "metadata": {},
     "output_type": "execute_result"
    }
   ],
   "source": [
    "ls"
   ]
  },
  {
   "cell_type": "code",
   "execution_count": 287,
   "id": "minimal-coupon",
   "metadata": {},
   "outputs": [
    {
     "data": {
      "text/plain": [
       "[3, 6, 'inserted', 2, 3, 8]"
      ]
     },
     "execution_count": 287,
     "metadata": {},
     "output_type": "execute_result"
    }
   ],
   "source": [
    "# Place an item at the index 2\n",
    "\n",
    "ls.insert(2,'inserted')\n",
    "ls"
   ]
  },
  {
   "cell_type": "markdown",
   "id": "turkish-macro",
   "metadata": {},
   "source": [
    "### `.pop()`\n",
    "It \"pop\" off the last element of a list.\n",
    "\n",
    "> However, by passing an index position you can remove and return a specific element."
   ]
  },
  {
   "cell_type": "code",
   "execution_count": 288,
   "id": "traditional-forest",
   "metadata": {},
   "outputs": [
    {
     "data": {
      "text/plain": [
       "8"
      ]
     },
     "execution_count": 288,
     "metadata": {},
     "output_type": "execute_result"
    }
   ],
   "source": [
    "el = ls.pop()\n",
    "el"
   ]
  },
  {
   "cell_type": "code",
   "execution_count": 289,
   "id": "polished-fifteen",
   "metadata": {},
   "outputs": [
    {
     "data": {
      "text/plain": [
       "[3, 6, 'inserted', 2, 3]"
      ]
     },
     "execution_count": 289,
     "metadata": {},
     "output_type": "execute_result"
    }
   ],
   "source": [
    "ls"
   ]
  },
  {
   "cell_type": "code",
   "execution_count": 290,
   "id": "alleged-edwards",
   "metadata": {},
   "outputs": [
    {
     "data": {
      "text/plain": [
       "'inserted'"
      ]
     },
     "execution_count": 290,
     "metadata": {},
     "output_type": "execute_result"
    }
   ],
   "source": [
    "ele = ls.pop(2)\n",
    "ele"
   ]
  },
  {
   "cell_type": "code",
   "execution_count": 291,
   "id": "federal-warning",
   "metadata": {},
   "outputs": [
    {
     "data": {
      "text/plain": [
       "[3, 6, 2, 3]"
      ]
     },
     "execution_count": 291,
     "metadata": {},
     "output_type": "execute_result"
    }
   ],
   "source": [
    "ls"
   ]
  },
  {
   "cell_type": "markdown",
   "id": "pointed-bacteria",
   "metadata": {},
   "source": [
    "### `.remove()`\n",
    "The remove( ) method removes the **1st occurrence of a value.**"
   ]
  },
  {
   "cell_type": "code",
   "execution_count": 301,
   "id": "inner-preserve",
   "metadata": {},
   "outputs": [
    {
     "data": {
      "text/plain": [
       "[3, 6, 'inserted', 2, 3, 8]"
      ]
     },
     "execution_count": 301,
     "metadata": {},
     "output_type": "execute_result"
    }
   ],
   "source": [
    "ls = [3, 6, 'inserted', 2, 3, 8]\n",
    "ls"
   ]
  },
  {
   "cell_type": "code",
   "execution_count": 302,
   "id": "associate-brunei",
   "metadata": {},
   "outputs": [
    {
     "data": {
      "text/plain": [
       "[3, 6, 2, 3, 8]"
      ]
     },
     "execution_count": 302,
     "metadata": {},
     "output_type": "execute_result"
    }
   ],
   "source": [
    "ls.remove('inserted')\n",
    "\n",
    "ls"
   ]
  },
  {
   "cell_type": "code",
   "execution_count": 325,
   "id": "brilliant-sunglasses",
   "metadata": {},
   "outputs": [
    {
     "data": {
      "text/plain": [
       "[1, 2, 3, 4, 3]"
      ]
     },
     "execution_count": 325,
     "metadata": {},
     "output_type": "execute_result"
    }
   ],
   "source": [
    "list2 = [1,2,3,4,3]\n",
    "\n",
    "list2"
   ]
  },
  {
   "cell_type": "code",
   "execution_count": 326,
   "id": "specified-perry",
   "metadata": {},
   "outputs": [
    {
     "data": {
      "text/plain": [
       "[1, 2, 4, 3]"
      ]
     },
     "execution_count": 326,
     "metadata": {},
     "output_type": "execute_result"
    }
   ],
   "source": [
    "list2.remove(3)\n",
    "\n",
    "list2              # removes only the first occurence of '3'"
   ]
  },
  {
   "cell_type": "markdown",
   "id": "advanced-magic",
   "metadata": {},
   "source": [
    "### `.reverse()`\n",
    "It reverses the list.\n",
    "> reverses the list **in-place** i.e. **affects the list permanently**"
   ]
  },
  {
   "cell_type": "code",
   "execution_count": 315,
   "id": "plastic-syracuse",
   "metadata": {},
   "outputs": [
    {
     "name": "stdout",
     "output_type": "stream",
     "text": [
      "Before REVERSE\n"
     ]
    },
    {
     "data": {
      "text/plain": [
       "[1, 2, 4, 3]"
      ]
     },
     "execution_count": 315,
     "metadata": {},
     "output_type": "execute_result"
    }
   ],
   "source": [
    "print('Before REVERSE')\n",
    "list2"
   ]
  },
  {
   "cell_type": "code",
   "execution_count": 327,
   "id": "settled-factor",
   "metadata": {},
   "outputs": [],
   "source": [
    "list2.reverse()"
   ]
  },
  {
   "cell_type": "code",
   "execution_count": 328,
   "id": "after-musical",
   "metadata": {},
   "outputs": [
    {
     "name": "stdout",
     "output_type": "stream",
     "text": [
      "After REVERSE\n"
     ]
    },
    {
     "data": {
      "text/plain": [
       "[3, 4, 2, 1]"
      ]
     },
     "execution_count": 328,
     "metadata": {},
     "output_type": "execute_result"
    }
   ],
   "source": [
    "print('After REVERSE')\n",
    "list2"
   ]
  },
  {
   "cell_type": "markdown",
   "id": "adverse-fusion",
   "metadata": {},
   "source": [
    "### `.sort()`\n",
    "It will sort the list in-place.\n",
    "> • sorts the list **in-place** i.e. **affects the list permanently**.<br><br>• By default, it sorts in **ascending**. It takes an optional argument for **reverse sorting i.e. Descending order**.<br><br>• Note this is different than simply reversing the order of items."
   ]
  },
  {
   "cell_type": "code",
   "execution_count": 322,
   "id": "tender-roommate",
   "metadata": {},
   "outputs": [
    {
     "name": "stdout",
     "output_type": "stream",
     "text": [
      "before Sort\n"
     ]
    },
    {
     "data": {
      "text/plain": [
       "[2, 3, 3, 6, 8]"
      ]
     },
     "execution_count": 322,
     "metadata": {},
     "output_type": "execute_result"
    }
   ],
   "source": [
    "print('before Sort')\n",
    "ls"
   ]
  },
  {
   "cell_type": "code",
   "execution_count": 319,
   "id": "unable-diesel",
   "metadata": {},
   "outputs": [],
   "source": [
    "ls.sort()"
   ]
  },
  {
   "cell_type": "code",
   "execution_count": 323,
   "id": "prime-kennedy",
   "metadata": {},
   "outputs": [
    {
     "name": "stdout",
     "output_type": "stream",
     "text": [
      "after Sort\n"
     ]
    },
    {
     "data": {
      "text/plain": [
       "[2, 3, 3, 6, 8]"
      ]
     },
     "execution_count": 323,
     "metadata": {},
     "output_type": "execute_result"
    }
   ],
   "source": [
    "print('after Sort')\n",
    "ls"
   ]
  },
  {
   "cell_type": "code",
   "execution_count": 329,
   "id": "young-newton",
   "metadata": {},
   "outputs": [
    {
     "data": {
      "text/plain": [
       "[4, 3, 2, 1]"
      ]
     },
     "execution_count": 329,
     "metadata": {},
     "output_type": "execute_result"
    }
   ],
   "source": [
    "list2.sort(reverse = True)    # list2 is descendingly sorted\n",
    "\n",
    "list2"
   ]
  },
  {
   "cell_type": "code",
   "execution_count": 338,
   "id": "virtual-chancellor",
   "metadata": {},
   "outputs": [
    {
     "data": {
      "text/plain": [
       "['d', 'kite', 'apple', 'abcd', 'egg', 'money', 'ice', 'xray', 'powder']"
      ]
     },
     "execution_count": 338,
     "metadata": {},
     "output_type": "execute_result"
    }
   ],
   "source": [
    "strings = ['d','kite','apple','abcd','egg','money','ice','xray','powder']\n",
    "strings"
   ]
  },
  {
   "cell_type": "code",
   "execution_count": 339,
   "id": "lucky-square",
   "metadata": {},
   "outputs": [
    {
     "data": {
      "text/plain": [
       "['abcd', 'apple', 'd', 'egg', 'ice', 'kite', 'money', 'powder', 'xray']"
      ]
     },
     "execution_count": 339,
     "metadata": {},
     "output_type": "execute_result"
    }
   ],
   "source": [
    "strings.sort()\n",
    "strings"
   ]
  },
  {
   "cell_type": "markdown",
   "id": "interior-postage",
   "metadata": {},
   "source": [
    "<br>\n",
    "____________________________________________________________________________________________________________________________________________\n",
    "\n",
    "## *Some Examples*\n",
    "\n",
    "**Problem 1: Convert 1024 to binary and hexadecimal representation**"
   ]
  },
  {
   "cell_type": "code",
   "execution_count": 344,
   "id": "declared-collection",
   "metadata": {},
   "outputs": [
    {
     "name": "stdout",
     "output_type": "stream",
     "text": [
      "binary of 1024 = 0b10000000000\n",
      "hexadecimal of 1024 = 0x400\n"
     ]
    }
   ],
   "source": [
    "print(\"binary of 1024 =\",bin(1024))\n",
    "\n",
    "print(\"hexadecimal of 1024 =\",hex(1024))"
   ]
  },
  {
   "cell_type": "markdown",
   "id": "narrow-fitting",
   "metadata": {},
   "source": [
    "**Problem 2: Round 5.23222 to two decimal places**"
   ]
  },
  {
   "cell_type": "code",
   "execution_count": 345,
   "id": "finished-cocktail",
   "metadata": {},
   "outputs": [
    {
     "data": {
      "text/plain": [
       "5.23"
      ]
     },
     "execution_count": 345,
     "metadata": {},
     "output_type": "execute_result"
    }
   ],
   "source": [
    "round(5.23222,2)"
   ]
  },
  {
   "cell_type": "markdown",
   "id": "clean-success",
   "metadata": {},
   "source": [
    "**Problem 3: Check if every letter in the string s is lower case**"
   ]
  },
  {
   "cell_type": "code",
   "execution_count": 346,
   "id": "eligible-ownership",
   "metadata": {},
   "outputs": [],
   "source": [
    "s = 'hello how are you Nitin, are you going for basletball?'"
   ]
  },
  {
   "cell_type": "code",
   "execution_count": 349,
   "id": "everyday-acquisition",
   "metadata": {},
   "outputs": [
    {
     "data": {
      "text/plain": [
       "False"
      ]
     },
     "execution_count": 349,
     "metadata": {},
     "output_type": "execute_result"
    }
   ],
   "source": [
    "s.islower()"
   ]
  },
  {
   "cell_type": "markdown",
   "id": "superior-seller",
   "metadata": {},
   "source": [
    "**Problem 4: How many times does the letter 'w' show up in the string below?**"
   ]
  },
  {
   "cell_type": "code",
   "execution_count": 350,
   "id": "designed-terrorist",
   "metadata": {},
   "outputs": [],
   "source": [
    "s = 'twywywtwywbwhsjhwuwshshwuwwwjdjdid'"
   ]
  },
  {
   "cell_type": "code",
   "execution_count": 351,
   "id": "textile-rough",
   "metadata": {},
   "outputs": [
    {
     "data": {
      "text/plain": [
       "12"
      ]
     },
     "execution_count": 351,
     "metadata": {},
     "output_type": "execute_result"
    }
   ],
   "source": [
    "s.count('w')"
   ]
  },
  {
   "cell_type": "markdown",
   "id": "graphic-conspiracy",
   "metadata": {},
   "source": [
    "**Problem 5: Find the elements in set1 that are not in set2**.\n",
    "\n",
    "**Problem 6: Find all elements that are in either set**"
   ]
  },
  {
   "cell_type": "code",
   "execution_count": 352,
   "id": "geological-adolescent",
   "metadata": {},
   "outputs": [],
   "source": [
    "set1 = {2,3,1,5,6,8}\n",
    "set2 = {3,1,7,5,6,8}"
   ]
  },
  {
   "cell_type": "code",
   "execution_count": 353,
   "id": "challenging-seating",
   "metadata": {},
   "outputs": [
    {
     "data": {
      "text/plain": [
       "{2}"
      ]
     },
     "execution_count": 353,
     "metadata": {},
     "output_type": "execute_result"
    }
   ],
   "source": [
    "set1.difference(set2)     # Problem 5"
   ]
  },
  {
   "cell_type": "code",
   "execution_count": 356,
   "id": "familiar-cartoon",
   "metadata": {},
   "outputs": [
    {
     "data": {
      "text/plain": [
       "{1, 2, 3, 5, 6, 7, 8}"
      ]
     },
     "execution_count": 356,
     "metadata": {},
     "output_type": "execute_result"
    }
   ],
   "source": [
    "set1.union(set2)          # Problem 6"
   ]
  },
  {
   "cell_type": "markdown",
   "id": "stuffed-twelve",
   "metadata": {},
   "source": [
    "**Problem 7: Create this dictionary: {0: 0, 1: 1, 2: 8, 3: 27, 4: 64} using a dictionary comprehension.**"
   ]
  },
  {
   "cell_type": "code",
   "execution_count": 358,
   "id": "activated-valuable",
   "metadata": {},
   "outputs": [
    {
     "data": {
      "text/plain": [
       "{0: 0, 1: 1, 2: 8, 3: 27, 4: 64}"
      ]
     },
     "execution_count": 358,
     "metadata": {},
     "output_type": "execute_result"
    }
   ],
   "source": [
    "{x:x**3 for x in range(5)}"
   ]
  },
  {
   "cell_type": "markdown",
   "id": "missing-softball",
   "metadata": {},
   "source": [
    "**Problem 8: Reverse the list below :**\n",
    "\n",
    "list1 = [1,2,3,4]"
   ]
  },
  {
   "cell_type": "code",
   "execution_count": 359,
   "id": "smoking-detective",
   "metadata": {},
   "outputs": [
    {
     "data": {
      "text/plain": [
       "[4, 3, 2, 1]"
      ]
     },
     "execution_count": 359,
     "metadata": {},
     "output_type": "execute_result"
    }
   ],
   "source": [
    "list1 = [1,2,3,4]\n",
    "\n",
    "list1.reverse()\n",
    "\n",
    "list1"
   ]
  },
  {
   "cell_type": "markdown",
   "id": "cleared-damage",
   "metadata": {},
   "source": [
    "Problem 8: Sort the list below :\n",
    "\n",
    "list2 = [3,4,2,5,1]"
   ]
  },
  {
   "cell_type": "code",
   "execution_count": 361,
   "id": "pretty-partner",
   "metadata": {},
   "outputs": [
    {
     "data": {
      "text/plain": [
       "[1, 2, 3, 4, 5]"
      ]
     },
     "execution_count": 361,
     "metadata": {},
     "output_type": "execute_result"
    }
   ],
   "source": [
    "list2 = [3,4,2,5,1]\n",
    "\n",
    "list2.sort()\n",
    "\n",
    "list2"
   ]
  }
 ],
 "metadata": {
  "kernelspec": {
   "display_name": "Python 3",
   "language": "python",
   "name": "python3"
  },
  "language_info": {
   "codemirror_mode": {
    "name": "ipython",
    "version": 3
   },
   "file_extension": ".py",
   "mimetype": "text/x-python",
   "name": "python",
   "nbconvert_exporter": "python",
   "pygments_lexer": "ipython3",
   "version": "3.7.8"
  }
 },
 "nbformat": 4,
 "nbformat_minor": 5
}
