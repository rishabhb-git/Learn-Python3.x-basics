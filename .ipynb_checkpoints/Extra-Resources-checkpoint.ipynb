{
 "cells": [
  {
   "cell_type": "markdown",
   "id": "conscious-alexandria",
   "metadata": {},
   "source": [
    "## Resources for More Basic Practice\n",
    "\n",
    "- Basic Practice:<br>http://codingbat.com/python\n",
    "\n",
    "\n",
    "- More Mathematical (and Harder) Practice:<br>https://projecteuler.net/archives\n",
    "\n",
    "\n",
    "- List of Practice Problems:<br>http://www.codeabbey.com/index/task_list\n",
    "\n",
    "\n",
    "- A SubReddit Devoted to Daily Practice Problems:<br>https://www.reddit.com/r/dailyprogrammer\n",
    "\n",
    "\n",
    "- A very tricky website with very few hints and touch problems (Not for beginners but still interesting)<br>http://www.pythonchallenge.com/"
   ]
  },
  {
   "cell_type": "code",
   "execution_count": null,
   "id": "worthy-agenda",
   "metadata": {},
   "outputs": [],
   "source": []
  }
 ],
 "metadata": {
  "kernelspec": {
   "display_name": "Python 3",
   "language": "python",
   "name": "python3"
  },
  "language_info": {
   "codemirror_mode": {
    "name": "ipython",
    "version": 3
   },
   "file_extension": ".py",
   "mimetype": "text/x-python",
   "name": "python",
   "nbconvert_exporter": "python",
   "pygments_lexer": "ipython3",
   "version": "3.7.8"
  }
 },
 "nbformat": 4,
 "nbformat_minor": 5
}
