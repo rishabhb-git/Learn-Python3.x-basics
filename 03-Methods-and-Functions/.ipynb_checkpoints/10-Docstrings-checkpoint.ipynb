{
 "cells": [
  {
   "cell_type": "markdown",
   "id": "impossible-trainer",
   "metadata": {},
   "source": [
    "# Docstrings\n",
    "\n",
    "A docstring is a string literal that occurs as the first statement in a module, function, class, or method definition.\n",
    "It basically talks/describe about the nature or functionality of code in general.\n",
    "\n",
    "Best practice is, all modules should normally have docstrings, and all functions and classes exported by a module should also have docstrings.\n",
    "\n",
    "The docstring for a function or method should summarize its behavior and document its arguments, return value(s), side effects, exceptions raised, and restrictions on when it can be called (all if applicable).\n",
    "\n",
    "Optional arguments should be indicated.\n",
    "\n",
    "It should be documented whether keyword arguments are part of the interface."
   ]
  },
  {
   "cell_type": "code",
   "execution_count": 2,
   "id": "rolled-bench",
   "metadata": {},
   "outputs": [
    {
     "name": "stdout",
     "output_type": "stream",
     "text": [
      "5\n"
     ]
    }
   ],
   "source": [
    "def test(a):\n",
    "    '''Info: this function accepts a parameter and prints it.'''\n",
    "    print(a)\n",
    "    \n",
    "test(5)"
   ]
  },
  {
   "cell_type": "markdown",
   "id": "approved-congo",
   "metadata": {},
   "source": [
    "#### How to view the doctstring of a function\n",
    "\n",
    "1. using `help()` built-in method"
   ]
  },
  {
   "cell_type": "code",
   "execution_count": 3,
   "id": "stupid-elite",
   "metadata": {},
   "outputs": [
    {
     "name": "stdout",
     "output_type": "stream",
     "text": [
      "Help on function test in module __main__:\n",
      "\n",
      "test(a)\n",
      "    Info: this function accepts a parameter and prints it.\n",
      "\n"
     ]
    }
   ],
   "source": [
    "help(test)"
   ]
  },
  {
   "cell_type": "markdown",
   "id": "informed-thinking",
   "metadata": {},
   "source": [
    "<br><br>\n",
    "\n",
    "2. using `.__doc__` method"
   ]
  },
  {
   "cell_type": "code",
   "execution_count": 4,
   "id": "corresponding-mortgage",
   "metadata": {},
   "outputs": [
    {
     "data": {
      "text/plain": [
       "'Info: this function accepts a parameter and prints it.'"
      ]
     },
     "execution_count": 4,
     "metadata": {},
     "output_type": "execute_result"
    }
   ],
   "source": [
    "test.__doc__"
   ]
  },
  {
   "cell_type": "code",
   "execution_count": null,
   "id": "hairy-cleaners",
   "metadata": {},
   "outputs": [],
   "source": []
  }
 ],
 "metadata": {
  "kernelspec": {
   "display_name": "Python 3",
   "language": "python",
   "name": "python3"
  },
  "language_info": {
   "codemirror_mode": {
    "name": "ipython",
    "version": 3
   },
   "file_extension": ".py",
   "mimetype": "text/x-python",
   "name": "python",
   "nbconvert_exporter": "python",
   "pygments_lexer": "ipython3",
   "version": "3.7.8"
  }
 },
 "nbformat": 4,
 "nbformat_minor": 5
}
