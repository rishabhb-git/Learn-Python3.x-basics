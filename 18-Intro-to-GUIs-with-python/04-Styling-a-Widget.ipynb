{
 "cells": [
  {
   "cell_type": "markdown",
   "id": "broad-syndicate",
   "metadata": {},
   "source": [
    "# Widget Styling\n",
    "\n",
    "### `style vs. layout`\n",
    "\n",
    "There are 2 ways to change the appearance of widgets in the browser :<br>• The first is through the layout attribute which exposes layout-related CSS properties for the top-level DOM element of widgets, such as margins and positioning.<br>• The second is through the style attribute which exposes non-layout related attributes like button color and font weight. While layout is general to all widgets and containers of widgets, style offers tools specific to each type of widget.\n",
    "\n",
    "Thorough understanding of all that layout has to offer requires knowledge of front-end web development, including HTML and CSS.\n",
    "\n",
    "Basic styling is more intuitive as it relates directly to each type of widget.\n",
    "\n",
    "*****\n",
    "\n",
    "## The `layout` attribute\n",
    "Jupyter interactive widgets have a layout attribute exposing a number of CSS properties that impact how widgets are laid out. These properties map to the values of the CSS properties of the same name (underscores `_` being replaced with dashes `-`), applied to the top DOM elements of the corresponding widget.\n",
    "\n",
    "### Sizes\n",
    "- height\n",
    "- width\n",
    "- max_height\n",
    "- max_width\n",
    "- min_height\n",
    "- min_width\n",
    "\n",
    "### Display\n",
    "- visibility\n",
    "- display\n",
    "- overflow\n",
    "- overflow_x\n",
    "- overflow_y\n",
    "\n",
    "### Box model\n",
    "- border\n",
    "- margin\n",
    "- padding\n",
    "\n",
    "### Positioning\n",
    "- top\n",
    "- left\n",
    "- bottom\n",
    "- right\n",
    "\n",
    "### Flexbox\n",
    "- order\n",
    "- flex_flow\n",
    "- align_items\n",
    "- flex\n",
    "- align_self\n",
    "- align_content\n",
    "- justify_content\n",
    "\n",
    "## _A quick example of_ `layout`\n",
    "We've already seen what a slider looks like without any layout adjustments :"
   ]
  },
  {
   "cell_type": "code",
   "execution_count": 14,
   "id": "simple-registration",
   "metadata": {},
   "outputs": [
    {
     "data": {
      "application/vnd.jupyter.widget-view+json": {
       "model_id": "a94068c03922481693ec057aa32c5ca4",
       "version_major": 2,
       "version_minor": 0
      },
      "text/plain": [
       "IntSlider(value=0)"
      ]
     },
     "metadata": {},
     "output_type": "display_data"
    }
   ],
   "source": [
    "import ipywidgets as widgets\n",
    "from IPython.display import display\n",
    "\n",
    "w = widgets.IntSlider()\n",
    "display(w)"
   ]
  },
  {
   "cell_type": "markdown",
   "id": "collaborative-bread",
   "metadata": {},
   "source": [
    "Let's say we wanted to change two of the properties of this widget : • margin, • height\n",
    "\n",
    "We want to center the slider in the output area and increase its height. This can be done by adding layout attributes to **w**\n",
    "\n",
    "> Notice that the above slider's position and size gets changed immediately on the page, upon running the below cell!"
   ]
  },
  {
   "cell_type": "code",
   "execution_count": 15,
   "id": "enormous-promotion",
   "metadata": {},
   "outputs": [],
   "source": [
    "w.layout.margin = 'auto'\n",
    "w.layout.height = '75px'"
   ]
  },
  {
   "cell_type": "markdown",
   "id": "convinced-bidding",
   "metadata": {},
   "source": [
    "<br><br>\n",
    "Layout settings can be passed from one widget to another widget of the same type. Let's first create a new `IntSlider` :"
   ]
  },
  {
   "cell_type": "code",
   "execution_count": 3,
   "id": "numerous-occupation",
   "metadata": {},
   "outputs": [
    {
     "data": {
      "application/vnd.jupyter.widget-view+json": {
       "model_id": "d792d7f8c69944fa9b03130d1618f03b",
       "version_major": 2,
       "version_minor": 0
      },
      "text/plain": [
       "IntSlider(value=15, description='New slider')"
      ]
     },
     "metadata": {},
     "output_type": "display_data"
    }
   ],
   "source": [
    "x = widgets.IntSlider(value=15,description='New slider')\n",
    "display(x)"
   ]
  },
  {
   "cell_type": "markdown",
   "id": "excited-chick",
   "metadata": {},
   "source": [
    "Now assign **w**'s layout settings to **x** :"
   ]
  },
  {
   "cell_type": "code",
   "execution_count": 4,
   "id": "swedish-galaxy",
   "metadata": {},
   "outputs": [],
   "source": [
    "x.layout = w.layout\n"
   ]
  },
  {
   "cell_type": "markdown",
   "id": "featured-international",
   "metadata": {},
   "source": [
    "****\n",
    "## Predefined  Styles\n",
    "\n",
    "Before we investigate the style attribute, it should be noted that many widgets offer a list of pre-defined styles that can be passed as arguments during creation.\n",
    "\n",
    "For example, the `Button` widget has a **button_style** attribute that may take 5 different values :\n",
    "\n",
    "- 'primary'\n",
    "- 'success'\n",
    "- 'info'\n",
    "- 'warning'\n",
    "- 'danger'\n",
    "- the default empty string `''`."
   ]
  },
  {
   "cell_type": "code",
   "execution_count": 6,
   "id": "efficient-administration",
   "metadata": {},
   "outputs": [
    {
     "data": {
      "application/vnd.jupyter.widget-view+json": {
       "model_id": "c5ab16c77328475287327176cf7187e8",
       "version_major": 2,
       "version_minor": 0
      },
      "text/plain": [
       "Button(button_style='warning', description='Warning Button', style=ButtonStyle())"
      ]
     },
     "metadata": {},
     "output_type": "display_data"
    }
   ],
   "source": [
    "import ipywidgets as widgets\n",
    "\n",
    "widgets.Button(description='Warning Button', button_style='warning')"
   ]
  },
  {
   "cell_type": "code",
   "execution_count": 7,
   "id": "general-pottery",
   "metadata": {},
   "outputs": [
    {
     "data": {
      "application/vnd.jupyter.widget-view+json": {
       "model_id": "cc5d6ae669804b978e6d7d0816648a84",
       "version_major": 2,
       "version_minor": 0
      },
      "text/plain": [
       "Button(button_style='danger', description='Danger Button', style=ButtonStyle())"
      ]
     },
     "metadata": {},
     "output_type": "display_data"
    }
   ],
   "source": [
    "widgets.Button(description='Danger Button', button_style='danger')"
   ]
  },
  {
   "cell_type": "markdown",
   "id": "unable-oxygen",
   "metadata": {},
   "source": [
    "****\n",
    "\n",
    "## The `style` attribute\n",
    "\n",
    "While the layout attribute only exposes layout-related CSS properties for the top-level DOM element of widgets, the style attribute is used to expose non-layout related styling attributes of widgets.\n",
    "\n",
    "However, the properties of the style atribute are specific to each widget type.\n"
   ]
  },
  {
   "cell_type": "code",
   "execution_count": 8,
   "id": "whole-minority",
   "metadata": {},
   "outputs": [
    {
     "data": {
      "application/vnd.jupyter.widget-view+json": {
       "model_id": "e3938f2a662e41499e9d484a74f98648",
       "version_major": 2,
       "version_minor": 0
      },
      "text/plain": [
       "Button(description='Custom color', style=ButtonStyle(button_color='lightgreen'))"
      ]
     },
     "metadata": {},
     "output_type": "display_data"
    }
   ],
   "source": [
    "b1 = widgets.Button(description='Custom color')\n",
    "b1.style.button_color = 'lightgreen'\n",
    "\n",
    "b1"
   ]
  },
  {
   "cell_type": "markdown",
   "id": "elegant-collar",
   "metadata": {},
   "source": [
    "You can get a list of the style attributes for a widget with the keys property."
   ]
  },
  {
   "cell_type": "code",
   "execution_count": 9,
   "id": "introductory-optics",
   "metadata": {},
   "outputs": [
    {
     "data": {
      "text/plain": [
       "['_model_module',\n",
       " '_model_module_version',\n",
       " '_model_name',\n",
       " '_view_count',\n",
       " '_view_module',\n",
       " '_view_module_version',\n",
       " '_view_name',\n",
       " 'button_color',\n",
       " 'font_weight']"
      ]
     },
     "execution_count": 9,
     "metadata": {},
     "output_type": "execute_result"
    }
   ],
   "source": [
    "b1.style.keys"
   ]
  },
  {
   "cell_type": "markdown",
   "id": "informative-senegal",
   "metadata": {},
   "source": [
    "Note that `widgets.Button().style.keys` also works.\n",
    "\n",
    "Just like the **layout** attribute, widget styles can be assigned to other widgets."
   ]
  },
  {
   "cell_type": "code",
   "execution_count": 16,
   "id": "lined-focus",
   "metadata": {},
   "outputs": [
    {
     "data": {
      "application/vnd.jupyter.widget-view+json": {
       "model_id": "e8392ad040524ddab1bcf12cd807f681",
       "version_major": 2,
       "version_minor": 0
      },
      "text/plain": [
       "Button(description='CLICK', style=ButtonStyle(button_color='lightgreen'))"
      ]
     },
     "metadata": {},
     "output_type": "display_data"
    }
   ],
   "source": [
    "b2 = widgets.Button(description='CLICK')\n",
    "b2.style = b1.style\n",
    "\n",
    "b2"
   ]
  },
  {
   "cell_type": "markdown",
   "id": "norwegian-tobacco",
   "metadata": {},
   "source": [
    "Note that only the style was picked up by **b2**, not any other parameters like description.\n",
    "\n",
    "Widget styling attributes are specific to each widget type."
   ]
  },
  {
   "cell_type": "code",
   "execution_count": 17,
   "id": "demonstrated-firmware",
   "metadata": {},
   "outputs": [
    {
     "data": {
      "application/vnd.jupyter.widget-view+json": {
       "model_id": "c771a3c649c5429c9562d7954218e8c2",
       "version_major": 2,
       "version_minor": 0
      },
      "text/plain": [
       "IntSlider(value=0, description='Orange handle', style=SliderStyle(handle_color='orange'))"
      ]
     },
     "metadata": {},
     "output_type": "display_data"
    }
   ],
   "source": [
    "s1 = widgets.IntSlider(description='Orange handle')\n",
    "s1.style.handle_color = 'orange'\n",
    "\n",
    "s1"
   ]
  },
  {
   "cell_type": "code",
   "execution_count": 22,
   "id": "leading-rachel",
   "metadata": {},
   "outputs": [
    {
     "data": {
      "text/plain": [
       "['_model_module',\n",
       " '_model_module_version',\n",
       " '_model_name',\n",
       " '_view_count',\n",
       " '_view_module',\n",
       " '_view_module_version',\n",
       " '_view_name',\n",
       " 'description_width',\n",
       " 'handle_color']"
      ]
     },
     "execution_count": 22,
     "metadata": {},
     "output_type": "execute_result"
    }
   ],
   "source": [
    "s1.style.keys"
   ]
  },
  {
   "cell_type": "markdown",
   "id": "private-cocktail",
   "metadata": {},
   "source": [
    "****\n",
    "\n",
    "## Widget style traits\n",
    "These are traits that belong to some of the more common widgets :\n",
    "\n",
    "### Button\n",
    "- button_color\n",
    "- font_weight\n",
    "\n",
    "### IntSlider, FloatSlider, IntRangeSlider, FloatRangeSlider\n",
    "- description_width\n",
    "- handle_color\n",
    "\n",
    "### IntProgress, FloatProgress\n",
    "- bar_color\n",
    "- description_width\n",
    "\n",
    "Most others such as **ToggleButton**, **Checkbox**, **Dropdown**, **RadioButtons**, **Select** and **Text** only have `description_width` as an adjustable trait.\n",
    "\n",
    "****\n",
    "\n",
    "## Shorthand CSS properties\n",
    "You may have noticed that certain CSS properties such as margin- \\[top/right/bottom/left\\] seem to be missing. The same holds for padding- \\[top/right/bottom/left\\] etc.\n",
    "\n",
    "In fact, you can atomically specify \\[top/right/bottom/left\\] margins via the `margin` attribute alone by passing the string `'100px 150px 100px 80px'` for a respectively **top, right, bottom and left margins of 100, 150, 100 and 80 pixels.**\n",
    "\n",
    "Similarly, the `flex` attribute can hold values for **flex-grow, flex-shrink and flex-basis**.\n",
    "\n",
    "The `border` attribute is a shorthand property for **border-width, border-style (required), and border-color**."
   ]
  }
 ],
 "metadata": {
  "kernelspec": {
   "display_name": "Python 3",
   "language": "python",
   "name": "python3"
  },
  "language_info": {
   "codemirror_mode": {
    "name": "ipython",
    "version": 3
   },
   "file_extension": ".py",
   "mimetype": "text/x-python",
   "name": "python",
   "nbconvert_exporter": "python",
   "pygments_lexer": "ipython3",
   "version": "3.7.8"
  }
 },
 "nbformat": 4,
 "nbformat_minor": 5
}
