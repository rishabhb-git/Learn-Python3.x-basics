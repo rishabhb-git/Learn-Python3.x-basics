{
 "cells": [
  {
   "cell_type": "markdown",
   "id": "visible-hunger",
   "metadata": {},
   "source": [
    "# Using \"Interact\" functionality\n",
    "\n",
    "The interact function (ipywidgets.interact) automatically creates user interface (UI) controls for exploring code and data interactively. It is the easiest way to get started using IPython's widgets.\n",
    "\n",
    "See the [Jupyter Widgets Documentation](https://ipywidgets.readthedocs.io/en/stable/user_install.html) for setup instructions.\n",
    "\n",
    "<br>\n",
    "______________________________________________________________________________________________________________________________________________________\n",
    "\n",
    "### _An Important side-note :_\n",
    "While reading down this and other subsequent notebooks in this folder, you may certainly find statements like<br> `interactive(children=(IntSlider .... ` appearing in the output cells.\n",
    "\n",
    "Don't feel bothered about it, it's just a inadvertent JS issue of Github, so checkout the [IPywidgets FAQs](https://ipywidgets.readthedocs.io/en/stable/user_install.html#frequently-asked-questions) to understand more.\n",
    "\n",
    "A simple work around can be :<br>• Download this notebook at your local machine. • Run the cells and see the output for yourself.\n",
    "\n",
    "<br>\n",
    "______________________________________________________________________________________________________________________________________________________"
   ]
  },
  {
   "cell_type": "code",
   "execution_count": 1,
   "id": "colonial-wholesale",
   "metadata": {},
   "outputs": [],
   "source": [
    "from ipywidgets import interact, interactive, fixed\n",
    "import ipywidgets as widgets"
   ]
  },
  {
   "cell_type": "markdown",
   "id": "standing-hormone",
   "metadata": {},
   "source": [
    "<br>\n",
    "\n",
    "## Basic use of `interact`\n",
    "\n",
    "At the most basic level, `interact` auto-generates UI controls for function arguments, and then calls the function with those arguments when you manipulate the controls interactively. To use interact, you need to define a function that you want to explore.\n",
    "\n",
    "Here is a function that returns its only argument 'x' :"
   ]
  },
  {
   "cell_type": "code",
   "execution_count": 77,
   "id": "equivalent-boxing",
   "metadata": {},
   "outputs": [],
   "source": [
    "# Very basic function\n",
    "\n",
    "def f(x):\n",
    "    return x"
   ]
  },
  {
   "cell_type": "markdown",
   "id": "hybrid-handy",
   "metadata": {},
   "source": [
    "When you pass this function as the first argument to interact along with an integer keyword argument (x=10), a slider is generated and bound to the function parameter.\n",
    "\n",
    "> Note that the semicolon here just prevents the **output cell** from being shown up."
   ]
  },
  {
   "cell_type": "code",
   "execution_count": 79,
   "id": "extensive-reunion",
   "metadata": {},
   "outputs": [
    {
     "data": {
      "application/vnd.jupyter.widget-view+json": {
       "model_id": "24e10a7eaecc4a8b9e295128e1cfaa10",
       "version_major": 2,
       "version_minor": 0
      },
      "text/plain": [
       "interactive(children=(IntSlider(value=9, description='x', max=27, min=-9), Output()), _dom_classes=('widget-in…"
      ]
     },
     "metadata": {},
     "output_type": "display_data"
    }
   ],
   "source": [
    "# If a number is passed, it generate a slider to interact with\n",
    "\n",
    "interact(f, x=9);"
   ]
  },
  {
   "cell_type": "code",
   "execution_count": 22,
   "id": "invisible-expansion",
   "metadata": {},
   "outputs": [
    {
     "data": {
      "application/vnd.jupyter.widget-view+json": {
       "model_id": "8049d7145de54e73834a077150305b64",
       "version_major": 2,
       "version_minor": 0
      },
      "text/plain": [
       "interactive(children=(Checkbox(value=True, description='x'), Output()), _dom_classes=('widget-interact',))"
      ]
     },
     "metadata": {},
     "output_type": "display_data"
    },
    {
     "data": {
      "text/plain": [
       "<function __main__.f(x)>"
      ]
     },
     "execution_count": 22,
     "metadata": {},
     "output_type": "execute_result"
    }
   ],
   "source": [
    "# If a boolean is passed, it generates a checkbox to interact with\n",
    "\n",
    "interact(f, x=True)"
   ]
  },
  {
   "cell_type": "markdown",
   "id": "sharp-scanner",
   "metadata": {},
   "source": [
    "**Just a little note:** Notice, the above output cell displays as  `<function __main__.f(x)>`, which will not come up if semicolon `;` is put after writing interact method."
   ]
  },
  {
   "cell_type": "code",
   "execution_count": 23,
   "id": "functioning-logic",
   "metadata": {},
   "outputs": [
    {
     "data": {
      "application/vnd.jupyter.widget-view+json": {
       "model_id": "56a9835e925148eda7e8d5bf2c284ffe",
       "version_major": 2,
       "version_minor": 0
      },
      "text/plain": [
       "interactive(children=(Text(value='Python is great', description='x'), Output()), _dom_classes=('widget-interac…"
      ]
     },
     "metadata": {},
     "output_type": "display_data"
    },
    {
     "data": {
      "text/plain": [
       "<function __main__.f(x)>"
      ]
     },
     "execution_count": 23,
     "metadata": {},
     "output_type": "execute_result"
    }
   ],
   "source": [
    "# If a string is passed, it generates a auto-filled textbox to interact with\n",
    "\n",
    "interact(f, x=\"Python is great\")"
   ]
  },
  {
   "cell_type": "markdown",
   "id": "subject-contents",
   "metadata": {},
   "source": [
    "• When you move the slider, the function is called, which prints the current value of x.\n",
    "\n",
    "• If you pass `True` or `False`, interact will generate a `checkbox`.\n",
    "\n",
    "• If you pass a `string`, interact will generate a `textarea`.\n",
    "\n",
    "• `interact` can also be used as a **decorator**. This allows you to define a function and interact with it in a single shot. In a way, you'll not have to pass function (as parameter) inside **interact** method.<br>As this example shows, interact also works with functions that have multiple arguments."
   ]
  },
  {
   "cell_type": "code",
   "execution_count": 25,
   "id": "extensive-arthur",
   "metadata": {},
   "outputs": [
    {
     "data": {
      "application/vnd.jupyter.widget-view+json": {
       "model_id": "31acfb205d8c43de9be6119bdb052c27",
       "version_major": 2,
       "version_minor": 0
      },
      "text/plain": [
       "interactive(children=(Checkbox(value=True, description='x'), FloatSlider(value=5.0, description='y', max=15.0,…"
      ]
     },
     "metadata": {},
     "output_type": "display_data"
    }
   ],
   "source": [
    "# Using a decorator!\n",
    "\n",
    "@interact(x=True, y=5.0)\n",
    "def g(x, y):\n",
    "    return (x, y)"
   ]
  },
  {
   "cell_type": "markdown",
   "id": "actual-apple",
   "metadata": {},
   "source": [
    "### Fixing arguements using `fixed()`\n",
    "\n",
    "There are times when you may want to explore a function using interact, but fix 1 or more of its arguments to specific values.<br>This can be accomplished by wrapping values with the `fixed` function.\n",
    "\n",
    "**Example 1 :**"
   ]
  },
  {
   "cell_type": "code",
   "execution_count": 26,
   "id": "legislative-cradle",
   "metadata": {},
   "outputs": [],
   "source": [
    "def h(p, q):\n",
    "    return (p, q)\n"
   ]
  },
  {
   "cell_type": "markdown",
   "id": "dense-doctrine",
   "metadata": {},
   "source": [
    "When we call interact, we pass `fixed(20)` for **q** to hold it fixed at a value of 20."
   ]
  },
  {
   "cell_type": "code",
   "execution_count": 27,
   "id": "revolutionary-grass",
   "metadata": {},
   "outputs": [
    {
     "data": {
      "application/vnd.jupyter.widget-view+json": {
       "model_id": "4ca99197d5a3483b9c02c42209c793ef",
       "version_major": 2,
       "version_minor": 0
      },
      "text/plain": [
       "interactive(children=(IntSlider(value=5, description='p', max=15, min=-5), Output()), _dom_classes=('widget-in…"
      ]
     },
     "metadata": {},
     "output_type": "display_data"
    }
   ],
   "source": [
    "interact(h, p=5, q=fixed(20));"
   ]
  },
  {
   "cell_type": "markdown",
   "id": "headed-tooth",
   "metadata": {},
   "source": [
    "**Example 2 :** With the use of `decorator`"
   ]
  },
  {
   "cell_type": "code",
   "execution_count": 33,
   "id": "empty-peripheral",
   "metadata": {},
   "outputs": [
    {
     "data": {
      "application/vnd.jupyter.widget-view+json": {
       "model_id": "61a9a02901524c1ba23f40401046ca5c",
       "version_major": 2,
       "version_minor": 0
      },
      "text/plain": [
       "interactive(children=(Checkbox(value=False, description='h'), Output()), _dom_classes=('widget-interact',))"
      ]
     },
     "metadata": {},
     "output_type": "display_data"
    }
   ],
   "source": [
    "@interact(h=False, k=fixed(8.2))\n",
    "def g(h, k):\n",
    "    return (h, k)\n",
    "\n",
    "# hence the slider will not appear."
   ]
  },
  {
   "cell_type": "markdown",
   "id": "british-marsh",
   "metadata": {},
   "source": [
    "****"
   ]
  },
  {
   "cell_type": "code",
   "execution_count": 36,
   "id": "fluid-patent",
   "metadata": {},
   "outputs": [
    {
     "data": {
      "application/vnd.jupyter.widget-view+json": {
       "model_id": "31792d1f259d4333810ddd89cb2c3ee5",
       "version_major": 2,
       "version_minor": 0
      },
      "text/plain": [
       "interactive(children=(FloatSlider(value=2.2, description='k', max=6.6000000000000005, min=-2.2), Output()), _d…"
      ]
     },
     "metadata": {},
     "output_type": "display_data"
    }
   ],
   "source": [
    "@interact(h=fixed(True), k=2.2)\n",
    "def g(h, k):\n",
    "    return (h, k)\n",
    "\n",
    "# checkbox does not appear. as the value of 'h' is now fixed."
   ]
  },
  {
   "cell_type": "markdown",
   "id": "attended-theme",
   "metadata": {},
   "source": [
    "****"
   ]
  },
  {
   "cell_type": "code",
   "execution_count": 37,
   "id": "behavioral-procedure",
   "metadata": {},
   "outputs": [
    {
     "data": {
      "application/vnd.jupyter.widget-view+json": {
       "model_id": "ad17243ef1584ff78e91b03bfbe2bc24",
       "version_major": 2,
       "version_minor": 0
      },
      "text/plain": [
       "interactive(children=(FloatSlider(value=2.2, description='k', max=6.6000000000000005, min=-2.2), Output()), _d…"
      ]
     },
     "metadata": {},
     "output_type": "display_data"
    }
   ],
   "source": [
    "@interact(h=fixed('Hello World'), k=2.2)\n",
    "def g(h, k):\n",
    "    return (h, k)\n",
    "\n",
    "# textarea for the string does not appear. as the value of 'h' is now fixed."
   ]
  },
  {
   "cell_type": "markdown",
   "id": "signed-supplement",
   "metadata": {},
   "source": [
    "****\n",
    "\n",
    "## Widget Abbreviations\n",
    "\n",
    "When you pass an integer-valued keyword argument of 10 (x=10) to interact, it generates an integer-valued slider control with a range of \\[-10, +3 times 10\\]. In this case, 10 is an abbreviation for an actual slider widget:\n",
    "\n",
    "`IntSlider(min=-10, max=30, step=1, value=10)`\n",
    "\n",
    "In fact, we can get the same result if we pass this `IntSlider` as the keyword argument for x :"
   ]
  },
  {
   "cell_type": "code",
   "execution_count": 45,
   "id": "dressed-values",
   "metadata": {},
   "outputs": [
    {
     "data": {
      "application/vnd.jupyter.widget-view+json": {
       "model_id": "ce0cd9000c9f48389693037c00c8f493",
       "version_major": 2,
       "version_minor": 0
      },
      "text/plain": [
       "interactive(children=(IntSlider(value=34, description='x', min=-10, step=2), Output()), _dom_classes=('widget-…"
      ]
     },
     "metadata": {},
     "output_type": "display_data"
    }
   ],
   "source": [
    "# Can call the IntSlider to get more specific\n",
    "\n",
    "interact(f, x=widgets.IntSlider(min=-10, max=100, step=2, value=34));"
   ]
  },
  {
   "cell_type": "markdown",
   "id": "macro-confirmation",
   "metadata": {},
   "source": [
    "Alternatively, instead of calling the `IntSlider` method, the abbreviated tuple can be written here as :"
   ]
  },
  {
   "cell_type": "code",
   "execution_count": 58,
   "id": "portuguese-representative",
   "metadata": {},
   "outputs": [
    {
     "data": {
      "application/vnd.jupyter.widget-view+json": {
       "model_id": "25c84a26c3c7458e9d95efb18c0e09f2",
       "version_major": 2,
       "version_minor": 0
      },
      "text/plain": [
       "interactive(children=(IntSlider(value=0, description='x', max=50, min=-50, step=2), Output()), _dom_classes=('…"
      ]
     },
     "metadata": {},
     "output_type": "display_data"
    },
    {
     "data": {
      "text/plain": [
       "<function __main__.f(x)>"
      ]
     },
     "execution_count": 58,
     "metadata": {},
     "output_type": "execute_result"
    }
   ],
   "source": [
    "interact(f, x=(-50,50,2))"
   ]
  },
  {
   "cell_type": "markdown",
   "id": "unavailable-latter",
   "metadata": {},
   "source": [
    "Or, if you need it to be `FloatSlider`, just mention float values in the tuple and it'll recognise it to be a float slider automatially."
   ]
  },
  {
   "cell_type": "code",
   "execution_count": 60,
   "id": "persistent-recording",
   "metadata": {},
   "outputs": [
    {
     "data": {
      "application/vnd.jupyter.widget-view+json": {
       "model_id": "e03800aa2701496f862ab9d422285bc6",
       "version_major": 2,
       "version_minor": 0
      },
      "text/plain": [
       "interactive(children=(FloatSlider(value=-0.5, description='x', max=52.5, min=-50.5, step=2.0), Output()), _dom…"
      ]
     },
     "metadata": {},
     "output_type": "display_data"
    },
    {
     "data": {
      "text/plain": [
       "<function __main__.f(x)>"
      ]
     },
     "execution_count": 60,
     "metadata": {},
     "output_type": "execute_result"
    }
   ],
   "source": [
    "interact(f, x=(-50.5,52.5,2))"
   ]
  },
  {
   "cell_type": "markdown",
   "id": "smooth-preliminary",
   "metadata": {},
   "source": [
    "<br>\n",
    "\n",
    "For both integer and float-valued sliders, you can pick the initial value of the widget by passing a default keyword argument to the underlying Python function. Here we set the initial value of a float slider to 5.5."
   ]
  },
  {
   "cell_type": "code",
   "execution_count": 61,
   "id": "annual-trace",
   "metadata": {},
   "outputs": [
    {
     "data": {
      "application/vnd.jupyter.widget-view+json": {
       "model_id": "127755bf17e24c6d8304fee1b366d381",
       "version_major": 2,
       "version_minor": 0
      },
      "text/plain": [
       "interactive(children=(FloatSlider(value=5.5, description='x', max=20.0, step=0.5), Output()), _dom_classes=('w…"
      ]
     },
     "metadata": {},
     "output_type": "display_data"
    }
   ],
   "source": [
    "@interact(x = (0.0, 20.0, 0.5))     # (min, max, step-size)\n",
    "def h(x = 5.5):\n",
    "    return x"
   ]
  },
  {
   "cell_type": "markdown",
   "id": "liked-henry",
   "metadata": {},
   "source": [
    "****\n",
    "\n",
    "**Dropdown menus** are constructed by passing a list of strings. In this case, the strings are both used as the names in the **drop-down menu UI** and passed to the underlying Python function."
   ]
  },
  {
   "cell_type": "code",
   "execution_count": 62,
   "id": "devoted-authorization",
   "metadata": {},
   "outputs": [
    {
     "data": {
      "application/vnd.jupyter.widget-view+json": {
       "model_id": "1d0e6850cdec4b0f99385951beca84da",
       "version_major": 2,
       "version_minor": 0
      },
      "text/plain": [
       "interactive(children=(Dropdown(description='x', options=('apples', 'oranges', 'kiwis', 'grapes'), value='apple…"
      ]
     },
     "metadata": {},
     "output_type": "display_data"
    }
   ],
   "source": [
    "interact(f, x=['apples','oranges','kiwis','grapes']);\n"
   ]
  },
  {
   "cell_type": "markdown",
   "id": "temporal-steering",
   "metadata": {},
   "source": [
    "****\n",
    "\n",
    "\n",
    "If you want a drop-down menu that passes non-string values to the Python function, you can pass a **dictionary**.\n",
    "\n",
    "The keys in the dictionary are used for the names in the drop-down menu UI and the values are the arguments that are passed to the underlying Python function."
   ]
  },
  {
   "cell_type": "code",
   "execution_count": 64,
   "id": "handed-pathology",
   "metadata": {},
   "outputs": [
    {
     "data": {
      "application/vnd.jupyter.widget-view+json": {
       "model_id": "78f84a3739ed41f7b9270f423a2b674a",
       "version_major": 2,
       "version_minor": 0
      },
      "text/plain": [
       "interactive(children=(Dropdown(description='x', options={'Marvel': 'Avengers Endgame', 'DC': 'Batman & Superma…"
      ]
     },
     "metadata": {},
     "output_type": "display_data"
    }
   ],
   "source": [
    "interact(f, x={'Marvel':'Avengers Endgame', 'DC':'Batman & Superman', 'Sony Marvel':'X-Men Apocalypse'});\n"
   ]
  },
  {
   "cell_type": "markdown",
   "id": "abroad-ground",
   "metadata": {},
   "source": [
    "****\n",
    "\n",
    "## Using function annotations with interact\n",
    "\n",
    "You can also specify widget abbreviations using [function annotations](https://docs.python.org/3/tutorial/controlflow.html#function-annotations).\n",
    "\n",
    "Define a function with a checkbox widget abbreviation for the argument 'x'."
   ]
  },
  {
   "cell_type": "code",
   "execution_count": 67,
   "id": "dependent-fourth",
   "metadata": {},
   "outputs": [],
   "source": [
    "def f(x:'Hello'):  # Python 3 only\n",
    "    return x"
   ]
  },
  {
   "cell_type": "markdown",
   "id": "enhanced-apparel",
   "metadata": {},
   "source": [
    "> Then, because the widget abbreviation has already been defined, you can call interact with a single argument."
   ]
  },
  {
   "cell_type": "code",
   "execution_count": 68,
   "id": "satellite-commons",
   "metadata": {},
   "outputs": [
    {
     "data": {
      "application/vnd.jupyter.widget-view+json": {
       "model_id": "5bd7ad4e78384663977f17d500c70890",
       "version_major": 2,
       "version_minor": 0
      },
      "text/plain": [
       "interactive(children=(Text(value='Hello', description='x'), Output()), _dom_classes=('widget-interact',))"
      ]
     },
     "metadata": {},
     "output_type": "display_data"
    }
   ],
   "source": [
    "interact(f);\n"
   ]
  },
  {
   "cell_type": "markdown",
   "id": "correct-election",
   "metadata": {},
   "source": [
    "****\n",
    "\n",
    "## `interactive`\n",
    "\n",
    "In addition to `interact`, IPython or Jupyter(in general) provides another function i.e. `interactive`, which is useful when user wants to reuse the widgets that are produced or access the data that is bound to the UI controls.\n",
    "\n",
    "> Note that unlike `interact`, the return value of the function will not be displayed automatically, but you can display a value inside the function with `IPython.display.display`.\n",
    "\n",
    "**Example -** Here is a function that returns the sum of its 2 arguments and displays them. The display line may be omitted if you don’t want to show the result of the function."
   ]
  },
  {
   "cell_type": "code",
   "execution_count": 69,
   "id": "geological-genre",
   "metadata": {},
   "outputs": [],
   "source": [
    "from IPython.display import display\n",
    "\n",
    "def f(a, b):\n",
    "    display(a + b)\n",
    "    return a+b"
   ]
  },
  {
   "cell_type": "markdown",
   "id": "material-quantum",
   "metadata": {},
   "source": [
    "Unlike `interact`, the `interactive` returns a Widget instance rather than immediately displaying the widget."
   ]
  },
  {
   "cell_type": "code",
   "execution_count": 70,
   "id": "amazing-exposure",
   "metadata": {},
   "outputs": [],
   "source": [
    "w = interactive(f, a=10, b=20)\n"
   ]
  },
  {
   "cell_type": "markdown",
   "id": "answering-musician",
   "metadata": {},
   "source": [
    "> **The widget is an interactive, a subclass of VBox, which is a container for other widgets.**"
   ]
  },
  {
   "cell_type": "code",
   "execution_count": 71,
   "id": "measured-blink",
   "metadata": {},
   "outputs": [
    {
     "data": {
      "text/plain": [
       "ipywidgets.widgets.interaction.interactive"
      ]
     },
     "execution_count": 71,
     "metadata": {},
     "output_type": "execute_result"
    }
   ],
   "source": [
    "type(w)     # 'w' is an interactive object"
   ]
  },
  {
   "cell_type": "markdown",
   "id": "similar-modification",
   "metadata": {},
   "source": [
    "The children of the `interactive` are 2 integer-valued sliders and an output widget, produced by the widget abbreviations above."
   ]
  },
  {
   "cell_type": "code",
   "execution_count": 72,
   "id": "conceptual-texas",
   "metadata": {},
   "outputs": [
    {
     "data": {
      "text/plain": [
       "(IntSlider(value=10, description='a', max=30, min=-10),\n",
       " IntSlider(value=20, description='b', max=60, min=-20),\n",
       " Output())"
      ]
     },
     "execution_count": 72,
     "metadata": {},
     "output_type": "execute_result"
    }
   ],
   "source": [
    "w.children\n"
   ]
  },
  {
   "cell_type": "markdown",
   "id": "subjective-filling",
   "metadata": {},
   "source": [
    "> To actually display the widgets, you can use IPython's display function."
   ]
  },
  {
   "cell_type": "code",
   "execution_count": 73,
   "id": "varying-aircraft",
   "metadata": {},
   "outputs": [
    {
     "data": {
      "application/vnd.jupyter.widget-view+json": {
       "model_id": "39a93821c7214107815d72b57e5b9ea0",
       "version_major": 2,
       "version_minor": 0
      },
      "text/plain": [
       "interactive(children=(IntSlider(value=10, description='a', max=30, min=-10), IntSlider(value=20, description='…"
      ]
     },
     "metadata": {},
     "output_type": "display_data"
    }
   ],
   "source": [
    "display(w)"
   ]
  },
  {
   "cell_type": "markdown",
   "id": "spanish-cancer",
   "metadata": {},
   "source": [
    "At this point, the UI controls work just like they would if `interact` had been used. You can manipulate them interactively and the function will be called. However, the widget instance returned by `interactive` also give you access to the current keyword arguments and return value of the underlying Python function.\n",
    "\n",
    "Here are the current keyword arguments. If you rerun this cell after manipulating the sliders, the values will have changed."
   ]
  },
  {
   "cell_type": "code",
   "execution_count": 74,
   "id": "horizontal-trainer",
   "metadata": {},
   "outputs": [
    {
     "data": {
      "text/plain": [
       "{'a': 10, 'b': 20}"
      ]
     },
     "execution_count": 74,
     "metadata": {},
     "output_type": "execute_result"
    }
   ],
   "source": [
    "w.kwargs\n"
   ]
  },
  {
   "cell_type": "markdown",
   "id": "restricted-alaska",
   "metadata": {},
   "source": [
    "Here is the current return value of the function."
   ]
  },
  {
   "cell_type": "code",
   "execution_count": 75,
   "id": "disciplinary-hands",
   "metadata": {},
   "outputs": [
    {
     "data": {
      "text/plain": [
       "30"
      ]
     },
     "execution_count": 75,
     "metadata": {},
     "output_type": "execute_result"
    }
   ],
   "source": [
    "w.result"
   ]
  },
  {
   "cell_type": "code",
   "execution_count": null,
   "id": "outside-change",
   "metadata": {},
   "outputs": [],
   "source": []
  }
 ],
 "metadata": {
  "kernelspec": {
   "display_name": "Python 3",
   "language": "python",
   "name": "python3"
  },
  "language_info": {
   "codemirror_mode": {
    "name": "ipython",
    "version": 3
   },
   "file_extension": ".py",
   "mimetype": "text/x-python",
   "name": "python",
   "nbconvert_exporter": "python",
   "pygments_lexer": "ipython3",
   "version": "3.7.8"
  },
  "widgets": {
   "application/vnd.jupyter.widget-state+json": {
    "state": {
     "0c71e17711684468938ed1e79ed1ee97": {
      "model_module": "@jupyter-widgets/controls",
      "model_module_version": "1.5.0",
      "model_name": "IntSliderModel",
      "state": {
       "description": "x",
       "layout": "IPY_MODEL_be102ff4e3f24b8ea366e71c25b867a2",
       "max": 30,
       "min": -10,
       "style": "IPY_MODEL_a113b8ac92ae41aebb4fa217e3dcb675",
       "value": 14
      }
     },
     "63741deb2d2e46fda8649d05cc9b6d65": {
      "model_module": "@jupyter-widgets/output",
      "model_module_version": "1.0.0",
      "model_name": "OutputModel",
      "state": {
       "layout": "IPY_MODEL_e8c4b048317b4d1cb933c8167f8f659a",
       "outputs": [
        {
         "data": {
          "text/plain": "196"
         },
         "metadata": {},
         "output_type": "display_data"
        }
       ]
      }
     },
     "a113b8ac92ae41aebb4fa217e3dcb675": {
      "model_module": "@jupyter-widgets/controls",
      "model_module_version": "1.5.0",
      "model_name": "SliderStyleModel",
      "state": {
       "description_width": ""
      }
     },
     "be102ff4e3f24b8ea366e71c25b867a2": {
      "model_module": "@jupyter-widgets/base",
      "model_module_version": "1.2.0",
      "model_name": "LayoutModel",
      "state": {}
     },
     "cce7b4694dbd4d328f532019310fcfea": {
      "model_module": "@jupyter-widgets/controls",
      "model_module_version": "1.5.0",
      "model_name": "VBoxModel",
      "state": {
       "_dom_classes": [
        "widget-interact"
       ],
       "children": [
        "IPY_MODEL_0c71e17711684468938ed1e79ed1ee97",
        "IPY_MODEL_63741deb2d2e46fda8649d05cc9b6d65"
       ],
       "layout": "IPY_MODEL_fb9550283c1740bc876557d8d5e2a981"
      }
     },
     "e8c4b048317b4d1cb933c8167f8f659a": {
      "model_module": "@jupyter-widgets/base",
      "model_module_version": "1.2.0",
      "model_name": "LayoutModel",
      "state": {}
     },
     "fb9550283c1740bc876557d8d5e2a981": {
      "model_module": "@jupyter-widgets/base",
      "model_module_version": "1.2.0",
      "model_name": "LayoutModel",
      "state": {}
     }
    },
    "version_major": 2,
    "version_minor": 0
   }
  }
 },
 "nbformat": 4,
 "nbformat_minor": 5
}
