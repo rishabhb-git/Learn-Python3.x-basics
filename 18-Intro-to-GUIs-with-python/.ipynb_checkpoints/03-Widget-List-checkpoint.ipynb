{
 "cells": [
  {
   "cell_type": "markdown",
   "id": "permanent-renaissance",
   "metadata": {},
   "source": [
    "# Widget List\n",
    "Here I'll provide a brief overview of lists of GUI widgets available.\n",
    "\n",
    "### Complete list\n",
    "For a complete list of the GUI widgets available, you can list the registered widget types. `Widget` is the base class."
   ]
  },
  {
   "cell_type": "code",
   "execution_count": 22,
   "id": "activated-suspension",
   "metadata": {},
   "outputs": [
    {
     "name": "stdout",
     "output_type": "stream",
     "text": [
      "(('@jupyter-widgets/base', '1.2.0', 'LayoutModel', '@jupyter-widgets/base', '1.2.0', 'LayoutView'), <class 'ipywidgets.widgets.widget_layout.Layout'>) \n",
      "\n",
      "Model name => Layout \n",
      " ____________________________________________________________________________________________________ \n",
      "\n",
      "(('@jupyter-widgets/controls', '1.5.0', 'AccordionModel', '@jupyter-widgets/controls', '1.5.0', 'AccordionView'), <class 'ipywidgets.widgets.widget_selectioncontainer.Accordion'>) \n",
      "\n",
      "Model name => Accordion \n",
      " ____________________________________________________________________________________________________ \n",
      "\n",
      "(('@jupyter-widgets/controls', '1.5.0', 'AudioModel', '@jupyter-widgets/controls', '1.5.0', 'AudioView'), <class 'ipywidgets.widgets.widget_media.Audio'>) \n",
      "\n",
      "Model name => Audio \n",
      " ____________________________________________________________________________________________________ \n",
      "\n",
      "(('@jupyter-widgets/controls', '1.5.0', 'BoundedFloatTextModel', '@jupyter-widgets/controls', '1.5.0', 'FloatTextView'), <class 'ipywidgets.widgets.widget_float.BoundedFloatText'>) \n",
      "\n",
      "Model name => BoundedFloatText \n",
      " ____________________________________________________________________________________________________ \n",
      "\n",
      "(('@jupyter-widgets/controls', '1.5.0', 'BoundedIntTextModel', '@jupyter-widgets/controls', '1.5.0', 'IntTextView'), <class 'ipywidgets.widgets.widget_int.BoundedIntText'>) \n",
      "\n",
      "Model name => BoundedIntText \n",
      " ____________________________________________________________________________________________________ \n",
      "\n",
      "(('@jupyter-widgets/controls', '1.5.0', 'BoxModel', '@jupyter-widgets/controls', '1.5.0', 'BoxView'), <class 'ipywidgets.widgets.widget_box.Box'>) \n",
      "\n",
      "Model name => Box \n",
      " ____________________________________________________________________________________________________ \n",
      "\n",
      "(('@jupyter-widgets/controls', '1.5.0', 'ButtonModel', '@jupyter-widgets/controls', '1.5.0', 'ButtonView'), <class 'ipywidgets.widgets.widget_button.Button'>) \n",
      "\n",
      "Model name => Button \n",
      " ____________________________________________________________________________________________________ \n",
      "\n",
      "(('@jupyter-widgets/controls', '1.5.0', 'ButtonStyleModel', '@jupyter-widgets/base', '1.2.0', 'StyleView'), <class 'ipywidgets.widgets.widget_button.ButtonStyle'>) \n",
      "\n",
      "Model name => ButtonStyle \n",
      " ____________________________________________________________________________________________________ \n",
      "\n",
      "(('@jupyter-widgets/controls', '1.5.0', 'CheckboxModel', '@jupyter-widgets/controls', '1.5.0', 'CheckboxView'), <class 'ipywidgets.widgets.widget_bool.Checkbox'>) \n",
      "\n",
      "Model name => Checkbox \n",
      " ____________________________________________________________________________________________________ \n",
      "\n",
      "(('@jupyter-widgets/controls', '1.5.0', 'ColorPickerModel', '@jupyter-widgets/controls', '1.5.0', 'ColorPickerView'), <class 'ipywidgets.widgets.widget_color.ColorPicker'>) \n",
      "\n",
      "Model name => ColorPicker \n",
      " ____________________________________________________________________________________________________ \n",
      "\n",
      "(('@jupyter-widgets/controls', '1.5.0', 'ComboboxModel', '@jupyter-widgets/controls', '1.5.0', 'ComboboxView'), <class 'ipywidgets.widgets.widget_string.Combobox'>) \n",
      "\n",
      "Model name => Combobox \n",
      " ____________________________________________________________________________________________________ \n",
      "\n",
      "(('@jupyter-widgets/controls', '1.5.0', 'ControllerAxisModel', '@jupyter-widgets/controls', '1.5.0', 'ControllerAxisView'), <class 'ipywidgets.widgets.widget_controller.Axis'>) \n",
      "\n",
      "Model name => ControllerAxis \n",
      " ____________________________________________________________________________________________________ \n",
      "\n",
      "(('@jupyter-widgets/controls', '1.5.0', 'ControllerButtonModel', '@jupyter-widgets/controls', '1.5.0', 'ControllerButtonView'), <class 'ipywidgets.widgets.widget_controller.Button'>) \n",
      "\n",
      "Model name => ControllerButton \n",
      " ____________________________________________________________________________________________________ \n",
      "\n",
      "(('@jupyter-widgets/controls', '1.5.0', 'ControllerModel', '@jupyter-widgets/controls', '1.5.0', 'ControllerView'), <class 'ipywidgets.widgets.widget_controller.Controller'>) \n",
      "\n",
      "Model name => Controller \n",
      " ____________________________________________________________________________________________________ \n",
      "\n",
      "(('@jupyter-widgets/controls', '1.5.0', 'DOMWidgetModel', '@jupyter-widgets/controls', '1.5.0', None), <class 'ipywidgets.widgets.widget_media._Media'>) \n",
      "\n",
      "Model name => DOMWidget \n",
      " ____________________________________________________________________________________________________ \n",
      "\n",
      "(('@jupyter-widgets/controls', '1.5.0', 'DatePickerModel', '@jupyter-widgets/controls', '1.5.0', 'DatePickerView'), <class 'ipywidgets.widgets.widget_date.DatePicker'>) \n",
      "\n",
      "Model name => DatePicker \n",
      " ____________________________________________________________________________________________________ \n",
      "\n",
      "(('@jupyter-widgets/controls', '1.5.0', 'DescriptionStyleModel', '@jupyter-widgets/base', '1.2.0', 'StyleView'), <class 'ipywidgets.widgets.widget_description.DescriptionStyle'>) \n",
      "\n",
      "Model name => DescriptionStyle \n",
      " ____________________________________________________________________________________________________ \n",
      "\n",
      "(('@jupyter-widgets/controls', '1.5.0', 'DirectionalLinkModel', '@jupyter-widgets/controls', '1.5.0', None), <class 'ipywidgets.widgets.widget_link.DirectionalLink'>) \n",
      "\n",
      "Model name => DirectionalLink \n",
      " ____________________________________________________________________________________________________ \n",
      "\n",
      "(('@jupyter-widgets/controls', '1.5.0', 'DropdownModel', '@jupyter-widgets/controls', '1.5.0', 'DropdownView'), <class 'ipywidgets.widgets.widget_selection.Dropdown'>) \n",
      "\n",
      "Model name => Dropdown \n",
      " ____________________________________________________________________________________________________ \n",
      "\n",
      "(('@jupyter-widgets/controls', '1.5.0', 'FileUploadModel', '@jupyter-widgets/controls', '1.5.0', 'FileUploadView'), <class 'ipywidgets.widgets.widget_upload.FileUpload'>) \n",
      "\n",
      "Model name => FileUpload \n",
      " ____________________________________________________________________________________________________ \n",
      "\n",
      "(('@jupyter-widgets/controls', '1.5.0', 'FloatLogSliderModel', '@jupyter-widgets/controls', '1.5.0', 'FloatLogSliderView'), <class 'ipywidgets.widgets.widget_float.FloatLogSlider'>) \n",
      "\n",
      "Model name => FloatLogSlider \n",
      " ____________________________________________________________________________________________________ \n",
      "\n",
      "(('@jupyter-widgets/controls', '1.5.0', 'FloatProgressModel', '@jupyter-widgets/controls', '1.5.0', 'ProgressView'), <class 'ipywidgets.widgets.widget_float.FloatProgress'>) \n",
      "\n",
      "Model name => FloatProgress \n",
      " ____________________________________________________________________________________________________ \n",
      "\n",
      "(('@jupyter-widgets/controls', '1.5.0', 'FloatRangeSliderModel', '@jupyter-widgets/controls', '1.5.0', 'FloatRangeSliderView'), <class 'ipywidgets.widgets.widget_float.FloatRangeSlider'>) \n",
      "\n",
      "Model name => FloatRangeSlider \n",
      " ____________________________________________________________________________________________________ \n",
      "\n",
      "(('@jupyter-widgets/controls', '1.5.0', 'FloatSliderModel', '@jupyter-widgets/controls', '1.5.0', 'FloatSliderView'), <class 'ipywidgets.widgets.widget_float.FloatSlider'>) \n",
      "\n",
      "Model name => FloatSlider \n",
      " ____________________________________________________________________________________________________ \n",
      "\n",
      "(('@jupyter-widgets/controls', '1.5.0', 'FloatTextModel', '@jupyter-widgets/controls', '1.5.0', 'FloatTextView'), <class 'ipywidgets.widgets.widget_float.FloatText'>) \n",
      "\n",
      "Model name => FloatText \n",
      " ____________________________________________________________________________________________________ \n",
      "\n",
      "(('@jupyter-widgets/controls', '1.5.0', 'GridBoxModel', '@jupyter-widgets/controls', '1.5.0', 'GridBoxView'), <class 'ipywidgets.widgets.widget_box.GridBox'>) \n",
      "\n",
      "Model name => GridBox \n",
      " ____________________________________________________________________________________________________ \n",
      "\n",
      "(('@jupyter-widgets/controls', '1.5.0', 'HBoxModel', '@jupyter-widgets/controls', '1.5.0', 'HBoxView'), <class 'ipywidgets.widgets.widget_box.HBox'>) \n",
      "\n",
      "Model name => HBox \n",
      " ____________________________________________________________________________________________________ \n",
      "\n",
      "(('@jupyter-widgets/controls', '1.5.0', 'HTMLMathModel', '@jupyter-widgets/controls', '1.5.0', 'HTMLMathView'), <class 'ipywidgets.widgets.widget_string.HTMLMath'>) \n",
      "\n",
      "Model name => HTMLMath \n",
      " ____________________________________________________________________________________________________ \n",
      "\n",
      "(('@jupyter-widgets/controls', '1.5.0', 'HTMLModel', '@jupyter-widgets/controls', '1.5.0', 'HTMLView'), <class 'ipywidgets.widgets.widget_string.HTML'>) \n",
      "\n",
      "Model name => HTML \n",
      " ____________________________________________________________________________________________________ \n",
      "\n",
      "(('@jupyter-widgets/controls', '1.5.0', 'ImageModel', '@jupyter-widgets/controls', '1.5.0', 'ImageView'), <class 'ipywidgets.widgets.widget_media.Image'>) \n",
      "\n",
      "Model name => Image \n",
      " ____________________________________________________________________________________________________ \n",
      "\n",
      "(('@jupyter-widgets/controls', '1.5.0', 'IntProgressModel', '@jupyter-widgets/controls', '1.5.0', 'ProgressView'), <class 'ipywidgets.widgets.widget_int.IntProgress'>) \n",
      "\n",
      "Model name => IntProgress \n",
      " ____________________________________________________________________________________________________ \n",
      "\n",
      "(('@jupyter-widgets/controls', '1.5.0', 'IntRangeSliderModel', '@jupyter-widgets/controls', '1.5.0', 'IntRangeSliderView'), <class 'ipywidgets.widgets.widget_int.IntRangeSlider'>) \n",
      "\n",
      "Model name => IntRangeSlider \n",
      " ____________________________________________________________________________________________________ \n",
      "\n",
      "(('@jupyter-widgets/controls', '1.5.0', 'IntSliderModel', '@jupyter-widgets/controls', '1.5.0', 'IntSliderView'), <class 'ipywidgets.widgets.widget_int.IntSlider'>) \n",
      "\n",
      "Model name => IntSlider \n",
      " ____________________________________________________________________________________________________ \n",
      "\n",
      "(('@jupyter-widgets/controls', '1.5.0', 'IntTextModel', '@jupyter-widgets/controls', '1.5.0', 'IntTextView'), <class 'ipywidgets.widgets.widget_int.IntText'>) \n",
      "\n",
      "Model name => IntText \n",
      " ____________________________________________________________________________________________________ \n",
      "\n",
      "(('@jupyter-widgets/controls', '1.5.0', 'LabelModel', '@jupyter-widgets/controls', '1.5.0', 'LabelView'), <class 'ipywidgets.widgets.widget_string.Label'>) \n",
      "\n",
      "Model name => Label \n",
      " ____________________________________________________________________________________________________ \n",
      "\n",
      "(('@jupyter-widgets/controls', '1.5.0', 'LinkModel', '@jupyter-widgets/controls', '1.5.0', None), <class 'ipywidgets.widgets.widget_link.Link'>) \n",
      "\n",
      "Model name => Link \n",
      " ____________________________________________________________________________________________________ \n",
      "\n",
      "(('@jupyter-widgets/controls', '1.5.0', 'PasswordModel', '@jupyter-widgets/controls', '1.5.0', 'PasswordView'), <class 'ipywidgets.widgets.widget_string.Password'>) \n",
      "\n",
      "Model name => Password \n",
      " ____________________________________________________________________________________________________ \n",
      "\n",
      "(('@jupyter-widgets/controls', '1.5.0', 'PlayModel', '@jupyter-widgets/controls', '1.5.0', 'PlayView'), <class 'ipywidgets.widgets.widget_int.Play'>) \n",
      "\n",
      "Model name => Play \n",
      " ____________________________________________________________________________________________________ \n",
      "\n",
      "(('@jupyter-widgets/controls', '1.5.0', 'ProgressStyleModel', '@jupyter-widgets/base', '1.2.0', 'StyleView'), <class 'ipywidgets.widgets.widget_int.ProgressStyle'>) \n",
      "\n",
      "Model name => ProgressStyle \n",
      " ____________________________________________________________________________________________________ \n",
      "\n",
      "(('@jupyter-widgets/controls', '1.5.0', 'RadioButtonsModel', '@jupyter-widgets/controls', '1.5.0', 'RadioButtonsView'), <class 'ipywidgets.widgets.widget_selection.RadioButtons'>) \n",
      "\n",
      "Model name => RadioButtons \n",
      " ____________________________________________________________________________________________________ \n",
      "\n",
      "(('@jupyter-widgets/controls', '1.5.0', 'SelectModel', '@jupyter-widgets/controls', '1.5.0', 'SelectView'), <class 'ipywidgets.widgets.widget_selection.Select'>) \n",
      "\n",
      "Model name => Select \n",
      " ____________________________________________________________________________________________________ \n",
      "\n",
      "(('@jupyter-widgets/controls', '1.5.0', 'SelectMultipleModel', '@jupyter-widgets/controls', '1.5.0', 'SelectMultipleView'), <class 'ipywidgets.widgets.widget_selection.SelectMultiple'>) \n",
      "\n",
      "Model name => SelectMultiple \n",
      " ____________________________________________________________________________________________________ \n",
      "\n",
      "(('@jupyter-widgets/controls', '1.5.0', 'SelectionRangeSliderModel', '@jupyter-widgets/controls', '1.5.0', 'SelectionRangeSliderView'), <class 'ipywidgets.widgets.widget_selection.SelectionRangeSlider'>) \n",
      "\n",
      "Model name => SelectionRangeSlider \n",
      " ____________________________________________________________________________________________________ \n",
      "\n",
      "(('@jupyter-widgets/controls', '1.5.0', 'SelectionSliderModel', '@jupyter-widgets/controls', '1.5.0', 'SelectionSliderView'), <class 'ipywidgets.widgets.widget_selection.SelectionSlider'>) \n",
      "\n",
      "Model name => SelectionSlider \n",
      " ____________________________________________________________________________________________________ \n",
      "\n",
      "(('@jupyter-widgets/controls', '1.5.0', 'SliderStyleModel', '@jupyter-widgets/base', '1.2.0', 'StyleView'), <class 'ipywidgets.widgets.widget_int.SliderStyle'>) \n",
      "\n",
      "Model name => SliderStyle \n",
      " ____________________________________________________________________________________________________ \n",
      "\n",
      "(('@jupyter-widgets/controls', '1.5.0', 'TabModel', '@jupyter-widgets/controls', '1.5.0', 'TabView'), <class 'ipywidgets.widgets.widget_selectioncontainer.Tab'>) \n",
      "\n",
      "Model name => Tab \n",
      " ____________________________________________________________________________________________________ \n",
      "\n",
      "(('@jupyter-widgets/controls', '1.5.0', 'TextModel', '@jupyter-widgets/controls', '1.5.0', 'TextView'), <class 'ipywidgets.widgets.widget_string.Text'>) \n",
      "\n",
      "Model name => Text \n",
      " ____________________________________________________________________________________________________ \n",
      "\n",
      "(('@jupyter-widgets/controls', '1.5.0', 'TextareaModel', '@jupyter-widgets/controls', '1.5.0', 'TextareaView'), <class 'ipywidgets.widgets.widget_string.Textarea'>) \n",
      "\n",
      "Model name => Textarea \n",
      " ____________________________________________________________________________________________________ \n",
      "\n",
      "(('@jupyter-widgets/controls', '1.5.0', 'ToggleButtonModel', '@jupyter-widgets/controls', '1.5.0', 'ToggleButtonView'), <class 'ipywidgets.widgets.widget_bool.ToggleButton'>) \n",
      "\n",
      "Model name => ToggleButton \n",
      " ____________________________________________________________________________________________________ \n",
      "\n",
      "(('@jupyter-widgets/controls', '1.5.0', 'ToggleButtonsModel', '@jupyter-widgets/controls', '1.5.0', 'ToggleButtonsView'), <class 'ipywidgets.widgets.widget_selection.ToggleButtons'>) \n",
      "\n",
      "Model name => ToggleButtons \n",
      " ____________________________________________________________________________________________________ \n",
      "\n",
      "(('@jupyter-widgets/controls', '1.5.0', 'ToggleButtonsStyleModel', '@jupyter-widgets/base', '1.2.0', 'StyleView'), <class 'ipywidgets.widgets.widget_selection.ToggleButtonsStyle'>) \n",
      "\n",
      "Model name => ToggleButtonsStyle \n",
      " ____________________________________________________________________________________________________ \n",
      "\n",
      "(('@jupyter-widgets/controls', '1.5.0', 'VBoxModel', '@jupyter-widgets/controls', '1.5.0', 'VBoxView'), <class 'ipywidgets.widgets.widget_box.VBox'>) \n",
      "\n",
      "Model name => VBox \n",
      " ____________________________________________________________________________________________________ \n",
      "\n",
      "(('@jupyter-widgets/controls', '1.5.0', 'ValidModel', '@jupyter-widgets/controls', '1.5.0', 'ValidView'), <class 'ipywidgets.widgets.widget_bool.Valid'>) \n",
      "\n",
      "Model name => Valid \n",
      " ____________________________________________________________________________________________________ \n",
      "\n",
      "(('@jupyter-widgets/controls', '1.5.0', 'VideoModel', '@jupyter-widgets/controls', '1.5.0', 'VideoView'), <class 'ipywidgets.widgets.widget_media.Video'>) \n",
      "\n",
      "Model name => Video \n",
      " ____________________________________________________________________________________________________ \n",
      "\n",
      "(('@jupyter-widgets/output', '1.0.0', 'OutputModel', '@jupyter-widgets/output', '1.0.0', 'OutputView'), <class 'ipywidgets.widgets.widget_output.Output'>) \n",
      "\n",
      "Model name => Output \n",
      " ____________________________________________________________________________________________________ \n",
      "\n"
     ]
    }
   ],
   "source": [
    "import ipywidgets as widgets\n",
    "\n",
    "# Show all available widgets!\n",
    "for item in widgets.Widget.widget_types.items():\n",
    "    print(item,'\\n')                                                  # 'item' is a tuple\n",
    "    print('Model name =>',item[0][2][:-5],'\\n','__'*50,'\\n')          # just trimming out 'model' string and then printing"
   ]
  },
  {
   "cell_type": "markdown",
   "id": "compatible-agriculture",
   "metadata": {},
   "source": [
    "## Numeric widgets\n",
    "There are 10 widgets distributed with IPython that are designed to display numeric values.\n",
    "\n",
    "Widgets exist for displaying integers and floats, both bounded and unbounded.<br>• The integer widgets share a similar naming scheme to their floating point counterparts.<br>• By replacing Float with Int in the widget name, you can find the Integer equivalent.\n",
    "\n",
    "### 1. `.IntSlider()`"
   ]
  },
  {
   "cell_type": "code",
   "execution_count": 4,
   "id": "diverse-alliance",
   "metadata": {},
   "outputs": [
    {
     "data": {
      "application/vnd.jupyter.widget-view+json": {
       "model_id": "931935aa21eb401da64e20632f368547",
       "version_major": 2,
       "version_minor": 0
      },
      "text/plain": [
       "IntSlider(value=7, continuous_update=False, description='Test:', max=10)"
      ]
     },
     "metadata": {},
     "output_type": "display_data"
    }
   ],
   "source": [
    "widgets.IntSlider(\n",
    "    value=7,\n",
    "    min=0,\n",
    "    max=10,\n",
    "    step=1,\n",
    "    description='Test:',\n",
    "    disabled=False,\n",
    "    continuous_update=False,\n",
    "    orientation='horizontal',\n",
    "    readout=True,\n",
    "    readout_format='d'\n",
    ")"
   ]
  },
  {
   "cell_type": "markdown",
   "id": "charitable-criterion",
   "metadata": {},
   "source": [
    "### 2. `.FloatSlider()`"
   ]
  },
  {
   "cell_type": "code",
   "execution_count": 5,
   "id": "varying-louis",
   "metadata": {},
   "outputs": [
    {
     "data": {
      "application/vnd.jupyter.widget-view+json": {
       "model_id": "0c9520c7a29d4b8caf666525344b28e6",
       "version_major": 2,
       "version_minor": 0
      },
      "text/plain": [
       "FloatSlider(value=7.5, continuous_update=False, description='Test:', max=10.0, readout_format='.1f')"
      ]
     },
     "metadata": {},
     "output_type": "display_data"
    }
   ],
   "source": [
    "widgets.FloatSlider(\n",
    "    value=7.5,\n",
    "    min=0,\n",
    "    max=10.0,\n",
    "    step=0.1,\n",
    "    description='Test:',\n",
    "    disabled=False,\n",
    "    continuous_update=False,\n",
    "    orientation='horizontal',\n",
    "    readout=True,\n",
    "    readout_format='.1f',\n",
    ")"
   ]
  },
  {
   "cell_type": "markdown",
   "id": "manual-settle",
   "metadata": {},
   "source": [
    "Sliders can also be displayed **vertically**. Orientation argument takes either *vertical* or *horizontal*. \n",
    "\n",
    "> `orientation='vertical'`"
   ]
  },
  {
   "cell_type": "code",
   "execution_count": 6,
   "id": "romance-stockholm",
   "metadata": {},
   "outputs": [
    {
     "data": {
      "application/vnd.jupyter.widget-view+json": {
       "model_id": "cadf4466920242778da68bc10ef4903c",
       "version_major": 2,
       "version_minor": 0
      },
      "text/plain": [
       "FloatSlider(value=7.5, continuous_update=False, description='Test:', max=10.0, orientation='vertical', readout…"
      ]
     },
     "metadata": {},
     "output_type": "display_data"
    }
   ],
   "source": [
    "widgets.FloatSlider(\n",
    "    value=7.5,\n",
    "    min=0,\n",
    "    max=10.0,\n",
    "    step=0.1,\n",
    "    description='Test:',\n",
    "    disabled=False,\n",
    "    continuous_update=False,\n",
    "    orientation='vertical',\n",
    "    readout=True,\n",
    "    readout_format='.1f',\n",
    ")"
   ]
  },
  {
   "cell_type": "markdown",
   "id": "distant-corps",
   "metadata": {},
   "source": [
    "### 3. `.IntRangeSlider()`"
   ]
  },
  {
   "cell_type": "code",
   "execution_count": 10,
   "id": "sorted-package",
   "metadata": {},
   "outputs": [
    {
     "data": {
      "application/vnd.jupyter.widget-view+json": {
       "model_id": "449109d4d3db43d5a77a5a371cf4535f",
       "version_major": 2,
       "version_minor": 0
      },
      "text/plain": [
       "IntRangeSlider(value=(5, 25), continuous_update=False, description='Test:', max=40)"
      ]
     },
     "metadata": {},
     "output_type": "display_data"
    }
   ],
   "source": [
    "widgets.IntRangeSlider(\n",
    "    value=[5, 25],\n",
    "    min=0,\n",
    "    max=40,\n",
    "    step=1,\n",
    "    description='Test:',\n",
    "    disabled=False,\n",
    "    continuous_update=False,\n",
    "    orientation='horizontal',\n",
    "    readout=True,\n",
    "    readout_format='d',\n",
    ")"
   ]
  },
  {
   "cell_type": "markdown",
   "id": "spare-clinton",
   "metadata": {},
   "source": [
    "### 4. `.FloatRangeSlider()`"
   ]
  },
  {
   "cell_type": "code",
   "execution_count": 15,
   "id": "familiar-element",
   "metadata": {},
   "outputs": [
    {
     "data": {
      "application/vnd.jupyter.widget-view+json": {
       "model_id": "e967c16c96664dd1b87cc4b78ebe46d9",
       "version_major": 2,
       "version_minor": 0
      },
      "text/plain": [
       "FloatRangeSlider(value=(15.0, 37.5), continuous_update=False, description='Test:', max=50.0, readout_format='.…"
      ]
     },
     "metadata": {},
     "output_type": "display_data"
    }
   ],
   "source": [
    "widgets.FloatRangeSlider(\n",
    "    value=[15, 37.5],\n",
    "    min=0,\n",
    "    max=50.0,\n",
    "    step=0.1,\n",
    "    description='Test:',\n",
    "    disabled=False,\n",
    "    continuous_update=False,\n",
    "    orientation='horizontal',\n",
    "    readout=True,\n",
    "    readout_format='.1f',\n",
    ")"
   ]
  },
  {
   "cell_type": "markdown",
   "id": "differential-robert",
   "metadata": {},
   "source": [
    "### 5. `.IntProgress()`"
   ]
  },
  {
   "cell_type": "code",
   "execution_count": 26,
   "id": "compressed-gazette",
   "metadata": {},
   "outputs": [
    {
     "data": {
      "application/vnd.jupyter.widget-view+json": {
       "model_id": "4c336ce97fd8408b8ed44badb03fe59a",
       "version_major": 2,
       "version_minor": 0
      },
      "text/plain": [
       "IntProgress(value=7, description='Loading:', max=10)"
      ]
     },
     "metadata": {},
     "output_type": "display_data"
    }
   ],
   "source": [
    "widgets.IntProgress(\n",
    "    value=7,\n",
    "    min=0,\n",
    "    max=10,\n",
    "    step=1,\n",
    "    description='Loading:',\n",
    "    bar_style='', # 'success', 'info', 'warning', 'danger' or ''\n",
    "    orientation='horizontal'\n",
    ")"
   ]
  },
  {
   "cell_type": "markdown",
   "id": "extreme-director",
   "metadata": {},
   "source": [
    "These colors are made available by Bootstrap- a popular frontend CSS library.\n",
    "\n",
    "| `bar_style` | Color |\n",
    "| :-----: | :------: |\n",
    "| success | Green 🟩 |\n",
    "| info | Sea Blue 🔵|\n",
    "| warning | Orange/Yellow 🟨 |\n",
    "| danger | Red 🟥 |\n",
    "| \"\" (i.e. empty double quotes) | Blue 🟦 |\n",
    "\n",
    "<br>"
   ]
  },
  {
   "cell_type": "markdown",
   "id": "technological-server",
   "metadata": {},
   "source": [
    "### 6. `.FloatProgress()`"
   ]
  },
  {
   "cell_type": "code",
   "execution_count": 27,
   "id": "sitting-amino",
   "metadata": {},
   "outputs": [
    {
     "data": {
      "application/vnd.jupyter.widget-view+json": {
       "model_id": "dfd04d6ae7674427a5f8623350e55e29",
       "version_major": 2,
       "version_minor": 0
      },
      "text/plain": [
       "FloatProgress(value=7.5, bar_style='danger', description='Loading:', max=10.0)"
      ]
     },
     "metadata": {},
     "output_type": "display_data"
    }
   ],
   "source": [
    "widgets.FloatProgress(\n",
    "    value=7.5,\n",
    "    min=0,\n",
    "    max=10.0,\n",
    "    step=0.1,\n",
    "    description='Loading:',\n",
    "    bar_style='danger',            # 'success', 'info', 'warning', 'danger' or ''\n",
    "    orientation='horizontal'\n",
    ")"
   ]
  },
  {
   "cell_type": "markdown",
   "id": "unavailable-jungle",
   "metadata": {},
   "source": [
    "<br><br>\n",
    "The numerical text boxes that impose some limit on the data (range, integer-only) impose that restriction when the user presses enter."
   ]
  },
  {
   "cell_type": "markdown",
   "id": "linear-hawaii",
   "metadata": {},
   "source": [
    "### 7. `.BoundedIntText()`"
   ]
  },
  {
   "cell_type": "code",
   "execution_count": 23,
   "id": "dutch-fifty",
   "metadata": {},
   "outputs": [
    {
     "data": {
      "application/vnd.jupyter.widget-view+json": {
       "model_id": "bb92757934464214b43f992f953ba126",
       "version_major": 2,
       "version_minor": 0
      },
      "text/plain": [
       "BoundedIntText(value=7, description='Text:', max=10)"
      ]
     },
     "metadata": {},
     "output_type": "display_data"
    }
   ],
   "source": [
    "widgets.BoundedIntText(\n",
    "    value=7,\n",
    "    min=0,\n",
    "    max=10,\n",
    "    step=1,\n",
    "    description='Text:',\n",
    "    disabled=False\n",
    ")"
   ]
  },
  {
   "cell_type": "markdown",
   "id": "north-buddy",
   "metadata": {},
   "source": [
    "### 8. `.BoundedFloatText()`"
   ]
  },
  {
   "cell_type": "code",
   "execution_count": 30,
   "id": "cubic-correlation",
   "metadata": {},
   "outputs": [
    {
     "data": {
      "application/vnd.jupyter.widget-view+json": {
       "model_id": "67b0efb4c3764fcd9e1322ade7086a29",
       "version_major": 2,
       "version_minor": 0
      },
      "text/plain": [
       "BoundedFloatText(value=7.5, description='Text:', disabled=True, max=10.0, step=0.1)"
      ]
     },
     "metadata": {},
     "output_type": "display_data"
    }
   ],
   "source": [
    "widgets.BoundedFloatText(\n",
    "    value=7.5,\n",
    "    min=0,\n",
    "    max=10.0,\n",
    "    step=0.1,\n",
    "    description='Text:',\n",
    "    disabled=True\n",
    ")\n",
    "\n",
    "# Notice here, disabled=True, i.e. you can't change value inside testbox"
   ]
  },
  {
   "cell_type": "markdown",
   "id": "gentle-canal",
   "metadata": {},
   "source": [
    "### 9. `.IntText()`"
   ]
  },
  {
   "cell_type": "code",
   "execution_count": 31,
   "id": "early-collectible",
   "metadata": {},
   "outputs": [
    {
     "data": {
      "application/vnd.jupyter.widget-view+json": {
       "model_id": "f8171afa791b4286a964e44d6461ab60",
       "version_major": 2,
       "version_minor": 0
      },
      "text/plain": [
       "IntText(value=7, description='Any:')"
      ]
     },
     "metadata": {},
     "output_type": "display_data"
    }
   ],
   "source": [
    "widgets.IntText(\n",
    "    value=7,\n",
    "    description='Any:',\n",
    "    disabled=False\n",
    ")"
   ]
  },
  {
   "cell_type": "markdown",
   "id": "fifteen-graduation",
   "metadata": {},
   "source": [
    "### 10. `.FloatText()`"
   ]
  },
  {
   "cell_type": "code",
   "execution_count": 32,
   "id": "statistical-colorado",
   "metadata": {},
   "outputs": [
    {
     "data": {
      "application/vnd.jupyter.widget-view+json": {
       "model_id": "2e856d33d1f74105b3e26cdd3de68d18",
       "version_major": 2,
       "version_minor": 0
      },
      "text/plain": [
       "FloatText(value=7.5, description='Any:')"
      ]
     },
     "metadata": {},
     "output_type": "display_data"
    }
   ],
   "source": [
    "widgets.FloatText(\n",
    "    value=7.5,\n",
    "    description='Any:',\n",
    "    disabled=False\n",
    ")"
   ]
  },
  {
   "cell_type": "markdown",
   "id": "premier-taylor",
   "metadata": {},
   "source": [
    "<br>\n",
    "_______________________________________________________________________________________________________________________________________________________________________________\n",
    "\n",
    "## Boolean widgets\n",
    "There are 3 widgets that are designed to display a boolean value.\n",
    "\n",
    "### 1. `.ToggleButton()`"
   ]
  },
  {
   "cell_type": "code",
   "execution_count": 34,
   "id": "ahead-liquid",
   "metadata": {},
   "outputs": [
    {
     "data": {
      "application/vnd.jupyter.widget-view+json": {
       "model_id": "49bf38bb4e064a5598123169a97976e3",
       "version_major": 2,
       "version_minor": 0
      },
      "text/plain": [
       "ToggleButton(value=False, description='Click me', icon='check', tooltip='Description')"
      ]
     },
     "metadata": {},
     "output_type": "display_data"
    }
   ],
   "source": [
    "widgets.ToggleButton(\n",
    "    value=False,\n",
    "    description='Click me',\n",
    "    disabled=False,\n",
    "    button_style='', # 'success', 'info', 'warning', 'danger' or ''\n",
    "    tooltip='Description',\n",
    "    icon='check'\n",
    ")"
   ]
  },
  {
   "cell_type": "markdown",
   "id": "specific-blade",
   "metadata": {},
   "source": [
    "### 2. `.Checkbox()`"
   ]
  },
  {
   "cell_type": "code",
   "execution_count": 37,
   "id": "champion-collective",
   "metadata": {},
   "outputs": [
    {
     "data": {
      "application/vnd.jupyter.widget-view+json": {
       "model_id": "b1733205f3734c9389d1c2e0afcffe00",
       "version_major": 2,
       "version_minor": 0
      },
      "text/plain": [
       "Checkbox(value=True, description='Check me')"
      ]
     },
     "metadata": {},
     "output_type": "display_data"
    }
   ],
   "source": [
    "widgets.Checkbox(\n",
    "    value=True,\n",
    "    description='Check me',\n",
    "    disabled=False\n",
    ")"
   ]
  },
  {
   "cell_type": "markdown",
   "id": "raised-salvation",
   "metadata": {},
   "source": [
    "### 3. `.Valid()`"
   ]
  },
  {
   "cell_type": "code",
   "execution_count": 44,
   "id": "practical-moscow",
   "metadata": {},
   "outputs": [
    {
     "data": {
      "application/vnd.jupyter.widget-view+json": {
       "model_id": "19ae89002989403398f0f675a1d407ae",
       "version_major": 2,
       "version_minor": 0
      },
      "text/plain": [
       "Valid(value=True, description='Valid? :')"
      ]
     },
     "metadata": {},
     "output_type": "display_data"
    }
   ],
   "source": [
    "widgets.Valid(\n",
    "    value=False,\n",
    "    description='Valid? :',\n",
    ")"
   ]
  },
  {
   "cell_type": "code",
   "execution_count": 45,
   "id": "common-pulse",
   "metadata": {},
   "outputs": [
    {
     "data": {
      "application/vnd.jupyter.widget-view+json": {
       "model_id": "dd6dc3d2162c4e18b49d95dbec3a3b84",
       "version_major": 2,
       "version_minor": 0
      },
      "text/plain": [
       "Valid(value=False, description='Valid? :')"
      ]
     },
     "metadata": {},
     "output_type": "display_data"
    }
   ],
   "source": [
    "widgets.Valid(\n",
    "    value=False,\n",
    "    description='Valid? :',\n",
    ")"
   ]
  },
  {
   "cell_type": "markdown",
   "id": "available-pressure",
   "metadata": {},
   "source": [
    "<br>\n",
    "___________________________________________________________________________________________________________________________________________________\n",
    "\n",
    "## Selection widgets\n",
    "• There are several widgets that can be used to display single selection lists, and two that can be used to select multiple values.<br>\n",
    "• All inherit from the same base class.<br>\n",
    "• You can specify the **enumeration of selectable options by passing a list** (options are either `(label, value)` pairs, or simply values for which the labels are derived by calling str).<br>\n",
    "• You can also specify the **enumeration as a dictionary**, in which case the keys will be used as the item displayed in the list and the corresponding value will be used when an item is selected (in this case, since dictionaries are unordered, the displayed order of items in the widget is unspecified)."
   ]
  },
  {
   "cell_type": "markdown",
   "id": "acting-sympathy",
   "metadata": {},
   "source": [
    "### 1. `.Dropdown()`"
   ]
  },
  {
   "cell_type": "code",
   "execution_count": 46,
   "id": "optical-voltage",
   "metadata": {},
   "outputs": [
    {
     "data": {
      "application/vnd.jupyter.widget-view+json": {
       "model_id": "df3b478c500742e1ad3ee2f9a499e73c",
       "version_major": 2,
       "version_minor": 0
      },
      "text/plain": [
       "Dropdown(description='Number:', index=1, options=('1', '2', '3'), value='2')"
      ]
     },
     "metadata": {},
     "output_type": "display_data"
    }
   ],
   "source": [
    "widgets.Dropdown(\n",
    "    options=['1', '2', '3'],\n",
    "    value='2',\n",
    "    description='Number:',\n",
    "    disabled=False,\n",
    ")"
   ]
  },
  {
   "cell_type": "code",
   "execution_count": 47,
   "id": "requested-audio",
   "metadata": {},
   "outputs": [
    {
     "data": {
      "application/vnd.jupyter.widget-view+json": {
       "model_id": "e9ac40c714224a579b9f145486edbeb1",
       "version_major": 2,
       "version_minor": 0
      },
      "text/plain": [
       "Dropdown(description='Number:', index=1, options={'One': 1, 'Two': 2, 'Three': 3}, value=2)"
      ]
     },
     "metadata": {},
     "output_type": "display_data"
    }
   ],
   "source": [
    "widgets.Dropdown(\n",
    "    options={'One': 1, 'Two': 2, 'Three': 3},\n",
    "    value=2,\n",
    "    description='Number:',\n",
    ")"
   ]
  },
  {
   "cell_type": "markdown",
   "id": "junior-plenty",
   "metadata": {},
   "source": [
    "### 2. `.RadioButtons()`"
   ]
  },
  {
   "cell_type": "code",
   "execution_count": 24,
   "id": "radical-belgium",
   "metadata": {},
   "outputs": [
    {
     "data": {
      "application/vnd.jupyter.widget-view+json": {
       "model_id": "8848c1c2d69749069d3fab386ae57b94",
       "version_major": 2,
       "version_minor": 0
      },
      "text/plain": [
       "RadioButtons(description='Pizza topping:', options=('pepperoni', 'pineapple', 'anchovies'), value='pepperoni')"
      ]
     },
     "metadata": {},
     "output_type": "display_data"
    }
   ],
   "source": [
    "widgets.RadioButtons(\n",
    "    options=['pepperoni', 'pineapple', 'anchovies'],\n",
    "    # value='pineapple',\n",
    "    description='Pizza topping:',\n",
    "    disabled=False\n",
    ")"
   ]
  },
  {
   "cell_type": "markdown",
   "id": "invisible-claim",
   "metadata": {},
   "source": [
    "### 3. `.Select()`"
   ]
  },
  {
   "cell_type": "code",
   "execution_count": 49,
   "id": "cross-architect",
   "metadata": {},
   "outputs": [
    {
     "data": {
      "application/vnd.jupyter.widget-view+json": {
       "model_id": "7435be62db3b4edcb895dd2ca1834611",
       "version_major": 2,
       "version_minor": 0
      },
      "text/plain": [
       "Select(description='OS:', index=2, options=('Linux', 'Windows', 'OSX'), value='OSX')"
      ]
     },
     "metadata": {},
     "output_type": "display_data"
    }
   ],
   "source": [
    "widgets.Select(\n",
    "    options=['Linux', 'Windows', 'OSX'],\n",
    "    value='OSX',\n",
    "    # rows=10,\n",
    "    description='OS:',\n",
    "    disabled=False\n",
    ")"
   ]
  },
  {
   "cell_type": "markdown",
   "id": "global-particular",
   "metadata": {},
   "source": [
    "### 4. `.SelectionRangeSlider()`\n",
    "\n",
    "The value, index, and label keys are 2-tuples of the min and max values selected.\n",
    "\n",
    "The options must be nonempty."
   ]
  },
  {
   "cell_type": "code",
   "execution_count": 52,
   "id": "chinese-poison",
   "metadata": {},
   "outputs": [
    {
     "data": {
      "application/vnd.jupyter.widget-view+json": {
       "model_id": "bdd8fad2016c4668aa7e4f0f07ed14c3",
       "version_major": 2,
       "version_minor": 0
      },
      "text/plain": [
       "SelectionRangeSlider(description='Months (2020):', index=(0, 11), options=(('Jan', datetime.date(2020, 1, 1)),…"
      ]
     },
     "metadata": {},
     "output_type": "display_data"
    }
   ],
   "source": [
    "import datetime\n",
    "dates = [datetime.date(2020,i,1) for i in range(1,13)]\n",
    "options = [(i.strftime('%b'), i) for i in dates]\n",
    "widgets.SelectionRangeSlider(\n",
    "    options=options,\n",
    "    index=(0,11),\n",
    "    description='Months (2020):',\n",
    "    disabled=False\n",
    ")"
   ]
  },
  {
   "cell_type": "markdown",
   "id": "daily-reverse",
   "metadata": {},
   "source": [
    "### 5. `.ToggleButtons()`"
   ]
  },
  {
   "cell_type": "code",
   "execution_count": 53,
   "id": "delayed-coupon",
   "metadata": {},
   "outputs": [
    {
     "data": {
      "application/vnd.jupyter.widget-view+json": {
       "model_id": "280e852a4c4844e9964c74e0428c71b3",
       "version_major": 2,
       "version_minor": 0
      },
      "text/plain": [
       "ToggleButtons(description='Speed:', options=('Slow', 'Regular', 'Fast'), tooltips=('Description of slow', 'Des…"
      ]
     },
     "metadata": {},
     "output_type": "display_data"
    }
   ],
   "source": [
    "widgets.ToggleButtons(\n",
    "    options=['Slow', 'Regular', 'Fast'],\n",
    "    description='Speed:',\n",
    "    disabled=False,\n",
    "    button_style='', # 'success', 'info', 'warning', 'danger' or ''\n",
    "    tooltips=['Description of slow', 'Description of regular', 'Description of fast'],\n",
    "    # icons=['check'] * 3\n",
    ")"
   ]
  },
  {
   "cell_type": "markdown",
   "id": "marked-opera",
   "metadata": {},
   "source": [
    "### 6. `.SelectMultiple()`\n",
    "\n",
    "Multiple values can be selected with shift and/or ctrl (or command) pressed and mouse clicks or arrow key"
   ]
  },
  {
   "cell_type": "code",
   "execution_count": 26,
   "id": "convertible-forty",
   "metadata": {},
   "outputs": [
    {
     "data": {
      "application/vnd.jupyter.widget-view+json": {
       "model_id": "768746e6344840a399821f07b633a5c2",
       "version_major": 2,
       "version_minor": 0
      },
      "text/plain": [
       "SelectMultiple(description='Fruits', index=(1,), options=('Apples', 'Oranges', 'Pears'), value=('Oranges',))"
      ]
     },
     "metadata": {},
     "output_type": "display_data"
    }
   ],
   "source": [
    "widgets.SelectMultiple(\n",
    "    options=['Apples', 'Oranges', 'Pears'],\n",
    "    value=['Oranges'],\n",
    "    rows=5,\n",
    "    description='Fruits',\n",
    "    disabled=False\n",
    ")"
   ]
  },
  {
   "cell_type": "markdown",
   "id": "remarkable-proceeding",
   "metadata": {},
   "source": [
    "<br>\n",
    "________________________________________________________________________________________________________________________________________________\n",
    "\n",
    "## String Widgets\n",
    "There are several widgets that can be used to display a string value. The Text and Textarea widgets accept input. The `HTML` and `HTMLMath` widgets display a string as HTML (HTMLMath also renders math). The `Label` widget can be used to construct a custom control label."
   ]
  },
  {
   "cell_type": "markdown",
   "id": "strategic-conference",
   "metadata": {},
   "source": [
    "### 1. `.Text()`"
   ]
  },
  {
   "cell_type": "code",
   "execution_count": 56,
   "id": "excited-storage",
   "metadata": {},
   "outputs": [
    {
     "data": {
      "application/vnd.jupyter.widget-view+json": {
       "model_id": "c27d384aea1b4c3e9d0820e0577e26f8",
       "version_major": 2,
       "version_minor": 0
      },
      "text/plain": [
       "Text(value='Hello World', description='String:', placeholder='Type something')"
      ]
     },
     "metadata": {},
     "output_type": "display_data"
    }
   ],
   "source": [
    "widgets.Text(\n",
    "    value='Hello World',\n",
    "    placeholder='Type something',\n",
    "    description='String:',\n",
    "    disabled=False\n",
    ")"
   ]
  },
  {
   "cell_type": "markdown",
   "id": "multiple-lesson",
   "metadata": {},
   "source": [
    "### 2. `.Textarea()`"
   ]
  },
  {
   "cell_type": "code",
   "execution_count": 57,
   "id": "initial-elevation",
   "metadata": {},
   "outputs": [
    {
     "data": {
      "application/vnd.jupyter.widget-view+json": {
       "model_id": "fcb7f2cd192c4f6ea5786fc1e6a0c8a1",
       "version_major": 2,
       "version_minor": 0
      },
      "text/plain": [
       "Textarea(value='Hello World', description='String:', placeholder='Type something')"
      ]
     },
     "metadata": {},
     "output_type": "display_data"
    }
   ],
   "source": [
    "widgets.Textarea(\n",
    "    value='Hello World',\n",
    "    placeholder='Type something',\n",
    "    description='String:',\n",
    "    disabled=False\n",
    ")"
   ]
  },
  {
   "cell_type": "markdown",
   "id": "unlike-athens",
   "metadata": {},
   "source": [
    "<br>\n",
    "________________________________________________________________________________________________________________________________________\n",
    "\n",
    "### Label\n",
    "\n",
    "The `Label` widget is useful if you need to build a custom description next to a control using similar styling to the built-in control descriptions."
   ]
  },
  {
   "cell_type": "code",
   "execution_count": 29,
   "id": "dominican-fairy",
   "metadata": {},
   "outputs": [
    {
     "data": {
      "application/vnd.jupyter.widget-view+json": {
       "model_id": "925d72f8817f4686b1fba5f2e46ce77b",
       "version_major": 2,
       "version_minor": 0
      },
      "text/plain": [
       "HBox(children=(Label(value='The $m$ in $E=mc^2$:'), FloatSlider(value=0.0)))"
      ]
     },
     "metadata": {},
     "output_type": "display_data"
    }
   ],
   "source": [
    "widgets.HBox([widgets.Label(value=\"The $m$ in $E=mc^2$:\"), widgets.FloatSlider()])"
   ]
  },
  {
   "cell_type": "markdown",
   "id": "molecular-polish",
   "metadata": {},
   "source": [
    "### `.HTML()`"
   ]
  },
  {
   "cell_type": "code",
   "execution_count": 65,
   "id": "respiratory-standard",
   "metadata": {},
   "outputs": [
    {
     "data": {
      "application/vnd.jupyter.widget-view+json": {
       "model_id": "2bf4f7fbfe7f4b56b5fb0ca4313921dc",
       "version_major": 2,
       "version_minor": 0
      },
      "text/plain": [
       "HTML(value='Hello <b>World</b>', description='some html : ', placeholder='Some HTML')"
      ]
     },
     "metadata": {},
     "output_type": "display_data"
    }
   ],
   "source": [
    "widgets.HTML(\n",
    "    value=\"Hello <b>World</b>\",\n",
    "    placeholder='Some HTML',\n",
    "    description='some html : ',\n",
    ")"
   ]
  },
  {
   "cell_type": "markdown",
   "id": "textile-arena",
   "metadata": {},
   "source": [
    "### `.HTMLMath()`"
   ]
  },
  {
   "cell_type": "code",
   "execution_count": 72,
   "id": "respiratory-maintenance",
   "metadata": {},
   "outputs": [
    {
     "data": {
      "application/vnd.jupyter.widget-view+json": {
       "model_id": "d7ddac427058485caf06ff7821e96f87",
       "version_major": 2,
       "version_minor": 0
      },
      "text/plain": [
       "HTMLMath(value='Some math and <i>HTML</i>: \\\\(x^2\\\\) and $$\\\\frac{x+1}{x-1}$$', description='some HTML', place…"
      ]
     },
     "metadata": {},
     "output_type": "display_data"
    }
   ],
   "source": [
    "widgets.HTMLMath(\n",
    "    value=r\"Some math and <i>HTML</i>: \\(x^2\\) and $$\\frac{x+1}{x-1}$$\",\n",
    "    placeholder='Some HTML',\n",
    "    description='some HTML',\n",
    ")"
   ]
  },
  {
   "cell_type": "markdown",
   "id": "finite-reminder",
   "metadata": {},
   "source": [
    "### `.Image()`"
   ]
  },
  {
   "cell_type": "code",
   "execution_count": null,
   "id": "requested-structure",
   "metadata": {},
   "outputs": [],
   "source": [
    "file = open(\"demopic1.jpg\", \"rb\")\n",
    "image = file.read()\n",
    "widgets.Image(\n",
    "    value=image,\n",
    "    format='png',\n",
    "    width=300,\n",
    "    height=400,\n",
    ")"
   ]
  },
  {
   "cell_type": "markdown",
   "id": "private-scope",
   "metadata": {},
   "source": [
    "### `.Button()`"
   ]
  },
  {
   "cell_type": "code",
   "execution_count": 33,
   "id": "other-thermal",
   "metadata": {},
   "outputs": [
    {
     "data": {
      "application/vnd.jupyter.widget-view+json": {
       "model_id": "419ff5898b6c4c4087120eb1ff907cc1",
       "version_major": 2,
       "version_minor": 0
      },
      "text/plain": [
       "Button(button_style='info', description='Click me', icon='check', style=ButtonStyle(), tooltip='Click me')"
      ]
     },
     "metadata": {},
     "output_type": "display_data"
    }
   ],
   "source": [
    "widgets.Button(\n",
    "    description='Click me',\n",
    "    disabled=False,\n",
    "    button_style='info', # 'success', 'info', 'warning', 'danger' or ''\n",
    "    tooltip='Click me',\n",
    "    icon='check'\n",
    ")\n",
    "\n",
    "# here also, the colors are provided by Bootstrap."
   ]
  },
  {
   "cell_type": "markdown",
   "id": "abandoned-monday",
   "metadata": {},
   "source": [
    "### Output\n",
    "\n",
    "The Output widget can capture and display stdout, stderr and [rich output generated by IPython](http://ipython.readthedocs.io/en/stable/api/generated/IPython.display.html#module-IPython.display).\n",
    "\n",
    "After the widget is created, direct output to it using a context manager."
   ]
  },
  {
   "cell_type": "code",
   "execution_count": 37,
   "id": "several-sharing",
   "metadata": {},
   "outputs": [
    {
     "data": {
      "application/vnd.jupyter.widget-view+json": {
       "model_id": "4478844fb0154f8195fc2bfe42f7d357",
       "version_major": 2,
       "version_minor": 0
      },
      "text/plain": [
       "Output()"
      ]
     },
     "metadata": {},
     "output_type": "display_data"
    }
   ],
   "source": [
    "out = widgets.Output()\n",
    "\n",
    "out"
   ]
  },
  {
   "cell_type": "markdown",
   "id": "protected-output",
   "metadata": {},
   "source": [
    "You can print text to the output area as shown below."
   ]
  },
  {
   "cell_type": "code",
   "execution_count": 38,
   "id": "quantitative-study",
   "metadata": {},
   "outputs": [],
   "source": [
    "with out:\n",
    "    for i in range(10):\n",
    "        print(i, 'Hello world!')"
   ]
  },
  {
   "cell_type": "markdown",
   "id": "ancient-reggae",
   "metadata": {},
   "source": [
    "Rich material can also be directed to the output area. Anything which displays nicely in a Jupyter notebook will also display well in the Output widget."
   ]
  },
  {
   "cell_type": "code",
   "execution_count": 39,
   "id": "smooth-essex",
   "metadata": {},
   "outputs": [],
   "source": [
    "from IPython.display import YouTubeVideo\n",
    "with out:\n",
    "    display(YouTubeVideo('eWzY2nGfkXk'))"
   ]
  },
  {
   "cell_type": "markdown",
   "id": "italic-malpractice",
   "metadata": {},
   "source": [
    "****\n",
    "\n",
    "### Play (Animation) widget\n",
    "\n",
    "The Play widget is useful to perform animations by iterating on a sequence of integers with a certain speed. The value of the slider below is linked to the player."
   ]
  },
  {
   "cell_type": "code",
   "execution_count": 42,
   "id": "judicial-aberdeen",
   "metadata": {},
   "outputs": [
    {
     "data": {
      "application/vnd.jupyter.widget-view+json": {
       "model_id": "ff52410de9e647fba8fe25b73b338a84",
       "version_major": 2,
       "version_minor": 0
      },
      "text/plain": [
       "HBox(children=(Play(value=50, description='Press play'), IntSlider(value=0)))"
      ]
     },
     "metadata": {},
     "output_type": "display_data"
    }
   ],
   "source": [
    "play = widgets.Play(\n",
    "#     interval=10,\n",
    "    value=50,\n",
    "    min=0,\n",
    "    max=100,\n",
    "    step=1,\n",
    "    description=\"Press play\",\n",
    "    disabled=False\n",
    ")\n",
    "slider = widgets.IntSlider()\n",
    "widgets.jslink((play, 'value'), (slider, 'value'))\n",
    "widgets.HBox([play, slider])"
   ]
  },
  {
   "cell_type": "markdown",
   "id": "limited-laundry",
   "metadata": {},
   "source": [
    "### Date picker\n",
    "The date picker widget works in Chrome and IE Edge, but does not currently work in Firefox or Safari because they do not support the HTML date input field."
   ]
  },
  {
   "cell_type": "code",
   "execution_count": 43,
   "id": "coral-classic",
   "metadata": {},
   "outputs": [
    {
     "data": {
      "application/vnd.jupyter.widget-view+json": {
       "model_id": "ea2dc5ed1e344b83b20079333dfe1693",
       "version_major": 2,
       "version_minor": 0
      },
      "text/plain": [
       "DatePicker(value=None, description='Pick a Date')"
      ]
     },
     "metadata": {},
     "output_type": "display_data"
    }
   ],
   "source": [
    "widgets.DatePicker(\n",
    "    description='Pick a Date',\n",
    "    disabled=False\n",
    ")"
   ]
  },
  {
   "cell_type": "markdown",
   "id": "julian-cache",
   "metadata": {},
   "source": [
    "### Color Picker"
   ]
  },
  {
   "cell_type": "code",
   "execution_count": 49,
   "id": "quiet-payroll",
   "metadata": {},
   "outputs": [
    {
     "data": {
      "application/vnd.jupyter.widget-view+json": {
       "model_id": "658205031dc6435486bda82a599f695f",
       "version_major": 2,
       "version_minor": 0
      },
      "text/plain": [
       "ColorPicker(value='yellow', description='Pick a color :')"
      ]
     },
     "metadata": {},
     "output_type": "display_data"
    }
   ],
   "source": [
    "widgets.ColorPicker(\n",
    "    concise=False,\n",
    "    description='Pick a color :',\n",
    "    value='yellow',\n",
    "    disabled=False\n",
    ")"
   ]
  },
  {
   "cell_type": "markdown",
   "id": "coral-michigan",
   "metadata": {},
   "source": [
    "### Controller\n",
    "The Controller allows a game controller to be used as an input device."
   ]
  },
  {
   "cell_type": "code",
   "execution_count": 50,
   "id": "frank-start",
   "metadata": {},
   "outputs": [
    {
     "data": {
      "application/vnd.jupyter.widget-view+json": {
       "model_id": "bab920a004794ea38b0aef53b395ce6c",
       "version_major": 2,
       "version_minor": 0
      },
      "text/plain": [
       "Controller()"
      ]
     },
     "metadata": {},
     "output_type": "display_data"
    }
   ],
   "source": [
    "widgets.Controller(\n",
    "    index=0,\n",
    ")"
   ]
  },
  {
   "cell_type": "markdown",
   "id": "noted-receiver",
   "metadata": {},
   "source": [
    "****\n",
    "\n",
    "### Container/Layout widgets\n",
    "These widgets are used to hold other widgets, called children. Each has a children property that may be set either when the widget is created or later.\n",
    "\n",
    "#### Box"
   ]
  },
  {
   "cell_type": "code",
   "execution_count": 51,
   "id": "scheduled-brisbane",
   "metadata": {},
   "outputs": [
    {
     "data": {
      "application/vnd.jupyter.widget-view+json": {
       "model_id": "1e60dccc612e428eb923ae5dc4f5bf06",
       "version_major": 2,
       "version_minor": 0
      },
      "text/plain": [
       "Box(children=(Label(value='0'), Label(value='1'), Label(value='2'), Label(value='3')))"
      ]
     },
     "metadata": {},
     "output_type": "display_data"
    }
   ],
   "source": [
    "items = [widgets.Label(str(i)) for i in range(4)]\n",
    "widgets.Box(items)"
   ]
  },
  {
   "cell_type": "markdown",
   "id": "verified-cooperation",
   "metadata": {},
   "source": [
    "#### HBOX"
   ]
  },
  {
   "cell_type": "code",
   "execution_count": 52,
   "id": "exceptional-roberts",
   "metadata": {},
   "outputs": [
    {
     "data": {
      "application/vnd.jupyter.widget-view+json": {
       "model_id": "220f8ac45c6a4a549dee3dee50819054",
       "version_major": 2,
       "version_minor": 0
      },
      "text/plain": [
       "HBox(children=(Label(value='0'), Label(value='1'), Label(value='2'), Label(value='3')))"
      ]
     },
     "metadata": {},
     "output_type": "display_data"
    }
   ],
   "source": [
    "items = [widgets.Label(str(i)) for i in range(4)]\n",
    "widgets.HBox(items)"
   ]
  },
  {
   "cell_type": "markdown",
   "id": "present-pharmacology",
   "metadata": {},
   "source": [
    "#### VBox"
   ]
  },
  {
   "cell_type": "code",
   "execution_count": 53,
   "id": "exact-luxury",
   "metadata": {},
   "outputs": [
    {
     "data": {
      "application/vnd.jupyter.widget-view+json": {
       "model_id": "d23d8cc329204956a72c99a79cd5161a",
       "version_major": 2,
       "version_minor": 0
      },
      "text/plain": [
       "HBox(children=(VBox(children=(Label(value='0'), Label(value='1'))), VBox(children=(Label(value='2'), Label(val…"
      ]
     },
     "metadata": {},
     "output_type": "display_data"
    }
   ],
   "source": [
    "items = [widgets.Label(str(i)) for i in range(4)]\n",
    "left_box = widgets.VBox([items[0], items[1]])\n",
    "right_box = widgets.VBox([items[2], items[3]])\n",
    "widgets.HBox([left_box, right_box])"
   ]
  },
  {
   "cell_type": "markdown",
   "id": "average-petite",
   "metadata": {},
   "source": [
    "#### Accordion"
   ]
  },
  {
   "cell_type": "code",
   "execution_count": 54,
   "id": "extreme-richardson",
   "metadata": {},
   "outputs": [
    {
     "data": {
      "application/vnd.jupyter.widget-view+json": {
       "model_id": "595b7dfcf7d9424e8aa344491f46b558",
       "version_major": 2,
       "version_minor": 0
      },
      "text/plain": [
       "Accordion(children=(IntSlider(value=0), Text(value='')), _titles={'0': 'Slider', '1': 'Text'})"
      ]
     },
     "metadata": {},
     "output_type": "display_data"
    }
   ],
   "source": [
    "accordion = widgets.Accordion(children=[widgets.IntSlider(), widgets.Text()])\n",
    "accordion.set_title(0, 'Slider')\n",
    "accordion.set_title(1, 'Text')\n",
    "\n",
    "accordion"
   ]
  },
  {
   "cell_type": "markdown",
   "id": "early-voluntary",
   "metadata": {},
   "source": [
    "#### Tabs\n",
    "In this example the children are set after the tab is created.\n",
    "\n",
    "Titles for the tabes are set in the same way they are for Accordion."
   ]
  },
  {
   "cell_type": "code",
   "execution_count": 55,
   "id": "alike-painting",
   "metadata": {},
   "outputs": [
    {
     "data": {
      "application/vnd.jupyter.widget-view+json": {
       "model_id": "63503ad25d3b4046bb12c8d44cd2ac10",
       "version_major": 2,
       "version_minor": 0
      },
      "text/plain": [
       "Tab(children=(Text(value='', description='P0'), Text(value='', description='P1'), Text(value='', description='…"
      ]
     },
     "metadata": {},
     "output_type": "display_data"
    }
   ],
   "source": [
    "tab_contents = ['P0', 'P1', 'P2', 'P3', 'P4']\n",
    "children = [widgets.Text(description=name) for name in tab_contents]\n",
    "tab = widgets.Tab()\n",
    "tab.children = children\n",
    "for i in range(len(children)):\n",
    "    tab.set_title(i, str(i))\n",
    "\n",
    "tab"
   ]
  },
  {
   "cell_type": "markdown",
   "id": "binding-convention",
   "metadata": {},
   "source": [
    "### Accordion and Tab use `selected_index`, not `value`\n",
    "\n",
    "Unlike the rest of the widgets discussed earlier, the container widgets, Accordion and Tab, update their `selected_index` attribute when the user changes which accordion or tab is selected. That means that you can both see what the user is doing and programmatically set what the user sees by setting the value of selected_index.\n",
    "\n",
    "Setting `selected_index = None` closes all of the accordions or deselects all tabs.\n",
    "\n",
    "**Example :** In the cells below try displaying or setting the `selected_index` of the tab and/or accordion, that demoed above."
   ]
  },
  {
   "cell_type": "code",
   "execution_count": 56,
   "id": "improving-sodium",
   "metadata": {},
   "outputs": [],
   "source": [
    "tab.selected_index = 3"
   ]
  },
  {
   "cell_type": "code",
   "execution_count": 57,
   "id": "commercial-couple",
   "metadata": {},
   "outputs": [],
   "source": [
    "accordion.selected_index = None"
   ]
  },
  {
   "cell_type": "markdown",
   "id": "looking-hartford",
   "metadata": {},
   "source": [
    "#### Nesting tabs and accordions\n",
    "Tabs and accordions can be nested as deeply as you want.\n",
    "\n",
    "_Try to nest a few accordions or putting an accordion inside a tab or a tab inside an accordion._\n",
    "\n",
    "**Example :** The example below makes a couple of tabs with an accordion children in one of them."
   ]
  },
  {
   "cell_type": "code",
   "execution_count": 58,
   "id": "invalid-barbados",
   "metadata": {},
   "outputs": [
    {
     "data": {
      "application/vnd.jupyter.widget-view+json": {
       "model_id": "6f5ccf4722ca4ed39f55fa7b0dd023c7",
       "version_major": 2,
       "version_minor": 0
      },
      "text/plain": [
       "Tab(children=(Accordion(children=(IntSlider(value=51), Text(value='')), selected_index=None, _titles={'0': 'Sl…"
      ]
     },
     "metadata": {},
     "output_type": "display_data"
    }
   ],
   "source": [
    "tab_nest = widgets.Tab()\n",
    "tab_nest.children = [accordion, accordion]\n",
    "tab_nest.set_title(0, 'An accordion')\n",
    "tab_nest.set_title(1, 'Copy of the accordion')\n",
    "\n",
    "tab_nest"
   ]
  },
  {
   "cell_type": "code",
   "execution_count": null,
   "id": "respected-bulgarian",
   "metadata": {},
   "outputs": [],
   "source": []
  }
 ],
 "metadata": {
  "kernelspec": {
   "display_name": "Python 3",
   "language": "python",
   "name": "python3"
  },
  "language_info": {
   "codemirror_mode": {
    "name": "ipython",
    "version": 3
   },
   "file_extension": ".py",
   "mimetype": "text/x-python",
   "name": "python",
   "nbconvert_exporter": "python",
   "pygments_lexer": "ipython3",
   "version": "3.7.8"
  }
 },
 "nbformat": 4,
 "nbformat_minor": 5
}
