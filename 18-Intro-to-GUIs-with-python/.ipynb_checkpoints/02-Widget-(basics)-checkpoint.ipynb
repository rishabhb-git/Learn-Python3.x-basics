{
 "cells": [
  {
   "cell_type": "markdown",
   "id": "handy-trash",
   "metadata": {},
   "source": [
    "# What are Widgets?\n",
    "Widgets are **eventful python objects** that have a representation in the browser, often as a control like a slider, textbox, etc.\n",
    "\n",
    "## What can they be used for?\n",
    "You can use widgets to build interactive GUIs for your notebooks.<br>You can also use widgets to synchronize stateful and stateless information between Python and JavaScript.\n",
    "\n",
    "## Using widgets\n",
    "To use the widget framework, you need to import `ipywidgets`."
   ]
  },
  {
   "cell_type": "code",
   "execution_count": 1,
   "id": "boolean-prescription",
   "metadata": {},
   "outputs": [],
   "source": [
    "import ipywidgets as widgets"
   ]
  },
  {
   "cell_type": "markdown",
   "id": "moved-radar",
   "metadata": {},
   "source": [
    "### repr\n",
    "\n",
    "Widgets have their own display repr which allows them to be displayed using IPython's display framework. Constructing and returning an IntSlider automatically displays the widget (as seen below). Widgets are displayed inside the output area below the code cell. Clearing cell output will also remove the widget."
   ]
  },
  {
   "cell_type": "code",
   "execution_count": 2,
   "id": "noble-insert",
   "metadata": {
    "scrolled": true
   },
   "outputs": [
    {
     "data": {
      "application/vnd.jupyter.widget-view+json": {
       "model_id": "5183635f53e442b98fad38aade59a05b",
       "version_major": 2,
       "version_minor": 0
      },
      "text/plain": [
       "IntSlider(value=0)"
      ]
     },
     "metadata": {},
     "output_type": "display_data"
    }
   ],
   "source": [
    "widgets.IntSlider()\n",
    "\n",
    "# this will show a default integer slider"
   ]
  },
  {
   "cell_type": "markdown",
   "id": "neural-footwear",
   "metadata": {},
   "source": [
    "### `display()`\n",
    "\n",
    "You can also explicitly display the widget using `display()`."
   ]
  },
  {
   "cell_type": "code",
   "execution_count": 7,
   "id": "serious-bulgarian",
   "metadata": {},
   "outputs": [
    {
     "data": {
      "application/vnd.jupyter.widget-view+json": {
       "model_id": "",
       "version_major": 2,
       "version_minor": 0
      },
      "text/plain": [
       "IntSlider(value=0)"
      ]
     },
     "metadata": {},
     "output_type": "display_data"
    }
   ],
   "source": [
    "from IPython.display import display\n",
    "w = widgets.IntSlider()\n",
    "\n",
    "display(w)"
   ]
  },
  {
   "cell_type": "markdown",
   "id": "large-operation",
   "metadata": {},
   "source": [
    "> If you display the same widget twice, the displayed instances in the front-end will remain in sync with each other.<br><br>*Try dragging the slider below and watch the slider above going **in-sync** with each other.*"
   ]
  },
  {
   "cell_type": "code",
   "execution_count": 8,
   "id": "norwegian-necklace",
   "metadata": {},
   "outputs": [
    {
     "data": {
      "application/vnd.jupyter.widget-view+json": {
       "model_id": "",
       "version_major": 2,
       "version_minor": 0
      },
      "text/plain": [
       "IntSlider(value=55)"
      ]
     },
     "metadata": {},
     "output_type": "display_data"
    }
   ],
   "source": [
    "display(w)"
   ]
  },
  {
   "cell_type": "markdown",
   "id": "completed-virgin",
   "metadata": {},
   "source": [
    "### Closing a widget - `close()`\n",
    "\n",
    "You can close a widget by calling its `close()` method."
   ]
  },
  {
   "cell_type": "code",
   "execution_count": 9,
   "id": "balanced-tackle",
   "metadata": {},
   "outputs": [
    {
     "data": {
      "application/vnd.jupyter.widget-view+json": {
       "model_id": "",
       "version_major": 2,
       "version_minor": 0
      },
      "text/plain": [
       "IntSlider(value=42)"
      ]
     },
     "metadata": {},
     "output_type": "display_data"
    }
   ],
   "source": [
    "display(w)"
   ]
  },
  {
   "cell_type": "code",
   "execution_count": 10,
   "id": "alien-guyana",
   "metadata": {},
   "outputs": [],
   "source": [
    "w.close()"
   ]
  },
  {
   "cell_type": "markdown",
   "id": "sweet-melissa",
   "metadata": {},
   "source": [
    "> Note here, all instances of `w` widget, appearing in above cells, will also close away."
   ]
  },
  {
   "cell_type": "markdown",
   "id": "precious-accreditation",
   "metadata": {},
   "source": [
    "<br>\n",
    "\n",
    "## Widget properties\n",
    "All of the IPython widgets share a similar naming scheme. To read the value of a widget, you can query its value property."
   ]
  },
  {
   "cell_type": "code",
   "execution_count": 11,
   "id": "russian-python",
   "metadata": {},
   "outputs": [
    {
     "data": {
      "application/vnd.jupyter.widget-view+json": {
       "model_id": "901b9d4e47e44fa3bce505bcbfaf1706",
       "version_major": 2,
       "version_minor": 0
      },
      "text/plain": [
       "IntSlider(value=0)"
      ]
     },
     "metadata": {},
     "output_type": "display_data"
    }
   ],
   "source": [
    "w = widgets.IntSlider()\n",
    "display(w)"
   ]
  },
  {
   "cell_type": "code",
   "execution_count": 12,
   "id": "interracial-madison",
   "metadata": {},
   "outputs": [
    {
     "data": {
      "text/plain": [
       "29"
      ]
     },
     "execution_count": 12,
     "metadata": {},
     "output_type": "execute_result"
    }
   ],
   "source": [
    "w.value"
   ]
  },
  {
   "cell_type": "code",
   "execution_count": 16,
   "id": "virgin-willow",
   "metadata": {},
   "outputs": [],
   "source": [
    "w.value = 4"
   ]
  },
  {
   "cell_type": "markdown",
   "id": "center-representation",
   "metadata": {},
   "source": [
    "<br>\n",
    "\n",
    "## keys\n",
    "In addition to value, most widgets share keys, description, and disabled. To see the entire list of synchronized, stateful properties of any specific widget, you can query the keys property."
   ]
  },
  {
   "cell_type": "code",
   "execution_count": 17,
   "id": "egyptian-serial",
   "metadata": {},
   "outputs": [
    {
     "data": {
      "text/plain": [
       "['_dom_classes',\n",
       " '_model_module',\n",
       " '_model_module_version',\n",
       " '_model_name',\n",
       " '_view_count',\n",
       " '_view_module',\n",
       " '_view_module_version',\n",
       " '_view_name',\n",
       " 'continuous_update',\n",
       " 'description',\n",
       " 'description_tooltip',\n",
       " 'disabled',\n",
       " 'layout',\n",
       " 'max',\n",
       " 'min',\n",
       " 'orientation',\n",
       " 'readout',\n",
       " 'readout_format',\n",
       " 'step',\n",
       " 'style',\n",
       " 'value']"
      ]
     },
     "execution_count": 17,
     "metadata": {},
     "output_type": "execute_result"
    }
   ],
   "source": [
    "w.keys"
   ]
  },
  {
   "cell_type": "markdown",
   "id": "demonstrated-argument",
   "metadata": {},
   "source": [
    "### Shorthand for setting the initial values of widget properties\n",
    "While creating a widget, you can set some or all of the initial values of that widget by defining them as keyword arguments in the widget's constructor (as seen below)."
   ]
  },
  {
   "cell_type": "code",
   "execution_count": 19,
   "id": "crazy-personality",
   "metadata": {},
   "outputs": [
    {
     "data": {
      "application/vnd.jupyter.widget-view+json": {
       "model_id": "0f2e55be3c114723be6410bd2a76f4a1",
       "version_major": 2,
       "version_minor": 0
      },
      "text/plain": [
       "Text(value='Hello World!')"
      ]
     },
     "metadata": {},
     "output_type": "display_data"
    }
   ],
   "source": [
    "widgets.Text(value='Hello World!', disabled=False)\n"
   ]
  },
  {
   "cell_type": "code",
   "execution_count": 21,
   "id": "spanish-brooklyn",
   "metadata": {},
   "outputs": [
    {
     "data": {
      "application/vnd.jupyter.widget-view+json": {
       "model_id": "12efa3bd0ed54b7cb865789ebc1eab1b",
       "version_major": 2,
       "version_minor": 0
      },
      "text/plain": [
       "Text(value='Write after three dots ...')"
      ]
     },
     "metadata": {},
     "output_type": "display_data"
    }
   ],
   "source": [
    "widgets.Text(value='Write after three dots ...', disabled=False)"
   ]
  },
  {
   "cell_type": "markdown",
   "id": "configured-cancer",
   "metadata": {},
   "source": [
    "<br>\n",
    "\n",
    "## Linking two similar widgets\n",
    "If you need to display the same value two different ways, you'll have to use two different widgets. Instead of attempting to manually synchronize the values of the two widgets, you can use the link or jslink function to link two properties together (the difference between these is discussed in Widget Events). Below, the values of two widgets are linked together."
   ]
  },
  {
   "cell_type": "code",
   "execution_count": 31,
   "id": "irish-situation",
   "metadata": {},
   "outputs": [
    {
     "data": {
      "application/vnd.jupyter.widget-view+json": {
       "model_id": "11852c7c98e445d2b379cddd12e0d23a",
       "version_major": 2,
       "version_minor": 0
      },
      "text/plain": [
       "FloatText(value=0.0)"
      ]
     },
     "metadata": {},
     "output_type": "display_data"
    },
    {
     "data": {
      "application/vnd.jupyter.widget-view+json": {
       "model_id": "eeb917ec07254f9da4bea663496b8f37",
       "version_major": 2,
       "version_minor": 0
      },
      "text/plain": [
       "FloatSlider(value=0.0)"
      ]
     },
     "metadata": {},
     "output_type": "display_data"
    }
   ],
   "source": [
    "a = widgets.FloatText()\n",
    "b = widgets.FloatSlider()\n",
    "display(a,b)\n",
    "\n",
    "mylink = widgets.jslink((a, 'value'), (b, 'value'))\n"
   ]
  },
  {
   "cell_type": "markdown",
   "id": "affiliated-sector",
   "metadata": {},
   "source": [
    "<br>\n",
    "\n",
    "## Unlinking widgets\n",
    "All you have to do is call `.unlink` on the link object. Try changing one of the widgets above after unlinking to see that they can be independently changed."
   ]
  },
  {
   "cell_type": "code",
   "execution_count": 29,
   "id": "african-essence",
   "metadata": {},
   "outputs": [
    {
     "data": {
      "application/vnd.jupyter.widget-view+json": {
       "model_id": "5c8699b9e819422d97a7b2415ad7de94",
       "version_major": 2,
       "version_minor": 0
      },
      "text/plain": [
       "FloatText(value=0.0)"
      ]
     },
     "metadata": {},
     "output_type": "display_data"
    },
    {
     "data": {
      "application/vnd.jupyter.widget-view+json": {
       "model_id": "bfe0dfa3d305412ead21ec9864a15b14",
       "version_major": 2,
       "version_minor": 0
      },
      "text/plain": [
       "FloatSlider(value=0.0)"
      ]
     },
     "metadata": {},
     "output_type": "display_data"
    }
   ],
   "source": [
    "one = widgets.FloatText()\n",
    "two = widgets.FloatSlider()\n",
    "display(one, two)\n",
    "\n",
    "linkage = widgets.jslink((one, 'value'), (two, 'value'))\n"
   ]
  },
  {
   "cell_type": "code",
   "execution_count": 30,
   "id": "congressional-gasoline",
   "metadata": {},
   "outputs": [],
   "source": [
    "linkage.unlink()\n"
   ]
  },
  {
   "cell_type": "code",
   "execution_count": null,
   "id": "spatial-following",
   "metadata": {},
   "outputs": [],
   "source": []
  }
 ],
 "metadata": {
  "kernelspec": {
   "display_name": "Python 3",
   "language": "python",
   "name": "python3"
  },
  "language_info": {
   "codemirror_mode": {
    "name": "ipython",
    "version": 3
   },
   "file_extension": ".py",
   "mimetype": "text/x-python",
   "name": "python",
   "nbconvert_exporter": "python",
   "pygments_lexer": "ipython3",
   "version": "3.7.8"
  }
 },
 "nbformat": 4,
 "nbformat_minor": 5
}
