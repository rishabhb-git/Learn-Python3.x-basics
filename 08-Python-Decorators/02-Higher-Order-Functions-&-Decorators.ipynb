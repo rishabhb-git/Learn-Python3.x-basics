{
 "cells": [
  {
   "cell_type": "markdown",
   "id": "dd229468",
   "metadata": {},
   "source": [
    "## Higher Order Functions\n",
    "\n",
    "In Python, a function is undoubtedly an object. So, a function can return a function as well. For example :"
   ]
  },
  {
   "cell_type": "code",
   "execution_count": 2,
   "id": "4b38784a",
   "metadata": {},
   "outputs": [],
   "source": [
    "def generate_exponent(n):\n",
    "    def exp(x):\n",
    "        return x**n\n",
    "    \n",
    "    return exp"
   ]
  },
  {
   "cell_type": "code",
   "execution_count": 3,
   "id": "8ffc60e3",
   "metadata": {},
   "outputs": [],
   "source": [
    "exp_5 = generate_exponent(5)"
   ]
  },
  {
   "cell_type": "code",
   "execution_count": 4,
   "id": "14d3713c",
   "metadata": {},
   "outputs": [
    {
     "data": {
      "text/plain": [
       "function"
      ]
     },
     "execution_count": 4,
     "metadata": {},
     "output_type": "execute_result"
    }
   ],
   "source": [
    "type(exp_5)"
   ]
  },
  {
   "cell_type": "markdown",
   "id": "ab83e77f",
   "metadata": {},
   "source": [
    "So, x⁵ can be calcultaed as, where x=2 :"
   ]
  },
  {
   "cell_type": "code",
   "execution_count": 9,
   "id": "76f3f6c4",
   "metadata": {},
   "outputs": [
    {
     "data": {
      "text/plain": [
       "32"
      ]
     },
     "execution_count": 9,
     "metadata": {},
     "output_type": "execute_result"
    }
   ],
   "source": [
    "exp_5(2)"
   ]
  },
  {
   "cell_type": "markdown",
   "id": "1117c122",
   "metadata": {},
   "source": [
    "_Essentially, a higher order function returns a function_\n",
    "\n",
    "<br>\n",
    "\n",
    "Alternately, `generate_exponent` can also be written with help of `lambda` if the inner function happens to involve only 1 line of code with a return statement, in this way :"
   ]
  },
  {
   "cell_type": "code",
   "execution_count": 16,
   "id": "dc739d04",
   "metadata": {},
   "outputs": [],
   "source": [
    "def generate_exponent(n):\n",
    "    return lambda x: x**n"
   ]
  },
  {
   "cell_type": "code",
   "execution_count": 17,
   "id": "de80c37a",
   "metadata": {},
   "outputs": [],
   "source": [
    "exp_6 = generate_exponent(6)"
   ]
  },
  {
   "cell_type": "code",
   "execution_count": 18,
   "id": "1ed90bc1",
   "metadata": {},
   "outputs": [
    {
     "data": {
      "text/plain": [
       "729"
      ]
     },
     "execution_count": 18,
     "metadata": {},
     "output_type": "execute_result"
    }
   ],
   "source": [
    "exp_6(3)"
   ]
  },
  {
   "cell_type": "markdown",
   "id": "e45c7bb4",
   "metadata": {},
   "source": [
    "## Decorators\n",
    "\n",
    "Decorators are special higher-order-functions that can accept a function (as arguemnt) and returns a function as well."
   ]
  },
  {
   "cell_type": "code",
   "execution_count": 35,
   "id": "faabd013",
   "metadata": {},
   "outputs": [],
   "source": [
    "def say_hello():\n",
    "    print(\"-\" * 50)\n",
    "    print(\"Hello!\")\n",
    "    print(\"-\" * 50)"
   ]
  },
  {
   "cell_type": "code",
   "execution_count": 36,
   "id": "a1a0cb29",
   "metadata": {},
   "outputs": [
    {
     "name": "stdout",
     "output_type": "stream",
     "text": [
      "--------------------------------------------------\n",
      "Hello!\n",
      "--------------------------------------------------\n"
     ]
    }
   ],
   "source": [
    "say_hello()"
   ]
  },
  {
   "cell_type": "code",
   "execution_count": 37,
   "id": "3c297eb6",
   "metadata": {},
   "outputs": [],
   "source": [
    "def say_bye():\n",
    "    print(\"-\" * 50)\n",
    "    print(\"Bye!\")\n",
    "    print(\"-\" * 50)"
   ]
  },
  {
   "cell_type": "code",
   "execution_count": 38,
   "id": "e678245c",
   "metadata": {},
   "outputs": [
    {
     "name": "stdout",
     "output_type": "stream",
     "text": [
      "--------------------------------------------------\n",
      "Bye!\n",
      "--------------------------------------------------\n"
     ]
    }
   ],
   "source": [
    "say_bye()"
   ]
  },
  {
   "cell_type": "markdown",
   "id": "e8a2eb6e",
   "metadata": {},
   "source": [
    "`say_bye` and `say_hello` functions appear to be of similar kinds; moreover, it looks like we've wriiten redundant code.\n",
    "\n",
    "<br>\n",
    "\n",
    "Alternatively, we can achieve same behavior in below way :"
   ]
  },
  {
   "cell_type": "code",
   "execution_count": 52,
   "id": "528c1c15",
   "metadata": {},
   "outputs": [],
   "source": [
    "## pretty_printer is a Decorator\n",
    "\n",
    "def pretty_printer(func):\n",
    "    def wrapper():\n",
    "        print(\"-\" * 50)\n",
    "        func()\n",
    "        print(\"-\" * 50)\n",
    "        \n",
    "    return wrapper"
   ]
  },
  {
   "cell_type": "code",
   "execution_count": 53,
   "id": "89f489f8",
   "metadata": {},
   "outputs": [],
   "source": [
    "def say_hello():\n",
    "    print(\"Hello!\")\n",
    "    \n",
    "def say_bye():\n",
    "    print(\"Bye!\")"
   ]
  },
  {
   "cell_type": "markdown",
   "id": "4e05d582",
   "metadata": {},
   "source": [
    "<br>\n",
    "\n",
    "A naive approach to decorate `say_hello` and `say_bye` functions by making use of `pretty_printer` is:"
   ]
  },
  {
   "cell_type": "code",
   "execution_count": 48,
   "id": "fa983c6a",
   "metadata": {},
   "outputs": [],
   "source": [
    "decorated_say_hello = pretty_printer(say_hello)"
   ]
  },
  {
   "cell_type": "code",
   "execution_count": 49,
   "id": "a05f454e",
   "metadata": {},
   "outputs": [],
   "source": [
    "decorated_say_bye = pretty_printer(say_bye)"
   ]
  },
  {
   "cell_type": "code",
   "execution_count": 50,
   "id": "ba76b424",
   "metadata": {},
   "outputs": [
    {
     "name": "stdout",
     "output_type": "stream",
     "text": [
      "--------------------------------------------------\n",
      "Hello!\n",
      "--------------------------------------------------\n"
     ]
    }
   ],
   "source": [
    "decorated_say_hello()"
   ]
  },
  {
   "cell_type": "code",
   "execution_count": 51,
   "id": "c837a745",
   "metadata": {},
   "outputs": [
    {
     "name": "stdout",
     "output_type": "stream",
     "text": [
      "--------------------------------------------------\n",
      "Bye!\n",
      "--------------------------------------------------\n"
     ]
    }
   ],
   "source": [
    "decorated_say_bye()"
   ]
  },
  {
   "cell_type": "markdown",
   "id": "06d4017e",
   "metadata": {},
   "source": [
    "<br>\n",
    "\n",
    "**the Decorators approach :**"
   ]
  },
  {
   "cell_type": "code",
   "execution_count": 55,
   "id": "39ec702e",
   "metadata": {},
   "outputs": [],
   "source": [
    "@pretty_printer\n",
    "def say_hello():\n",
    "    print(\"Hello!\")\n",
    "    \n",
    "\n",
    "@pretty_printer\n",
    "def say_bye():\n",
    "    print(\"Bye!\")"
   ]
  },
  {
   "cell_type": "code",
   "execution_count": 56,
   "id": "b0e43e60",
   "metadata": {},
   "outputs": [
    {
     "name": "stdout",
     "output_type": "stream",
     "text": [
      "--------------------------------------------------\n",
      "Hello!\n",
      "--------------------------------------------------\n"
     ]
    }
   ],
   "source": [
    "say_hello()"
   ]
  },
  {
   "cell_type": "code",
   "execution_count": 57,
   "id": "897608c1",
   "metadata": {},
   "outputs": [
    {
     "name": "stdout",
     "output_type": "stream",
     "text": [
      "--------------------------------------------------\n",
      "Bye!\n",
      "--------------------------------------------------\n"
     ]
    }
   ],
   "source": [
    "say_bye()"
   ]
  },
  {
   "cell_type": "code",
   "execution_count": null,
   "id": "d44ca65d",
   "metadata": {},
   "outputs": [],
   "source": []
  }
 ],
 "metadata": {
  "kernelspec": {
   "display_name": "Python 3 (ipykernel)",
   "language": "python",
   "name": "python3"
  },
  "language_info": {
   "codemirror_mode": {
    "name": "ipython",
    "version": 3
   },
   "file_extension": ".py",
   "mimetype": "text/x-python",
   "name": "python",
   "nbconvert_exporter": "python",
   "pygments_lexer": "ipython3",
   "version": "3.9.6"
  }
 },
 "nbformat": 4,
 "nbformat_minor": 5
}
